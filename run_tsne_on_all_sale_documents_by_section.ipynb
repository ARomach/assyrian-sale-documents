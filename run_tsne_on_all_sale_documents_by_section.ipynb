{
 "cells": [
  {
   "cell_type": "markdown",
   "id": "fc6630f2",
   "metadata": {},
   "source": [
    "# Imports and Functions"
   ]
  },
  {
   "cell_type": "code",
   "execution_count": 1,
   "id": "91ac757e",
   "metadata": {},
   "outputs": [],
   "source": [
    "import os\n",
    "import re\n",
    "import numpy as np\n",
    "import pandas as pd\n",
    "from tqdm import tqdm\n",
    "import csv\n",
    "from sklearn.feature_extraction.text import CountVectorizer, TfidfVectorizer\n",
    "from scipy.spatial.distance import pdist, squareform\n",
    "from sklearn.decomposition import PCA\n",
    "from sklearn.manifold import TSNE\n",
    "import plotly.express as px\n",
    "import matplotlib.pyplot as plt\n",
    "import matplotlib.colors as mcolors"
   ]
  },
  {
   "cell_type": "code",
   "execution_count": 2,
   "id": "e3b0c3ad",
   "metadata": {},
   "outputs": [],
   "source": [
    "# text processing functions\n",
    "def upload_corpus_csv(path):\n",
    "    \"\"\"\n",
    "    Function to upload CSV files containing the texts and converting them into a dataframe\n",
    "    :return: a list of dataframes\n",
    "    \"\"\"\n",
    "    texts = os.listdir(path)\n",
    "    corpus = []\n",
    "    for text in texts:\n",
    "        try:\n",
    "            df = pd.read_csv(f\"{path}/{text}\", encoding=\"utf-8\").fillna(\"\")\n",
    "            corpus.append(df)\n",
    "        except Exception as e:\n",
    "            print(f\"can't process {text}:\\n{e}\")\n",
    "    return corpus\n",
    "\n",
    "def split_df_by_column_value(df, column):\n",
    "    \"\"\"\n",
    "    Function to split the text dataframes according to a column. Used to separate text to lines\n",
    "    :param df: dataframe containing one word in each row.\n",
    "    :param column: the column by which to split the dfs, perferably `text` or `line`.\n",
    "    :return: a list of dataframes split according to the value given to the column parameter.\n",
    "    \"\"\"\n",
    "    dfs = []\n",
    "    column_values = df[column].unique()\n",
    "    for value in column_values:\n",
    "        split_df = df[df[column]==value]\n",
    "        dfs.append(split_df)\n",
    "    return dfs\n",
    "\n",
    "def df2str(df, column, section, break_perc=1, mask=True, segmentation=True):\n",
    "    \"\"\"\n",
    "    Function to convert the values from the text dataframe to a string of text with line breaks.\n",
    "    :param df: the text dataframe\n",
    "    :param column: the chosen column from the dataframe to construct the text from (preferably Unicode, cf, or lemma)\n",
    "    :param break_perc: a parameter which dictates whether to include broken words depending on the percentage of how broken they are. Compares this value to the `break_perc` column in the dataframe. Parameter is set to 1 (i.e. all words, whether broken or not, are included); can be any float between 0 and 1.\n",
    "    :param mask: boolean whether to mask named entities or not; set to True.\n",
    "    :return: a string which includes all the words in the texts according to the column chosen. Extra spaces that were between broken words or empty lines are removed.\n",
    "    \"\"\"\n",
    "    # check if column exists in dataframe. If not, return empty text.\n",
    "    if column not in df.columns:\n",
    "        return (\"\", 0, 0)\n",
    "    else: \n",
    "        df = df[df[\"annotation\"]==section].copy()\n",
    "        # remove rows that include duplicate values for compound words\n",
    "        if column not in [\"norm\", \"cf\", \"sense\", \"pos\"]:\n",
    "            df = df.drop_duplicates(\"ref\").copy()\n",
    "        # if column entry is empty string, replace with UNK (can happen with normalization or lemmatization)\n",
    "        mask_empty = df[column]==\"\"\n",
    "        df[column] = df[column].where(~mask_empty, other=\"UNK\")\n",
    "        # mask proper nouns\n",
    "        if mask and \"pos\" in df.columns:\n",
    "            mask_bool = df[\"pos\"].isin([\"PN\", \"RN\", \"DN\", \"GN\", \"MN\", \"SN\", \"n\"])\n",
    "            df[column] = df[column].where(~mask_bool, other=df[\"pos\"])\n",
    "        # change number masking from `n` to `NUM`\n",
    "        if mask:\n",
    "            mask_num = df[column]==\"n\"\n",
    "            df[column] = df[column].where(~mask_num, other=\"NUM\")\n",
    "        # remove rows without break_perc\n",
    "        if \"\" in df[\"break_perc\"].unique().tolist():\n",
    "            df = df[df[\"break_perc\"]!=\"\"].copy()\n",
    "        # filter according to break_perc\n",
    "        mask_break = df[\"break_perc\"] <= break_perc\n",
    "        df[column] = df[column].where(mask_break, other=\"X\")\n",
    "        # calculate text length with and without UNK and x tokens\n",
    "        text_length_full = df.shape[0]\n",
    "        mask_partial = df[column].isin([\"UNK\", \"X\", \"x\"])\n",
    "        text_length_partial = text_length_full - sum(mask_partial)\n",
    "        # create text lines\n",
    "        text = \"\"\n",
    "        df_lines = split_df_by_column_value(df, \"line\")\n",
    "        for line in df_lines:\n",
    "            word_list = list(filter(None, line[column].to_list()))\n",
    "            if word_list != []:\n",
    "                text += \" \".join(map(str, word_list)).replace(\"x\", \"X\").strip() + \"\\n\"\n",
    "\n",
    "        if segmentation == False:\n",
    "            # remove all white spaces (word segmentation and line breaks)\n",
    "            text = re.sub(r\"[\\s\\u00A0]+\", \"\", text)\n",
    "            \n",
    "        # double check length of words in text matches number of rows:\n",
    "        len_text = len([word for word in text.replace(\"\\n\", \" \").split(\" \") if word != \"\"])\n",
    "        if len_text != text_length_full:\n",
    "            print(f\"Number of words in text ({len_text}) does not match number of rows in dataframe ({text_length_full})!\\nSee {df.loc[0, 'text']}\")\n",
    "\n",
    "        return (text, text_length_full, text_length_partial)\n",
    "    \n",
    "def get_segmented_unicode_texts(corpus, section, break_perc=1, mask=True):\n",
    "    \"\"\"\n",
    "    Function to convert the dataframes into strings of segmented unicode texts.\n",
    "    :param corpus: a list of dataframes\n",
    "    :param break_perc: a parameter which dictates whether to include broken words depending on the percentage of how broken they are. Compares this value to the `break_perc` column in the dataframe. Parameter is set to 1 (i.e. all words, whether broken or not, are included); can be any float between 0 and 1.\n",
    "    :param mask: boolean whether to mask named entities or not; set to True.\n",
    "    :return: a dictionary where the keys are the text IDs and the values are the segmented unicode texts\n",
    "    \"\"\"\n",
    "    texts_dict = {}\n",
    "    for df in corpus:\n",
    "        # get the text number from the dataframe \"text\" column\n",
    "        key = df.loc[0, \"text\"]\n",
    "        text, text_length_full, text_length_partial = df2str(df, \"unicode_word\", section, break_perc, mask)\n",
    "        texts_dict[key] = (text, text_length_full, text_length_partial)\n",
    "    return texts_dict\n",
    "\n",
    "def add_texts_dict_to_dataframe(df, text_dict):\n",
    "    text_df = pd.DataFrame(text_dict).transpose().rename(columns={0: \"Text\",\n",
    "                                                                  1: f\"Text_length_full\",\n",
    "                                                                  2: f\"Text_length_partial\"})\n",
    "    new_df = df.join(text_df)\n",
    "    return new_df"
   ]
  },
  {
   "cell_type": "code",
   "execution_count": 3,
   "id": "8a7e0672",
   "metadata": {},
   "outputs": [],
   "source": [
    "# vectorization and tsne functions\n",
    "# vectorizing texts\n",
    "\n",
    "def vectorize(vectorizer, corpus, analyzer=\"word\", ngram_range=(1,1), max_df=1.0, min_df=1, max_features=None, stop_words=[\"UNK\", \"X\"], vocabulary=None):\n",
    "    \"\"\"\n",
    "    Converts a list of texts into a term-document matrix based on TF-IDF scores.\n",
    "    Full full documentation of the variables of TfidfVectorizer from sklearn, see:\n",
    "    https://scikit-learn.org/stable/modules/generated/sklearn.feature_extraction.text.TfidfVectorizer.html#sklearn.feature_extraction.text.TfidfVectorizer\n",
    "    :param corpus: a dataframe in which the texts are in a `\"Text\"` column and the dataframe's index is the text ids.\n",
    "    :param analyzer: whether the feature should be made of word or character n-grams.\n",
    "                     use `\"word\"` for word features, `\"char_wb\"` for character n-grams within word boundaries,\n",
    "                     or `\"char\"` for character n-grams without word boundaries.\n",
    "    :param ngram_range: the lower and upper boundary of the range of n-values for different n-grams to be extracted.\n",
    "    :param max_df: threshold to ignore terms that have a document frequency above a certain value.\n",
    "                   If the threshold is a float, it represent a proportion of the documents.\n",
    "                   If the threshold is an integer, it represents absolute counts of number of documents in which the terms appears.\n",
    "    :param min_df: threshold to ignore terms that have a document frequency below a certain value.\n",
    "                   If the threshold is a float, it represent a proportion of the documents.\n",
    "                   If the threshold is an integer, it represents absolute counts of number of documents in which the terms appears.\n",
    "    :param max_features: if not `None`, build a vocabulary that only considers the top max_features ordered by term frequency across the corpus.\n",
    "    :param stop_words: if `None`, no stop words are used. Otherwise, can be a list with words to be removed from resulting tokens.\n",
    "    :return: `counts` the raw counts of the vectorizer,\n",
    "             `counts_df` a dataframe of the counts where the index is the text ids and the columns are the tokens,\n",
    "             `stop_words` an updated list of stop words\n",
    "    \"\"\"\n",
    "    if vectorizer == \"tfidf\":\n",
    "        vectorizer = TfidfVectorizer(input=\"content\", lowercase=False, analyzer=analyzer,\n",
    "                                 token_pattern=r\"(?u)\\b\\w+\\b\", ngram_range=ngram_range,\n",
    "                                 max_df=max_df, min_df=min_df, max_features=max_features,\n",
    "                                 stop_words=stop_words, vocabulary=vocabulary)\n",
    "    elif vectorizer == \"count\":\n",
    "        vectorizer = CountVectorizer(input=\"content\", lowercase=False, analyzer=analyzer,\n",
    "                                 token_pattern=r\"(?u)\\b\\w+\\b\", ngram_range=ngram_range,\n",
    "                                 max_df=max_df, min_df=min_df, max_features=max_features,\n",
    "                                 stop_words=stop_words, vocabulary=vocabulary,\n",
    "                                 binary=True)\n",
    "\n",
    "    counts = vectorizer.fit_transform(corpus[\"Text\"].tolist()).toarray()\n",
    "    #stop_words = vectorizer.stop_words_\n",
    "\n",
    "    # saving the vocab used for vectorization, and switching the dictionary so that the feature index is the key\n",
    "    vocab = vectorizer.vocabulary_\n",
    "    switched_vocab = {value: key for key, value in vocab.items()}\n",
    "    # adding the vocab words to the counts dataframe for easier viewing.\n",
    "    column_names = []\n",
    "    x = 0\n",
    "    while x < len(switched_vocab):\n",
    "        column_names.append(switched_vocab[x])\n",
    "        x += 1\n",
    "\n",
    "    counts_df = pd.DataFrame(counts, index=corpus.index, columns=column_names)\n",
    "\n",
    "    return (counts, counts_df)#, stop_words)\n",
    "\n",
    "# calculating distances between vectorized documents\n",
    "\n",
    "def distance_calculator(counts, metric, text_ids):\n",
    "    \"\"\"\n",
    "    Converts a term-document matrix to a text similarity matrix.\n",
    "    :param counts: the raw counts from the `vectorize` function.\n",
    "    :param metric: the metric by which to calculate the distances between the texts in the corpus.\n",
    "                   Valid metrics are:\n",
    "                   ‘braycurtis’, ‘canberra’, ‘chebyshev’, ‘cityblock’, ‘correlation’, ‘cosine’,\n",
    "                   ‘dice’, ‘euclidean’, ‘hamming’, ‘jaccard’, ‘jensenshannon’, ‘kulczynski1’,\n",
    "                   ‘mahalanobis’, ‘matching’, ‘minkowski’, ‘rogerstanimoto’, ‘russellrao’,\n",
    "                   ‘seuclidean’, ‘sokalmichener’, ‘sokalsneath’, ‘sqeuclidean’, ‘yule’.\n",
    "    :param text_ids: list of unique text_ids.\n",
    "    :return: a dataframe matrix of distance between texts.\n",
    "    \"\"\"\n",
    "    return pd.DataFrame(squareform(pdist(counts, metric=metric)), index=text_ids, columns=text_ids)\n",
    "\n",
    "# reducing dimensions with pca or tsne\n",
    "\n",
    "def reduce_dimensions_pca(df, metadata):\n",
    "    \"\"\"\n",
    "    Reduces multidimensional data into two dimensions using PCA.\n",
    "    :param df: dataframe holding the dimensions to reduce. All columns should include numerical values only.\n",
    "               The dataframe's index should hold the unique text ids.\n",
    "    :param metadata: the rest of the metadata in the corpus, to help visualize the resulting clusters in meaningful ways.\n",
    "                     The metadata's index should hold the unique text ids.\n",
    "    :return: a dataframe with the coordinates of the two remaining dimensions on all other columns from the metadata.\n",
    "    \"\"\"\n",
    "    pca = PCA(n_components=2)\n",
    "    reduced_data = pca.fit_transform(df)\n",
    "    reduced_df = pd.DataFrame(data=reduced_data, index=df.index, columns=[\"component 1\", \"component 2\"])\n",
    "    reduced_df_metadata = metadata.join(reduced_df)\n",
    "    return reduced_df_metadata\n",
    "\n",
    "def reduce_dimensions_tsne(df, perplexity, n_iter, metric, metadata):\n",
    "    \"\"\"\n",
    "    Reduces multidimensional data into two dimensions using TSNE.\n",
    "    See full documentation of sklearn's TSNE on:\n",
    "    https://scikit-learn.org/stable/modules/generated/sklearn.manifold.TSNE.html\n",
    "    :param df: dataframe holding the dimensions to reduce. All columns should include numerical values only.\n",
    "               The dataframe's index should hold the unique text ids.\n",
    "    :param perplexity: perplexity is a measure the weighs the importance of nearby versus distant points when creating a lower-dimension mapping.\n",
    "                       t-SNE first converts the distances between points into conditional probabilities that represent similarities,\n",
    "                       using Gaussian probability distributions.\n",
    "                       The perplexity parameter influences the variance used to compute these probabilities.\n",
    "                       A higher perplexity leads to a broader Gaussian that considers a larger number of neighbors when assessing similarity.\n",
    "                       Lower perplexity puts more focus on the local structure and considers fewer neighbors.\n",
    "                       A good perplexity depends greatly on dataset size and density.\n",
    "                       The documentation recommends a value between 5 and 50.\n",
    "                       We recommend to start with the square root of the length of the corpus.\n",
    "    :param n_iter: maximum number of iterations for optimization.\n",
    "    :param metric: the metric to be used when calculating distances between vectors.\n",
    "                   Valid metrics are:\n",
    "                   ‘braycurtis’, ‘canberra’, ‘chebyshev’, ‘cityblock’, ‘correlation’, ‘cosine’,\n",
    "                   ‘dice’, ‘euclidean’, ‘hamming’, ‘jaccard’, ‘jensenshannon’, ‘kulczynski1’,\n",
    "                   ‘mahalanobis’, ‘matching’, ‘minkowski’, ‘rogerstanimoto’, ‘russellrao’,\n",
    "                   ‘seuclidean’, ‘sokalmichener’, ‘sokalsneath’, ‘sqeuclidean’, ‘yule’.\n",
    "    :param metadata: the rest of the metadata in the corpus, to help visualize the resulting clusters in meaningful ways.\n",
    "                     The metadata's index should hold the unique text ids.\n",
    "    :return: a dataframe with the coordinates of the two remaining dimensions on all other columns from the metadata.\n",
    "    \"\"\"\n",
    "    tsne = TSNE(n_components=2, perplexity=perplexity, n_iter=n_iter, metric=metric, init=\"pca\", random_state=42)\n",
    "    reduced_data = tsne.fit_transform(df)\n",
    "    reduced_df = pd.DataFrame(data=reduced_data, index=df.index, columns=[\"component 1\", \"component 2\"])\n",
    "    reduced_df_metadata = metadata.join(reduced_df)\n",
    "    return reduced_df_metadata"
   ]
  },
  {
   "cell_type": "markdown",
   "id": "9d1e4c71",
   "metadata": {},
   "source": [
    "# Main"
   ]
  },
  {
   "cell_type": "code",
   "execution_count": 4,
   "id": "5c95f5ab",
   "metadata": {},
   "outputs": [],
   "source": [
    "# upload text CSVs\n",
    "corpus = upload_corpus_csv(\"land_sale_annotated\")\n",
    "corpus.extend(upload_corpus_csv(\"slave_sale_annotated\"))\n",
    "corpus.extend(upload_corpus_csv(\"unknown_sale_annotated\"))"
   ]
  },
  {
   "cell_type": "code",
   "execution_count": 5,
   "id": "6296c6fc",
   "metadata": {},
   "outputs": [],
   "source": [
    "# create metadata file with a new column for visualizing the type of sale document\n",
    "land_sale = ['lease document',\n",
    "             'lease document (field)',\n",
    "             'sales document (field)',\n",
    "             'sales document (field, person)',\n",
    "             'sales document (garden)',\n",
    "             'sales document (house)',\n",
    "             'sales document (inheritance)',\n",
    "             'sales document (plot)']\n",
    "slave_sale = ['sales document (duplicate)',\n",
    "              'sales document (person)',\n",
    "              'sales document (person, marriage?)',\n",
    "              'sales document (person, restricted)']\n",
    "unknown_sale = ['sales document']\n",
    "\n",
    "df = pd.read_csv(\"NA_archival_texts_metadata_050724.csv\",\n",
    "                 encoding=\"utf-8\",\n",
    "                 index_col=\"ID\").fillna(\"\")\n",
    "\n",
    "df[\"sale_type\"] = df[\"subgenre\"].where(~df[\"subgenre\"].isin(land_sale), other=\"Land Sale\")\n",
    "df[\"sale_type\"] = df[\"sale_type\"].where(~df[\"subgenre\"].isin(slave_sale), other=\"Slave Sale\")\n",
    "df[\"sale_type\"] = df[\"sale_type\"].where(~df[\"subgenre\"].isin(unknown_sale), other=\"Unknown Sale\")"
   ]
  },
  {
   "cell_type": "markdown",
   "id": "4c8c89bd",
   "metadata": {},
   "source": [
    "## Running per clause\n",
    "\n",
    "The code is currently set to compare the texts on the `seal identification` section.\n",
    "\n",
    "To test different sections, change the parameter in the third line of the code block below"
   ]
  },
  {
   "cell_type": "code",
   "execution_count": 6,
   "id": "3d4421be",
   "metadata": {},
   "outputs": [
    {
     "name": "stderr",
     "output_type": "stream",
     "text": [
      "C:\\Users\\user\\anaconda3\\envs\\stylometry\\lib\\site-packages\\sklearn\\manifold\\_t_sne.py:810: FutureWarning: The default learning rate in TSNE will change from 200.0 to 'auto' in 1.2.\n",
      "  warnings.warn(\n",
      "C:\\Users\\user\\anaconda3\\envs\\stylometry\\lib\\site-packages\\sklearn\\manifold\\_t_sne.py:996: FutureWarning: The PCA initialization in TSNE will change to have the standard deviation of PC1 equal to 1e-4 in 1.2. This will ensure better convergence.\n",
      "  warnings.warn(\n"
     ]
    }
   ],
   "source": [
    "# add processed texts to metadata\n",
    "text_dict = get_segmented_unicode_texts(corpus,\n",
    "                                        \"seal identification\", # change this line to run on different text sections!\n",
    "                                        break_perc=.25,\n",
    "                                        mask=True)\n",
    "text_df = add_texts_dict_to_dataframe(df, text_dict)\n",
    "# vectorize and reduce dimensions\n",
    "final_df = text_df[text_df[\"Text_length_partial\"]>=1]\n",
    "counts, counts_df = vectorize(vectorizer=\"count\", corpus=final_df)\n",
    "matrix = distance_calculator(counts, \"cosine\", final_df.index)\n",
    "\n",
    "# Identify columns that are entirely NaN\n",
    "columns_to_remove = []\n",
    "for col in matrix.columns:\n",
    "    if len(matrix[col][(~matrix[col].isnull())&matrix[col]!=0]) == 0:  # Check if every element in the column is NaN,\n",
    "                                                                       # excluding its relationship to itself which is 0\n",
    "        columns_to_remove.append(col)\n",
    "        \n",
    "# Remove these columns from the DataFrame\n",
    "matrix.drop(columns_to_remove, axis=1, inplace=True)\n",
    "\n",
    "# Remove corresponding rows using the same column names\n",
    "matrix.drop(columns_to_remove, axis=0, inplace=True)\n",
    "\n",
    "reduced_pca = reduce_dimensions_pca(df=matrix, metadata=final_df)\n",
    "reduced_tsne = reduce_dimensions_tsne(matrix,\n",
    "                                      perplexity=matrix.shape[0]**0.5,\n",
    "                                      n_iter=5000,\n",
    "                                      metric=\"euclidean\",\n",
    "                                      metadata=final_df)"
   ]
  },
  {
   "cell_type": "code",
   "execution_count": 9,
   "id": "e83ab4cf",
   "metadata": {},
   "outputs": [
    {
     "data": {
      "application/vnd.plotly.v1+json": {
       "config": {
        "plotlyServerURL": "https://plot.ly"
       },
       "data": [
        {
         "customdata": [
          [
           "sales document (garden)",
           "ctn2",
           "P224504",
           "8th century",
           8,
           8
          ],
          [
           "sales document",
           "ctn2",
           "P224505",
           "8th century",
           3,
           4
          ],
          [
           "sales document (person)",
           "ctn2",
           "P224506",
           "8th century",
           3,
           4
          ],
          [
           "sales document (field)",
           "ctn2",
           "P224516",
           "8th century",
           8,
           14
          ],
          [
           "sales document (field)",
           "ctn2",
           "P224523",
           "8th century",
           8,
           8
          ],
          [
           "sales document (field)",
           "ctn2",
           "P224526",
           "8th century",
           8,
           8
          ],
          [
           "sales document (plot)",
           "ctn2",
           "P224531",
           "8th century",
           4,
           8
          ],
          [
           "sales document (field)",
           "ctn2",
           "P224561",
           "8th century",
           7,
           14
          ],
          [
           "sales document (person)",
           "ctn2",
           "P224562",
           "8th century",
           4,
           4
          ],
          [
           "sales document (house)",
           "ctn2",
           "P224570",
           "8th century",
           8,
           8
          ],
          [
           "sales document (field)",
           "ctn2",
           "P224571",
           "8th century",
           7,
           9
          ],
          [
           "sales document (field)",
           "ctn2",
           "P224594",
           "8th century",
           6,
           48
          ],
          [
           "sales document (field)",
           "ctn2",
           "P224595",
           "8th century",
           1,
           6
          ],
          [
           "sales document (person)",
           "ctn2",
           "P224600",
           "8th century",
           1,
           10
          ],
          [
           "sales document (field)",
           "ctn2",
           "P224609",
           "8th century",
           2,
           4
          ],
          [
           "sales document (person)",
           "ctn2",
           "P224623",
           "post-canonical",
           2,
           6
          ],
          [
           "sales document (field)",
           "ctn2",
           "P224638",
           "8th century",
           3,
           11
          ],
          [
           "sales document (field)",
           "ctn2",
           "P224641",
           "8th century",
           3,
           18
          ],
          [
           "sales document (person)",
           "ctn3",
           "P225178",
           "post-canonical",
           5,
           5
          ],
          [
           "sales document (person)",
           "ctn3",
           "P225179",
           "post-canonical",
           6,
           6
          ],
          [
           "sales document (person)",
           "ctn3",
           "P225180",
           "post-canonical",
           3,
           8
          ],
          [
           "sales document (person)",
           "ctn3",
           "P225193",
           "post-canonical",
           4,
           8
          ],
          [
           "sales document (person)",
           "ctn3",
           "P225194",
           "post-canonical",
           6,
           8
          ],
          [
           "sales document (person)",
           "ctn3",
           "P225195",
           "post-canonical",
           1,
           5
          ],
          [
           "sales document (person)",
           "ctn3",
           "P225196",
           "post-canonical",
           4,
           7
          ],
          [
           "sales document (garden)",
           "ctn3",
           "P225199",
           "post-canonical",
           9,
           10
          ],
          [
           "sales document (field)",
           "ctn3",
           "P225200",
           "post-canonical",
           7,
           9
          ],
          [
           "sales document (plot)",
           "ctn3",
           "P225201",
           "Ashurbanipal",
           7,
           15
          ],
          [
           "sales document (field)",
           "ctn3",
           "P225202",
           "Ashurbanipal",
           7,
           7
          ],
          [
           "sales document (house)",
           "ctn3",
           "P225203",
           "post-canonical",
           4,
           5
          ],
          [
           "sales document (field)",
           "ctn3",
           "P225210",
           "8th century",
           19,
           28
          ],
          [
           "sales document (field)",
           "ctn3",
           "P225211",
           "8th century",
           2,
           4
          ],
          [
           "sales document (person)",
           "ctn6",
           "P336733",
           "7th century",
           1,
           7
          ],
          [
           "sales document (field)",
           "ctn2",
           "P428793",
           "8th century",
           4,
           4
          ],
          [
           "sales document (field)",
           "ctn2",
           "P428794",
           "8th century",
           4,
           8
          ],
          [
           "sales document (field)",
           "ctn2",
           "P428795",
           "8th century",
           3,
           8
          ],
          [
           "sales document (field)",
           "ctn2",
           "P428806",
           "8th century",
           3,
           13
          ],
          [
           "sales document (person)",
           "ctn2",
           "P428808",
           "8th century",
           5,
           7
          ],
          [
           "sales document (person)",
           "ctn2",
           "P428809",
           "8th century",
           3,
           6
          ],
          [
           "sales document (person)",
           "ctn2",
           "P428812",
           "8th century",
           2,
           8
          ],
          [
           "sales document (plot)",
           "ctn2",
           "P428813",
           "8th century",
           6,
           10
          ],
          [
           "sales document (field)",
           "ctn2",
           "P428817",
           "8th century",
           13,
           19
          ],
          [
           "sales document (plot)",
           "ctn2",
           "P428823",
           "8th century",
           4,
           14
          ],
          [
           "sales document (house)",
           "ctn2",
           "P428824",
           "8th century",
           6,
           11
          ],
          [
           "sales document (house)",
           "ctn2",
           "P428832",
           "8th century",
           5,
           5
          ],
          [
           "sales document (person)",
           "ctn2",
           "P428861",
           "8th century",
           1,
           7
          ],
          [
           "sales document (field)",
           "ctn2",
           "P428868",
           "8th century",
           4,
           10
          ],
          [
           "sales document (person)",
           "ctn6",
           "P428990",
           "Ashurbanipal",
           11,
           11
          ],
          [
           "sales document (person)",
           "ctn6",
           "P428991",
           "post-canonical",
           4,
           7
          ],
          [
           "sales document (person)",
           "ctn6",
           "P428999",
           "Ashurbanipal",
           4,
           7
          ],
          [
           "sales document (person)",
           "ctn6",
           "P429007",
           "post-canonical",
           4,
           7
          ],
          [
           "sales document (person)",
           "ctn2",
           "P468987",
           "9th century",
           4,
           4
          ],
          [
           "sales document (field)",
           "ctn2",
           "P469182",
           "8th century",
           8,
           8
          ],
          [
           "sales document (field)",
           "ctn2",
           "P469183",
           "8th century",
           6,
           6
          ],
          [
           "sales document (field)",
           "ctn2",
           "P469184",
           "8th century",
           6,
           9
          ],
          [
           "sales document (house)",
           "ctn6",
           "P469390",
           "post-canonical",
           2,
           5
          ],
          [
           "sales document (person)",
           "ctn6",
           "P496499",
           "Ashurbanipal",
           7,
           7
          ],
          [
           "sales document (person)",
           "ctn6",
           "P496503",
           "Ashurbanipal",
           5,
           5
          ],
          [
           "sales document (person)",
           "ctn6",
           "P496505",
           "Ashurbanipal",
           10,
           10
          ],
          [
           "sales document (house)",
           "ctn6",
           "P496518",
           "Ashurbanipal",
           7,
           8
          ],
          [
           "sales document (person)",
           "ctn6",
           "P496520",
           "post-canonical",
           6,
           9
          ],
          [
           "sales document (person)",
           "ctn6",
           "P496521",
           "Ashurbanipal",
           8,
           8
          ],
          [
           "sales document (person)",
           "ctn6",
           "P498857",
           "Ashurbanipal",
           13,
           14
          ],
          [
           "sales document (person)",
           "ctn6",
           "P517136",
           "post-canonical",
           3,
           5
          ],
          [
           "sales document (person)",
           "ctn6",
           "P517141",
           "Ashurbanipal",
           10,
           10
          ],
          [
           "sales document (person)",
           "ctn6",
           "P517142",
           "post-canonical",
           8,
           8
          ],
          [
           "sales document (person)",
           "ctn6",
           "P517179",
           "Unknown",
           5,
           9
          ],
          [
           "sales document (person)",
           "edubba10",
           "P522491",
           "8th century",
           7,
           7
          ],
          [
           "sales document (person)",
           "edubba10",
           "P522492",
           "8th century",
           8,
           8
          ],
          [
           "sales document (person)",
           "edubba10",
           "P522493",
           "8th century",
           3,
           4
          ],
          [
           "sales document (person)",
           "edubba10",
           "P522494",
           "8th century",
           7,
           7
          ],
          [
           "sales document (person)",
           "edubba10",
           "P522495",
           "8th century",
           3,
           4
          ],
          [
           "sales document (person)",
           "edubba10",
           "P522496",
           "8th century",
           11,
           11
          ],
          [
           "sales document (person)",
           "edubba10",
           "P522497",
           "8th century",
           9,
           9
          ],
          [
           "sales document (person)",
           "edubba10",
           "P522498",
           "8th century",
           3,
           4
          ],
          [
           "sales document (person)",
           "edubba10",
           "P522500",
           "8th century",
           1,
           4
          ],
          [
           "sales document (person)",
           "edubba10",
           "P522502",
           "8th century",
           6,
           6
          ],
          [
           "sales document (house)",
           "edubba10",
           "P522505",
           "8th century",
           6,
           6
          ],
          [
           "sales document (house)",
           "edubba10",
           "P522506",
           "8th century",
           5,
           5
          ],
          [
           "sales document (person)",
           "edubba10",
           "P522508",
           "8th century",
           5,
           5
          ],
          [
           "sales document (house)",
           "edubba10",
           "P522511",
           "8th century",
           4,
           7
          ],
          [
           "sales document (field)",
           "edubba10",
           "P522515",
           "8th century",
           12,
           22
          ],
          [
           "sales document (field)",
           "edubba10",
           "P522516",
           "8th century",
           4,
           10
          ],
          [
           "sales document (field)",
           "edubba10",
           "P522517",
           "8th century",
           10,
           14
          ],
          [
           "sales document (field)",
           "edubba10",
           "P522518",
           "8th century",
           2,
           9
          ],
          [
           "sales document (person)",
           "edubba10",
           "P522519",
           "8th century",
           21,
           21
          ],
          [
           "sales document (house)",
           "edubba10",
           "P522520",
           "8th century",
           7,
           9
          ],
          [
           "sales document (field)",
           "edubba10",
           "P522521",
           "8th century",
           8,
           9
          ],
          [
           "sales document (house)",
           "edubba10",
           "P522523",
           "8th century",
           6,
           7
          ],
          [
           "sales document (house)",
           "edubba10",
           "P522525",
           "8th century",
           4,
           4
          ],
          [
           "sales document (field)",
           "edubba10",
           "P522526",
           "8th century",
           3,
           4
          ],
          [
           "sales document (field)",
           "edubba10",
           "P522527",
           "8th century",
           8,
           8
          ],
          [
           "sales document (field)",
           "edubba10",
           "P522528",
           "8th century",
           4,
           4
          ],
          [
           "sales document (field)",
           "edubba10",
           "P522529",
           "8th century",
           9,
           9
          ],
          [
           "sales document (field)",
           "edubba10",
           "P522530",
           "8th century",
           7,
           8
          ],
          [
           "sales document (field)",
           "edubba10",
           "P522531",
           "8th century",
           7,
           14
          ],
          [
           "sales document (person)",
           "edubba10",
           "P522532",
           "8th century",
           6,
           13
          ],
          [
           "sales document (field)",
           "edubba10",
           "P522533",
           "8th century",
           4,
           5
          ],
          [
           "sales document (field)",
           "edubba10",
           "P522534",
           "8th century",
           2,
           10
          ],
          [
           "sales document (field)",
           "edubba10",
           "P522536",
           "8th century",
           14,
           20
          ],
          [
           "sales document (person)",
           "edubba10",
           "P522537",
           "8th century",
           6,
           7
          ],
          [
           "sales document (plot)",
           "edubba10",
           "P522538",
           "8th century",
           6,
           6
          ]
         ],
         "hovertemplate": "provenience=Nimrud (Kalhu)<br>component 1=%{x}<br>component 2=%{y}<br>subgenre=%{customdata[0]}<br>project=%{customdata[1]}<br>index=%{customdata[2]}<br>date_for_viz=%{customdata[3]}<br>Text_length_partial=%{customdata[4]}<br>Text_length_full=%{customdata[5]}<extra></extra>",
         "legendgroup": "Nimrud (Kalhu)",
         "marker": {
          "color": "#636efa",
          "line": {
           "color": "black",
           "width": 1
          },
          "symbol": "circle"
         },
         "mode": "markers",
         "name": "Nimrud (Kalhu)",
         "orientation": "v",
         "showlegend": true,
         "type": "scatter",
         "x": [
          -138.4817352294922,
          -215.84849548339844,
          -43.89090347290039,
          -128.70114135742188,
          9.448579788208008,
          1.0628410577774048,
          -58.41444396972656,
          -73.58528900146484,
          -139.44619750976562,
          -15.920778274536133,
          -93.9452133178711,
          -171.97802734375,
          -337.43780517578125,
          -332.4416198730469,
          -392.03253173828125,
          -206.43475341796875,
          -343.8105773925781,
          -182.6099090576172,
          211.04910278320312,
          310.9106140136719,
          8.655130386352539,
          -146.91065979003906,
          242.5487060546875,
          -75.23686218261719,
          357.9043884277344,
          353.9127197265625,
          289.5853271484375,
          296.0354919433594,
          373.2344970703125,
          175.17950439453125,
          -48.59546661376953,
          -181.75604248046875,
          -397.224365234375,
          27.246068954467773,
          -66.1829605102539,
          -337.8282470703125,
          -178.38101196289062,
          -94.68262481689453,
          -171.6768035888672,
          43.34946060180664,
          -122.2718734741211,
          -103.7408447265625,
          -51.33955001831055,
          -64.29533386230469,
          -146.92047119140625,
          -199.96835327148438,
          -118.21464538574219,
          221.02110290527344,
          3.9339759349823,
          38.227989196777344,
          46.91659164428711,
          -130.2173309326172,
          5.4987969398498535,
          -83.27650451660156,
          -159.3054962158203,
          -278.9749755859375,
          240.32215881347656,
          206.68798828125,
          247.78994750976562,
          -14.338316917419434,
          14.415253639221191,
          256.2142028808594,
          247.0191650390625,
          -23.297386169433594,
          280.16278076171875,
          313.62249755859375,
          36.713138580322266,
          -149.34950256347656,
          -208.20484924316406,
          -130.0955352783203,
          182.11793518066406,
          -140.05355834960938,
          -120.76087951660156,
          -192.3944549560547,
          -189.8247833251953,
          -191.46511840820312,
          -102.05580139160156,
          11.649831771850586,
          -114.41032409667969,
          -115.63176727294922,
          -200.00323486328125,
          -133.54698181152344,
          -88.21751403808594,
          -81.52137756347656,
          -377.09942626953125,
          -33.83018493652344,
          -102.6863021850586,
          41.86223602294922,
          -89.80764770507812,
          -130.0955352783203,
          53.16569519042969,
          4.604987144470215,
          23.097257614135742,
          -3.3032822608947754,
          -104.81273651123047,
          -136.94252014160156,
          -108.48686218261719,
          187.1845245361328,
          -366.3857727050781,
          -39.413570404052734,
          -7.848847389221191,
          -53.78925323486328
         ],
         "xaxis": "x",
         "y": [
          198.95619201660156,
          156.92730712890625,
          -27.448545455932617,
          167.11607360839844,
          101.43954467773438,
          101.22029113769531,
          -32.91670608520508,
          177.6462860107422,
          223.96604919433594,
          76.05305480957031,
          165.03273010253906,
          163.25389099121094,
          -69.84648895263672,
          71.3348159790039,
          14.019144058227539,
          187.599853515625,
          63.28707504272461,
          181.67442321777344,
          144.88148498535156,
          13.421029090881348,
          -202.6124267578125,
          68.2530288696289,
          149.78741455078125,
          -94.60380554199219,
          16.875011444091797,
          5.151002407073975,
          -65.83937072753906,
          13.765130996704102,
          -11.042709350585938,
          -103.08649444580078,
          74.669921875,
          206.92440795898438,
          -91.8393783569336,
          138.63653564453125,
          -63.406158447265625,
          54.38167953491211,
          168.62767028808594,
          190.28253173828125,
          176.3136749267578,
          -218.83444213867188,
          156.70982360839844,
          177.45877075195312,
          -36.32633590698242,
          -41.440765380859375,
          177.4489288330078,
          226.75816345214844,
          192.64352416992188,
          -3.313023090362549,
          -210.10289001464844,
          -178.8170928955078,
          33.44905471801758,
          221.5684814453125,
          111.44044494628906,
          184.5926971435547,
          164.82984924316406,
          -100.68004608154297,
          136.08255004882812,
          137.23556518554688,
          109.8179702758789,
          59.24696350097656,
          32.548194885253906,
          -28.913137435913086,
          7.04416561126709,
          -241.17901611328125,
          -34.195640563964844,
          34.00101852416992,
          26.820951461791992,
          156.7835235595703,
          137.8772735595703,
          231.4579620361328,
          -66.65605163574219,
          233.32566833496094,
          146.33938598632812,
          143.43679809570312,
          182.61129760742188,
          223.63339233398438,
          221.4783477783203,
          156.16885375976562,
          154.36273193359375,
          162.99790954589844,
          150.8734893798828,
          151.5758819580078,
          198.35069274902344,
          170.1969757080078,
          -35.000431060791016,
          93.62710571289062,
          158.3328399658203,
          113.14429473876953,
          178.13816833496094,
          231.4579620361328,
          60.73146438598633,
          119.98471069335938,
          147.554443359375,
          113.349365234375,
          185.14231872558594,
          210.82676696777344,
          146.31910705566406,
          -88.82980346679688,
          0.6702380776405334,
          85.6712875366211,
          153.6995086669922,
          -45.77622985839844
         ],
         "yaxis": "y"
        },
        {
         "customdata": [
          [
           "sales document (person)",
           "saa14",
           "P224946",
           "post-canonical",
           8,
           8
          ],
          [
           "sales document (person)",
           "saa14",
           "P224957",
           "Ashurbanipal",
           4,
           6
          ],
          [
           "sales document",
           "saa14",
           "P224975",
           "Ashurbanipal",
           3,
           11
          ],
          [
           "sales document (person)",
           "saa06",
           "P240189",
           "8th century",
           4,
           4
          ],
          [
           "sales document (person)",
           "saa06",
           "P335011",
           "Sargonid period",
           11,
           11
          ],
          [
           "lease document (field)",
           "saa06",
           "P335022",
           "Sargonid period",
           3,
           10
          ],
          [
           "sales document (person)",
           "saa06",
           "P335027",
           "8th century",
           1,
           10
          ],
          [
           "sales document",
           "saa14",
           "P335038",
           "Ashurbanipal",
           4,
           12
          ],
          [
           "sales document (person)",
           "saa06",
           "P335122",
           "Sargonid period",
           11,
           11
          ],
          [
           "sales document (person)",
           "saa14",
           "P335123",
           "Ashurbanipal",
           12,
           12
          ],
          [
           "sales document (person)",
           "saa06",
           "P335124",
           "Ashurbanipal",
           7,
           7
          ],
          [
           "sales document (person)",
           "saa06",
           "P335125",
           "Sargonid period",
           5,
           5
          ],
          [
           "sales document (person)",
           "saa14",
           "P335127",
           "Ashurbanipal",
           6,
           10
          ],
          [
           "sales document (person)",
           "saa06",
           "P335128",
           "Sargonid period",
           5,
           5
          ],
          [
           "sales document (person)",
           "saa06",
           "P335129",
           "Sargonid period",
           8,
           9
          ],
          [
           "sales document (person)",
           "saa06",
           "P335130",
           "8th century",
           4,
           8
          ],
          [
           "sales document (person)",
           "saa06",
           "P335131",
           "Sargonid period",
           4,
           8
          ],
          [
           "sales document (person)",
           "saa14",
           "P335132",
           "Ashurbanipal",
           10,
           10
          ],
          [
           "sales document (person)",
           "saa06",
           "P335133",
           "Sargonid period",
           4,
           8
          ],
          [
           "sales document (person)",
           "saa14",
           "P335134",
           "Ashurbanipal",
           1,
           6
          ],
          [
           "sales document (person)",
           "saa06",
           "P335135",
           "Ashurbanipal",
           6,
           9
          ],
          [
           "sales document (person)",
           "saa06",
           "P335136",
           "Sargonid period",
           5,
           5
          ],
          [
           "sales document (person)",
           "saa14",
           "P335139",
           "Ashurbanipal",
           4,
           7
          ],
          [
           "sales document (person)",
           "saa06",
           "P335140",
           "Sargonid period",
           7,
           7
          ],
          [
           "sales document (person)",
           "saa14",
           "P335141",
           "Ashurbanipal",
           6,
           9
          ],
          [
           "sales document (person)",
           "saa06",
           "P335142",
           "Sargonid period",
           6,
           6
          ],
          [
           "sales document (person)",
           "saa14",
           "P335144",
           "Ashurbanipal",
           5,
           6
          ],
          [
           "sales document (person)",
           "saa06",
           "P335145",
           "Sargonid period",
           5,
           5
          ],
          [
           "sales document (person)",
           "saa06",
           "P335146",
           "Sargonid period",
           9,
           9
          ],
          [
           "sales document (person)",
           "saa06",
           "P335147",
           "Ashurbanipal",
           3,
           5
          ],
          [
           "sales document (person)",
           "saa06",
           "P335148",
           "Sargonid period",
           5,
           5
          ],
          [
           "sales document (person)",
           "saa06",
           "P335149",
           "Sargonid period",
           7,
           12
          ],
          [
           "sales document (person)",
           "saa14",
           "P335151",
           "Ashurbanipal",
           5,
           5
          ],
          [
           "sales document (person)",
           "saa14",
           "P335152",
           "post-canonical",
           3,
           11
          ],
          [
           "sales document (person)",
           "saa14",
           "P335153",
           "Ashurbanipal",
           4,
           5
          ],
          [
           "sales document (person)",
           "saa14",
           "P335155",
           "Ashurbanipal",
           4,
           5
          ],
          [
           "sales document (person)",
           "saa14",
           "P335156",
           "Ashurbanipal",
           3,
           8
          ],
          [
           "sales document (person)",
           "saa14",
           "P335157",
           "post-canonical",
           3,
           8
          ],
          [
           "sales document (person)",
           "saa14",
           "P335158",
           "post-canonical",
           7,
           12
          ],
          [
           "sales document (person)",
           "saa06",
           "P335160",
           "Sargonid period",
           5,
           5
          ],
          [
           "sales document (person)",
           "saa06",
           "P335162",
           "Sargonid period",
           4,
           5
          ],
          [
           "sales document (person)",
           "saa06",
           "P335169",
           "Sargonid period",
           2,
           5
          ],
          [
           "sales document (person)",
           "saa06",
           "P335172",
           "Sargonid period",
           3,
           7
          ],
          [
           "sales document (person)",
           "saa06",
           "P335174",
           "Sargonid period",
           4,
           6
          ],
          [
           "sales document (person)",
           "saa06",
           "P335176",
           "Sargonid period",
           5,
           5
          ],
          [
           "sales document (person)",
           "saa06",
           "P335177",
           "Sargonid period",
           5,
           5
          ],
          [
           "sales document (person)",
           "saa06",
           "P335178",
           "Sargonid period",
           5,
           5
          ],
          [
           "sales document (person)",
           "saa06",
           "P335179",
           "Sargonid period",
           5,
           5
          ],
          [
           "sales document (person)",
           "saa06",
           "P335181",
           "Sargonid period",
           3,
           5
          ],
          [
           "sales document (person)",
           "saa14",
           "P335182",
           "post-canonical",
           2,
           5
          ],
          [
           "sales document (person)",
           "saa06",
           "P335183",
           "Sargonid period",
           3,
           7
          ],
          [
           "sales document (person)",
           "saa06",
           "P335184",
           "Ashurbanipal",
           5,
           5
          ],
          [
           "sales document (person)",
           "saa06",
           "P335185",
           "Sargonid period",
           5,
           9
          ],
          [
           "sales document (person)",
           "saa06",
           "P335187",
           "Sargonid period",
           2,
           9
          ],
          [
           "sales document (person)",
           "saa06",
           "P335188",
           "Sargonid period",
           2,
           6
          ],
          [
           "sales document (person)",
           "saa06",
           "P335189",
           "Sargonid period",
           4,
           11
          ],
          [
           "sales document (person)",
           "saa06",
           "P335190",
           "Sargonid period",
           5,
           5
          ],
          [
           "sales document (person)",
           "saa06",
           "P335191",
           "Sargonid period",
           7,
           9
          ],
          [
           "sales document (person)",
           "saa06",
           "P335192",
           "Sargonid period",
           3,
           5
          ],
          [
           "sales document (person)",
           "saa06",
           "P335193",
           "Sargonid period",
           9,
           26
          ],
          [
           "sales document (person)",
           "saa06",
           "P335202",
           "Sargonid period",
           2,
           5
          ],
          [
           "sales document (person)",
           "saa06",
           "P335203",
           "Sargonid period",
           10,
           10
          ],
          [
           "sales document (person)",
           "saa06",
           "P335205",
           "Ashurbanipal",
           4,
           9
          ],
          [
           "sales document (person)",
           "saa14",
           "P335206",
           "post-canonical",
           9,
           9
          ],
          [
           "sales document (person)",
           "saa06",
           "P335213",
           "Sargonid period",
           13,
           14
          ],
          [
           "sales document (person)",
           "saa06",
           "P335216",
           "Sargonid period",
           5,
           5
          ],
          [
           "sales document (person)",
           "saa06",
           "P335217",
           "Ashurbanipal",
           7,
           16
          ],
          [
           "sales document (person)",
           "saa06",
           "P335219",
           "Sargonid period",
           4,
           17
          ],
          [
           "sales document (person)",
           "saa06",
           "P335220",
           "Sargonid period",
           2,
           6
          ],
          [
           "sales document (person)",
           "saa06",
           "P335221",
           "Sargonid period",
           7,
           7
          ],
          [
           "sales document (person)",
           "saa06",
           "P335223",
           "Sargonid period",
           3,
           5
          ],
          [
           "sales document (person)",
           "saa06",
           "P335224",
           "Sargonid period",
           4,
           10
          ],
          [
           "sales document (person)",
           "saa06",
           "P335225",
           "Sargonid period",
           1,
           5
          ],
          [
           "sales document (person)",
           "saa06",
           "P335226",
           "Sargonid period",
           4,
           5
          ],
          [
           "sales document (person)",
           "saa14",
           "P335228",
           "post-canonical",
           2,
           9
          ],
          [
           "sales document (person)",
           "saa06",
           "P335230",
           "Sargonid period",
           16,
           17
          ],
          [
           "sales document (person)",
           "saa06",
           "P335231",
           "Sargonid period",
           8,
           14
          ],
          [
           "sales document (person)",
           "saa14",
           "P335232",
           "Ashurbanipal",
           5,
           5
          ],
          [
           "sales document (person)",
           "saa06",
           "P335239",
           "Sargonid period",
           1,
           12
          ],
          [
           "sales document (person)",
           "saa14",
           "P335241",
           "post-canonical",
           1,
           11
          ],
          [
           "sales document (person)",
           "saa06",
           "P335243",
           "Sargonid period",
           3,
           5
          ],
          [
           "sales document (person)",
           "saa06",
           "P335244",
           "Sargonid period",
           6,
           19
          ],
          [
           "sales document (person)",
           "saa06",
           "P335245",
           "Sargonid period",
           3,
           9
          ],
          [
           "sales document (person)",
           "saa06",
           "P335246",
           "Sargonid period",
           8,
           11
          ],
          [
           "sales document (person)",
           "saa14",
           "P335247",
           "post-canonical",
           7,
           8
          ],
          [
           "sales document (person)",
           "saa14",
           "P335250",
           "post-canonical",
           5,
           5
          ],
          [
           "sales document (person)",
           "saa06",
           "P335251",
           "Sargonid period",
           3,
           6
          ],
          [
           "sales document (person)",
           "saa14",
           "P335252",
           "post-canonical",
           17,
           19
          ],
          [
           "sales document (person)",
           "saa14",
           "P335253",
           "post-canonical",
           5,
           10
          ],
          [
           "sales document (person)",
           "saa14",
           "P335255",
           "Ashurbanipal",
           2,
           5
          ],
          [
           "sales document (person)",
           "saa14",
           "P335256",
           "post-canonical",
           8,
           8
          ],
          [
           "sales document (person)",
           "saa14",
           "P335259",
           "post-canonical",
           3,
           5
          ],
          [
           "sales document (person)",
           "saa06",
           "P335262",
           "Sargonid period",
           5,
           5
          ],
          [
           "sales document (house)",
           "saa06",
           "P335268",
           "Sargonid period",
           15,
           15
          ],
          [
           "sales document (house)",
           "saa14",
           "P335269",
           "post-canonical",
           12,
           12
          ],
          [
           "sales document (house)",
           "saa06",
           "P335270",
           "Sargonid period",
           8,
           9
          ],
          [
           "sales document (house)",
           "saa06",
           "P335272",
           "Sargonid period",
           7,
           7
          ],
          [
           "sales document (house)",
           "saa14",
           "P335273",
           "Ashurbanipal",
           5,
           5
          ],
          [
           "sales document (house)",
           "saa06",
           "P335274",
           "Sargonid period",
           5,
           5
          ],
          [
           "sales document (house)",
           "saa06",
           "P335275",
           "Ashurbanipal",
           8,
           10
          ],
          [
           "sales document (house)",
           "saa06",
           "P335276",
           "Sargonid period",
           3,
           9
          ],
          [
           "sales document (house)",
           "saa14",
           "P335277",
           "Ashurbanipal",
           5,
           6
          ],
          [
           "sales document (house)",
           "saa06",
           "P335279",
           "Sargonid period",
           1,
           5
          ],
          [
           "sales document (house)",
           "saa06",
           "P335281",
           "Sargonid period",
           9,
           9
          ],
          [
           "sales document (house)",
           "saa14",
           "P335284",
           "Ashurbanipal",
           10,
           26
          ],
          [
           "sales document (house)",
           "saa14",
           "P335286",
           "Ashurbanipal",
           4,
           11
          ],
          [
           "sales document (house)",
           "saa14",
           "P335287",
           "post-canonical",
           5,
           5
          ],
          [
           "sales document (house)",
           "saa14",
           "P335288",
           "post-canonical",
           6,
           6
          ],
          [
           "sales document (house)",
           "saa14",
           "P335289",
           "post-canonical",
           7,
           7
          ],
          [
           "sales document (house)",
           "saa14",
           "P335293",
           "post-canonical",
           10,
           28
          ],
          [
           "sales document (plot)",
           "saa06",
           "P335294",
           "Sargonid period",
           2,
           6
          ],
          [
           "sales document (plot)",
           "saa14",
           "P335295",
           "Ashurbanipal",
           8,
           8
          ],
          [
           "sales document (plot)",
           "saa14",
           "P335296",
           "post-canonical",
           9,
           19
          ],
          [
           "sales document (plot)",
           "saa06",
           "P335297",
           "Sargonid period",
           3,
           8
          ],
          [
           "sales document (plot)",
           "saa14",
           "P335299",
           "post-canonical",
           12,
           13
          ],
          [
           "sales document (plot)",
           "saa14",
           "P335300",
           "post-canonical",
           2,
           9
          ],
          [
           "sales document (plot)",
           "saa14",
           "P335302",
           "Ashurbanipal",
           11,
           14
          ],
          [
           "sales document (garden)",
           "saa06",
           "P335303",
           "Sargonid period",
           7,
           8
          ],
          [
           "sales document (garden)",
           "saa06",
           "P335304",
           "Sargonid period",
           4,
           5
          ],
          [
           "sales document (garden)",
           "saa06",
           "P335306",
           "Ashurbanipal",
           10,
           12
          ],
          [
           "sales document (garden)",
           "saa06",
           "P335307",
           "Sargonid period",
           5,
           9
          ],
          [
           "sales document (garden)",
           "saa06",
           "P335308",
           "Sargonid period",
           6,
           6
          ],
          [
           "sales document (garden)",
           "saa06",
           "P335309",
           "Sargonid period",
           9,
           9
          ],
          [
           "sales document (garden)",
           "saa14",
           "P335311",
           "post-canonical",
           8,
           29
          ],
          [
           "sales document (garden)",
           "saa06",
           "P335314",
           "Sargonid period",
           8,
           10
          ],
          [
           "sales document (garden)",
           "saa06",
           "P335315",
           "Sargonid period",
           3,
           10
          ],
          [
           "sales document (house)",
           "saa14",
           "P335317",
           "Ashurbanipal",
           10,
           10
          ],
          [
           "sales document (house)",
           "saa06",
           "P335318",
           "Sargonid period",
           10,
           11
          ],
          [
           "sales document (plot)",
           "saa06",
           "P335319",
           "Sargonid period",
           5,
           12
          ],
          [
           "sales document (house)",
           "saa06",
           "P335320",
           "Sargonid period",
           20,
           42
          ],
          [
           "sales document (plot)",
           "saa06",
           "P335321",
           "Ashurbanipal",
           1,
           5
          ],
          [
           "sales document (plot)",
           "saa06",
           "P335322",
           "Sargonid period",
           4,
           9
          ],
          [
           "sales document (house)",
           "saa14",
           "P335323",
           "Ashurbanipal",
           5,
           11
          ],
          [
           "sales document (plot)",
           "saa14",
           "P335324",
           "post-canonical",
           2,
           14
          ],
          [
           "sales document (house)",
           "saa06",
           "P335325",
           "Sargonid period",
           2,
           13
          ],
          [
           "sales document (plot)",
           "saa06",
           "P335326",
           "Sargonid period",
           7,
           11
          ],
          [
           "sales document (plot)",
           "saa06",
           "P335327",
           "Sargonid period",
           5,
           5
          ],
          [
           "sales document (plot)",
           "saa14",
           "P335328",
           "Ashurbanipal",
           2,
           13
          ],
          [
           "sales document (house)",
           "saa14",
           "P335331",
           "Ashurbanipal",
           6,
           10
          ],
          [
           "sales document (house)",
           "saa14",
           "P335332",
           "post-canonical",
           13,
           16
          ],
          [
           "sales document (plot)",
           "saa06",
           "P335335",
           "Sargonid period",
           7,
           9
          ],
          [
           "sales document (plot)",
           "saa06",
           "P335336",
           "Sargonid period",
           9,
           9
          ],
          [
           "sales document (plot)",
           "saa06",
           "P335339",
           "8th century",
           4,
           13
          ],
          [
           "sales document (plot)",
           "saa14",
           "P335340",
           "post-canonical",
           5,
           12
          ],
          [
           "sales document (plot)",
           "saa14",
           "P335341",
           "post-canonical",
           3,
           23
          ],
          [
           "sales document (plot)",
           "saa14",
           "P335342",
           "Ashurbanipal",
           3,
           10
          ],
          [
           "sales document (plot)",
           "saa14",
           "P335343",
           "post-canonical",
           6,
           7
          ],
          [
           "sales document (plot)",
           "saa14",
           "P335346",
           "post-canonical",
           1,
           8
          ],
          [
           "sales document (house)",
           "saa06",
           "P335347",
           "Sargonid period",
           12,
           14
          ],
          [
           "sales document (plot)",
           "saa06",
           "P335355",
           "8th century",
           24,
           25
          ],
          [
           "sales document (plot)",
           "saa14",
           "P335357",
           "post-canonical",
           9,
           9
          ],
          [
           "sales document (house)",
           "saa06",
           "P335358",
           "8th century",
           18,
           18
          ],
          [
           "sales document (house)",
           "saa06",
           "P335359",
           "Sargonid period",
           8,
           9
          ],
          [
           "sales document (field, person)",
           "saa06",
           "P335364",
           "Ashurbanipal",
           4,
           7
          ],
          [
           "sales document (field, person)",
           "saa06",
           "P335365",
           "Sargonid period",
           3,
           7
          ],
          [
           "sales document (garden)",
           "saa06",
           "P335370",
           "Sargonid period",
           12,
           15
          ],
          [
           "sales document (plot)",
           "saa06",
           "P335372",
           "Ashurbanipal",
           8,
           21
          ],
          [
           "sales document (house)",
           "saa06",
           "P335373",
           "Sargonid period",
           9,
           9
          ],
          [
           "sales document (house)",
           "saa06",
           "P335374",
           "Sargonid period",
           7,
           12
          ],
          [
           "sales document (field, person)",
           "saa06",
           "P335376",
           "Ashurbanipal",
           2,
           5
          ],
          [
           "sales document (house)",
           "saa06",
           "P335380",
           "Sargonid period",
           5,
           10
          ],
          [
           "sales document (house)",
           "saa14",
           "P335381",
           "post-canonical",
           2,
           17
          ],
          [
           "sales document (plot)",
           "saa06",
           "P335382",
           "Ashurbanipal",
           4,
           10
          ],
          [
           "sales document (field, person)",
           "saa06",
           "P335383",
           "Sargonid period",
           4,
           8
          ],
          [
           "sales document (field, person)",
           "saa06",
           "P335384",
           "Sargonid period",
           7,
           7
          ],
          [
           "sales document (garden)",
           "saa06",
           "P335385",
           "Ashurbanipal",
           10,
           10
          ],
          [
           "sales document (garden)",
           "saa06",
           "P335386",
           "Ashurbanipal",
           1,
           10
          ],
          [
           "sales document (field, person)",
           "saa14",
           "P335387",
           "post-canonical",
           10,
           10
          ],
          [
           "sales document (field, person)",
           "saa06",
           "P335388",
           "Sargonid period",
           18,
           18
          ],
          [
           "sales document (house)",
           "saa06",
           "P335389",
           "Ashurbanipal",
           8,
           14
          ],
          [
           "sales document (field, person)",
           "saa14",
           "P335390",
           "post-canonical",
           6,
           13
          ],
          [
           "sales document (house)",
           "saa06",
           "P335394",
           "Sargonid period",
           3,
           7
          ],
          [
           "sales document (field, person)",
           "saa06",
           "P335395",
           "Sargonid period",
           6,
           6
          ],
          [
           "sales document (garden)",
           "saa06",
           "P335407",
           "Sargonid period",
           4,
           6
          ],
          [
           "sales document (house)",
           "saa06",
           "P335408",
           "Sargonid period",
           4,
           23
          ],
          [
           "sales document (house)",
           "saa06",
           "P335409",
           "Ashurbanipal",
           38,
           43
          ],
          [
           "sales document (house)",
           "saa14",
           "P335411",
           "Ashurbanipal",
           2,
           11
          ],
          [
           "sales document (plot)",
           "saa06",
           "P335412",
           "Sargonid period",
           5,
           6
          ],
          [
           "sales document",
           "saa06",
           "P335414",
           "Sargonid period",
           3,
           12
          ],
          [
           "sales document",
           "saa06",
           "P335421",
           "Sargonid period",
           1,
           7
          ],
          [
           "sales document (person)",
           "saa06",
           "P335437",
           "Sargonid period",
           5,
           9
          ],
          [
           "sales document",
           "saa06",
           "P335442",
           "Sargonid period",
           12,
           23
          ],
          [
           "sales document (house)",
           "saa14",
           "P335448",
           "post-canonical",
           5,
           9
          ],
          [
           "sales document (field)",
           "saa14",
           "P335450",
           "post-canonical",
           3,
           8
          ],
          [
           "sales document (plot)",
           "saa14",
           "P335463",
           "8th century",
           5,
           5
          ],
          [
           "sales document (plot)",
           "saa14",
           "P335465",
           "post-canonical",
           2,
           20
          ],
          [
           "sales document",
           "saa14",
           "P335471",
           "post-canonical",
           1,
           7
          ],
          [
           "sales document",
           "saa14",
           "P335478",
           "post-canonical",
           1,
           10
          ],
          [
           "sales document (person)",
           "saa14",
           "P335499",
           "post-canonical",
           8,
           27
          ],
          [
           "sales document",
           "saa14",
           "P335500",
           "Ashurbanipal",
           1,
           8
          ],
          [
           "sales document",
           "saa06",
           "P335529",
           "Sargonid period",
           1,
           3
          ],
          [
           "sales document (person)",
           "saa06",
           "P335533",
           "Sargonid period",
           7,
           15
          ],
          [
           "sales document (house)",
           "saa06",
           "P335534",
           "Sargonid period",
           7,
           20
          ],
          [
           "sales document (field, person)",
           "saa14",
           "P335536",
           "post-canonical",
           4,
           6
          ],
          [
           "sales document (plot)",
           "saa14",
           "P335537",
           "post-canonical",
           9,
           9
          ],
          [
           "lease document (field)",
           "saa14",
           "P335538",
           "Ashurbanipal",
           12,
           12
          ],
          [
           "sales document (plot)",
           "saa14",
           "P335539",
           "post-canonical",
           21,
           21
          ],
          [
           "sales document (house)",
           "saa06",
           "P335540",
           "Sargonid period",
           7,
           9
          ],
          [
           "sales document (house)",
           "saa06",
           "P335541",
           "Sargonid period",
           18,
           18
          ],
          [
           "sales document (house)",
           "saa14",
           "P335542",
           "Ashurbanipal",
           6,
           6
          ],
          [
           "lease document (field)",
           "saa14",
           "P335543",
           "Ashurbanipal",
           7,
           7
          ],
          [
           "sales document (house)",
           "saa06",
           "P335544",
           "Sargonid period",
           5,
           5
          ],
          [
           "sales document (plot)",
           "saa06",
           "P335546",
           "Sargonid period",
           6,
           6
          ],
          [
           "sales document",
           "saa14",
           "P335647",
           "post-canonical",
           5,
           25
          ],
          [
           "sales document (person)",
           "saa06",
           "P335652",
           "Ashurbanipal",
           6,
           8
          ],
          [
           "sales document (house)",
           "saa06",
           "P335934",
           "Sargonid period",
           12,
           12
          ],
          [
           "sales document (house)",
           "saa06",
           "P335935",
           "Ashurbanipal",
           2,
           9
          ],
          [
           "sales document (plot)",
           "saa06",
           "P335938",
           "8th century",
           6,
           8
          ],
          [
           "sales document (person)",
           "saa06",
           "P335940",
           "Sargonid period",
           2,
           5
          ],
          [
           "sales document (plot)",
           "saa06",
           "P335946",
           "Sargonid period",
           7,
           9
          ],
          [
           "sales document",
           "saa14",
           "P335948",
           "post-canonical",
           1,
           4
          ],
          [
           "sales document (plot)",
           "saa06",
           "P335949",
           "Sargonid period",
           6,
           9
          ],
          [
           "lease document (field)",
           "saa14",
           "P335951",
           "post-canonical",
           5,
           5
          ],
          [
           "sales document (person)",
           "saa06",
           "P335952",
           "Sargonid period",
           5,
           5
          ],
          [
           "sales document (person)",
           "saa14",
           "P335953",
           "post-canonical",
           1,
           7
          ],
          [
           "sales document (plot)",
           "saa14",
           "P335956",
           "post-canonical",
           1,
           11
          ],
          [
           "sales document (plot)",
           "saa06",
           "P335957",
           "8th century",
           5,
           5
          ],
          [
           "sales document (house)",
           "saa06",
           "P335959",
           "Sargonid period",
           8,
           9
          ],
          [
           "sales document (plot)",
           "saa06",
           "P335960",
           "Sargonid period",
           1,
           7
          ],
          [
           "sales document (house)",
           "saa14",
           "P335961",
           "post-canonical",
           4,
           9
          ],
          [
           "sales document (person)",
           "saa14",
           "P335963",
           "Ashurbanipal",
           6,
           11
          ],
          [
           "sales document (plot)",
           "saa14",
           "P335965",
           "post-canonical",
           8,
           9
          ],
          [
           "sales document (person)",
           "saa06",
           "P335974",
           "Sargonid period",
           20,
           21
          ],
          [
           "sales document (plot)",
           "saa14",
           "P335975",
           "Sargonid period",
           4,
           21
          ],
          [
           "sales document (house)",
           "saa06",
           "P335976",
           "Sargonid period",
           1,
           8
          ],
          [
           "sales document",
           "saa14",
           "P335977",
           "Ashurbanipal",
           2,
           6
          ],
          [
           "sales document (field, person)",
           "saa06",
           "P335980",
           "Sargonid period",
           2,
           7
          ],
          [
           "sales document (person)",
           "saa14",
           "P335993",
           "post-canonical",
           1,
           11
          ],
          [
           "sales document (person)",
           "saa14",
           "P335995",
           "post-canonical",
           6,
           9
          ],
          [
           "sales document (person)",
           "saa14",
           "P336004",
           "Ashurbanipal",
           7,
           7
          ],
          [
           "sales document (plot)",
           "saa14",
           "P336005",
           "8th century",
           4,
           4
          ],
          [
           "sales document (inheritance)",
           "saa14",
           "P336013",
           "Ashurbanipal",
           1,
           9
          ],
          [
           "sales document (plot)",
           "saa14",
           "P336020",
           "post-canonical",
           3,
           6
          ],
          [
           "sales document (house)",
           "saa14",
           "P336026",
           "post-canonical",
           2,
           7
          ],
          [
           "sales document",
           "saa14",
           "P336028",
           "post-canonical",
           5,
           9
          ],
          [
           "sales document (plot)",
           "saa14",
           "P336031",
           "Ashurbanipal",
           1,
           11
          ],
          [
           "sales document (house)",
           "saa14",
           "P336190",
           "Ashurbanipal",
           5,
           6
          ],
          [
           "sales document (plot)",
           "saa06",
           "P336192",
           "Sargonid period",
           1,
           15
          ],
          [
           "sales document (house)",
           "saa14",
           "P336195",
           "post-canonical",
           9,
           11
          ],
          [
           "sales document (person)",
           "saa06",
           "P336200",
           "Sargonid period",
           7,
           11
          ],
          [
           "sales document (plot)",
           "saa14",
           "P336247",
           "post-canonical",
           11,
           11
          ],
          [
           "sales document (plot)",
           "saa14",
           "P336743",
           "post-canonical",
           3,
           34
          ],
          [
           "sales document",
           "saa14",
           "P336757",
           "post-canonical",
           2,
           10
          ],
          [
           "sales document (person)",
           "saa14",
           "P336758",
           "post-canonical",
           2,
           10
          ],
          [
           "sales document (plot)",
           "saa06",
           "P337149",
           "Sargonid period",
           4,
           23
          ],
          [
           "sales document (plot)",
           "saa14",
           "P337155",
           "post-canonical",
           19,
           19
          ],
          [
           "sales document (person)",
           "saa14",
           "P337156",
           "Ashurbanipal",
           9,
           9
          ],
          [
           "sales document (plot)",
           "saa14",
           "P337162",
           "Ashurbanipal",
           5,
           12
          ],
          [
           "lease document (field)",
           "saa14",
           "P337172",
           "post-canonical",
           7,
           7
          ],
          [
           "sales document (inheritance)",
           "saa14",
           "P451453",
           "Ashurbanipal",
           12,
           12
          ]
         ],
         "hovertemplate": "provenience=Kuyunjik (Nineveh)<br>component 1=%{x}<br>component 2=%{y}<br>subgenre=%{customdata[0]}<br>project=%{customdata[1]}<br>index=%{customdata[2]}<br>date_for_viz=%{customdata[3]}<br>Text_length_partial=%{customdata[4]}<br>Text_length_full=%{customdata[5]}<extra></extra>",
         "legendgroup": "Kuyunjik (Nineveh)",
         "marker": {
          "color": "#EF553B",
          "line": {
           "color": "black",
           "width": 1
          },
          "symbol": "circle"
         },
         "mode": "markers",
         "name": "Kuyunjik (Nineveh)",
         "orientation": "v",
         "showlegend": true,
         "type": "scatter",
         "x": [
          324.3897705078125,
          139.9972381591797,
          -207.15809631347656,
          0.9499861598014832,
          262.666748046875,
          -278.32415771484375,
          -390.91644287109375,
          184.42532348632812,
          187.7440643310547,
          169.1202850341797,
          337.0416564941406,
          336.82470703125,
          317.0502624511719,
          346.00469970703125,
          -16.38385581970215,
          6.290584087371826,
          31.38861656188965,
          304.218994140625,
          -156.2424774169922,
          -69.32003784179688,
          317.3774108886719,
          298.34222412109375,
          356.91912841796875,
          90.1516342163086,
          -175.52316284179688,
          327.6008605957031,
          27.550622940063477,
          210.1703338623047,
          -7.767579078674316,
          24.480558395385742,
          224.3300018310547,
          98.10831451416016,
          208.09951782226562,
          -429.5054016113281,
          353.3710021972656,
          357.9043884277344,
          -149.28736877441406,
          -78.30563354492188,
          -141.0196990966797,
          240.32215881347656,
          155.62474060058594,
          -28.19655990600586,
          24.5384521484375,
          111.94139099121094,
          180.3594207763672,
          180.3594207763672,
          401.738525390625,
          377.58831787109375,
          75.99261474609375,
          -280.0130615234375,
          -93.15133666992188,
          180.3594207763672,
          8.677059173583984,
          -345.4917907714844,
          -265.1444091796875,
          79.83451843261719,
          393.85400390625,
          62.92568588256836,
          -33.79735565185547,
          -16.50448989868164,
          220.4996337890625,
          179.9853515625,
          -374.7782897949219,
          84.4836196899414,
          170.07275390625,
          213.17416381835938,
          180.3594207763672,
          84.72389221191406,
          -98.75910186767578,
          212.1116180419922,
          67.22120666503906,
          396.6864013671875,
          -263.2300109863281,
          79.83451843261719,
          -280.0130615234375,
          209.98855590820312,
          -116.48430633544922,
          388.8041076660156,
          -75.23686218261719,
          -351.3082275390625,
          -192.40708923339844,
          71.8200912475586,
          67.22120666503906,
          -161.5914306640625,
          77.69702911376953,
          180.3594207763672,
          33.18821334838867,
          198.94789123535156,
          -222.6337890625,
          -27.26356315612793,
          316.3863525390625,
          -166.86326599121094,
          221.2866973876953,
          -19.884111404418945,
          194.23809814453125,
          50.28774642944336,
          -135.9642791748047,
          350.1316833496094,
          333.7983703613281,
          203.2644805908203,
          -96.2622299194336,
          343.25079345703125,
          -263.2300109863281,
          286.3118896484375,
          243.15597534179688,
          32.37731170654297,
          198.0088653564453,
          195.3082733154297,
          331.30072021484375,
          282.803955078125,
          -52.26162338256836,
          160.5567626953125,
          246.80221557617188,
          -99.70513153076172,
          230.82073974609375,
          -417.5522766113281,
          192.20140075683594,
          98.14946746826172,
          104.84898376464844,
          274.1133728027344,
          303.6317138671875,
          207.6754608154297,
          35.87065887451172,
          172.71755981445312,
          190.42034912109375,
          34.72761535644531,
          265.5940856933594,
          385.2994689941406,
          19.419261932373047,
          -155.1155548095703,
          -263.2300109863281,
          -57.978275299072266,
          194.13536071777344,
          -246.31271362304688,
          -69.09603118896484,
          -133.45693969726562,
          400.65679931640625,
          220.4996337890625,
          267.7040100097656,
          234.5666046142578,
          35.128578186035156,
          30.993606567382812,
          -85.72740936279297,
          385.4412841796875,
          -362.7061767578125,
          23.462158203125,
          144.8472442626953,
          -69.32003784179688,
          204.0362091064453,
          -41.07332992553711,
          265.23834228515625,
          -43.827919006347656,
          41.86223602294922,
          62.183006286621094,
          -335.51531982421875,
          -27.912471771240234,
          -8.154306411743164,
          273.89312744140625,
          20.410598754882812,
          -341.1778259277344,
          -138.65176391601562,
          -397.2655334472656,
          21.31752586364746,
          -186.22927856445312,
          382.81048583984375,
          263.5576171875,
          -321.7207336425781,
          221.8123016357422,
          191.80201721191406,
          271.6902770996094,
          -292.14251708984375,
          -287.8970642089844,
          177.2611083984375,
          192.05557250976562,
          -189.51536560058594,
          193.08053588867188,
          -336.8929138183594,
          -151.6160125732422,
          -113.02098083496094,
          -329.2188720703125,
          3.6129825115203857,
          231.45635986328125,
          0.9648228287696838,
          -418.72772216796875,
          -116.24143981933594,
          26.182876586914062,
          -398.3235168457031,
          -361.7563171386719,
          -152.27505493164062,
          -425.7576904296875,
          -380.17803955078125,
          -153.51885986328125,
          -164.2894287109375,
          -338.5899353027344,
          272.9257507324219,
          257.99176025390625,
          201.28099060058594,
          393.7538757324219,
          199.00369262695312,
          309.7775573730469,
          262.67120361328125,
          264.8038330078125,
          390.2381591796875,
          -351.6361999511719,
          -2.3940014839172363,
          -10.648900985717773,
          -256.5546569824219,
          34.79045486450195,
          -379.1156311035156,
          53.36912155151367,
          -389.7776184082031,
          59.20934295654297,
          389.60687255859375,
          342.68438720703125,
          -427.5421447753906,
          -369.3437194824219,
          15.907459259033203,
          15.144426345825195,
          -387.4961242675781,
          -88.21751403808594,
          351.9875793457031,
          46.57111358642578,
          192.11058044433594,
          -355.9806213378906,
          -81.13115692138672,
          -190.52096557617188,
          -466.6510925292969,
          -369.0032653808594,
          35.68566131591797,
          342.18585205078125,
          -371.4342346191406,
          -387.4961242675781,
          -62.191566467285156,
          -61.06797790527344,
          186.33741760253906,
          -368.6690979003906,
          61.46941375732422,
          -318.7545166015625,
          285.1030578613281,
          210.1703338623047,
          210.25985717773438,
          -173.44749450683594,
          -385.3381652832031,
          -332.4416198730469,
          52.6673469543457,
          206.26254272460938,
          268.6903381347656,
          -144.27845764160156,
          179.1696014404297,
          -146.5338134765625
         ],
         "xaxis": "x",
         "y": [
          -23.622772216796875,
          12.01323413848877,
          157.87911987304688,
          155.2532958984375,
          22.028593063354492,
          -84.057861328125,
          3.8826980590820312,
          -96.99848937988281,
          58.353275299072266,
          87.52027893066406,
          32.79331970214844,
          49.29880142211914,
          53.185909271240234,
          55.087589263916016,
          122.67404174804688,
          147.003173828125,
          46.08348083496094,
          37.14537811279297,
          72.13063049316406,
          -291.14654541015625,
          60.50706481933594,
          -62.95542907714844,
          46.76700973510742,
          103.03965759277344,
          153.3182830810547,
          45.9580192565918,
          29.842073440551758,
          159.8660430908203,
          124.55709075927734,
          -212.89254760742188,
          136.21363830566406,
          94.41651916503906,
          170.0008544921875,
          -48.28002166748047,
          39.56604766845703,
          16.875011444091797,
          51.42483139038086,
          -245.4763641357422,
          55.44382095336914,
          136.08255004882812,
          19.308977127075195,
          -80.37964630126953,
          -198.97457885742188,
          93.83443450927734,
          150.3120880126953,
          150.3120880126953,
          -43.556068420410156,
          -61.12873458862305,
          -206.86741638183594,
          -116.99996185302734,
          229.052978515625,
          150.3120880126953,
          -88.87467193603516,
          72.43183898925781,
          -91.01132202148438,
          -159.99713134765625,
          -39.31243896484375,
          102.33210754394531,
          -246.8156280517578,
          34.29278564453125,
          -122.8304443359375,
          91.46339416503906,
          -89.7865219116211,
          117.80023956298828,
          103.95710754394531,
          129.2135467529297,
          150.3120880126953,
          -197.57115173339844,
          -284.7306823730469,
          87.25555419921875,
          -204.73434448242188,
          -55.0377082824707,
          -103.36962890625,
          -159.99713134765625,
          -116.99996185302734,
          68.04029846191406,
          180.73553466796875,
          -50.42241668701172,
          -94.60380554199219,
          -89.00540161132812,
          120.52152252197266,
          -194.6422882080078,
          -204.73434448242188,
          124.95877075195312,
          111.03496551513672,
          150.3120880126953,
          -203.4403839111328,
          31.00587272644043,
          147.46414184570312,
          -252.1417694091797,
          -25.19103240966797,
          61.30051040649414,
          145.53822326660156,
          68.44804382324219,
          47.17988586425781,
          97.32453155517578,
          81.21537780761719,
          -62.755306243896484,
          12.963945388793945,
          119.77030181884766,
          212.16001892089844,
          7.602621078491211,
          -103.36962890625,
          -27.63050079345703,
          -1.3416403532028198,
          -193.601806640625,
          129.44517517089844,
          118.67992401123047,
          3.7789793014526367,
          -11.475123405456543,
          -22.203590393066406,
          -111.27011108398438,
          -27.81668472290039,
          204.6675567626953,
          3.076232433319092,
          31.458274841308594,
          38.89655303955078,
          77.68816375732422,
          89.63721466064453,
          -12.376019477844238,
          -55.0643196105957,
          106.74800872802734,
          102.00945281982422,
          -83.82131958007812,
          93.80792236328125,
          57.354190826416016,
          -52.36891174316406,
          20.772687911987305,
          130.5500030517578,
          142.4977569580078,
          -103.36962890625,
          -10.3218994140625,
          -77.13186645507812,
          -96.5982894897461,
          -271.17169189453125,
          65.60406494140625,
          11.400981903076172,
          -122.8304443359375,
          124.91029357910156,
          21.81146240234375,
          122.4906005859375,
          112.02222442626953,
          209.33865356445312,
          1.2424522638320923,
          -39.26606369018555,
          -83.228271484375,
          23.62297248840332,
          -291.14654541015625,
          41.76030349731445,
          74.91985321044922,
          114.77594757080078,
          96.06895446777344,
          113.14429473876953,
          61.16297149658203,
          -83.38655090332031,
          51.17813491821289,
          48.285675048828125,
          114.91619873046875,
          17.430927276611328,
          -78.91890716552734,
          124.91845703125,
          -35.562782287597656,
          40.560264587402344,
          117.3267593383789,
          -80.9394760131836,
          -16.03074073791504,
          7.940779209136963,
          74.0698471069336,
          18.894323348999023,
          17.8782901763916,
          -100.4244384765625,
          -109.06224822998047,
          135.25457763671875,
          -64.75172424316406,
          171.05340576171875,
          -0.2203368842601776,
          -39.669822692871094,
          168.11447143554688,
          221.0555419921875,
          -33.851226806640625,
          -169.49119567871094,
          10.903951644897461,
          132.4664306640625,
          -50.6806640625,
          205.0753936767578,
          -91.60826110839844,
          -15.13974380493164,
          -25.182273864746094,
          135.19728088378906,
          -60.69601058959961,
          -6.190108299255371,
          84.04045867919922,
          135.713623046875,
          -1.6965314149856567,
          -56.493431091308594,
          -50.83972930908203,
          -21.521480560302734,
          21.971128463745117,
          -8.645618438720703,
          20.6431941986084,
          139.90545654296875,
          148.5200653076172,
          -9.517607688903809,
          57.2360725402832,
          -175.61631774902344,
          106.17910766601562,
          -88.1975326538086,
          147.21707153320312,
          -16.16357421875,
          108.74114990234375,
          21.347476959228516,
          114.6719741821289,
          9.908208847045898,
          43.85432815551758,
          5.615806579589844,
          7.386202335357666,
          139.55682373046875,
          113.52458953857422,
          -25.58338737487793,
          198.35069274902344,
          -22.67803382873535,
          122.25636291503906,
          8.277517318725586,
          65.03257751464844,
          -86.08280181884766,
          194.35504150390625,
          -37.40350341796875,
          -14.744938850402832,
          -125.60211944580078,
          65.16664123535156,
          23.551156997680664,
          -25.58338737487793,
          -17.30995750427246,
          -82.27115631103516,
          -106.12774658203125,
          31.370641708374023,
          -121.9102554321289,
          -1.1766778230667114,
          0.20104745030403137,
          159.8660430908203,
          51.118995666503906,
          188.73281860351562,
          -91.83587646484375,
          71.3348159790039,
          50.20749282836914,
          -27.673585891723633,
          6.556540489196777,
          76.54033660888672,
          -57.70521926879883,
          124.88154602050781
         ],
         "yaxis": "y"
        },
        {
         "customdata": [
          [
           "sales document (person, restricted)",
           "assurmisc",
           "P250657",
           "Sargonid period",
           13,
           15
          ],
          [
           "sales document (house)",
           "stat2",
           "P336822",
           "7th century",
           9,
           14
          ],
          [
           "sales document (plot)",
           "stat2",
           "P336823",
           "7th century",
           3,
           8
          ],
          [
           "sales document (house)",
           "stat2",
           "P336861",
           "Sargonid period",
           8,
           14
          ],
          [
           "sales document (field)",
           "stat2",
           "P336868",
           "post-canonical",
           5,
           5
          ],
          [
           "sales document (person)",
           "stat2",
           "P336908",
           "8th century",
           3,
           5
          ],
          [
           "sales document",
           "stat2",
           "P336910",
           "Sargonid period",
           2,
           7
          ],
          [
           "sales document",
           "stat2",
           "P336911",
           "Sargonid period",
           3,
           6
          ],
          [
           "sales document",
           "stat2",
           "P336912",
           "Sargonid period",
           2,
           2
          ],
          [
           "sales document",
           "stat2",
           "P336915",
           "Ashurbanipal",
           5,
           5
          ],
          [
           "sales document",
           "stat2",
           "P336920",
           "Ashurbanipal",
           6,
           7
          ],
          [
           "sales document (person)",
           "stat2",
           "P336921",
           "Ashurbanipal",
           7,
           13
          ],
          [
           "sales document",
           "stat2",
           "P336922",
           "Unknown",
           3,
           3
          ],
          [
           "sales document (person)",
           "stat2",
           "P336925",
           "Unknown",
           2,
           6
          ],
          [
           "sales document",
           "stat2",
           "P336926",
           "Unknown",
           1,
           5
          ],
          [
           "sales document (person)",
           "stat2",
           "P336929",
           "Unknown",
           1,
           11
          ],
          [
           "sales document (person)",
           "stat2",
           "P336932",
           "Unknown",
           2,
           8
          ],
          [
           "sales document (person)",
           "stat2",
           "P336946",
           "7th century",
           1,
           11
          ],
          [
           "sales document (person)",
           "stat2",
           "P336947",
           "Sargonid period",
           6,
           7
          ],
          [
           "sales document (person)",
           "stat2",
           "P336948",
           "Ashurbanipal",
           5,
           5
          ],
          [
           "sales document (person)",
           "stat2",
           "P336949",
           "post-canonical",
           5,
           14
          ],
          [
           "sales document (house)",
           "stat2",
           "P336950",
           "post-canonical",
           5,
           10
          ],
          [
           "sales document (person)",
           "stat2",
           "P336954",
           "post-canonical",
           4,
           14
          ],
          [
           "sales document (person)",
           "stat2",
           "P336966",
           "Sargonid period",
           1,
           3
          ],
          [
           "sales document (person)",
           "stat2",
           "P336977",
           "Ashurbanipal",
           11,
           14
          ],
          [
           "sales document (person)",
           "stat2",
           "P336986",
           "post-canonical",
           8,
           8
          ],
          [
           "sales document (person)",
           "stat2",
           "P336987",
           "post-canonical",
           1,
           8
          ],
          [
           "sales document (person)",
           "stat2",
           "P336988",
           "Ashurbanipal",
           5,
           5
          ],
          [
           "sales document (person)",
           "stat2",
           "P336989",
           "post-canonical",
           8,
           8
          ],
          [
           "sales document (person)",
           "stat2",
           "P336991",
           "post-canonical",
           17,
           17
          ],
          [
           "sales document (field)",
           "stat2",
           "P337015",
           "post-canonical",
           5,
           7
          ],
          [
           "sales document (field)",
           "stat2",
           "P337042",
           "8th century",
           2,
           11
          ],
          [
           "sales document",
           "stat2",
           "P337046",
           "post-canonical",
           5,
           5
          ],
          [
           "sales document (field)",
           "stat2",
           "P337052",
           "post-canonical",
           18,
           28
          ],
          [
           "sales document (field)",
           "stat2",
           "P337064",
           "Unknown",
           3,
           6
          ],
          [
           "sales document (field)",
           "stat2",
           "P337065",
           "8th century",
           2,
           5
          ],
          [
           "sales document (person)",
           "stat2",
           "P337074",
           "Ashurbanipal",
           7,
           27
          ],
          [
           "sales document (person)",
           "stat2",
           "P337075",
           "Ashurbanipal",
           11,
           12
          ],
          [
           "sales document (person)",
           "stat2",
           "P337076",
           "post-canonical",
           8,
           8
          ],
          [
           "sales document (person)",
           "stat2",
           "P337077",
           "Unknown",
           1,
           10
          ],
          [
           "sales document (person)",
           "stat2",
           "P337078",
           "Unknown",
           3,
           14
          ],
          [
           "sales document (person)",
           "stat2",
           "P337079",
           "Ashurbanipal",
           4,
           9
          ],
          [
           "sales document (person)",
           "stat2",
           "P337081",
           "post-canonical",
           3,
           6
          ],
          [
           "sales document",
           "stat2",
           "P337082",
           "Unknown",
           3,
           5
          ],
          [
           "sales document (house)",
           "wvdog152",
           "P514141",
           "Sargonid period",
           2,
           6
          ],
          [
           "sales document (person)",
           "wvdog152",
           "P514153",
           "post-canonical",
           8,
           10
          ],
          [
           "sales document",
           "wvdog152",
           "P514161",
           "post-canonical",
           1,
           4
          ],
          [
           "sales document (person)",
           "wvdog152",
           "P514211",
           "post-canonical",
           4,
           5
          ],
          [
           "sales document (person)",
           "stat3",
           "P514224",
           "post-canonical",
           7,
           16
          ],
          [
           "sales document (person)",
           "stat3",
           "P514229",
           "Unknown",
           2,
           7
          ],
          [
           "sales document (house)",
           "stat3",
           "P514230",
           "8th century",
           2,
           11
          ],
          [
           "sales document (person)",
           "stat3",
           "P514232",
           "Unknown",
           10,
           14
          ],
          [
           "sales document (person)",
           "stat3",
           "P514233",
           "post-canonical",
           5,
           5
          ],
          [
           "sales document (house)",
           "stat3",
           "P514234",
           "8th century",
           2,
           5
          ],
          [
           "sales document (person)",
           "stat3",
           "P514235",
           "Sargonid period",
           7,
           8
          ],
          [
           "sales document (person)",
           "stat3",
           "P514236",
           "Ashurbanipal",
           4,
           13
          ],
          [
           "sales document (person)",
           "stat3",
           "P514239",
           "Unknown",
           3,
           7
          ],
          [
           "sales document (house)",
           "stat3",
           "P514240",
           "Unknown",
           4,
           8
          ],
          [
           "sales document (person)",
           "stat3",
           "P514256",
           "Sargonid period",
           3,
           5
          ],
          [
           "sales document (person)",
           "stat3",
           "P514277",
           "Ashurbanipal",
           4,
           9
          ],
          [
           "sales document (person)",
           "stat3",
           "P514279",
           "Ashurbanipal",
           7,
           8
          ],
          [
           "sales document (house)",
           "stat3",
           "P514287",
           "post-canonical",
           4,
           18
          ],
          [
           "sales document (person)",
           "stat3",
           "P514290",
           "7th century",
           3,
           8
          ],
          [
           "sales document (house)",
           "stat3",
           "P514291",
           "Sargonid period",
           12,
           15
          ],
          [
           "sales document (field)",
           "stat3",
           "P514292",
           "7th century",
           2,
           8
          ],
          [
           "sales document (person)",
           "stat3",
           "P514294",
           "Ashurbanipal",
           3,
           5
          ],
          [
           "sales document (plot)",
           "stat3",
           "P514295",
           "post-canonical",
           14,
           20
          ],
          [
           "sales document (person)",
           "stat3",
           "P514319",
           "Ashurbanipal",
           3,
           7
          ],
          [
           "sales document (inheritance)",
           "stat3",
           "P514321",
           "post-canonical",
           6,
           7
          ],
          [
           "sales document (plot)",
           "stat3",
           "P514322",
           "Ashurbanipal",
           3,
           3
          ],
          [
           "sales document (person)",
           "stat3",
           "P514323",
           "Ashurbanipal",
           6,
           10
          ],
          [
           "sales document (person)",
           "stat3",
           "P514324",
           "Ashurbanipal",
           9,
           9
          ],
          [
           "sales document (person)",
           "stat1",
           "P514477",
           "post-canonical",
           6,
           6
          ],
          [
           "sales document (person)",
           "rfdn17",
           "P522456",
           "Ashurbanipal",
           5,
           5
          ],
          [
           "sales document (person)",
           "rfdn17",
           "P522457",
           "post-canonical",
           4,
           8
          ],
          [
           "sales document (person)",
           "rfdn17",
           "P522458",
           "post-canonical",
           7,
           7
          ],
          [
           "sales document (person)",
           "rfdn17",
           "P522459",
           "Ashurbanipal",
           8,
           8
          ],
          [
           "sales document (person)",
           "rfdn17",
           "P522460",
           "Ashurbanipal",
           6,
           6
          ],
          [
           "sales document (person)",
           "rfdn17",
           "P522461",
           "Sargonid period",
           5,
           5
          ],
          [
           "sales document (person)",
           "rfdn17",
           "P522462",
           "post-canonical",
           8,
           8
          ],
          [
           "sales document (person)",
           "rfdn17",
           "P522463",
           "post-canonical",
           7,
           7
          ],
          [
           "sales document (person)",
           "rfdn17",
           "P522464",
           "Ashurbanipal",
           7,
           7
          ],
          [
           "sales document (house)",
           "rfdn17",
           "P522465",
           "post-canonical",
           12,
           12
          ],
          [
           "sales document (person)",
           "rfdn17",
           "P522466",
           "Ashurbanipal",
           1,
           7
          ],
          [
           "sales document (inheritance)",
           "rfdn17",
           "P522486",
           "Ashurbanipal",
           5,
           9
          ],
          [
           "sales document (inheritance)",
           "saab0509",
           "P528243",
           "7th century",
           5,
           5
          ],
          [
           "sales document (inheritance)",
           "saab0509",
           "P528251",
           "post-canonical",
           10,
           10
          ],
          [
           "sales document (person)",
           "saab0509",
           "P528252",
           "Ashurbanipal",
           4,
           8
          ],
          [
           "sales document (person)",
           "saab0509",
           "P528253",
           "Ashurbanipal",
           10,
           10
          ],
          [
           "sales document (house)",
           "saab0509",
           "P528256",
           "7th century",
           1,
           19
          ],
          [
           "sales document (person)",
           "saab0509",
           "P528257",
           "7th century",
           3,
           9
          ],
          [
           "sales document (plot)",
           "saab0509",
           "P528258",
           "post-canonical",
           4,
           16
          ],
          [
           "sales document (person)",
           "saab0509",
           "P528262",
           "Ashurbanipal",
           6,
           6
          ],
          [
           "sales document (person)",
           "saab0509",
           "P528264",
           "post-canonical",
           6,
           8
          ],
          [
           "sales document (house)",
           "saab0509",
           "P528265",
           "7th century",
           1,
           3
          ],
          [
           "sales document (person)",
           "saab0509",
           "P528266",
           "post-canonical",
           8,
           8
          ],
          [
           "sales document (person)",
           "saab0509",
           "P528267",
           "post-canonical",
           4,
           7
          ],
          [
           "sales document (inheritance)",
           "saab0509",
           "P528275",
           "post-canonical",
           9,
           9
          ],
          [
           "sales document (plot)",
           "saab0509",
           "P528277",
           "7th century",
           2,
           15
          ],
          [
           "sales document (person)",
           "saab0509",
           "P528278",
           "Ashurbanipal",
           4,
           5
          ],
          [
           "sales document (plot)",
           "saab0509",
           "P528282",
           "post-canonical",
           10,
           10
          ],
          [
           "sales document (person)",
           "saab0509",
           "P528284",
           "post-canonical",
           10,
           10
          ],
          [
           "sales document (person)",
           "saab0509",
           "P528295",
           "Unknown",
           4,
           10
          ],
          [
           "sales document (house)",
           "saab0509",
           "P528296",
           "Sargonid period",
           9,
           9
          ],
          [
           "sales document (house)",
           "saab0509",
           "P528298",
           "Sargonid period",
           5,
           5
          ],
          [
           "sales document (person)",
           "saab0509",
           "P528299",
           "post-canonical",
           7,
           12
          ],
          [
           "sales document (person)",
           "saab0509",
           "P528300",
           "post-canonical",
           2,
           10
          ],
          [
           "sales document (person)",
           "saab0509",
           "P528301",
           "post-canonical",
           5,
           8
          ],
          [
           "sales document (house)",
           "saab0509",
           "P528304",
           "Ashurbanipal",
           2,
           2
          ],
          [
           "sales document (field)",
           "saab0509",
           "P528322",
           "Ashurbanipal",
           5,
           13
          ],
          [
           "sales document (person)",
           "saab0509",
           "P528332",
           "post-canonical",
           6,
           7
          ],
          [
           "sales document (person)",
           "saab0509",
           "P528342",
           "post-canonical",
           1,
           5
          ],
          [
           "sales document (person)",
           "saab0509",
           "P528347",
           "Ashurbanipal",
           3,
           7
          ],
          [
           "sales document (person)",
           "saab0509",
           "P528350",
           "Ashurbanipal",
           10,
           10
          ],
          [
           "sales document (person)",
           "saab0509",
           "P528355",
           "Ashurbanipal",
           9,
           18
          ]
         ],
         "hovertemplate": "provenience=Qalat Sherqat (Assur)<br>component 1=%{x}<br>component 2=%{y}<br>subgenre=%{customdata[0]}<br>project=%{customdata[1]}<br>index=%{customdata[2]}<br>date_for_viz=%{customdata[3]}<br>Text_length_partial=%{customdata[4]}<br>Text_length_full=%{customdata[5]}<extra></extra>",
         "legendgroup": "Qalat Sherqat (Assur)",
         "marker": {
          "color": "#00cc96",
          "line": {
           "color": "black",
           "width": 1
          },
          "symbol": "circle"
         },
         "mode": "markers",
         "name": "Qalat Sherqat (Assur)",
         "orientation": "v",
         "showlegend": true,
         "type": "scatter",
         "x": [
          170.16395568847656,
          -341.1356506347656,
          -410.9422607421875,
          -350.48077392578125,
          15.916882514953613,
          -53.066978454589844,
          -329.26397705078125,
          -401.4470520019531,
          -80.62055206298828,
          47.602821350097656,
          39.259544372558594,
          -22.289016723632812,
          -92.88752746582031,
          -358.9009704589844,
          -387.4961242675781,
          -332.4416198730469,
          43.34946060180664,
          -387.4961242675781,
          -1.5865305662155151,
          67.78713989257812,
          -113.79304504394531,
          45.46617889404297,
          -28.512632369995117,
          -81.13115692138672,
          -30.203311920166016,
          15.680695533752441,
          -419.0732727050781,
          55.65170669555664,
          -29.758153915405273,
          1.4401559829711914,
          -50.120628356933594,
          -387.4961242675781,
          -103.88482666015625,
          -41.66639709472656,
          -31.53398895263672,
          -95.47618865966797,
          -112.62630462646484,
          -23.50251579284668,
          -115.06074523925781,
          -373.0560302734375,
          -268.3168640136719,
          30.498031616210938,
          -340.3336181640625,
          -23.297386169433594,
          220.4996337890625,
          -173.30929565429688,
          -67.51832580566406,
          10.085132598876953,
          -0.8915936946868896,
          43.34946060180664,
          -330.3185119628906,
          240.05970764160156,
          185.06643676757812,
          -81.68070220947266,
          329.0465087890625,
          -88.56609344482422,
          -42.33935546875,
          177.1824188232422,
          -108.21956634521484,
          200.637939453125,
          307.4580383300781,
          -123.85818481445312,
          -45.67770767211914,
          176.757568359375,
          -74.19171905517578,
          -153.55718994140625,
          167.6632080078125,
          -36.28003692626953,
          356.8400573730469,
          197.02142333984375,
          2.8540117740631104,
          308.2090148925781,
          318.8880310058594,
          23.459096908569336,
          -0.6726320385932922,
          25.179340362548828,
          -8.83128547668457,
          -11.074057579040527,
          49.2678337097168,
          29.198259353637695,
          -18.524606704711914,
          37.22053909301758,
          -37.6655387878418,
          -397.224365234375,
          -3.8519976139068604,
          176.05545043945312,
          150.05484008789062,
          -83.39911651611328,
          -68.61695861816406,
          -373.2873840332031,
          -359.5882263183594,
          -336.11199951171875,
          156.13026428222656,
          -76.29154205322266,
          -389.6111755371094,
          -107.80239868164062,
          -95.9652099609375,
          -101.3875961303711,
          -80.90664672851562,
          -83.09061431884766,
          148.837646484375,
          -91.51455688476562,
          -412.2751159667969,
          169.4266357421875,
          -123.8651351928711,
          162.16554260253906,
          -428.9862365722656,
          180.99436950683594,
          220.4996337890625,
          -94.8061294555664,
          -85.07568359375,
          -387.4961242675781,
          -457.8810119628906,
          146.40103149414062,
          149.2150421142578
         ],
         "xaxis": "x",
         "y": [
          2.082604169845581,
          17.331518173217773,
          -34.35026931762695,
          -1.0898445844650269,
          -183.83114624023438,
          -70.01673889160156,
          -0.16895624995231628,
          -25.19991111755371,
          -259.65997314453125,
          -143.99244689941406,
          -148.82142639160156,
          -164.86190795898438,
          -251.95449829101562,
          -90.8987045288086,
          -25.58338737487793,
          71.3348159790039,
          -218.83444213867188,
          -25.58338737487793,
          -151.9955596923828,
          -186.47967529296875,
          -219.06521606445312,
          -132.10208129882812,
          -90.09869384765625,
          -86.08280181884766,
          -149.44186401367188,
          -130.98007202148438,
          37.69440841674805,
          -141.5929412841797,
          -174.0663604736328,
          -131.20314025878906,
          -80.61117553710938,
          -25.58338737487793,
          -214.9853057861328,
          -145.9856414794922,
          -62.155792236328125,
          -267.6652526855469,
          -250.30528259277344,
          -154.51344299316406,
          -231.0692138671875,
          -48.62529754638672,
          -82.32388305664062,
          -174.02285766601562,
          -31.291812896728516,
          -241.17901611328125,
          -122.8304443359375,
          140.99554443359375,
          -304.9892578125,
          43.667938232421875,
          31.941408157348633,
          -218.83444213867188,
          60.25164031982422,
          110.07595825195312,
          -120.1667709350586,
          -268.5490417480469,
          -47.21378707885742,
          -274.1466369628906,
          -107.3882064819336,
          -91.43773651123047,
          211.2305145263672,
          -87.11109161376953,
          -15.836746215820312,
          -236.76248168945312,
          -70.38543701171875,
          55.56602096557617,
          -68.62312316894531,
          62.35613250732422,
          -72.33961486816406,
          -82.52084350585938,
          25.561607360839844,
          -107.75459289550781,
          44.57804489135742,
          -8.706337928771973,
          1.154629111289978,
          -167.798828125,
          -198.6383514404297,
          -128.1520233154297,
          -146.0558624267578,
          -159.3873748779297,
          -152.62796020507812,
          -142.0466766357422,
          -176.56822204589844,
          -138.76303100585938,
          -163.32479858398438,
          -91.8393783569336,
          -163.834228515625,
          -116.36888885498047,
          -72.60816192626953,
          -219.1708221435547,
          -220.6832733154297,
          -25.65910530090332,
          -82.42234802246094,
          7.5739922523498535,
          -86.96226501464844,
          -231.21743774414062,
          -10.902310371398926,
          -243.6197509765625,
          -240.015869140625,
          -224.77716064453125,
          -299.7983703613281,
          -236.60231018066406,
          -105.8440170288086,
          -226.71694946289062,
          -58.58854293823242,
          -60.42597579956055,
          -227.17837524414062,
          -101.15464782714844,
          -1.1591917276382446,
          -130.65142822265625,
          -122.8304443359375,
          -215.85939025878906,
          -201.84664916992188,
          -25.58338737487793,
          -19.13859748840332,
          -59.85270690917969,
          -94.3255386352539
         ],
         "yaxis": "y"
        },
        {
         "customdata": [
          [
           "sales document (person)",
           "huzirina",
           "P338308",
           "7th century",
           1,
           7
          ]
         ],
         "hovertemplate": "provenience=Sultantepe (Huzirina)<br>component 1=%{x}<br>component 2=%{y}<br>subgenre=%{customdata[0]}<br>project=%{customdata[1]}<br>index=%{customdata[2]}<br>date_for_viz=%{customdata[3]}<br>Text_length_partial=%{customdata[4]}<br>Text_length_full=%{customdata[5]}<extra></extra>",
         "legendgroup": "Sultantepe (Huzirina)",
         "marker": {
          "color": "#ab63fa",
          "line": {
           "color": "black",
           "width": 1
          },
          "symbol": "circle"
         },
         "mode": "markers",
         "name": "Sultantepe (Huzirina)",
         "orientation": "v",
         "showlegend": true,
         "type": "scatter",
         "x": [
          -484.43023681640625
         ],
         "xaxis": "x",
         "y": [
          -9.94802474975586
         ],
         "yaxis": "y"
        },
        {
         "customdata": [
          [
           "sales document (person)",
           "mallanate",
           "P342654",
           "Ashurbanipal",
           5,
           7
          ],
          [
           "sales document (person)",
           "mallanate",
           "P522850",
           "Sargonid period",
           5,
           5
          ],
          [
           "sales document (person)",
           "mallanate",
           "P522851",
           "Sargonid period",
           5,
           5
          ],
          [
           "sales document (person)",
           "mallanate",
           "P522852",
           "Sargonid period",
           5,
           5
          ],
          [
           "sales document (person)",
           "mallanate",
           "P522853",
           "Sargonid period",
           8,
           8
          ],
          [
           "sales document (person)",
           "mallanate",
           "P522854",
           "Sargonid period",
           7,
           8
          ],
          [
           "sales document (person)",
           "mallanate",
           "P522855",
           "Sargonid period",
           5,
           5
          ],
          [
           "sales document (person)",
           "mallanate",
           "P522856",
           "Sargonid period",
           5,
           5
          ],
          [
           "sales document (person)",
           "mallanate",
           "P522857",
           "Sargonid period",
           12,
           12
          ],
          [
           "sales document (field)",
           "mallanate",
           "P522859",
           "Sargonid period",
           9,
           9
          ],
          [
           "sales document (field)",
           "mallanate",
           "P522861",
           "Sargonid period",
           7,
           7
          ],
          [
           "sales document (field)",
           "mallanate",
           "P522869",
           "Ashurbanipal",
           4,
           11
          ],
          [
           "sales document (person)",
           "mallanate",
           "P522881",
           "Ashurbanipal",
           10,
           10
          ],
          [
           "sales document (person)",
           "mallanate",
           "P522882",
           "Ashurbanipal",
           3,
           12
          ],
          [
           "sales document (plot)",
           "mallanate",
           "P522883",
           "7th century",
           2,
           6
          ]
         ],
         "hovertemplate": "provenience=unknown (Ma'allanate)<br>component 1=%{x}<br>component 2=%{y}<br>subgenre=%{customdata[0]}<br>project=%{customdata[1]}<br>index=%{customdata[2]}<br>date_for_viz=%{customdata[3]}<br>Text_length_partial=%{customdata[4]}<br>Text_length_full=%{customdata[5]}<extra></extra>",
         "legendgroup": "unknown (Ma'allanate)",
         "marker": {
          "color": "#FFA15A",
          "line": {
           "color": "black",
           "width": 1
          },
          "symbol": "circle"
         },
         "mode": "markers",
         "name": "unknown (Ma'allanate)",
         "orientation": "v",
         "showlegend": true,
         "type": "scatter",
         "x": [
          20.131229400634766,
          84.4836196899414,
          371.477783203125,
          401.2372131347656,
          185.57777404785156,
          33.78339385986328,
          329.8782043457031,
          180.3594207763672,
          237.43128967285156,
          -3.86692214012146,
          -16.06390953063965,
          -222.8840789794922,
          260.3349304199219,
          -393.8716125488281,
          -463.8709716796875
         ],
         "xaxis": "x",
         "y": [
          49.82686996459961,
          117.80023956298828,
          -66.87628173828125,
          -35.183921813964844,
          68.6395263671875,
          18.958877563476562,
          30.632049560546875,
          150.3120880126953,
          -31.19199562072754,
          78.7158203125,
          147.2958221435547,
          164.72186279296875,
          -38.946956634521484,
          -81.02490997314453,
          -10.547727584838867
         ],
         "yaxis": "y"
        },
        {
         "customdata": [
          [
           "sales document (person)",
           "marqasu",
           "P522546",
           "Sargonid period",
           9,
           9
          ],
          [
           "sales document (person)",
           "marqasu",
           "P522547",
           "Sargonid period",
           4,
           5
          ],
          [
           "sales document (person)",
           "marqasu",
           "P522548",
           "7th century",
           7,
           9
          ],
          [
           "sales document (person)",
           "marqasu",
           "P522549",
           "post-canonical",
           36,
           36
          ],
          [
           "sales document (person)",
           "marqasu",
           "P522553",
           "Ashurbanipal",
           10,
           10
          ],
          [
           "sales document (person)",
           "marqasu",
           "P522555",
           "post-canonical",
           11,
           11
          ],
          [
           "sales document (person)",
           "marqasu",
           "P522559",
           "post-canonical",
           8,
           8
          ],
          [
           "sales document (person)",
           "marqasu",
           "P522560",
           "Sargonid period",
           2,
           5
          ],
          [
           "sales document (person)",
           "marqasu",
           "P522562",
           "Sargonid period",
           10,
           10
          ],
          [
           "sales document (person)",
           "marqasu",
           "P522563",
           "Ashurbanipal",
           2,
           5
          ],
          [
           "sales document (garden)",
           "marqasu",
           "P522566",
           "Ashurbanipal",
           12,
           12
          ],
          [
           "sales document (field)",
           "marqasu",
           "P522567",
           "Ashurbanipal",
           5,
           5
          ],
          [
           "sales document (person)",
           "marqasu",
           "P522568",
           "Ashurbanipal",
           11,
           11
          ],
          [
           "sales document (person)",
           "marqasu",
           "P522572",
           "Sargonid period",
           5,
           5
          ],
          [
           "sales document (field)",
           "marqasu",
           "P522573",
           "Sargonid period",
           5,
           5
          ],
          [
           "sales document (person)",
           "marqasu",
           "P522576",
           "Ashurbanipal",
           5,
           5
          ],
          [
           "sales document (person)",
           "marqasu",
           "P522577",
           "Ashurbanipal",
           7,
           7
          ]
         ],
         "hovertemplate": "provenience=Kahramanmaraş  (Marqasu)<br>component 1=%{x}<br>component 2=%{y}<br>subgenre=%{customdata[0]}<br>project=%{customdata[1]}<br>index=%{customdata[2]}<br>date_for_viz=%{customdata[3]}<br>Text_length_partial=%{customdata[4]}<br>Text_length_full=%{customdata[5]}<extra></extra>",
         "legendgroup": "Kahramanmaraş  (Marqasu)",
         "marker": {
          "color": "#19d3f3",
          "line": {
           "color": "black",
           "width": 1
          },
          "symbol": "circle"
         },
         "mode": "markers",
         "name": "Kahramanmaraş  (Marqasu)",
         "orientation": "v",
         "showlegend": true,
         "type": "scatter",
         "x": [
          277.3909606933594,
          367.0770568847656,
          289.2290344238281,
          181.50543212890625,
          178.64073181152344,
          220.2727508544922,
          323.9279479980469,
          43.34946060180664,
          173.81947326660156,
          43.34946060180664,
          197.94500732421875,
          271.10211181640625,
          210.5734100341797,
          381.4743347167969,
          395.0534362792969,
          240.32215881347656,
          187.37045288085938
         ],
         "xaxis": "x",
         "y": [
          30.893749237060547,
          23.028894424438477,
          22.853076934814453,
          5.427030563354492,
          102.96980285644531,
          4.911388874053955,
          -71.16088104248047,
          -218.83444213867188,
          82.0337142944336,
          -218.83444213867188,
          69.67361450195312,
          142.19407653808594,
          77.39588165283203,
          -68.73220825195312,
          2.0086610317230225,
          136.08255004882812,
          76.88793182373047
         ],
         "yaxis": "y"
        },
        {
         "customdata": [
          [
           "sales document (person)",
           "tilbarsip",
           "P522599",
           "Ashurbanipal",
           4,
           5
          ],
          [
           "sales document (person)",
           "tilbarsip",
           "P522604",
           "Ashurbanipal",
           5,
           5
          ]
         ],
         "hovertemplate": "provenience=Tell Ahmar (Til Barsip)<br>component 1=%{x}<br>component 2=%{y}<br>subgenre=%{customdata[0]}<br>project=%{customdata[1]}<br>index=%{customdata[2]}<br>date_for_viz=%{customdata[3]}<br>Text_length_partial=%{customdata[4]}<br>Text_length_full=%{customdata[5]}<extra></extra>",
         "legendgroup": "Tell Ahmar (Til Barsip)",
         "marker": {
          "color": "#FF6692",
          "line": {
           "color": "black",
           "width": 1
          },
          "symbol": "circle"
         },
         "mode": "markers",
         "name": "Tell Ahmar (Til Barsip)",
         "orientation": "v",
         "showlegend": true,
         "type": "scatter",
         "x": [
          59.17653274536133,
          210.1703338623047
         ],
         "xaxis": "x",
         "y": [
          -150.77272033691406,
          159.8660430908203
         ],
         "yaxis": "y"
        },
        {
         "customdata": [
          [
           "sales document (person)",
           "burmarina",
           "P522614",
           "Sargonid period",
           1,
           5
          ],
          [
           "sales document (person)",
           "burmarina",
           "P522617",
           "Sargonid period",
           2,
           7
          ],
          [
           "sales document",
           "burmarina",
           "P522618",
           "Sargonid period",
           11,
           25
          ],
          [
           "sales document (person)",
           "burmarina",
           "P522619",
           "Sargonid period",
           2,
           22
          ],
          [
           "sales document",
           "burmarina",
           "P522620",
           "Sargonid period",
           2,
           4
          ],
          [
           "sales document (field)",
           "burmarina",
           "P522621",
           "Sargonid period",
           1,
           7
          ]
         ],
         "hovertemplate": "provenience=Tell Shiukh Fawqani (Burmarina)<br>component 1=%{x}<br>component 2=%{y}<br>subgenre=%{customdata[0]}<br>project=%{customdata[1]}<br>index=%{customdata[2]}<br>date_for_viz=%{customdata[3]}<br>Text_length_partial=%{customdata[4]}<br>Text_length_full=%{customdata[5]}<extra></extra>",
         "legendgroup": "Tell Shiukh Fawqani (Burmarina)",
         "marker": {
          "color": "#B6E880",
          "line": {
           "color": "black",
           "width": 1
          },
          "symbol": "circle"
         },
         "mode": "markers",
         "name": "Tell Shiukh Fawqani (Burmarina)",
         "orientation": "v",
         "showlegend": true,
         "type": "scatter",
         "x": [
          -397.224365234375,
          41.564517974853516,
          203.3973846435547,
          -159.4050750732422,
          -80.90664672851562,
          -80.90664672851562
         ],
         "xaxis": "x",
         "y": [
          -91.8393783569336,
          64.20506286621094,
          -101.07184600830078,
          54.504032135009766,
          -299.7983703613281,
          -299.7983703613281
         ],
         "yaxis": "y"
        },
        {
         "customdata": [
          [
           "sales document (person)",
           "samal",
           "P522658",
           "Sargonid period",
           5,
           5
          ]
         ],
         "hovertemplate": "provenience=Zinčirli (Samal)<br>component 1=%{x}<br>component 2=%{y}<br>subgenre=%{customdata[0]}<br>project=%{customdata[1]}<br>index=%{customdata[2]}<br>date_for_viz=%{customdata[3]}<br>Text_length_partial=%{customdata[4]}<br>Text_length_full=%{customdata[5]}<extra></extra>",
         "legendgroup": "Zinčirli (Samal)",
         "marker": {
          "color": "#FF97FF",
          "line": {
           "color": "black",
           "width": 1
          },
          "symbol": "circle"
         },
         "mode": "markers",
         "name": "Zinčirli (Samal)",
         "orientation": "v",
         "showlegend": true,
         "type": "scatter",
         "x": [
          215.98875427246094
         ],
         "xaxis": "x",
         "y": [
          137.28025817871094
         ],
         "yaxis": "y"
        },
        {
         "customdata": [
          [
           "sales document (field)",
           "imgurenlil",
           "P522826",
           "8th century",
           4,
           4
          ],
          [
           "lease document (field)",
           "imgurenlil",
           "P522827",
           "7th century",
           6,
           8
          ],
          [
           "lease document (field)",
           "imgurenlil",
           "P522830",
           "Unknown",
           1,
           5
          ],
          [
           "sales document (person)",
           "imgurenlil",
           "P522841",
           "Sargonid period",
           14,
           14
          ],
          [
           "sales document (person)",
           "imgurenlil",
           "P522842",
           "Sargonid period",
           5,
           5
          ],
          [
           "sales document (field)",
           "imgurenlil",
           "P522846",
           "Sargonid period",
           11,
           12
          ]
         ],
         "hovertemplate": "provenience=Balawat (Imgur-Enlil)<br>component 1=%{x}<br>component 2=%{y}<br>subgenre=%{customdata[0]}<br>project=%{customdata[1]}<br>index=%{customdata[2]}<br>date_for_viz=%{customdata[3]}<br>Text_length_partial=%{customdata[4]}<br>Text_length_full=%{customdata[5]}<extra></extra>",
         "legendgroup": "Balawat (Imgur-Enlil)",
         "marker": {
          "color": "#FECB52",
          "line": {
           "color": "black",
           "width": 1
          },
          "symbol": "circle"
         },
         "mode": "markers",
         "name": "Balawat (Imgur-Enlil)",
         "orientation": "v",
         "showlegend": true,
         "type": "scatter",
         "x": [
          23.097257614135742,
          55.244911193847656,
          -329.2188720703125,
          -48.61512756347656,
          318.2584533691406,
          -26.564533233642578
         ],
         "xaxis": "x",
         "y": [
          147.554443359375,
          -118.85916137695312,
          -33.851226806640625,
          88.45654296875,
          -9.410725593566895,
          38.95167541503906
         ],
         "yaxis": "y"
        },
        {
         "customdata": [
          [
           "sales document (person)",
           "durkatlimmu",
           "P527129",
           "Ashurbanipal",
           7,
           8
          ],
          [
           "sales document (field)",
           "durkatlimmu",
           "P527133",
           "Sargonid period",
           6,
           7
          ],
          [
           "sales document (person)",
           "durkatlimmu",
           "P527134",
           "Ashurbanipal",
           2,
           7
          ],
          [
           "sales document (house)",
           "durkatlimmu",
           "P527136",
           "Ashurbanipal",
           5,
           7
          ],
          [
           "sales document",
           "durkatlimmu",
           "P527140",
           "Sargonid period",
           1,
           2
          ],
          [
           "sales document (person)",
           "durkatlimmu",
           "P527143",
           "Ashurbanipal",
           7,
           7
          ],
          [
           "sales document (person)",
           "durkatlimmu",
           "P527144",
           "post-canonical",
           1,
           5
          ],
          [
           "sales document (person)",
           "durkatlimmu",
           "P527151",
           "Ashurbanipal",
           4,
           7
          ],
          [
           "sales document (field)",
           "durkatlimmu",
           "P527154",
           "post-canonical",
           10,
           10
          ],
          [
           "sales document (person)",
           "durkatlimmu",
           "P527155",
           "post-canonical",
           1,
           8
          ],
          [
           "sales document (house)",
           "durkatlimmu",
           "P527156",
           "post-canonical",
           7,
           7
          ],
          [
           "sales document (person)",
           "durkatlimmu",
           "P527159",
           "7th century",
           3,
           5
          ],
          [
           "sales document (field)",
           "durkatlimmu",
           "P527162",
           "Nebuchadnezzar II",
           7,
           7
          ],
          [
           "sales document (field)",
           "durkatlimmu",
           "P527163",
           "Nebuchadnezzar II",
           11,
           11
          ],
          [
           "sales document (field)",
           "durkatlimmu",
           "P527164",
           "Nebuchadnezzar II",
           7,
           7
          ],
          [
           "sales document (field)",
           "durkatlimmu",
           "P527165",
           "Nebuchadnezzar II",
           11,
           11
          ],
          [
           "sales document (person)",
           "durkatlimmu",
           "P527167",
           "Ashurbanipal",
           1,
           7
          ],
          [
           "sales document (garden)",
           "durkatlimmu",
           "P527168",
           "Ashurbanipal",
           7,
           7
          ],
          [
           "sales document (person)",
           "durkatlimmu",
           "P527169",
           "Ashurbanipal",
           7,
           7
          ],
          [
           "sales document (person)",
           "durkatlimmu",
           "P527170",
           "Ashurbanipal",
           5,
           7
          ],
          [
           "sales document (person)",
           "durkatlimmu",
           "P527171",
           "Ashurbanipal",
           1,
           2
          ],
          [
           "sales document (person)",
           "durkatlimmu",
           "P527172",
           "Ashurbanipal",
           7,
           7
          ],
          [
           "sales document (field)",
           "durkatlimmu",
           "P527173",
           "Ashurbanipal",
           10,
           10
          ],
          [
           "sales document (person)",
           "durkatlimmu",
           "P527174",
           "Ashurbanipal",
           3,
           7
          ],
          [
           "sales document (person)",
           "durkatlimmu",
           "P527175",
           "Ashurbanipal",
           6,
           12
          ],
          [
           "sales document (garden)",
           "durkatlimmu",
           "P527176",
           "Ashurbanipal",
           1,
           7
          ],
          [
           "sales document (person)",
           "durkatlimmu",
           "P527177",
           "Ashurbanipal",
           9,
           11
          ],
          [
           "sales document (person)",
           "durkatlimmu",
           "P527178",
           "Ashurbanipal",
           7,
           7
          ],
          [
           "sales document (person)",
           "durkatlimmu",
           "P527179",
           "Ashurbanipal",
           9,
           9
          ],
          [
           "sales document (field)",
           "durkatlimmu",
           "P527180",
           "Ashurbanipal",
           3,
           7
          ],
          [
           "sales document (person)",
           "durkatlimmu",
           "P527181",
           "Ashurbanipal",
           5,
           8
          ],
          [
           "sales document (field)",
           "durkatlimmu",
           "P527182",
           "Ashurbanipal",
           5,
           9
          ],
          [
           "sales document (person)",
           "durkatlimmu",
           "P527183",
           "Ashurbanipal",
           7,
           12
          ],
          [
           "sales document (person)",
           "durkatlimmu",
           "P527184",
           "Ashurbanipal",
           6,
           8
          ],
          [
           "sales document (person)",
           "durkatlimmu",
           "P527185",
           "Ashurbanipal",
           7,
           7
          ],
          [
           "sales document (person)",
           "durkatlimmu",
           "P527186",
           "Ashurbanipal",
           1,
           4
          ],
          [
           "sales document (person)",
           "durkatlimmu",
           "P527187",
           "Ashurbanipal",
           3,
           5
          ],
          [
           "sales document (person)",
           "durkatlimmu",
           "P527188",
           "Ashurbanipal",
           7,
           7
          ],
          [
           "sales document (person)",
           "durkatlimmu",
           "P527189",
           "Ashurbanipal",
           11,
           11
          ],
          [
           "sales document (person)",
           "durkatlimmu",
           "P527190",
           "Ashurbanipal",
           7,
           7
          ],
          [
           "sales document (person)",
           "durkatlimmu",
           "P527191",
           "Ashurbanipal",
           7,
           7
          ],
          [
           "sales document (person)",
           "durkatlimmu",
           "P527192",
           "Ashurbanipal",
           3,
           7
          ],
          [
           "sales document (field)",
           "durkatlimmu",
           "P527195",
           "Ashurbanipal",
           1,
           9
          ],
          [
           "sales document (person)",
           "durkatlimmu",
           "P527197",
           "Ashurbanipal",
           1,
           7
          ],
          [
           "sales document (person)",
           "durkatlimmu",
           "P527200",
           "7th century",
           8,
           9
          ],
          [
           "sales document (person)",
           "durkatlimmu",
           "P527203",
           "7th century",
           1,
           7
          ],
          [
           "sales document (field)",
           "durkatlimmu",
           "P527205",
           "7th century",
           1,
           6
          ],
          [
           "sales document (house)",
           "durkatlimmu",
           "P527208",
           "7th century",
           1,
           7
          ],
          [
           "sales document (person)",
           "durkatlimmu",
           "P527210",
           "7th century",
           6,
           7
          ],
          [
           "sales document (person)",
           "durkatlimmu",
           "P527211",
           "7th century",
           1,
           9
          ],
          [
           "sales document (field)",
           "durkatlimmu",
           "P527213",
           "7th century",
           11,
           19
          ],
          [
           "sales document (person)",
           "durkatlimmu",
           "P527214",
           "7th century",
           6,
           10
          ],
          [
           "sales document (person)",
           "durkatlimmu",
           "P527215",
           "7th century",
           2,
           12
          ],
          [
           "sales document (person)",
           "durkatlimmu",
           "P527216",
           "7th century",
           3,
           7
          ],
          [
           "sales document (field)",
           "durkatlimmu",
           "P527218",
           "7th century",
           5,
           10
          ],
          [
           "sales document (field)",
           "durkatlimmu",
           "P527219",
           "7th century",
           8,
           9
          ],
          [
           "sales document (person)",
           "durkatlimmu",
           "P527222",
           "7th century",
           3,
           5
          ],
          [
           "sales document (person)",
           "durkatlimmu",
           "P527224",
           "Ashurbanipal",
           1,
           7
          ],
          [
           "sales document (field)",
           "durkatlimmu",
           "P527232",
           "Sargonid period",
           2,
           5
          ],
          [
           "sales document (field)",
           "durkatlimmu",
           "P527238",
           "Sargonid period",
           2,
           7
          ],
          [
           "sales document (field)",
           "durkatlimmu",
           "P527241",
           "9th century",
           1,
           2
          ],
          [
           "sales document (person)",
           "durkatlimmu",
           "P527244",
           "Sargonid period",
           5,
           5
          ],
          [
           "sales document (field)",
           "durkatlimmu",
           "P527245",
           "7th century",
           3,
           4
          ],
          [
           "sales document (house)",
           "durkatlimmu",
           "P527246",
           "Sargonid period",
           6,
           7
          ],
          [
           "sales document (field)",
           "durkatlimmu",
           "P527247",
           "7th century",
           3,
           7
          ],
          [
           "sales document (person)",
           "durkatlimmu",
           "P527249",
           "Sargonid period",
           1,
           4
          ],
          [
           "sales document (field)",
           "durkatlimmu",
           "P527250",
           "Ashurbanipal",
           1,
           7
          ],
          [
           "sales document (field)",
           "durkatlimmu",
           "P527252",
           "Sargonid period",
           6,
           7
          ],
          [
           "sales document (garden)",
           "durkatlimmu",
           "P527253",
           "7th century",
           1,
           4
          ],
          [
           "sales document (garden)",
           "durkatlimmu",
           "P527255",
           "Sargonid period",
           5,
           7
          ],
          [
           "sales document (field)",
           "durkatlimmu",
           "P527257",
           "Sargonid period",
           5,
           7
          ],
          [
           "sales document",
           "durkatlimmu",
           "P527258",
           "Sargonid period",
           6,
           6
          ],
          [
           "sales document (person)",
           "durkatlimmu",
           "P527261",
           "Ashurbanipal",
           3,
           5
          ],
          [
           "sales document",
           "durkatlimmu",
           "P527265",
           "Ashurbanipal",
           2,
           7
          ],
          [
           "sales document (field)",
           "durkatlimmu",
           "P527269",
           "Ashurbanipal",
           3,
           8
          ],
          [
           "sales document",
           "durkatlimmu",
           "P527273",
           "post-canonical",
           1,
           5
          ],
          [
           "sales document (person)",
           "durkatlimmu",
           "P527281",
           "7th century",
           4,
           7
          ],
          [
           "sales document (field)",
           "durkatlimmu",
           "P527286",
           "7th century",
           6,
           7
          ],
          [
           "sales document (person)",
           "durkatlimmu",
           "P527288",
           "7th century",
           1,
           4
          ],
          [
           "sales document",
           "durkatlimmu",
           "P527292",
           "7th century",
           4,
           10
          ],
          [
           "sales document (field)",
           "durkatlimmu",
           "P527294",
           "post-canonical",
           2,
           6
          ],
          [
           "sales document (person)",
           "durkatlimmu",
           "P527298",
           "7th century",
           2,
           9
          ],
          [
           "sales document (person)",
           "durkatlimmu",
           "P527299",
           "7th century",
           2,
           7
          ],
          [
           "sales document (person)",
           "durkatlimmu",
           "P527300",
           "7th century",
           3,
           7
          ],
          [
           "sales document (field)",
           "durkatlimmu",
           "P527301",
           "Ashurbanipal",
           1,
           7
          ],
          [
           "sales document (person)",
           "durkatlimmu",
           "P527302",
           "7th century",
           2,
           7
          ],
          [
           "sales document (field, person)",
           "durkatlimmu",
           "P527305",
           "7th century",
           7,
           12
          ],
          [
           "sales document (field)",
           "durkatlimmu",
           "P527306",
           "7th century",
           1,
           6
          ],
          [
           "sales document (person)",
           "durkatlimmu",
           "P527309",
           "7th century",
           1,
           7
          ],
          [
           "sales document (person)",
           "durkatlimmu",
           "P527311",
           "7th century",
           2,
           7
          ],
          [
           "sales document (field)",
           "durkatlimmu",
           "P527313",
           "7th century",
           4,
           7
          ],
          [
           "sales document",
           "durkatlimmu",
           "P527314",
           "Sargonid period",
           1,
           2
          ],
          [
           "sales document (person)",
           "durkatlimmu",
           "P527316",
           "7th century",
           1,
           5
          ]
         ],
         "hovertemplate": "provenience=Tell Sheikh Hamad (Dur-Katlimmu)<br>component 1=%{x}<br>component 2=%{y}<br>subgenre=%{customdata[0]}<br>project=%{customdata[1]}<br>index=%{customdata[2]}<br>date_for_viz=%{customdata[3]}<br>Text_length_partial=%{customdata[4]}<br>Text_length_full=%{customdata[5]}<extra></extra>",
         "legendgroup": "Tell Sheikh Hamad (Dur-Katlimmu)",
         "marker": {
          "color": "#636efa",
          "line": {
           "color": "black",
           "width": 1
          },
          "symbol": "circle"
         },
         "mode": "markers",
         "name": "Tell Sheikh Hamad (Dur-Katlimmu)",
         "orientation": "v",
         "showlegend": true,
         "type": "scatter",
         "x": [
          217.73863220214844,
          233.9137420654297,
          -270.6770935058594,
          16.439117431640625,
          -204.05758666992188,
          244.3019256591797,
          -423.4250183105469,
          341.4410705566406,
          -123.63905334472656,
          -473.96026611328125,
          342.47100830078125,
          -211.28431701660156,
          371.69110107421875,
          242.19154357910156,
          342.42767333984375,
          380.58062744140625,
          -425.7576904296875,
          294.8822326660156,
          222.7032928466797,
          223.59410095214844,
          -206.7928009033203,
          348.85638427734375,
          286.9530944824219,
          -48.986202239990234,
          -15.061325073242188,
          -75.23686218261719,
          351.81024169921875,
          361.4438781738281,
          374.2212829589844,
          370.7084045410156,
          149.22572326660156,
          36.06511688232422,
          213.2382049560547,
          11.504887580871582,
          341.96533203125,
          -80.90664672851562,
          -26.832067489624023,
          331.68609619140625,
          356.5476379394531,
          356.5476379394531,
          346.0977783203125,
          -48.59294128417969,
          -470.01129150390625,
          -470.01129150390625,
          339.3371276855469,
          -385.8287353515625,
          -67.51832580566406,
          -405.7269592285156,
          230.40280151367188,
          -486.5838317871094,
          238.67820739746094,
          154.5054931640625,
          -323.9770812988281,
          18.825124740600586,
          -229.21946716308594,
          318.52374267578125,
          32.37731170654297,
          -425.7576904296875,
          -397.141357421875,
          43.34946060180664,
          -80.90664672851562,
          214.09471130371094,
          195.53912353515625,
          165.1011505126953,
          -139.4358673095703,
          -196.2716064453125,
          -478.5780334472656,
          184.24343872070312,
          -411.331298828125,
          240.03599548339844,
          193.60459899902344,
          205.94334411621094,
          -184.5971221923828,
          -206.43475341796875,
          45.8306999206543,
          -387.4961242675781,
          -67.82510375976562,
          334.407958984375,
          -318.7545166015625,
          -211.21849060058594,
          -88.97013092041016,
          -273.2940979003906,
          -228.27308654785156,
          -21.158483505249023,
          -263.2300109863281,
          -52.3879280090332,
          9.380328178405762,
          -385.678466796875,
          -67.51832580566406,
          -228.27308654785156,
          47.402591705322266,
          -67.51832580566406,
          -478.4952697753906
         ],
         "xaxis": "x",
         "y": [
          116.62454986572266,
          167.08338928222656,
          -119.1302261352539,
          64.72605895996094,
          212.73214721679688,
          118.56111145019531,
          -24.475500106811523,
          22.138870239257812,
          186.24713134765625,
          -8.507275581359863,
          -70.96212005615234,
          165.04574584960938,
          -3.3826794624328613,
          27.362709045410156,
          -13.495248794555664,
          8.672467231750488,
          -60.69601058959961,
          -47.00532531738281,
          169.0448455810547,
          125.72473907470703,
          221.33824157714844,
          -47.03374481201172,
          -45.47840881347656,
          -100.80754852294922,
          -184.99073791503906,
          -94.60380554199219,
          -12.995664596557617,
          -76.0204849243164,
          -75.85233306884766,
          35.71636199951172,
          14.090381622314453,
          36.28679275512695,
          -76.8747329711914,
          57.343624114990234,
          -22.248380661010742,
          -299.7983703613281,
          -69.78285217285156,
          -68.40888977050781,
          -39.36275863647461,
          -39.36275863647461,
          -38.62022018432617,
          -59.800926208496094,
          -21.471328735351562,
          -21.471328735351562,
          -51.017127990722656,
          -57.13401412963867,
          -304.9892578125,
          -1.5715614557266235,
          156.19862365722656,
          -21.584667205810547,
          -9.052960395812988,
          4.021487236022949,
          -15.619427680969238,
          -93.14363098144531,
          189.8789520263672,
          18.195011138916016,
          -193.601806640625,
          -60.69601058959961,
          -46.82575988769531,
          -218.83444213867188,
          -299.7983703613281,
          -89.15814208984375,
          -124.14656829833984,
          -123.67945098876953,
          136.64842224121094,
          216.3623809814453,
          -28.224119186401367,
          -78.52815246582031,
          -15.2906494140625,
          161.87001037597656,
          -96.346923828125,
          -110.23436737060547,
          157.70852661132812,
          187.599853515625,
          -200.07696533203125,
          -25.58338737487793,
          -239.90243530273438,
          -77.08485412597656,
          -1.1766778230667114,
          148.8910369873047,
          -262.2204284667969,
          -92.74695587158203,
          200.992919921875,
          -104.06365203857422,
          -103.36962890625,
          -107.7391357421875,
          19.674901962280273,
          -41.64947509765625,
          -304.9892578125,
          200.992919921875,
          -190.61460876464844,
          -304.9892578125,
          -17.012187957763672
         ],
         "yaxis": "y"
        },
        {
         "customdata": [
          [
           "sales document (person)",
           "guzana",
           "P527420",
           "post-canonical",
           4,
           10
          ],
          [
           "sales document (person)",
           "guzana",
           "X214103",
           "8th century",
           6,
           14
          ]
         ],
         "hovertemplate": "provenience=Tell Halaf (Guzana)<br>component 1=%{x}<br>component 2=%{y}<br>subgenre=%{customdata[0]}<br>project=%{customdata[1]}<br>index=%{customdata[2]}<br>date_for_viz=%{customdata[3]}<br>Text_length_partial=%{customdata[4]}<br>Text_length_full=%{customdata[5]}<extra></extra>",
         "legendgroup": "Tell Halaf (Guzana)",
         "marker": {
          "color": "#EF553B",
          "line": {
           "color": "black",
           "width": 1
          },
          "symbol": "circle"
         },
         "mode": "markers",
         "name": "Tell Halaf (Guzana)",
         "orientation": "v",
         "showlegend": true,
         "type": "scatter",
         "x": [
          -105.16388702392578,
          6.158959865570068
         ],
         "xaxis": "x",
         "y": [
          -256.7720642089844,
          -154.83248901367188
         ],
         "yaxis": "y"
        }
       ],
       "layout": {
        "legend": {
         "title": {
          "text": "provenience"
         },
         "tracegroupgap": 0
        },
        "margin": {
         "t": 60
        },
        "template": {
         "data": {
          "bar": [
           {
            "error_x": {
             "color": "#2a3f5f"
            },
            "error_y": {
             "color": "#2a3f5f"
            },
            "marker": {
             "line": {
              "color": "#E5ECF6",
              "width": 0.5
             },
             "pattern": {
              "fillmode": "overlay",
              "size": 10,
              "solidity": 0.2
             }
            },
            "type": "bar"
           }
          ],
          "barpolar": [
           {
            "marker": {
             "line": {
              "color": "#E5ECF6",
              "width": 0.5
             },
             "pattern": {
              "fillmode": "overlay",
              "size": 10,
              "solidity": 0.2
             }
            },
            "type": "barpolar"
           }
          ],
          "carpet": [
           {
            "aaxis": {
             "endlinecolor": "#2a3f5f",
             "gridcolor": "white",
             "linecolor": "white",
             "minorgridcolor": "white",
             "startlinecolor": "#2a3f5f"
            },
            "baxis": {
             "endlinecolor": "#2a3f5f",
             "gridcolor": "white",
             "linecolor": "white",
             "minorgridcolor": "white",
             "startlinecolor": "#2a3f5f"
            },
            "type": "carpet"
           }
          ],
          "choropleth": [
           {
            "colorbar": {
             "outlinewidth": 0,
             "ticks": ""
            },
            "type": "choropleth"
           }
          ],
          "contour": [
           {
            "colorbar": {
             "outlinewidth": 0,
             "ticks": ""
            },
            "colorscale": [
             [
              0,
              "#0d0887"
             ],
             [
              0.1111111111111111,
              "#46039f"
             ],
             [
              0.2222222222222222,
              "#7201a8"
             ],
             [
              0.3333333333333333,
              "#9c179e"
             ],
             [
              0.4444444444444444,
              "#bd3786"
             ],
             [
              0.5555555555555556,
              "#d8576b"
             ],
             [
              0.6666666666666666,
              "#ed7953"
             ],
             [
              0.7777777777777778,
              "#fb9f3a"
             ],
             [
              0.8888888888888888,
              "#fdca26"
             ],
             [
              1,
              "#f0f921"
             ]
            ],
            "type": "contour"
           }
          ],
          "contourcarpet": [
           {
            "colorbar": {
             "outlinewidth": 0,
             "ticks": ""
            },
            "type": "contourcarpet"
           }
          ],
          "heatmap": [
           {
            "colorbar": {
             "outlinewidth": 0,
             "ticks": ""
            },
            "colorscale": [
             [
              0,
              "#0d0887"
             ],
             [
              0.1111111111111111,
              "#46039f"
             ],
             [
              0.2222222222222222,
              "#7201a8"
             ],
             [
              0.3333333333333333,
              "#9c179e"
             ],
             [
              0.4444444444444444,
              "#bd3786"
             ],
             [
              0.5555555555555556,
              "#d8576b"
             ],
             [
              0.6666666666666666,
              "#ed7953"
             ],
             [
              0.7777777777777778,
              "#fb9f3a"
             ],
             [
              0.8888888888888888,
              "#fdca26"
             ],
             [
              1,
              "#f0f921"
             ]
            ],
            "type": "heatmap"
           }
          ],
          "heatmapgl": [
           {
            "colorbar": {
             "outlinewidth": 0,
             "ticks": ""
            },
            "colorscale": [
             [
              0,
              "#0d0887"
             ],
             [
              0.1111111111111111,
              "#46039f"
             ],
             [
              0.2222222222222222,
              "#7201a8"
             ],
             [
              0.3333333333333333,
              "#9c179e"
             ],
             [
              0.4444444444444444,
              "#bd3786"
             ],
             [
              0.5555555555555556,
              "#d8576b"
             ],
             [
              0.6666666666666666,
              "#ed7953"
             ],
             [
              0.7777777777777778,
              "#fb9f3a"
             ],
             [
              0.8888888888888888,
              "#fdca26"
             ],
             [
              1,
              "#f0f921"
             ]
            ],
            "type": "heatmapgl"
           }
          ],
          "histogram": [
           {
            "marker": {
             "pattern": {
              "fillmode": "overlay",
              "size": 10,
              "solidity": 0.2
             }
            },
            "type": "histogram"
           }
          ],
          "histogram2d": [
           {
            "colorbar": {
             "outlinewidth": 0,
             "ticks": ""
            },
            "colorscale": [
             [
              0,
              "#0d0887"
             ],
             [
              0.1111111111111111,
              "#46039f"
             ],
             [
              0.2222222222222222,
              "#7201a8"
             ],
             [
              0.3333333333333333,
              "#9c179e"
             ],
             [
              0.4444444444444444,
              "#bd3786"
             ],
             [
              0.5555555555555556,
              "#d8576b"
             ],
             [
              0.6666666666666666,
              "#ed7953"
             ],
             [
              0.7777777777777778,
              "#fb9f3a"
             ],
             [
              0.8888888888888888,
              "#fdca26"
             ],
             [
              1,
              "#f0f921"
             ]
            ],
            "type": "histogram2d"
           }
          ],
          "histogram2dcontour": [
           {
            "colorbar": {
             "outlinewidth": 0,
             "ticks": ""
            },
            "colorscale": [
             [
              0,
              "#0d0887"
             ],
             [
              0.1111111111111111,
              "#46039f"
             ],
             [
              0.2222222222222222,
              "#7201a8"
             ],
             [
              0.3333333333333333,
              "#9c179e"
             ],
             [
              0.4444444444444444,
              "#bd3786"
             ],
             [
              0.5555555555555556,
              "#d8576b"
             ],
             [
              0.6666666666666666,
              "#ed7953"
             ],
             [
              0.7777777777777778,
              "#fb9f3a"
             ],
             [
              0.8888888888888888,
              "#fdca26"
             ],
             [
              1,
              "#f0f921"
             ]
            ],
            "type": "histogram2dcontour"
           }
          ],
          "mesh3d": [
           {
            "colorbar": {
             "outlinewidth": 0,
             "ticks": ""
            },
            "type": "mesh3d"
           }
          ],
          "parcoords": [
           {
            "line": {
             "colorbar": {
              "outlinewidth": 0,
              "ticks": ""
             }
            },
            "type": "parcoords"
           }
          ],
          "pie": [
           {
            "automargin": true,
            "type": "pie"
           }
          ],
          "scatter": [
           {
            "fillpattern": {
             "fillmode": "overlay",
             "size": 10,
             "solidity": 0.2
            },
            "type": "scatter"
           }
          ],
          "scatter3d": [
           {
            "line": {
             "colorbar": {
              "outlinewidth": 0,
              "ticks": ""
             }
            },
            "marker": {
             "colorbar": {
              "outlinewidth": 0,
              "ticks": ""
             }
            },
            "type": "scatter3d"
           }
          ],
          "scattercarpet": [
           {
            "marker": {
             "colorbar": {
              "outlinewidth": 0,
              "ticks": ""
             }
            },
            "type": "scattercarpet"
           }
          ],
          "scattergeo": [
           {
            "marker": {
             "colorbar": {
              "outlinewidth": 0,
              "ticks": ""
             }
            },
            "type": "scattergeo"
           }
          ],
          "scattergl": [
           {
            "marker": {
             "colorbar": {
              "outlinewidth": 0,
              "ticks": ""
             }
            },
            "type": "scattergl"
           }
          ],
          "scattermapbox": [
           {
            "marker": {
             "colorbar": {
              "outlinewidth": 0,
              "ticks": ""
             }
            },
            "type": "scattermapbox"
           }
          ],
          "scatterpolar": [
           {
            "marker": {
             "colorbar": {
              "outlinewidth": 0,
              "ticks": ""
             }
            },
            "type": "scatterpolar"
           }
          ],
          "scatterpolargl": [
           {
            "marker": {
             "colorbar": {
              "outlinewidth": 0,
              "ticks": ""
             }
            },
            "type": "scatterpolargl"
           }
          ],
          "scatterternary": [
           {
            "marker": {
             "colorbar": {
              "outlinewidth": 0,
              "ticks": ""
             }
            },
            "type": "scatterternary"
           }
          ],
          "surface": [
           {
            "colorbar": {
             "outlinewidth": 0,
             "ticks": ""
            },
            "colorscale": [
             [
              0,
              "#0d0887"
             ],
             [
              0.1111111111111111,
              "#46039f"
             ],
             [
              0.2222222222222222,
              "#7201a8"
             ],
             [
              0.3333333333333333,
              "#9c179e"
             ],
             [
              0.4444444444444444,
              "#bd3786"
             ],
             [
              0.5555555555555556,
              "#d8576b"
             ],
             [
              0.6666666666666666,
              "#ed7953"
             ],
             [
              0.7777777777777778,
              "#fb9f3a"
             ],
             [
              0.8888888888888888,
              "#fdca26"
             ],
             [
              1,
              "#f0f921"
             ]
            ],
            "type": "surface"
           }
          ],
          "table": [
           {
            "cells": {
             "fill": {
              "color": "#EBF0F8"
             },
             "line": {
              "color": "white"
             }
            },
            "header": {
             "fill": {
              "color": "#C8D4E3"
             },
             "line": {
              "color": "white"
             }
            },
            "type": "table"
           }
          ]
         },
         "layout": {
          "annotationdefaults": {
           "arrowcolor": "#2a3f5f",
           "arrowhead": 0,
           "arrowwidth": 1
          },
          "autotypenumbers": "strict",
          "coloraxis": {
           "colorbar": {
            "outlinewidth": 0,
            "ticks": ""
           }
          },
          "colorscale": {
           "diverging": [
            [
             0,
             "#8e0152"
            ],
            [
             0.1,
             "#c51b7d"
            ],
            [
             0.2,
             "#de77ae"
            ],
            [
             0.3,
             "#f1b6da"
            ],
            [
             0.4,
             "#fde0ef"
            ],
            [
             0.5,
             "#f7f7f7"
            ],
            [
             0.6,
             "#e6f5d0"
            ],
            [
             0.7,
             "#b8e186"
            ],
            [
             0.8,
             "#7fbc41"
            ],
            [
             0.9,
             "#4d9221"
            ],
            [
             1,
             "#276419"
            ]
           ],
           "sequential": [
            [
             0,
             "#0d0887"
            ],
            [
             0.1111111111111111,
             "#46039f"
            ],
            [
             0.2222222222222222,
             "#7201a8"
            ],
            [
             0.3333333333333333,
             "#9c179e"
            ],
            [
             0.4444444444444444,
             "#bd3786"
            ],
            [
             0.5555555555555556,
             "#d8576b"
            ],
            [
             0.6666666666666666,
             "#ed7953"
            ],
            [
             0.7777777777777778,
             "#fb9f3a"
            ],
            [
             0.8888888888888888,
             "#fdca26"
            ],
            [
             1,
             "#f0f921"
            ]
           ],
           "sequentialminus": [
            [
             0,
             "#0d0887"
            ],
            [
             0.1111111111111111,
             "#46039f"
            ],
            [
             0.2222222222222222,
             "#7201a8"
            ],
            [
             0.3333333333333333,
             "#9c179e"
            ],
            [
             0.4444444444444444,
             "#bd3786"
            ],
            [
             0.5555555555555556,
             "#d8576b"
            ],
            [
             0.6666666666666666,
             "#ed7953"
            ],
            [
             0.7777777777777778,
             "#fb9f3a"
            ],
            [
             0.8888888888888888,
             "#fdca26"
            ],
            [
             1,
             "#f0f921"
            ]
           ]
          },
          "colorway": [
           "#636efa",
           "#EF553B",
           "#00cc96",
           "#ab63fa",
           "#FFA15A",
           "#19d3f3",
           "#FF6692",
           "#B6E880",
           "#FF97FF",
           "#FECB52"
          ],
          "font": {
           "color": "#2a3f5f"
          },
          "geo": {
           "bgcolor": "white",
           "lakecolor": "white",
           "landcolor": "#E5ECF6",
           "showlakes": true,
           "showland": true,
           "subunitcolor": "white"
          },
          "hoverlabel": {
           "align": "left"
          },
          "hovermode": "closest",
          "mapbox": {
           "style": "light"
          },
          "paper_bgcolor": "white",
          "plot_bgcolor": "#E5ECF6",
          "polar": {
           "angularaxis": {
            "gridcolor": "white",
            "linecolor": "white",
            "ticks": ""
           },
           "bgcolor": "#E5ECF6",
           "radialaxis": {
            "gridcolor": "white",
            "linecolor": "white",
            "ticks": ""
           }
          },
          "scene": {
           "xaxis": {
            "backgroundcolor": "#E5ECF6",
            "gridcolor": "white",
            "gridwidth": 2,
            "linecolor": "white",
            "showbackground": true,
            "ticks": "",
            "zerolinecolor": "white"
           },
           "yaxis": {
            "backgroundcolor": "#E5ECF6",
            "gridcolor": "white",
            "gridwidth": 2,
            "linecolor": "white",
            "showbackground": true,
            "ticks": "",
            "zerolinecolor": "white"
           },
           "zaxis": {
            "backgroundcolor": "#E5ECF6",
            "gridcolor": "white",
            "gridwidth": 2,
            "linecolor": "white",
            "showbackground": true,
            "ticks": "",
            "zerolinecolor": "white"
           }
          },
          "shapedefaults": {
           "line": {
            "color": "#2a3f5f"
           }
          },
          "ternary": {
           "aaxis": {
            "gridcolor": "white",
            "linecolor": "white",
            "ticks": ""
           },
           "baxis": {
            "gridcolor": "white",
            "linecolor": "white",
            "ticks": ""
           },
           "bgcolor": "#E5ECF6",
           "caxis": {
            "gridcolor": "white",
            "linecolor": "white",
            "ticks": ""
           }
          },
          "title": {
           "x": 0.05
          },
          "xaxis": {
           "automargin": true,
           "gridcolor": "white",
           "linecolor": "white",
           "ticks": "",
           "title": {
            "standoff": 15
           },
           "zerolinecolor": "white",
           "zerolinewidth": 2
          },
          "yaxis": {
           "automargin": true,
           "gridcolor": "white",
           "linecolor": "white",
           "ticks": "",
           "title": {
            "standoff": 15
           },
           "zerolinecolor": "white",
           "zerolinewidth": 2
          }
         }
        },
        "xaxis": {
         "anchor": "y",
         "domain": [
          0,
          1
         ],
         "title": {
          "text": "component 1"
         }
        },
        "yaxis": {
         "anchor": "x",
         "domain": [
          0,
          1
         ],
         "title": {
          "text": "component 2"
         }
        }
       }
      },
      "text/html": [
       "<div>                            <div id=\"60a6121f-9133-4e68-a30b-fd8c6bd9ce4c\" class=\"plotly-graph-div\" style=\"height:525px; width:100%;\"></div>            <script type=\"text/javascript\">                require([\"plotly\"], function(Plotly) {                    window.PLOTLYENV=window.PLOTLYENV || {};                                    if (document.getElementById(\"60a6121f-9133-4e68-a30b-fd8c6bd9ce4c\")) {                    Plotly.newPlot(                        \"60a6121f-9133-4e68-a30b-fd8c6bd9ce4c\",                        [{\"customdata\":[[\"sales document (garden)\",\"ctn2\",\"P224504\",\"8th century\",8,8],[\"sales document\",\"ctn2\",\"P224505\",\"8th century\",3,4],[\"sales document (person)\",\"ctn2\",\"P224506\",\"8th century\",3,4],[\"sales document (field)\",\"ctn2\",\"P224516\",\"8th century\",8,14],[\"sales document (field)\",\"ctn2\",\"P224523\",\"8th century\",8,8],[\"sales document (field)\",\"ctn2\",\"P224526\",\"8th century\",8,8],[\"sales document (plot)\",\"ctn2\",\"P224531\",\"8th century\",4,8],[\"sales document (field)\",\"ctn2\",\"P224561\",\"8th century\",7,14],[\"sales document (person)\",\"ctn2\",\"P224562\",\"8th century\",4,4],[\"sales document (house)\",\"ctn2\",\"P224570\",\"8th century\",8,8],[\"sales document (field)\",\"ctn2\",\"P224571\",\"8th century\",7,9],[\"sales document (field)\",\"ctn2\",\"P224594\",\"8th century\",6,48],[\"sales document (field)\",\"ctn2\",\"P224595\",\"8th century\",1,6],[\"sales document (person)\",\"ctn2\",\"P224600\",\"8th century\",1,10],[\"sales document (field)\",\"ctn2\",\"P224609\",\"8th century\",2,4],[\"sales document (person)\",\"ctn2\",\"P224623\",\"post-canonical\",2,6],[\"sales document (field)\",\"ctn2\",\"P224638\",\"8th century\",3,11],[\"sales document (field)\",\"ctn2\",\"P224641\",\"8th century\",3,18],[\"sales document (person)\",\"ctn3\",\"P225178\",\"post-canonical\",5,5],[\"sales document (person)\",\"ctn3\",\"P225179\",\"post-canonical\",6,6],[\"sales document (person)\",\"ctn3\",\"P225180\",\"post-canonical\",3,8],[\"sales document (person)\",\"ctn3\",\"P225193\",\"post-canonical\",4,8],[\"sales document (person)\",\"ctn3\",\"P225194\",\"post-canonical\",6,8],[\"sales document (person)\",\"ctn3\",\"P225195\",\"post-canonical\",1,5],[\"sales document (person)\",\"ctn3\",\"P225196\",\"post-canonical\",4,7],[\"sales document (garden)\",\"ctn3\",\"P225199\",\"post-canonical\",9,10],[\"sales document (field)\",\"ctn3\",\"P225200\",\"post-canonical\",7,9],[\"sales document (plot)\",\"ctn3\",\"P225201\",\"Ashurbanipal\",7,15],[\"sales document (field)\",\"ctn3\",\"P225202\",\"Ashurbanipal\",7,7],[\"sales document (house)\",\"ctn3\",\"P225203\",\"post-canonical\",4,5],[\"sales document (field)\",\"ctn3\",\"P225210\",\"8th century\",19,28],[\"sales document (field)\",\"ctn3\",\"P225211\",\"8th century\",2,4],[\"sales document (person)\",\"ctn6\",\"P336733\",\"7th century\",1,7],[\"sales document (field)\",\"ctn2\",\"P428793\",\"8th century\",4,4],[\"sales document (field)\",\"ctn2\",\"P428794\",\"8th century\",4,8],[\"sales document (field)\",\"ctn2\",\"P428795\",\"8th century\",3,8],[\"sales document (field)\",\"ctn2\",\"P428806\",\"8th century\",3,13],[\"sales document (person)\",\"ctn2\",\"P428808\",\"8th century\",5,7],[\"sales document (person)\",\"ctn2\",\"P428809\",\"8th century\",3,6],[\"sales document (person)\",\"ctn2\",\"P428812\",\"8th century\",2,8],[\"sales document (plot)\",\"ctn2\",\"P428813\",\"8th century\",6,10],[\"sales document (field)\",\"ctn2\",\"P428817\",\"8th century\",13,19],[\"sales document (plot)\",\"ctn2\",\"P428823\",\"8th century\",4,14],[\"sales document (house)\",\"ctn2\",\"P428824\",\"8th century\",6,11],[\"sales document (house)\",\"ctn2\",\"P428832\",\"8th century\",5,5],[\"sales document (person)\",\"ctn2\",\"P428861\",\"8th century\",1,7],[\"sales document (field)\",\"ctn2\",\"P428868\",\"8th century\",4,10],[\"sales document (person)\",\"ctn6\",\"P428990\",\"Ashurbanipal\",11,11],[\"sales document (person)\",\"ctn6\",\"P428991\",\"post-canonical\",4,7],[\"sales document (person)\",\"ctn6\",\"P428999\",\"Ashurbanipal\",4,7],[\"sales document (person)\",\"ctn6\",\"P429007\",\"post-canonical\",4,7],[\"sales document (person)\",\"ctn2\",\"P468987\",\"9th century\",4,4],[\"sales document (field)\",\"ctn2\",\"P469182\",\"8th century\",8,8],[\"sales document (field)\",\"ctn2\",\"P469183\",\"8th century\",6,6],[\"sales document (field)\",\"ctn2\",\"P469184\",\"8th century\",6,9],[\"sales document (house)\",\"ctn6\",\"P469390\",\"post-canonical\",2,5],[\"sales document (person)\",\"ctn6\",\"P496499\",\"Ashurbanipal\",7,7],[\"sales document (person)\",\"ctn6\",\"P496503\",\"Ashurbanipal\",5,5],[\"sales document (person)\",\"ctn6\",\"P496505\",\"Ashurbanipal\",10,10],[\"sales document (house)\",\"ctn6\",\"P496518\",\"Ashurbanipal\",7,8],[\"sales document (person)\",\"ctn6\",\"P496520\",\"post-canonical\",6,9],[\"sales document (person)\",\"ctn6\",\"P496521\",\"Ashurbanipal\",8,8],[\"sales document (person)\",\"ctn6\",\"P498857\",\"Ashurbanipal\",13,14],[\"sales document (person)\",\"ctn6\",\"P517136\",\"post-canonical\",3,5],[\"sales document (person)\",\"ctn6\",\"P517141\",\"Ashurbanipal\",10,10],[\"sales document (person)\",\"ctn6\",\"P517142\",\"post-canonical\",8,8],[\"sales document (person)\",\"ctn6\",\"P517179\",\"Unknown\",5,9],[\"sales document (person)\",\"edubba10\",\"P522491\",\"8th century\",7,7],[\"sales document (person)\",\"edubba10\",\"P522492\",\"8th century\",8,8],[\"sales document (person)\",\"edubba10\",\"P522493\",\"8th century\",3,4],[\"sales document (person)\",\"edubba10\",\"P522494\",\"8th century\",7,7],[\"sales document (person)\",\"edubba10\",\"P522495\",\"8th century\",3,4],[\"sales document (person)\",\"edubba10\",\"P522496\",\"8th century\",11,11],[\"sales document (person)\",\"edubba10\",\"P522497\",\"8th century\",9,9],[\"sales document (person)\",\"edubba10\",\"P522498\",\"8th century\",3,4],[\"sales document (person)\",\"edubba10\",\"P522500\",\"8th century\",1,4],[\"sales document (person)\",\"edubba10\",\"P522502\",\"8th century\",6,6],[\"sales document (house)\",\"edubba10\",\"P522505\",\"8th century\",6,6],[\"sales document (house)\",\"edubba10\",\"P522506\",\"8th century\",5,5],[\"sales document (person)\",\"edubba10\",\"P522508\",\"8th century\",5,5],[\"sales document (house)\",\"edubba10\",\"P522511\",\"8th century\",4,7],[\"sales document (field)\",\"edubba10\",\"P522515\",\"8th century\",12,22],[\"sales document (field)\",\"edubba10\",\"P522516\",\"8th century\",4,10],[\"sales document (field)\",\"edubba10\",\"P522517\",\"8th century\",10,14],[\"sales document (field)\",\"edubba10\",\"P522518\",\"8th century\",2,9],[\"sales document (person)\",\"edubba10\",\"P522519\",\"8th century\",21,21],[\"sales document (house)\",\"edubba10\",\"P522520\",\"8th century\",7,9],[\"sales document (field)\",\"edubba10\",\"P522521\",\"8th century\",8,9],[\"sales document (house)\",\"edubba10\",\"P522523\",\"8th century\",6,7],[\"sales document (house)\",\"edubba10\",\"P522525\",\"8th century\",4,4],[\"sales document (field)\",\"edubba10\",\"P522526\",\"8th century\",3,4],[\"sales document (field)\",\"edubba10\",\"P522527\",\"8th century\",8,8],[\"sales document (field)\",\"edubba10\",\"P522528\",\"8th century\",4,4],[\"sales document (field)\",\"edubba10\",\"P522529\",\"8th century\",9,9],[\"sales document (field)\",\"edubba10\",\"P522530\",\"8th century\",7,8],[\"sales document (field)\",\"edubba10\",\"P522531\",\"8th century\",7,14],[\"sales document (person)\",\"edubba10\",\"P522532\",\"8th century\",6,13],[\"sales document (field)\",\"edubba10\",\"P522533\",\"8th century\",4,5],[\"sales document (field)\",\"edubba10\",\"P522534\",\"8th century\",2,10],[\"sales document (field)\",\"edubba10\",\"P522536\",\"8th century\",14,20],[\"sales document (person)\",\"edubba10\",\"P522537\",\"8th century\",6,7],[\"sales document (plot)\",\"edubba10\",\"P522538\",\"8th century\",6,6]],\"hovertemplate\":\"provenience=Nimrud (Kalhu)<br>component 1=%{x}<br>component 2=%{y}<br>subgenre=%{customdata[0]}<br>project=%{customdata[1]}<br>index=%{customdata[2]}<br>date_for_viz=%{customdata[3]}<br>Text_length_partial=%{customdata[4]}<br>Text_length_full=%{customdata[5]}<extra></extra>\",\"legendgroup\":\"Nimrud (Kalhu)\",\"marker\":{\"color\":\"#636efa\",\"symbol\":\"circle\",\"line\":{\"color\":\"black\",\"width\":1}},\"mode\":\"markers\",\"name\":\"Nimrud (Kalhu)\",\"orientation\":\"v\",\"showlegend\":true,\"x\":[-138.4817352294922,-215.84849548339844,-43.89090347290039,-128.70114135742188,9.448579788208008,1.0628410577774048,-58.41444396972656,-73.58528900146484,-139.44619750976562,-15.920778274536133,-93.9452133178711,-171.97802734375,-337.43780517578125,-332.4416198730469,-392.03253173828125,-206.43475341796875,-343.8105773925781,-182.6099090576172,211.04910278320312,310.9106140136719,8.655130386352539,-146.91065979003906,242.5487060546875,-75.23686218261719,357.9043884277344,353.9127197265625,289.5853271484375,296.0354919433594,373.2344970703125,175.17950439453125,-48.59546661376953,-181.75604248046875,-397.224365234375,27.246068954467773,-66.1829605102539,-337.8282470703125,-178.38101196289062,-94.68262481689453,-171.6768035888672,43.34946060180664,-122.2718734741211,-103.7408447265625,-51.33955001831055,-64.29533386230469,-146.92047119140625,-199.96835327148438,-118.21464538574219,221.02110290527344,3.9339759349823,38.227989196777344,46.91659164428711,-130.2173309326172,5.4987969398498535,-83.27650451660156,-159.3054962158203,-278.9749755859375,240.32215881347656,206.68798828125,247.78994750976562,-14.338316917419434,14.415253639221191,256.2142028808594,247.0191650390625,-23.297386169433594,280.16278076171875,313.62249755859375,36.713138580322266,-149.34950256347656,-208.20484924316406,-130.0955352783203,182.11793518066406,-140.05355834960938,-120.76087951660156,-192.3944549560547,-189.8247833251953,-191.46511840820312,-102.05580139160156,11.649831771850586,-114.41032409667969,-115.63176727294922,-200.00323486328125,-133.54698181152344,-88.21751403808594,-81.52137756347656,-377.09942626953125,-33.83018493652344,-102.6863021850586,41.86223602294922,-89.80764770507812,-130.0955352783203,53.16569519042969,4.604987144470215,23.097257614135742,-3.3032822608947754,-104.81273651123047,-136.94252014160156,-108.48686218261719,187.1845245361328,-366.3857727050781,-39.413570404052734,-7.848847389221191,-53.78925323486328],\"xaxis\":\"x\",\"y\":[198.95619201660156,156.92730712890625,-27.448545455932617,167.11607360839844,101.43954467773438,101.22029113769531,-32.91670608520508,177.6462860107422,223.96604919433594,76.05305480957031,165.03273010253906,163.25389099121094,-69.84648895263672,71.3348159790039,14.019144058227539,187.599853515625,63.28707504272461,181.67442321777344,144.88148498535156,13.421029090881348,-202.6124267578125,68.2530288696289,149.78741455078125,-94.60380554199219,16.875011444091797,5.151002407073975,-65.83937072753906,13.765130996704102,-11.042709350585938,-103.08649444580078,74.669921875,206.92440795898438,-91.8393783569336,138.63653564453125,-63.406158447265625,54.38167953491211,168.62767028808594,190.28253173828125,176.3136749267578,-218.83444213867188,156.70982360839844,177.45877075195312,-36.32633590698242,-41.440765380859375,177.4489288330078,226.75816345214844,192.64352416992188,-3.313023090362549,-210.10289001464844,-178.8170928955078,33.44905471801758,221.5684814453125,111.44044494628906,184.5926971435547,164.82984924316406,-100.68004608154297,136.08255004882812,137.23556518554688,109.8179702758789,59.24696350097656,32.548194885253906,-28.913137435913086,7.04416561126709,-241.17901611328125,-34.195640563964844,34.00101852416992,26.820951461791992,156.7835235595703,137.8772735595703,231.4579620361328,-66.65605163574219,233.32566833496094,146.33938598632812,143.43679809570312,182.61129760742188,223.63339233398438,221.4783477783203,156.16885375976562,154.36273193359375,162.99790954589844,150.8734893798828,151.5758819580078,198.35069274902344,170.1969757080078,-35.000431060791016,93.62710571289062,158.3328399658203,113.14429473876953,178.13816833496094,231.4579620361328,60.73146438598633,119.98471069335938,147.554443359375,113.349365234375,185.14231872558594,210.82676696777344,146.31910705566406,-88.82980346679688,0.6702380776405334,85.6712875366211,153.6995086669922,-45.77622985839844],\"yaxis\":\"y\",\"type\":\"scatter\"},{\"customdata\":[[\"sales document (person)\",\"saa14\",\"P224946\",\"post-canonical\",8,8],[\"sales document (person)\",\"saa14\",\"P224957\",\"Ashurbanipal\",4,6],[\"sales document\",\"saa14\",\"P224975\",\"Ashurbanipal\",3,11],[\"sales document (person)\",\"saa06\",\"P240189\",\"8th century\",4,4],[\"sales document (person)\",\"saa06\",\"P335011\",\"Sargonid period\",11,11],[\"lease document (field)\",\"saa06\",\"P335022\",\"Sargonid period\",3,10],[\"sales document (person)\",\"saa06\",\"P335027\",\"8th century\",1,10],[\"sales document\",\"saa14\",\"P335038\",\"Ashurbanipal\",4,12],[\"sales document (person)\",\"saa06\",\"P335122\",\"Sargonid period\",11,11],[\"sales document (person)\",\"saa14\",\"P335123\",\"Ashurbanipal\",12,12],[\"sales document (person)\",\"saa06\",\"P335124\",\"Ashurbanipal\",7,7],[\"sales document (person)\",\"saa06\",\"P335125\",\"Sargonid period\",5,5],[\"sales document (person)\",\"saa14\",\"P335127\",\"Ashurbanipal\",6,10],[\"sales document (person)\",\"saa06\",\"P335128\",\"Sargonid period\",5,5],[\"sales document (person)\",\"saa06\",\"P335129\",\"Sargonid period\",8,9],[\"sales document (person)\",\"saa06\",\"P335130\",\"8th century\",4,8],[\"sales document (person)\",\"saa06\",\"P335131\",\"Sargonid period\",4,8],[\"sales document (person)\",\"saa14\",\"P335132\",\"Ashurbanipal\",10,10],[\"sales document (person)\",\"saa06\",\"P335133\",\"Sargonid period\",4,8],[\"sales document (person)\",\"saa14\",\"P335134\",\"Ashurbanipal\",1,6],[\"sales document (person)\",\"saa06\",\"P335135\",\"Ashurbanipal\",6,9],[\"sales document (person)\",\"saa06\",\"P335136\",\"Sargonid period\",5,5],[\"sales document (person)\",\"saa14\",\"P335139\",\"Ashurbanipal\",4,7],[\"sales document (person)\",\"saa06\",\"P335140\",\"Sargonid period\",7,7],[\"sales document (person)\",\"saa14\",\"P335141\",\"Ashurbanipal\",6,9],[\"sales document (person)\",\"saa06\",\"P335142\",\"Sargonid period\",6,6],[\"sales document (person)\",\"saa14\",\"P335144\",\"Ashurbanipal\",5,6],[\"sales document (person)\",\"saa06\",\"P335145\",\"Sargonid period\",5,5],[\"sales document (person)\",\"saa06\",\"P335146\",\"Sargonid period\",9,9],[\"sales document (person)\",\"saa06\",\"P335147\",\"Ashurbanipal\",3,5],[\"sales document (person)\",\"saa06\",\"P335148\",\"Sargonid period\",5,5],[\"sales document (person)\",\"saa06\",\"P335149\",\"Sargonid period\",7,12],[\"sales document (person)\",\"saa14\",\"P335151\",\"Ashurbanipal\",5,5],[\"sales document (person)\",\"saa14\",\"P335152\",\"post-canonical\",3,11],[\"sales document (person)\",\"saa14\",\"P335153\",\"Ashurbanipal\",4,5],[\"sales document (person)\",\"saa14\",\"P335155\",\"Ashurbanipal\",4,5],[\"sales document (person)\",\"saa14\",\"P335156\",\"Ashurbanipal\",3,8],[\"sales document (person)\",\"saa14\",\"P335157\",\"post-canonical\",3,8],[\"sales document (person)\",\"saa14\",\"P335158\",\"post-canonical\",7,12],[\"sales document (person)\",\"saa06\",\"P335160\",\"Sargonid period\",5,5],[\"sales document (person)\",\"saa06\",\"P335162\",\"Sargonid period\",4,5],[\"sales document (person)\",\"saa06\",\"P335169\",\"Sargonid period\",2,5],[\"sales document (person)\",\"saa06\",\"P335172\",\"Sargonid period\",3,7],[\"sales document (person)\",\"saa06\",\"P335174\",\"Sargonid period\",4,6],[\"sales document (person)\",\"saa06\",\"P335176\",\"Sargonid period\",5,5],[\"sales document (person)\",\"saa06\",\"P335177\",\"Sargonid period\",5,5],[\"sales document (person)\",\"saa06\",\"P335178\",\"Sargonid period\",5,5],[\"sales document (person)\",\"saa06\",\"P335179\",\"Sargonid period\",5,5],[\"sales document (person)\",\"saa06\",\"P335181\",\"Sargonid period\",3,5],[\"sales document (person)\",\"saa14\",\"P335182\",\"post-canonical\",2,5],[\"sales document (person)\",\"saa06\",\"P335183\",\"Sargonid period\",3,7],[\"sales document (person)\",\"saa06\",\"P335184\",\"Ashurbanipal\",5,5],[\"sales document (person)\",\"saa06\",\"P335185\",\"Sargonid period\",5,9],[\"sales document (person)\",\"saa06\",\"P335187\",\"Sargonid period\",2,9],[\"sales document (person)\",\"saa06\",\"P335188\",\"Sargonid period\",2,6],[\"sales document (person)\",\"saa06\",\"P335189\",\"Sargonid period\",4,11],[\"sales document (person)\",\"saa06\",\"P335190\",\"Sargonid period\",5,5],[\"sales document (person)\",\"saa06\",\"P335191\",\"Sargonid period\",7,9],[\"sales document (person)\",\"saa06\",\"P335192\",\"Sargonid period\",3,5],[\"sales document (person)\",\"saa06\",\"P335193\",\"Sargonid period\",9,26],[\"sales document (person)\",\"saa06\",\"P335202\",\"Sargonid period\",2,5],[\"sales document (person)\",\"saa06\",\"P335203\",\"Sargonid period\",10,10],[\"sales document (person)\",\"saa06\",\"P335205\",\"Ashurbanipal\",4,9],[\"sales document (person)\",\"saa14\",\"P335206\",\"post-canonical\",9,9],[\"sales document (person)\",\"saa06\",\"P335213\",\"Sargonid period\",13,14],[\"sales document (person)\",\"saa06\",\"P335216\",\"Sargonid period\",5,5],[\"sales document (person)\",\"saa06\",\"P335217\",\"Ashurbanipal\",7,16],[\"sales document (person)\",\"saa06\",\"P335219\",\"Sargonid period\",4,17],[\"sales document (person)\",\"saa06\",\"P335220\",\"Sargonid period\",2,6],[\"sales document (person)\",\"saa06\",\"P335221\",\"Sargonid period\",7,7],[\"sales document (person)\",\"saa06\",\"P335223\",\"Sargonid period\",3,5],[\"sales document (person)\",\"saa06\",\"P335224\",\"Sargonid period\",4,10],[\"sales document (person)\",\"saa06\",\"P335225\",\"Sargonid period\",1,5],[\"sales document (person)\",\"saa06\",\"P335226\",\"Sargonid period\",4,5],[\"sales document (person)\",\"saa14\",\"P335228\",\"post-canonical\",2,9],[\"sales document (person)\",\"saa06\",\"P335230\",\"Sargonid period\",16,17],[\"sales document (person)\",\"saa06\",\"P335231\",\"Sargonid period\",8,14],[\"sales document (person)\",\"saa14\",\"P335232\",\"Ashurbanipal\",5,5],[\"sales document (person)\",\"saa06\",\"P335239\",\"Sargonid period\",1,12],[\"sales document (person)\",\"saa14\",\"P335241\",\"post-canonical\",1,11],[\"sales document (person)\",\"saa06\",\"P335243\",\"Sargonid period\",3,5],[\"sales document (person)\",\"saa06\",\"P335244\",\"Sargonid period\",6,19],[\"sales document (person)\",\"saa06\",\"P335245\",\"Sargonid period\",3,9],[\"sales document (person)\",\"saa06\",\"P335246\",\"Sargonid period\",8,11],[\"sales document (person)\",\"saa14\",\"P335247\",\"post-canonical\",7,8],[\"sales document (person)\",\"saa14\",\"P335250\",\"post-canonical\",5,5],[\"sales document (person)\",\"saa06\",\"P335251\",\"Sargonid period\",3,6],[\"sales document (person)\",\"saa14\",\"P335252\",\"post-canonical\",17,19],[\"sales document (person)\",\"saa14\",\"P335253\",\"post-canonical\",5,10],[\"sales document (person)\",\"saa14\",\"P335255\",\"Ashurbanipal\",2,5],[\"sales document (person)\",\"saa14\",\"P335256\",\"post-canonical\",8,8],[\"sales document (person)\",\"saa14\",\"P335259\",\"post-canonical\",3,5],[\"sales document (person)\",\"saa06\",\"P335262\",\"Sargonid period\",5,5],[\"sales document (house)\",\"saa06\",\"P335268\",\"Sargonid period\",15,15],[\"sales document (house)\",\"saa14\",\"P335269\",\"post-canonical\",12,12],[\"sales document (house)\",\"saa06\",\"P335270\",\"Sargonid period\",8,9],[\"sales document (house)\",\"saa06\",\"P335272\",\"Sargonid period\",7,7],[\"sales document (house)\",\"saa14\",\"P335273\",\"Ashurbanipal\",5,5],[\"sales document (house)\",\"saa06\",\"P335274\",\"Sargonid period\",5,5],[\"sales document (house)\",\"saa06\",\"P335275\",\"Ashurbanipal\",8,10],[\"sales document (house)\",\"saa06\",\"P335276\",\"Sargonid period\",3,9],[\"sales document (house)\",\"saa14\",\"P335277\",\"Ashurbanipal\",5,6],[\"sales document (house)\",\"saa06\",\"P335279\",\"Sargonid period\",1,5],[\"sales document (house)\",\"saa06\",\"P335281\",\"Sargonid period\",9,9],[\"sales document (house)\",\"saa14\",\"P335284\",\"Ashurbanipal\",10,26],[\"sales document (house)\",\"saa14\",\"P335286\",\"Ashurbanipal\",4,11],[\"sales document (house)\",\"saa14\",\"P335287\",\"post-canonical\",5,5],[\"sales document (house)\",\"saa14\",\"P335288\",\"post-canonical\",6,6],[\"sales document (house)\",\"saa14\",\"P335289\",\"post-canonical\",7,7],[\"sales document (house)\",\"saa14\",\"P335293\",\"post-canonical\",10,28],[\"sales document (plot)\",\"saa06\",\"P335294\",\"Sargonid period\",2,6],[\"sales document (plot)\",\"saa14\",\"P335295\",\"Ashurbanipal\",8,8],[\"sales document (plot)\",\"saa14\",\"P335296\",\"post-canonical\",9,19],[\"sales document (plot)\",\"saa06\",\"P335297\",\"Sargonid period\",3,8],[\"sales document (plot)\",\"saa14\",\"P335299\",\"post-canonical\",12,13],[\"sales document (plot)\",\"saa14\",\"P335300\",\"post-canonical\",2,9],[\"sales document (plot)\",\"saa14\",\"P335302\",\"Ashurbanipal\",11,14],[\"sales document (garden)\",\"saa06\",\"P335303\",\"Sargonid period\",7,8],[\"sales document (garden)\",\"saa06\",\"P335304\",\"Sargonid period\",4,5],[\"sales document (garden)\",\"saa06\",\"P335306\",\"Ashurbanipal\",10,12],[\"sales document (garden)\",\"saa06\",\"P335307\",\"Sargonid period\",5,9],[\"sales document (garden)\",\"saa06\",\"P335308\",\"Sargonid period\",6,6],[\"sales document (garden)\",\"saa06\",\"P335309\",\"Sargonid period\",9,9],[\"sales document (garden)\",\"saa14\",\"P335311\",\"post-canonical\",8,29],[\"sales document (garden)\",\"saa06\",\"P335314\",\"Sargonid period\",8,10],[\"sales document (garden)\",\"saa06\",\"P335315\",\"Sargonid period\",3,10],[\"sales document (house)\",\"saa14\",\"P335317\",\"Ashurbanipal\",10,10],[\"sales document (house)\",\"saa06\",\"P335318\",\"Sargonid period\",10,11],[\"sales document (plot)\",\"saa06\",\"P335319\",\"Sargonid period\",5,12],[\"sales document (house)\",\"saa06\",\"P335320\",\"Sargonid period\",20,42],[\"sales document (plot)\",\"saa06\",\"P335321\",\"Ashurbanipal\",1,5],[\"sales document (plot)\",\"saa06\",\"P335322\",\"Sargonid period\",4,9],[\"sales document (house)\",\"saa14\",\"P335323\",\"Ashurbanipal\",5,11],[\"sales document (plot)\",\"saa14\",\"P335324\",\"post-canonical\",2,14],[\"sales document (house)\",\"saa06\",\"P335325\",\"Sargonid period\",2,13],[\"sales document (plot)\",\"saa06\",\"P335326\",\"Sargonid period\",7,11],[\"sales document (plot)\",\"saa06\",\"P335327\",\"Sargonid period\",5,5],[\"sales document (plot)\",\"saa14\",\"P335328\",\"Ashurbanipal\",2,13],[\"sales document (house)\",\"saa14\",\"P335331\",\"Ashurbanipal\",6,10],[\"sales document (house)\",\"saa14\",\"P335332\",\"post-canonical\",13,16],[\"sales document (plot)\",\"saa06\",\"P335335\",\"Sargonid period\",7,9],[\"sales document (plot)\",\"saa06\",\"P335336\",\"Sargonid period\",9,9],[\"sales document (plot)\",\"saa06\",\"P335339\",\"8th century\",4,13],[\"sales document (plot)\",\"saa14\",\"P335340\",\"post-canonical\",5,12],[\"sales document (plot)\",\"saa14\",\"P335341\",\"post-canonical\",3,23],[\"sales document (plot)\",\"saa14\",\"P335342\",\"Ashurbanipal\",3,10],[\"sales document (plot)\",\"saa14\",\"P335343\",\"post-canonical\",6,7],[\"sales document (plot)\",\"saa14\",\"P335346\",\"post-canonical\",1,8],[\"sales document (house)\",\"saa06\",\"P335347\",\"Sargonid period\",12,14],[\"sales document (plot)\",\"saa06\",\"P335355\",\"8th century\",24,25],[\"sales document (plot)\",\"saa14\",\"P335357\",\"post-canonical\",9,9],[\"sales document (house)\",\"saa06\",\"P335358\",\"8th century\",18,18],[\"sales document (house)\",\"saa06\",\"P335359\",\"Sargonid period\",8,9],[\"sales document (field, person)\",\"saa06\",\"P335364\",\"Ashurbanipal\",4,7],[\"sales document (field, person)\",\"saa06\",\"P335365\",\"Sargonid period\",3,7],[\"sales document (garden)\",\"saa06\",\"P335370\",\"Sargonid period\",12,15],[\"sales document (plot)\",\"saa06\",\"P335372\",\"Ashurbanipal\",8,21],[\"sales document (house)\",\"saa06\",\"P335373\",\"Sargonid period\",9,9],[\"sales document (house)\",\"saa06\",\"P335374\",\"Sargonid period\",7,12],[\"sales document (field, person)\",\"saa06\",\"P335376\",\"Ashurbanipal\",2,5],[\"sales document (house)\",\"saa06\",\"P335380\",\"Sargonid period\",5,10],[\"sales document (house)\",\"saa14\",\"P335381\",\"post-canonical\",2,17],[\"sales document (plot)\",\"saa06\",\"P335382\",\"Ashurbanipal\",4,10],[\"sales document (field, person)\",\"saa06\",\"P335383\",\"Sargonid period\",4,8],[\"sales document (field, person)\",\"saa06\",\"P335384\",\"Sargonid period\",7,7],[\"sales document (garden)\",\"saa06\",\"P335385\",\"Ashurbanipal\",10,10],[\"sales document (garden)\",\"saa06\",\"P335386\",\"Ashurbanipal\",1,10],[\"sales document (field, person)\",\"saa14\",\"P335387\",\"post-canonical\",10,10],[\"sales document (field, person)\",\"saa06\",\"P335388\",\"Sargonid period\",18,18],[\"sales document (house)\",\"saa06\",\"P335389\",\"Ashurbanipal\",8,14],[\"sales document (field, person)\",\"saa14\",\"P335390\",\"post-canonical\",6,13],[\"sales document (house)\",\"saa06\",\"P335394\",\"Sargonid period\",3,7],[\"sales document (field, person)\",\"saa06\",\"P335395\",\"Sargonid period\",6,6],[\"sales document (garden)\",\"saa06\",\"P335407\",\"Sargonid period\",4,6],[\"sales document (house)\",\"saa06\",\"P335408\",\"Sargonid period\",4,23],[\"sales document (house)\",\"saa06\",\"P335409\",\"Ashurbanipal\",38,43],[\"sales document (house)\",\"saa14\",\"P335411\",\"Ashurbanipal\",2,11],[\"sales document (plot)\",\"saa06\",\"P335412\",\"Sargonid period\",5,6],[\"sales document\",\"saa06\",\"P335414\",\"Sargonid period\",3,12],[\"sales document\",\"saa06\",\"P335421\",\"Sargonid period\",1,7],[\"sales document (person)\",\"saa06\",\"P335437\",\"Sargonid period\",5,9],[\"sales document\",\"saa06\",\"P335442\",\"Sargonid period\",12,23],[\"sales document (house)\",\"saa14\",\"P335448\",\"post-canonical\",5,9],[\"sales document (field)\",\"saa14\",\"P335450\",\"post-canonical\",3,8],[\"sales document (plot)\",\"saa14\",\"P335463\",\"8th century\",5,5],[\"sales document (plot)\",\"saa14\",\"P335465\",\"post-canonical\",2,20],[\"sales document\",\"saa14\",\"P335471\",\"post-canonical\",1,7],[\"sales document\",\"saa14\",\"P335478\",\"post-canonical\",1,10],[\"sales document (person)\",\"saa14\",\"P335499\",\"post-canonical\",8,27],[\"sales document\",\"saa14\",\"P335500\",\"Ashurbanipal\",1,8],[\"sales document\",\"saa06\",\"P335529\",\"Sargonid period\",1,3],[\"sales document (person)\",\"saa06\",\"P335533\",\"Sargonid period\",7,15],[\"sales document (house)\",\"saa06\",\"P335534\",\"Sargonid period\",7,20],[\"sales document (field, person)\",\"saa14\",\"P335536\",\"post-canonical\",4,6],[\"sales document (plot)\",\"saa14\",\"P335537\",\"post-canonical\",9,9],[\"lease document (field)\",\"saa14\",\"P335538\",\"Ashurbanipal\",12,12],[\"sales document (plot)\",\"saa14\",\"P335539\",\"post-canonical\",21,21],[\"sales document (house)\",\"saa06\",\"P335540\",\"Sargonid period\",7,9],[\"sales document (house)\",\"saa06\",\"P335541\",\"Sargonid period\",18,18],[\"sales document (house)\",\"saa14\",\"P335542\",\"Ashurbanipal\",6,6],[\"lease document (field)\",\"saa14\",\"P335543\",\"Ashurbanipal\",7,7],[\"sales document (house)\",\"saa06\",\"P335544\",\"Sargonid period\",5,5],[\"sales document (plot)\",\"saa06\",\"P335546\",\"Sargonid period\",6,6],[\"sales document\",\"saa14\",\"P335647\",\"post-canonical\",5,25],[\"sales document (person)\",\"saa06\",\"P335652\",\"Ashurbanipal\",6,8],[\"sales document (house)\",\"saa06\",\"P335934\",\"Sargonid period\",12,12],[\"sales document (house)\",\"saa06\",\"P335935\",\"Ashurbanipal\",2,9],[\"sales document (plot)\",\"saa06\",\"P335938\",\"8th century\",6,8],[\"sales document (person)\",\"saa06\",\"P335940\",\"Sargonid period\",2,5],[\"sales document (plot)\",\"saa06\",\"P335946\",\"Sargonid period\",7,9],[\"sales document\",\"saa14\",\"P335948\",\"post-canonical\",1,4],[\"sales document (plot)\",\"saa06\",\"P335949\",\"Sargonid period\",6,9],[\"lease document (field)\",\"saa14\",\"P335951\",\"post-canonical\",5,5],[\"sales document (person)\",\"saa06\",\"P335952\",\"Sargonid period\",5,5],[\"sales document (person)\",\"saa14\",\"P335953\",\"post-canonical\",1,7],[\"sales document (plot)\",\"saa14\",\"P335956\",\"post-canonical\",1,11],[\"sales document (plot)\",\"saa06\",\"P335957\",\"8th century\",5,5],[\"sales document (house)\",\"saa06\",\"P335959\",\"Sargonid period\",8,9],[\"sales document (plot)\",\"saa06\",\"P335960\",\"Sargonid period\",1,7],[\"sales document (house)\",\"saa14\",\"P335961\",\"post-canonical\",4,9],[\"sales document (person)\",\"saa14\",\"P335963\",\"Ashurbanipal\",6,11],[\"sales document (plot)\",\"saa14\",\"P335965\",\"post-canonical\",8,9],[\"sales document (person)\",\"saa06\",\"P335974\",\"Sargonid period\",20,21],[\"sales document (plot)\",\"saa14\",\"P335975\",\"Sargonid period\",4,21],[\"sales document (house)\",\"saa06\",\"P335976\",\"Sargonid period\",1,8],[\"sales document\",\"saa14\",\"P335977\",\"Ashurbanipal\",2,6],[\"sales document (field, person)\",\"saa06\",\"P335980\",\"Sargonid period\",2,7],[\"sales document (person)\",\"saa14\",\"P335993\",\"post-canonical\",1,11],[\"sales document (person)\",\"saa14\",\"P335995\",\"post-canonical\",6,9],[\"sales document (person)\",\"saa14\",\"P336004\",\"Ashurbanipal\",7,7],[\"sales document (plot)\",\"saa14\",\"P336005\",\"8th century\",4,4],[\"sales document (inheritance)\",\"saa14\",\"P336013\",\"Ashurbanipal\",1,9],[\"sales document (plot)\",\"saa14\",\"P336020\",\"post-canonical\",3,6],[\"sales document (house)\",\"saa14\",\"P336026\",\"post-canonical\",2,7],[\"sales document\",\"saa14\",\"P336028\",\"post-canonical\",5,9],[\"sales document (plot)\",\"saa14\",\"P336031\",\"Ashurbanipal\",1,11],[\"sales document (house)\",\"saa14\",\"P336190\",\"Ashurbanipal\",5,6],[\"sales document (plot)\",\"saa06\",\"P336192\",\"Sargonid period\",1,15],[\"sales document (house)\",\"saa14\",\"P336195\",\"post-canonical\",9,11],[\"sales document (person)\",\"saa06\",\"P336200\",\"Sargonid period\",7,11],[\"sales document (plot)\",\"saa14\",\"P336247\",\"post-canonical\",11,11],[\"sales document (plot)\",\"saa14\",\"P336743\",\"post-canonical\",3,34],[\"sales document\",\"saa14\",\"P336757\",\"post-canonical\",2,10],[\"sales document (person)\",\"saa14\",\"P336758\",\"post-canonical\",2,10],[\"sales document (plot)\",\"saa06\",\"P337149\",\"Sargonid period\",4,23],[\"sales document (plot)\",\"saa14\",\"P337155\",\"post-canonical\",19,19],[\"sales document (person)\",\"saa14\",\"P337156\",\"Ashurbanipal\",9,9],[\"sales document (plot)\",\"saa14\",\"P337162\",\"Ashurbanipal\",5,12],[\"lease document (field)\",\"saa14\",\"P337172\",\"post-canonical\",7,7],[\"sales document (inheritance)\",\"saa14\",\"P451453\",\"Ashurbanipal\",12,12]],\"hovertemplate\":\"provenience=Kuyunjik (Nineveh)<br>component 1=%{x}<br>component 2=%{y}<br>subgenre=%{customdata[0]}<br>project=%{customdata[1]}<br>index=%{customdata[2]}<br>date_for_viz=%{customdata[3]}<br>Text_length_partial=%{customdata[4]}<br>Text_length_full=%{customdata[5]}<extra></extra>\",\"legendgroup\":\"Kuyunjik (Nineveh)\",\"marker\":{\"color\":\"#EF553B\",\"symbol\":\"circle\",\"line\":{\"color\":\"black\",\"width\":1}},\"mode\":\"markers\",\"name\":\"Kuyunjik (Nineveh)\",\"orientation\":\"v\",\"showlegend\":true,\"x\":[324.3897705078125,139.9972381591797,-207.15809631347656,0.9499861598014832,262.666748046875,-278.32415771484375,-390.91644287109375,184.42532348632812,187.7440643310547,169.1202850341797,337.0416564941406,336.82470703125,317.0502624511719,346.00469970703125,-16.38385581970215,6.290584087371826,31.38861656188965,304.218994140625,-156.2424774169922,-69.32003784179688,317.3774108886719,298.34222412109375,356.91912841796875,90.1516342163086,-175.52316284179688,327.6008605957031,27.550622940063477,210.1703338623047,-7.767579078674316,24.480558395385742,224.3300018310547,98.10831451416016,208.09951782226562,-429.5054016113281,353.3710021972656,357.9043884277344,-149.28736877441406,-78.30563354492188,-141.0196990966797,240.32215881347656,155.62474060058594,-28.19655990600586,24.5384521484375,111.94139099121094,180.3594207763672,180.3594207763672,401.738525390625,377.58831787109375,75.99261474609375,-280.0130615234375,-93.15133666992188,180.3594207763672,8.677059173583984,-345.4917907714844,-265.1444091796875,79.83451843261719,393.85400390625,62.92568588256836,-33.79735565185547,-16.50448989868164,220.4996337890625,179.9853515625,-374.7782897949219,84.4836196899414,170.07275390625,213.17416381835938,180.3594207763672,84.72389221191406,-98.75910186767578,212.1116180419922,67.22120666503906,396.6864013671875,-263.2300109863281,79.83451843261719,-280.0130615234375,209.98855590820312,-116.48430633544922,388.8041076660156,-75.23686218261719,-351.3082275390625,-192.40708923339844,71.8200912475586,67.22120666503906,-161.5914306640625,77.69702911376953,180.3594207763672,33.18821334838867,198.94789123535156,-222.6337890625,-27.26356315612793,316.3863525390625,-166.86326599121094,221.2866973876953,-19.884111404418945,194.23809814453125,50.28774642944336,-135.9642791748047,350.1316833496094,333.7983703613281,203.2644805908203,-96.2622299194336,343.25079345703125,-263.2300109863281,286.3118896484375,243.15597534179688,32.37731170654297,198.0088653564453,195.3082733154297,331.30072021484375,282.803955078125,-52.26162338256836,160.5567626953125,246.80221557617188,-99.70513153076172,230.82073974609375,-417.5522766113281,192.20140075683594,98.14946746826172,104.84898376464844,274.1133728027344,303.6317138671875,207.6754608154297,35.87065887451172,172.71755981445312,190.42034912109375,34.72761535644531,265.5940856933594,385.2994689941406,19.419261932373047,-155.1155548095703,-263.2300109863281,-57.978275299072266,194.13536071777344,-246.31271362304688,-69.09603118896484,-133.45693969726562,400.65679931640625,220.4996337890625,267.7040100097656,234.5666046142578,35.128578186035156,30.993606567382812,-85.72740936279297,385.4412841796875,-362.7061767578125,23.462158203125,144.8472442626953,-69.32003784179688,204.0362091064453,-41.07332992553711,265.23834228515625,-43.827919006347656,41.86223602294922,62.183006286621094,-335.51531982421875,-27.912471771240234,-8.154306411743164,273.89312744140625,20.410598754882812,-341.1778259277344,-138.65176391601562,-397.2655334472656,21.31752586364746,-186.22927856445312,382.81048583984375,263.5576171875,-321.7207336425781,221.8123016357422,191.80201721191406,271.6902770996094,-292.14251708984375,-287.8970642089844,177.2611083984375,192.05557250976562,-189.51536560058594,193.08053588867188,-336.8929138183594,-151.6160125732422,-113.02098083496094,-329.2188720703125,3.6129825115203857,231.45635986328125,0.9648228287696838,-418.72772216796875,-116.24143981933594,26.182876586914062,-398.3235168457031,-361.7563171386719,-152.27505493164062,-425.7576904296875,-380.17803955078125,-153.51885986328125,-164.2894287109375,-338.5899353027344,272.9257507324219,257.99176025390625,201.28099060058594,393.7538757324219,199.00369262695312,309.7775573730469,262.67120361328125,264.8038330078125,390.2381591796875,-351.6361999511719,-2.3940014839172363,-10.648900985717773,-256.5546569824219,34.79045486450195,-379.1156311035156,53.36912155151367,-389.7776184082031,59.20934295654297,389.60687255859375,342.68438720703125,-427.5421447753906,-369.3437194824219,15.907459259033203,15.144426345825195,-387.4961242675781,-88.21751403808594,351.9875793457031,46.57111358642578,192.11058044433594,-355.9806213378906,-81.13115692138672,-190.52096557617188,-466.6510925292969,-369.0032653808594,35.68566131591797,342.18585205078125,-371.4342346191406,-387.4961242675781,-62.191566467285156,-61.06797790527344,186.33741760253906,-368.6690979003906,61.46941375732422,-318.7545166015625,285.1030578613281,210.1703338623047,210.25985717773438,-173.44749450683594,-385.3381652832031,-332.4416198730469,52.6673469543457,206.26254272460938,268.6903381347656,-144.27845764160156,179.1696014404297,-146.5338134765625],\"xaxis\":\"x\",\"y\":[-23.622772216796875,12.01323413848877,157.87911987304688,155.2532958984375,22.028593063354492,-84.057861328125,3.8826980590820312,-96.99848937988281,58.353275299072266,87.52027893066406,32.79331970214844,49.29880142211914,53.185909271240234,55.087589263916016,122.67404174804688,147.003173828125,46.08348083496094,37.14537811279297,72.13063049316406,-291.14654541015625,60.50706481933594,-62.95542907714844,46.76700973510742,103.03965759277344,153.3182830810547,45.9580192565918,29.842073440551758,159.8660430908203,124.55709075927734,-212.89254760742188,136.21363830566406,94.41651916503906,170.0008544921875,-48.28002166748047,39.56604766845703,16.875011444091797,51.42483139038086,-245.4763641357422,55.44382095336914,136.08255004882812,19.308977127075195,-80.37964630126953,-198.97457885742188,93.83443450927734,150.3120880126953,150.3120880126953,-43.556068420410156,-61.12873458862305,-206.86741638183594,-116.99996185302734,229.052978515625,150.3120880126953,-88.87467193603516,72.43183898925781,-91.01132202148438,-159.99713134765625,-39.31243896484375,102.33210754394531,-246.8156280517578,34.29278564453125,-122.8304443359375,91.46339416503906,-89.7865219116211,117.80023956298828,103.95710754394531,129.2135467529297,150.3120880126953,-197.57115173339844,-284.7306823730469,87.25555419921875,-204.73434448242188,-55.0377082824707,-103.36962890625,-159.99713134765625,-116.99996185302734,68.04029846191406,180.73553466796875,-50.42241668701172,-94.60380554199219,-89.00540161132812,120.52152252197266,-194.6422882080078,-204.73434448242188,124.95877075195312,111.03496551513672,150.3120880126953,-203.4403839111328,31.00587272644043,147.46414184570312,-252.1417694091797,-25.19103240966797,61.30051040649414,145.53822326660156,68.44804382324219,47.17988586425781,97.32453155517578,81.21537780761719,-62.755306243896484,12.963945388793945,119.77030181884766,212.16001892089844,7.602621078491211,-103.36962890625,-27.63050079345703,-1.3416403532028198,-193.601806640625,129.44517517089844,118.67992401123047,3.7789793014526367,-11.475123405456543,-22.203590393066406,-111.27011108398438,-27.81668472290039,204.6675567626953,3.076232433319092,31.458274841308594,38.89655303955078,77.68816375732422,89.63721466064453,-12.376019477844238,-55.0643196105957,106.74800872802734,102.00945281982422,-83.82131958007812,93.80792236328125,57.354190826416016,-52.36891174316406,20.772687911987305,130.5500030517578,142.4977569580078,-103.36962890625,-10.3218994140625,-77.13186645507812,-96.5982894897461,-271.17169189453125,65.60406494140625,11.400981903076172,-122.8304443359375,124.91029357910156,21.81146240234375,122.4906005859375,112.02222442626953,209.33865356445312,1.2424522638320923,-39.26606369018555,-83.228271484375,23.62297248840332,-291.14654541015625,41.76030349731445,74.91985321044922,114.77594757080078,96.06895446777344,113.14429473876953,61.16297149658203,-83.38655090332031,51.17813491821289,48.285675048828125,114.91619873046875,17.430927276611328,-78.91890716552734,124.91845703125,-35.562782287597656,40.560264587402344,117.3267593383789,-80.9394760131836,-16.03074073791504,7.940779209136963,74.0698471069336,18.894323348999023,17.8782901763916,-100.4244384765625,-109.06224822998047,135.25457763671875,-64.75172424316406,171.05340576171875,-0.2203368842601776,-39.669822692871094,168.11447143554688,221.0555419921875,-33.851226806640625,-169.49119567871094,10.903951644897461,132.4664306640625,-50.6806640625,205.0753936767578,-91.60826110839844,-15.13974380493164,-25.182273864746094,135.19728088378906,-60.69601058959961,-6.190108299255371,84.04045867919922,135.713623046875,-1.6965314149856567,-56.493431091308594,-50.83972930908203,-21.521480560302734,21.971128463745117,-8.645618438720703,20.6431941986084,139.90545654296875,148.5200653076172,-9.517607688903809,57.2360725402832,-175.61631774902344,106.17910766601562,-88.1975326538086,147.21707153320312,-16.16357421875,108.74114990234375,21.347476959228516,114.6719741821289,9.908208847045898,43.85432815551758,5.615806579589844,7.386202335357666,139.55682373046875,113.52458953857422,-25.58338737487793,198.35069274902344,-22.67803382873535,122.25636291503906,8.277517318725586,65.03257751464844,-86.08280181884766,194.35504150390625,-37.40350341796875,-14.744938850402832,-125.60211944580078,65.16664123535156,23.551156997680664,-25.58338737487793,-17.30995750427246,-82.27115631103516,-106.12774658203125,31.370641708374023,-121.9102554321289,-1.1766778230667114,0.20104745030403137,159.8660430908203,51.118995666503906,188.73281860351562,-91.83587646484375,71.3348159790039,50.20749282836914,-27.673585891723633,6.556540489196777,76.54033660888672,-57.70521926879883,124.88154602050781],\"yaxis\":\"y\",\"type\":\"scatter\"},{\"customdata\":[[\"sales document (person, restricted)\",\"assurmisc\",\"P250657\",\"Sargonid period\",13,15],[\"sales document (house)\",\"stat2\",\"P336822\",\"7th century\",9,14],[\"sales document (plot)\",\"stat2\",\"P336823\",\"7th century\",3,8],[\"sales document (house)\",\"stat2\",\"P336861\",\"Sargonid period\",8,14],[\"sales document (field)\",\"stat2\",\"P336868\",\"post-canonical\",5,5],[\"sales document (person)\",\"stat2\",\"P336908\",\"8th century\",3,5],[\"sales document\",\"stat2\",\"P336910\",\"Sargonid period\",2,7],[\"sales document\",\"stat2\",\"P336911\",\"Sargonid period\",3,6],[\"sales document\",\"stat2\",\"P336912\",\"Sargonid period\",2,2],[\"sales document\",\"stat2\",\"P336915\",\"Ashurbanipal\",5,5],[\"sales document\",\"stat2\",\"P336920\",\"Ashurbanipal\",6,7],[\"sales document (person)\",\"stat2\",\"P336921\",\"Ashurbanipal\",7,13],[\"sales document\",\"stat2\",\"P336922\",\"Unknown\",3,3],[\"sales document (person)\",\"stat2\",\"P336925\",\"Unknown\",2,6],[\"sales document\",\"stat2\",\"P336926\",\"Unknown\",1,5],[\"sales document (person)\",\"stat2\",\"P336929\",\"Unknown\",1,11],[\"sales document (person)\",\"stat2\",\"P336932\",\"Unknown\",2,8],[\"sales document (person)\",\"stat2\",\"P336946\",\"7th century\",1,11],[\"sales document (person)\",\"stat2\",\"P336947\",\"Sargonid period\",6,7],[\"sales document (person)\",\"stat2\",\"P336948\",\"Ashurbanipal\",5,5],[\"sales document (person)\",\"stat2\",\"P336949\",\"post-canonical\",5,14],[\"sales document (house)\",\"stat2\",\"P336950\",\"post-canonical\",5,10],[\"sales document (person)\",\"stat2\",\"P336954\",\"post-canonical\",4,14],[\"sales document (person)\",\"stat2\",\"P336966\",\"Sargonid period\",1,3],[\"sales document (person)\",\"stat2\",\"P336977\",\"Ashurbanipal\",11,14],[\"sales document (person)\",\"stat2\",\"P336986\",\"post-canonical\",8,8],[\"sales document (person)\",\"stat2\",\"P336987\",\"post-canonical\",1,8],[\"sales document (person)\",\"stat2\",\"P336988\",\"Ashurbanipal\",5,5],[\"sales document (person)\",\"stat2\",\"P336989\",\"post-canonical\",8,8],[\"sales document (person)\",\"stat2\",\"P336991\",\"post-canonical\",17,17],[\"sales document (field)\",\"stat2\",\"P337015\",\"post-canonical\",5,7],[\"sales document (field)\",\"stat2\",\"P337042\",\"8th century\",2,11],[\"sales document\",\"stat2\",\"P337046\",\"post-canonical\",5,5],[\"sales document (field)\",\"stat2\",\"P337052\",\"post-canonical\",18,28],[\"sales document (field)\",\"stat2\",\"P337064\",\"Unknown\",3,6],[\"sales document (field)\",\"stat2\",\"P337065\",\"8th century\",2,5],[\"sales document (person)\",\"stat2\",\"P337074\",\"Ashurbanipal\",7,27],[\"sales document (person)\",\"stat2\",\"P337075\",\"Ashurbanipal\",11,12],[\"sales document (person)\",\"stat2\",\"P337076\",\"post-canonical\",8,8],[\"sales document (person)\",\"stat2\",\"P337077\",\"Unknown\",1,10],[\"sales document (person)\",\"stat2\",\"P337078\",\"Unknown\",3,14],[\"sales document (person)\",\"stat2\",\"P337079\",\"Ashurbanipal\",4,9],[\"sales document (person)\",\"stat2\",\"P337081\",\"post-canonical\",3,6],[\"sales document\",\"stat2\",\"P337082\",\"Unknown\",3,5],[\"sales document (house)\",\"wvdog152\",\"P514141\",\"Sargonid period\",2,6],[\"sales document (person)\",\"wvdog152\",\"P514153\",\"post-canonical\",8,10],[\"sales document\",\"wvdog152\",\"P514161\",\"post-canonical\",1,4],[\"sales document (person)\",\"wvdog152\",\"P514211\",\"post-canonical\",4,5],[\"sales document (person)\",\"stat3\",\"P514224\",\"post-canonical\",7,16],[\"sales document (person)\",\"stat3\",\"P514229\",\"Unknown\",2,7],[\"sales document (house)\",\"stat3\",\"P514230\",\"8th century\",2,11],[\"sales document (person)\",\"stat3\",\"P514232\",\"Unknown\",10,14],[\"sales document (person)\",\"stat3\",\"P514233\",\"post-canonical\",5,5],[\"sales document (house)\",\"stat3\",\"P514234\",\"8th century\",2,5],[\"sales document (person)\",\"stat3\",\"P514235\",\"Sargonid period\",7,8],[\"sales document (person)\",\"stat3\",\"P514236\",\"Ashurbanipal\",4,13],[\"sales document (person)\",\"stat3\",\"P514239\",\"Unknown\",3,7],[\"sales document (house)\",\"stat3\",\"P514240\",\"Unknown\",4,8],[\"sales document (person)\",\"stat3\",\"P514256\",\"Sargonid period\",3,5],[\"sales document (person)\",\"stat3\",\"P514277\",\"Ashurbanipal\",4,9],[\"sales document (person)\",\"stat3\",\"P514279\",\"Ashurbanipal\",7,8],[\"sales document (house)\",\"stat3\",\"P514287\",\"post-canonical\",4,18],[\"sales document (person)\",\"stat3\",\"P514290\",\"7th century\",3,8],[\"sales document (house)\",\"stat3\",\"P514291\",\"Sargonid period\",12,15],[\"sales document (field)\",\"stat3\",\"P514292\",\"7th century\",2,8],[\"sales document (person)\",\"stat3\",\"P514294\",\"Ashurbanipal\",3,5],[\"sales document (plot)\",\"stat3\",\"P514295\",\"post-canonical\",14,20],[\"sales document (person)\",\"stat3\",\"P514319\",\"Ashurbanipal\",3,7],[\"sales document (inheritance)\",\"stat3\",\"P514321\",\"post-canonical\",6,7],[\"sales document (plot)\",\"stat3\",\"P514322\",\"Ashurbanipal\",3,3],[\"sales document (person)\",\"stat3\",\"P514323\",\"Ashurbanipal\",6,10],[\"sales document (person)\",\"stat3\",\"P514324\",\"Ashurbanipal\",9,9],[\"sales document (person)\",\"stat1\",\"P514477\",\"post-canonical\",6,6],[\"sales document (person)\",\"rfdn17\",\"P522456\",\"Ashurbanipal\",5,5],[\"sales document (person)\",\"rfdn17\",\"P522457\",\"post-canonical\",4,8],[\"sales document (person)\",\"rfdn17\",\"P522458\",\"post-canonical\",7,7],[\"sales document (person)\",\"rfdn17\",\"P522459\",\"Ashurbanipal\",8,8],[\"sales document (person)\",\"rfdn17\",\"P522460\",\"Ashurbanipal\",6,6],[\"sales document (person)\",\"rfdn17\",\"P522461\",\"Sargonid period\",5,5],[\"sales document (person)\",\"rfdn17\",\"P522462\",\"post-canonical\",8,8],[\"sales document (person)\",\"rfdn17\",\"P522463\",\"post-canonical\",7,7],[\"sales document (person)\",\"rfdn17\",\"P522464\",\"Ashurbanipal\",7,7],[\"sales document (house)\",\"rfdn17\",\"P522465\",\"post-canonical\",12,12],[\"sales document (person)\",\"rfdn17\",\"P522466\",\"Ashurbanipal\",1,7],[\"sales document (inheritance)\",\"rfdn17\",\"P522486\",\"Ashurbanipal\",5,9],[\"sales document (inheritance)\",\"saab0509\",\"P528243\",\"7th century\",5,5],[\"sales document (inheritance)\",\"saab0509\",\"P528251\",\"post-canonical\",10,10],[\"sales document (person)\",\"saab0509\",\"P528252\",\"Ashurbanipal\",4,8],[\"sales document (person)\",\"saab0509\",\"P528253\",\"Ashurbanipal\",10,10],[\"sales document (house)\",\"saab0509\",\"P528256\",\"7th century\",1,19],[\"sales document (person)\",\"saab0509\",\"P528257\",\"7th century\",3,9],[\"sales document (plot)\",\"saab0509\",\"P528258\",\"post-canonical\",4,16],[\"sales document (person)\",\"saab0509\",\"P528262\",\"Ashurbanipal\",6,6],[\"sales document (person)\",\"saab0509\",\"P528264\",\"post-canonical\",6,8],[\"sales document (house)\",\"saab0509\",\"P528265\",\"7th century\",1,3],[\"sales document (person)\",\"saab0509\",\"P528266\",\"post-canonical\",8,8],[\"sales document (person)\",\"saab0509\",\"P528267\",\"post-canonical\",4,7],[\"sales document (inheritance)\",\"saab0509\",\"P528275\",\"post-canonical\",9,9],[\"sales document (plot)\",\"saab0509\",\"P528277\",\"7th century\",2,15],[\"sales document (person)\",\"saab0509\",\"P528278\",\"Ashurbanipal\",4,5],[\"sales document (plot)\",\"saab0509\",\"P528282\",\"post-canonical\",10,10],[\"sales document (person)\",\"saab0509\",\"P528284\",\"post-canonical\",10,10],[\"sales document (person)\",\"saab0509\",\"P528295\",\"Unknown\",4,10],[\"sales document (house)\",\"saab0509\",\"P528296\",\"Sargonid period\",9,9],[\"sales document (house)\",\"saab0509\",\"P528298\",\"Sargonid period\",5,5],[\"sales document (person)\",\"saab0509\",\"P528299\",\"post-canonical\",7,12],[\"sales document (person)\",\"saab0509\",\"P528300\",\"post-canonical\",2,10],[\"sales document (person)\",\"saab0509\",\"P528301\",\"post-canonical\",5,8],[\"sales document (house)\",\"saab0509\",\"P528304\",\"Ashurbanipal\",2,2],[\"sales document (field)\",\"saab0509\",\"P528322\",\"Ashurbanipal\",5,13],[\"sales document (person)\",\"saab0509\",\"P528332\",\"post-canonical\",6,7],[\"sales document (person)\",\"saab0509\",\"P528342\",\"post-canonical\",1,5],[\"sales document (person)\",\"saab0509\",\"P528347\",\"Ashurbanipal\",3,7],[\"sales document (person)\",\"saab0509\",\"P528350\",\"Ashurbanipal\",10,10],[\"sales document (person)\",\"saab0509\",\"P528355\",\"Ashurbanipal\",9,18]],\"hovertemplate\":\"provenience=Qalat Sherqat (Assur)<br>component 1=%{x}<br>component 2=%{y}<br>subgenre=%{customdata[0]}<br>project=%{customdata[1]}<br>index=%{customdata[2]}<br>date_for_viz=%{customdata[3]}<br>Text_length_partial=%{customdata[4]}<br>Text_length_full=%{customdata[5]}<extra></extra>\",\"legendgroup\":\"Qalat Sherqat (Assur)\",\"marker\":{\"color\":\"#00cc96\",\"symbol\":\"circle\",\"line\":{\"color\":\"black\",\"width\":1}},\"mode\":\"markers\",\"name\":\"Qalat Sherqat (Assur)\",\"orientation\":\"v\",\"showlegend\":true,\"x\":[170.16395568847656,-341.1356506347656,-410.9422607421875,-350.48077392578125,15.916882514953613,-53.066978454589844,-329.26397705078125,-401.4470520019531,-80.62055206298828,47.602821350097656,39.259544372558594,-22.289016723632812,-92.88752746582031,-358.9009704589844,-387.4961242675781,-332.4416198730469,43.34946060180664,-387.4961242675781,-1.5865305662155151,67.78713989257812,-113.79304504394531,45.46617889404297,-28.512632369995117,-81.13115692138672,-30.203311920166016,15.680695533752441,-419.0732727050781,55.65170669555664,-29.758153915405273,1.4401559829711914,-50.120628356933594,-387.4961242675781,-103.88482666015625,-41.66639709472656,-31.53398895263672,-95.47618865966797,-112.62630462646484,-23.50251579284668,-115.06074523925781,-373.0560302734375,-268.3168640136719,30.498031616210938,-340.3336181640625,-23.297386169433594,220.4996337890625,-173.30929565429688,-67.51832580566406,10.085132598876953,-0.8915936946868896,43.34946060180664,-330.3185119628906,240.05970764160156,185.06643676757812,-81.68070220947266,329.0465087890625,-88.56609344482422,-42.33935546875,177.1824188232422,-108.21956634521484,200.637939453125,307.4580383300781,-123.85818481445312,-45.67770767211914,176.757568359375,-74.19171905517578,-153.55718994140625,167.6632080078125,-36.28003692626953,356.8400573730469,197.02142333984375,2.8540117740631104,308.2090148925781,318.8880310058594,23.459096908569336,-0.6726320385932922,25.179340362548828,-8.83128547668457,-11.074057579040527,49.2678337097168,29.198259353637695,-18.524606704711914,37.22053909301758,-37.6655387878418,-397.224365234375,-3.8519976139068604,176.05545043945312,150.05484008789062,-83.39911651611328,-68.61695861816406,-373.2873840332031,-359.5882263183594,-336.11199951171875,156.13026428222656,-76.29154205322266,-389.6111755371094,-107.80239868164062,-95.9652099609375,-101.3875961303711,-80.90664672851562,-83.09061431884766,148.837646484375,-91.51455688476562,-412.2751159667969,169.4266357421875,-123.8651351928711,162.16554260253906,-428.9862365722656,180.99436950683594,220.4996337890625,-94.8061294555664,-85.07568359375,-387.4961242675781,-457.8810119628906,146.40103149414062,149.2150421142578],\"xaxis\":\"x\",\"y\":[2.082604169845581,17.331518173217773,-34.35026931762695,-1.0898445844650269,-183.83114624023438,-70.01673889160156,-0.16895624995231628,-25.19991111755371,-259.65997314453125,-143.99244689941406,-148.82142639160156,-164.86190795898438,-251.95449829101562,-90.8987045288086,-25.58338737487793,71.3348159790039,-218.83444213867188,-25.58338737487793,-151.9955596923828,-186.47967529296875,-219.06521606445312,-132.10208129882812,-90.09869384765625,-86.08280181884766,-149.44186401367188,-130.98007202148438,37.69440841674805,-141.5929412841797,-174.0663604736328,-131.20314025878906,-80.61117553710938,-25.58338737487793,-214.9853057861328,-145.9856414794922,-62.155792236328125,-267.6652526855469,-250.30528259277344,-154.51344299316406,-231.0692138671875,-48.62529754638672,-82.32388305664062,-174.02285766601562,-31.291812896728516,-241.17901611328125,-122.8304443359375,140.99554443359375,-304.9892578125,43.667938232421875,31.941408157348633,-218.83444213867188,60.25164031982422,110.07595825195312,-120.1667709350586,-268.5490417480469,-47.21378707885742,-274.1466369628906,-107.3882064819336,-91.43773651123047,211.2305145263672,-87.11109161376953,-15.836746215820312,-236.76248168945312,-70.38543701171875,55.56602096557617,-68.62312316894531,62.35613250732422,-72.33961486816406,-82.52084350585938,25.561607360839844,-107.75459289550781,44.57804489135742,-8.706337928771973,1.154629111289978,-167.798828125,-198.6383514404297,-128.1520233154297,-146.0558624267578,-159.3873748779297,-152.62796020507812,-142.0466766357422,-176.56822204589844,-138.76303100585938,-163.32479858398438,-91.8393783569336,-163.834228515625,-116.36888885498047,-72.60816192626953,-219.1708221435547,-220.6832733154297,-25.65910530090332,-82.42234802246094,7.5739922523498535,-86.96226501464844,-231.21743774414062,-10.902310371398926,-243.6197509765625,-240.015869140625,-224.77716064453125,-299.7983703613281,-236.60231018066406,-105.8440170288086,-226.71694946289062,-58.58854293823242,-60.42597579956055,-227.17837524414062,-101.15464782714844,-1.1591917276382446,-130.65142822265625,-122.8304443359375,-215.85939025878906,-201.84664916992188,-25.58338737487793,-19.13859748840332,-59.85270690917969,-94.3255386352539],\"yaxis\":\"y\",\"type\":\"scatter\"},{\"customdata\":[[\"sales document (person)\",\"huzirina\",\"P338308\",\"7th century\",1,7]],\"hovertemplate\":\"provenience=Sultantepe (Huzirina)<br>component 1=%{x}<br>component 2=%{y}<br>subgenre=%{customdata[0]}<br>project=%{customdata[1]}<br>index=%{customdata[2]}<br>date_for_viz=%{customdata[3]}<br>Text_length_partial=%{customdata[4]}<br>Text_length_full=%{customdata[5]}<extra></extra>\",\"legendgroup\":\"Sultantepe (Huzirina)\",\"marker\":{\"color\":\"#ab63fa\",\"symbol\":\"circle\",\"line\":{\"color\":\"black\",\"width\":1}},\"mode\":\"markers\",\"name\":\"Sultantepe (Huzirina)\",\"orientation\":\"v\",\"showlegend\":true,\"x\":[-484.43023681640625],\"xaxis\":\"x\",\"y\":[-9.94802474975586],\"yaxis\":\"y\",\"type\":\"scatter\"},{\"customdata\":[[\"sales document (person)\",\"mallanate\",\"P342654\",\"Ashurbanipal\",5,7],[\"sales document (person)\",\"mallanate\",\"P522850\",\"Sargonid period\",5,5],[\"sales document (person)\",\"mallanate\",\"P522851\",\"Sargonid period\",5,5],[\"sales document (person)\",\"mallanate\",\"P522852\",\"Sargonid period\",5,5],[\"sales document (person)\",\"mallanate\",\"P522853\",\"Sargonid period\",8,8],[\"sales document (person)\",\"mallanate\",\"P522854\",\"Sargonid period\",7,8],[\"sales document (person)\",\"mallanate\",\"P522855\",\"Sargonid period\",5,5],[\"sales document (person)\",\"mallanate\",\"P522856\",\"Sargonid period\",5,5],[\"sales document (person)\",\"mallanate\",\"P522857\",\"Sargonid period\",12,12],[\"sales document (field)\",\"mallanate\",\"P522859\",\"Sargonid period\",9,9],[\"sales document (field)\",\"mallanate\",\"P522861\",\"Sargonid period\",7,7],[\"sales document (field)\",\"mallanate\",\"P522869\",\"Ashurbanipal\",4,11],[\"sales document (person)\",\"mallanate\",\"P522881\",\"Ashurbanipal\",10,10],[\"sales document (person)\",\"mallanate\",\"P522882\",\"Ashurbanipal\",3,12],[\"sales document (plot)\",\"mallanate\",\"P522883\",\"7th century\",2,6]],\"hovertemplate\":\"provenience=unknown (Ma'allanate)<br>component 1=%{x}<br>component 2=%{y}<br>subgenre=%{customdata[0]}<br>project=%{customdata[1]}<br>index=%{customdata[2]}<br>date_for_viz=%{customdata[3]}<br>Text_length_partial=%{customdata[4]}<br>Text_length_full=%{customdata[5]}<extra></extra>\",\"legendgroup\":\"unknown (Ma'allanate)\",\"marker\":{\"color\":\"#FFA15A\",\"symbol\":\"circle\",\"line\":{\"color\":\"black\",\"width\":1}},\"mode\":\"markers\",\"name\":\"unknown (Ma'allanate)\",\"orientation\":\"v\",\"showlegend\":true,\"x\":[20.131229400634766,84.4836196899414,371.477783203125,401.2372131347656,185.57777404785156,33.78339385986328,329.8782043457031,180.3594207763672,237.43128967285156,-3.86692214012146,-16.06390953063965,-222.8840789794922,260.3349304199219,-393.8716125488281,-463.8709716796875],\"xaxis\":\"x\",\"y\":[49.82686996459961,117.80023956298828,-66.87628173828125,-35.183921813964844,68.6395263671875,18.958877563476562,30.632049560546875,150.3120880126953,-31.19199562072754,78.7158203125,147.2958221435547,164.72186279296875,-38.946956634521484,-81.02490997314453,-10.547727584838867],\"yaxis\":\"y\",\"type\":\"scatter\"},{\"customdata\":[[\"sales document (person)\",\"marqasu\",\"P522546\",\"Sargonid period\",9,9],[\"sales document (person)\",\"marqasu\",\"P522547\",\"Sargonid period\",4,5],[\"sales document (person)\",\"marqasu\",\"P522548\",\"7th century\",7,9],[\"sales document (person)\",\"marqasu\",\"P522549\",\"post-canonical\",36,36],[\"sales document (person)\",\"marqasu\",\"P522553\",\"Ashurbanipal\",10,10],[\"sales document (person)\",\"marqasu\",\"P522555\",\"post-canonical\",11,11],[\"sales document (person)\",\"marqasu\",\"P522559\",\"post-canonical\",8,8],[\"sales document (person)\",\"marqasu\",\"P522560\",\"Sargonid period\",2,5],[\"sales document (person)\",\"marqasu\",\"P522562\",\"Sargonid period\",10,10],[\"sales document (person)\",\"marqasu\",\"P522563\",\"Ashurbanipal\",2,5],[\"sales document (garden)\",\"marqasu\",\"P522566\",\"Ashurbanipal\",12,12],[\"sales document (field)\",\"marqasu\",\"P522567\",\"Ashurbanipal\",5,5],[\"sales document (person)\",\"marqasu\",\"P522568\",\"Ashurbanipal\",11,11],[\"sales document (person)\",\"marqasu\",\"P522572\",\"Sargonid period\",5,5],[\"sales document (field)\",\"marqasu\",\"P522573\",\"Sargonid period\",5,5],[\"sales document (person)\",\"marqasu\",\"P522576\",\"Ashurbanipal\",5,5],[\"sales document (person)\",\"marqasu\",\"P522577\",\"Ashurbanipal\",7,7]],\"hovertemplate\":\"provenience=Kahramanmara\\u015f  (Marqasu)<br>component 1=%{x}<br>component 2=%{y}<br>subgenre=%{customdata[0]}<br>project=%{customdata[1]}<br>index=%{customdata[2]}<br>date_for_viz=%{customdata[3]}<br>Text_length_partial=%{customdata[4]}<br>Text_length_full=%{customdata[5]}<extra></extra>\",\"legendgroup\":\"Kahramanmara\\u015f  (Marqasu)\",\"marker\":{\"color\":\"#19d3f3\",\"symbol\":\"circle\",\"line\":{\"color\":\"black\",\"width\":1}},\"mode\":\"markers\",\"name\":\"Kahramanmara\\u015f  (Marqasu)\",\"orientation\":\"v\",\"showlegend\":true,\"x\":[277.3909606933594,367.0770568847656,289.2290344238281,181.50543212890625,178.64073181152344,220.2727508544922,323.9279479980469,43.34946060180664,173.81947326660156,43.34946060180664,197.94500732421875,271.10211181640625,210.5734100341797,381.4743347167969,395.0534362792969,240.32215881347656,187.37045288085938],\"xaxis\":\"x\",\"y\":[30.893749237060547,23.028894424438477,22.853076934814453,5.427030563354492,102.96980285644531,4.911388874053955,-71.16088104248047,-218.83444213867188,82.0337142944336,-218.83444213867188,69.67361450195312,142.19407653808594,77.39588165283203,-68.73220825195312,2.0086610317230225,136.08255004882812,76.88793182373047],\"yaxis\":\"y\",\"type\":\"scatter\"},{\"customdata\":[[\"sales document (person)\",\"tilbarsip\",\"P522599\",\"Ashurbanipal\",4,5],[\"sales document (person)\",\"tilbarsip\",\"P522604\",\"Ashurbanipal\",5,5]],\"hovertemplate\":\"provenience=Tell Ahmar (Til Barsip)<br>component 1=%{x}<br>component 2=%{y}<br>subgenre=%{customdata[0]}<br>project=%{customdata[1]}<br>index=%{customdata[2]}<br>date_for_viz=%{customdata[3]}<br>Text_length_partial=%{customdata[4]}<br>Text_length_full=%{customdata[5]}<extra></extra>\",\"legendgroup\":\"Tell Ahmar (Til Barsip)\",\"marker\":{\"color\":\"#FF6692\",\"symbol\":\"circle\",\"line\":{\"color\":\"black\",\"width\":1}},\"mode\":\"markers\",\"name\":\"Tell Ahmar (Til Barsip)\",\"orientation\":\"v\",\"showlegend\":true,\"x\":[59.17653274536133,210.1703338623047],\"xaxis\":\"x\",\"y\":[-150.77272033691406,159.8660430908203],\"yaxis\":\"y\",\"type\":\"scatter\"},{\"customdata\":[[\"sales document (person)\",\"burmarina\",\"P522614\",\"Sargonid period\",1,5],[\"sales document (person)\",\"burmarina\",\"P522617\",\"Sargonid period\",2,7],[\"sales document\",\"burmarina\",\"P522618\",\"Sargonid period\",11,25],[\"sales document (person)\",\"burmarina\",\"P522619\",\"Sargonid period\",2,22],[\"sales document\",\"burmarina\",\"P522620\",\"Sargonid period\",2,4],[\"sales document (field)\",\"burmarina\",\"P522621\",\"Sargonid period\",1,7]],\"hovertemplate\":\"provenience=Tell Shiukh Fawqani (Burmarina)<br>component 1=%{x}<br>component 2=%{y}<br>subgenre=%{customdata[0]}<br>project=%{customdata[1]}<br>index=%{customdata[2]}<br>date_for_viz=%{customdata[3]}<br>Text_length_partial=%{customdata[4]}<br>Text_length_full=%{customdata[5]}<extra></extra>\",\"legendgroup\":\"Tell Shiukh Fawqani (Burmarina)\",\"marker\":{\"color\":\"#B6E880\",\"symbol\":\"circle\",\"line\":{\"color\":\"black\",\"width\":1}},\"mode\":\"markers\",\"name\":\"Tell Shiukh Fawqani (Burmarina)\",\"orientation\":\"v\",\"showlegend\":true,\"x\":[-397.224365234375,41.564517974853516,203.3973846435547,-159.4050750732422,-80.90664672851562,-80.90664672851562],\"xaxis\":\"x\",\"y\":[-91.8393783569336,64.20506286621094,-101.07184600830078,54.504032135009766,-299.7983703613281,-299.7983703613281],\"yaxis\":\"y\",\"type\":\"scatter\"},{\"customdata\":[[\"sales document (person)\",\"samal\",\"P522658\",\"Sargonid period\",5,5]],\"hovertemplate\":\"provenience=Zin\\u010dirli (Samal)<br>component 1=%{x}<br>component 2=%{y}<br>subgenre=%{customdata[0]}<br>project=%{customdata[1]}<br>index=%{customdata[2]}<br>date_for_viz=%{customdata[3]}<br>Text_length_partial=%{customdata[4]}<br>Text_length_full=%{customdata[5]}<extra></extra>\",\"legendgroup\":\"Zin\\u010dirli (Samal)\",\"marker\":{\"color\":\"#FF97FF\",\"symbol\":\"circle\",\"line\":{\"color\":\"black\",\"width\":1}},\"mode\":\"markers\",\"name\":\"Zin\\u010dirli (Samal)\",\"orientation\":\"v\",\"showlegend\":true,\"x\":[215.98875427246094],\"xaxis\":\"x\",\"y\":[137.28025817871094],\"yaxis\":\"y\",\"type\":\"scatter\"},{\"customdata\":[[\"sales document (field)\",\"imgurenlil\",\"P522826\",\"8th century\",4,4],[\"lease document (field)\",\"imgurenlil\",\"P522827\",\"7th century\",6,8],[\"lease document (field)\",\"imgurenlil\",\"P522830\",\"Unknown\",1,5],[\"sales document (person)\",\"imgurenlil\",\"P522841\",\"Sargonid period\",14,14],[\"sales document (person)\",\"imgurenlil\",\"P522842\",\"Sargonid period\",5,5],[\"sales document (field)\",\"imgurenlil\",\"P522846\",\"Sargonid period\",11,12]],\"hovertemplate\":\"provenience=Balawat (Imgur-Enlil)<br>component 1=%{x}<br>component 2=%{y}<br>subgenre=%{customdata[0]}<br>project=%{customdata[1]}<br>index=%{customdata[2]}<br>date_for_viz=%{customdata[3]}<br>Text_length_partial=%{customdata[4]}<br>Text_length_full=%{customdata[5]}<extra></extra>\",\"legendgroup\":\"Balawat (Imgur-Enlil)\",\"marker\":{\"color\":\"#FECB52\",\"symbol\":\"circle\",\"line\":{\"color\":\"black\",\"width\":1}},\"mode\":\"markers\",\"name\":\"Balawat (Imgur-Enlil)\",\"orientation\":\"v\",\"showlegend\":true,\"x\":[23.097257614135742,55.244911193847656,-329.2188720703125,-48.61512756347656,318.2584533691406,-26.564533233642578],\"xaxis\":\"x\",\"y\":[147.554443359375,-118.85916137695312,-33.851226806640625,88.45654296875,-9.410725593566895,38.95167541503906],\"yaxis\":\"y\",\"type\":\"scatter\"},{\"customdata\":[[\"sales document (person)\",\"durkatlimmu\",\"P527129\",\"Ashurbanipal\",7,8],[\"sales document (field)\",\"durkatlimmu\",\"P527133\",\"Sargonid period\",6,7],[\"sales document (person)\",\"durkatlimmu\",\"P527134\",\"Ashurbanipal\",2,7],[\"sales document (house)\",\"durkatlimmu\",\"P527136\",\"Ashurbanipal\",5,7],[\"sales document\",\"durkatlimmu\",\"P527140\",\"Sargonid period\",1,2],[\"sales document (person)\",\"durkatlimmu\",\"P527143\",\"Ashurbanipal\",7,7],[\"sales document (person)\",\"durkatlimmu\",\"P527144\",\"post-canonical\",1,5],[\"sales document (person)\",\"durkatlimmu\",\"P527151\",\"Ashurbanipal\",4,7],[\"sales document (field)\",\"durkatlimmu\",\"P527154\",\"post-canonical\",10,10],[\"sales document (person)\",\"durkatlimmu\",\"P527155\",\"post-canonical\",1,8],[\"sales document (house)\",\"durkatlimmu\",\"P527156\",\"post-canonical\",7,7],[\"sales document (person)\",\"durkatlimmu\",\"P527159\",\"7th century\",3,5],[\"sales document (field)\",\"durkatlimmu\",\"P527162\",\"Nebuchadnezzar II\",7,7],[\"sales document (field)\",\"durkatlimmu\",\"P527163\",\"Nebuchadnezzar II\",11,11],[\"sales document (field)\",\"durkatlimmu\",\"P527164\",\"Nebuchadnezzar II\",7,7],[\"sales document (field)\",\"durkatlimmu\",\"P527165\",\"Nebuchadnezzar II\",11,11],[\"sales document (person)\",\"durkatlimmu\",\"P527167\",\"Ashurbanipal\",1,7],[\"sales document (garden)\",\"durkatlimmu\",\"P527168\",\"Ashurbanipal\",7,7],[\"sales document (person)\",\"durkatlimmu\",\"P527169\",\"Ashurbanipal\",7,7],[\"sales document (person)\",\"durkatlimmu\",\"P527170\",\"Ashurbanipal\",5,7],[\"sales document (person)\",\"durkatlimmu\",\"P527171\",\"Ashurbanipal\",1,2],[\"sales document (person)\",\"durkatlimmu\",\"P527172\",\"Ashurbanipal\",7,7],[\"sales document (field)\",\"durkatlimmu\",\"P527173\",\"Ashurbanipal\",10,10],[\"sales document (person)\",\"durkatlimmu\",\"P527174\",\"Ashurbanipal\",3,7],[\"sales document (person)\",\"durkatlimmu\",\"P527175\",\"Ashurbanipal\",6,12],[\"sales document (garden)\",\"durkatlimmu\",\"P527176\",\"Ashurbanipal\",1,7],[\"sales document (person)\",\"durkatlimmu\",\"P527177\",\"Ashurbanipal\",9,11],[\"sales document (person)\",\"durkatlimmu\",\"P527178\",\"Ashurbanipal\",7,7],[\"sales document (person)\",\"durkatlimmu\",\"P527179\",\"Ashurbanipal\",9,9],[\"sales document (field)\",\"durkatlimmu\",\"P527180\",\"Ashurbanipal\",3,7],[\"sales document (person)\",\"durkatlimmu\",\"P527181\",\"Ashurbanipal\",5,8],[\"sales document (field)\",\"durkatlimmu\",\"P527182\",\"Ashurbanipal\",5,9],[\"sales document (person)\",\"durkatlimmu\",\"P527183\",\"Ashurbanipal\",7,12],[\"sales document (person)\",\"durkatlimmu\",\"P527184\",\"Ashurbanipal\",6,8],[\"sales document (person)\",\"durkatlimmu\",\"P527185\",\"Ashurbanipal\",7,7],[\"sales document (person)\",\"durkatlimmu\",\"P527186\",\"Ashurbanipal\",1,4],[\"sales document (person)\",\"durkatlimmu\",\"P527187\",\"Ashurbanipal\",3,5],[\"sales document (person)\",\"durkatlimmu\",\"P527188\",\"Ashurbanipal\",7,7],[\"sales document (person)\",\"durkatlimmu\",\"P527189\",\"Ashurbanipal\",11,11],[\"sales document (person)\",\"durkatlimmu\",\"P527190\",\"Ashurbanipal\",7,7],[\"sales document (person)\",\"durkatlimmu\",\"P527191\",\"Ashurbanipal\",7,7],[\"sales document (person)\",\"durkatlimmu\",\"P527192\",\"Ashurbanipal\",3,7],[\"sales document (field)\",\"durkatlimmu\",\"P527195\",\"Ashurbanipal\",1,9],[\"sales document (person)\",\"durkatlimmu\",\"P527197\",\"Ashurbanipal\",1,7],[\"sales document (person)\",\"durkatlimmu\",\"P527200\",\"7th century\",8,9],[\"sales document (person)\",\"durkatlimmu\",\"P527203\",\"7th century\",1,7],[\"sales document (field)\",\"durkatlimmu\",\"P527205\",\"7th century\",1,6],[\"sales document (house)\",\"durkatlimmu\",\"P527208\",\"7th century\",1,7],[\"sales document (person)\",\"durkatlimmu\",\"P527210\",\"7th century\",6,7],[\"sales document (person)\",\"durkatlimmu\",\"P527211\",\"7th century\",1,9],[\"sales document (field)\",\"durkatlimmu\",\"P527213\",\"7th century\",11,19],[\"sales document (person)\",\"durkatlimmu\",\"P527214\",\"7th century\",6,10],[\"sales document (person)\",\"durkatlimmu\",\"P527215\",\"7th century\",2,12],[\"sales document (person)\",\"durkatlimmu\",\"P527216\",\"7th century\",3,7],[\"sales document (field)\",\"durkatlimmu\",\"P527218\",\"7th century\",5,10],[\"sales document (field)\",\"durkatlimmu\",\"P527219\",\"7th century\",8,9],[\"sales document (person)\",\"durkatlimmu\",\"P527222\",\"7th century\",3,5],[\"sales document (person)\",\"durkatlimmu\",\"P527224\",\"Ashurbanipal\",1,7],[\"sales document (field)\",\"durkatlimmu\",\"P527232\",\"Sargonid period\",2,5],[\"sales document (field)\",\"durkatlimmu\",\"P527238\",\"Sargonid period\",2,7],[\"sales document (field)\",\"durkatlimmu\",\"P527241\",\"9th century\",1,2],[\"sales document (person)\",\"durkatlimmu\",\"P527244\",\"Sargonid period\",5,5],[\"sales document (field)\",\"durkatlimmu\",\"P527245\",\"7th century\",3,4],[\"sales document (house)\",\"durkatlimmu\",\"P527246\",\"Sargonid period\",6,7],[\"sales document (field)\",\"durkatlimmu\",\"P527247\",\"7th century\",3,7],[\"sales document (person)\",\"durkatlimmu\",\"P527249\",\"Sargonid period\",1,4],[\"sales document (field)\",\"durkatlimmu\",\"P527250\",\"Ashurbanipal\",1,7],[\"sales document (field)\",\"durkatlimmu\",\"P527252\",\"Sargonid period\",6,7],[\"sales document (garden)\",\"durkatlimmu\",\"P527253\",\"7th century\",1,4],[\"sales document (garden)\",\"durkatlimmu\",\"P527255\",\"Sargonid period\",5,7],[\"sales document (field)\",\"durkatlimmu\",\"P527257\",\"Sargonid period\",5,7],[\"sales document\",\"durkatlimmu\",\"P527258\",\"Sargonid period\",6,6],[\"sales document (person)\",\"durkatlimmu\",\"P527261\",\"Ashurbanipal\",3,5],[\"sales document\",\"durkatlimmu\",\"P527265\",\"Ashurbanipal\",2,7],[\"sales document (field)\",\"durkatlimmu\",\"P527269\",\"Ashurbanipal\",3,8],[\"sales document\",\"durkatlimmu\",\"P527273\",\"post-canonical\",1,5],[\"sales document (person)\",\"durkatlimmu\",\"P527281\",\"7th century\",4,7],[\"sales document (field)\",\"durkatlimmu\",\"P527286\",\"7th century\",6,7],[\"sales document (person)\",\"durkatlimmu\",\"P527288\",\"7th century\",1,4],[\"sales document\",\"durkatlimmu\",\"P527292\",\"7th century\",4,10],[\"sales document (field)\",\"durkatlimmu\",\"P527294\",\"post-canonical\",2,6],[\"sales document (person)\",\"durkatlimmu\",\"P527298\",\"7th century\",2,9],[\"sales document (person)\",\"durkatlimmu\",\"P527299\",\"7th century\",2,7],[\"sales document (person)\",\"durkatlimmu\",\"P527300\",\"7th century\",3,7],[\"sales document (field)\",\"durkatlimmu\",\"P527301\",\"Ashurbanipal\",1,7],[\"sales document (person)\",\"durkatlimmu\",\"P527302\",\"7th century\",2,7],[\"sales document (field, person)\",\"durkatlimmu\",\"P527305\",\"7th century\",7,12],[\"sales document (field)\",\"durkatlimmu\",\"P527306\",\"7th century\",1,6],[\"sales document (person)\",\"durkatlimmu\",\"P527309\",\"7th century\",1,7],[\"sales document (person)\",\"durkatlimmu\",\"P527311\",\"7th century\",2,7],[\"sales document (field)\",\"durkatlimmu\",\"P527313\",\"7th century\",4,7],[\"sales document\",\"durkatlimmu\",\"P527314\",\"Sargonid period\",1,2],[\"sales document (person)\",\"durkatlimmu\",\"P527316\",\"7th century\",1,5]],\"hovertemplate\":\"provenience=Tell Sheikh Hamad (Dur-Katlimmu)<br>component 1=%{x}<br>component 2=%{y}<br>subgenre=%{customdata[0]}<br>project=%{customdata[1]}<br>index=%{customdata[2]}<br>date_for_viz=%{customdata[3]}<br>Text_length_partial=%{customdata[4]}<br>Text_length_full=%{customdata[5]}<extra></extra>\",\"legendgroup\":\"Tell Sheikh Hamad (Dur-Katlimmu)\",\"marker\":{\"color\":\"#636efa\",\"symbol\":\"circle\",\"line\":{\"color\":\"black\",\"width\":1}},\"mode\":\"markers\",\"name\":\"Tell Sheikh Hamad (Dur-Katlimmu)\",\"orientation\":\"v\",\"showlegend\":true,\"x\":[217.73863220214844,233.9137420654297,-270.6770935058594,16.439117431640625,-204.05758666992188,244.3019256591797,-423.4250183105469,341.4410705566406,-123.63905334472656,-473.96026611328125,342.47100830078125,-211.28431701660156,371.69110107421875,242.19154357910156,342.42767333984375,380.58062744140625,-425.7576904296875,294.8822326660156,222.7032928466797,223.59410095214844,-206.7928009033203,348.85638427734375,286.9530944824219,-48.986202239990234,-15.061325073242188,-75.23686218261719,351.81024169921875,361.4438781738281,374.2212829589844,370.7084045410156,149.22572326660156,36.06511688232422,213.2382049560547,11.504887580871582,341.96533203125,-80.90664672851562,-26.832067489624023,331.68609619140625,356.5476379394531,356.5476379394531,346.0977783203125,-48.59294128417969,-470.01129150390625,-470.01129150390625,339.3371276855469,-385.8287353515625,-67.51832580566406,-405.7269592285156,230.40280151367188,-486.5838317871094,238.67820739746094,154.5054931640625,-323.9770812988281,18.825124740600586,-229.21946716308594,318.52374267578125,32.37731170654297,-425.7576904296875,-397.141357421875,43.34946060180664,-80.90664672851562,214.09471130371094,195.53912353515625,165.1011505126953,-139.4358673095703,-196.2716064453125,-478.5780334472656,184.24343872070312,-411.331298828125,240.03599548339844,193.60459899902344,205.94334411621094,-184.5971221923828,-206.43475341796875,45.8306999206543,-387.4961242675781,-67.82510375976562,334.407958984375,-318.7545166015625,-211.21849060058594,-88.97013092041016,-273.2940979003906,-228.27308654785156,-21.158483505249023,-263.2300109863281,-52.3879280090332,9.380328178405762,-385.678466796875,-67.51832580566406,-228.27308654785156,47.402591705322266,-67.51832580566406,-478.4952697753906],\"xaxis\":\"x\",\"y\":[116.62454986572266,167.08338928222656,-119.1302261352539,64.72605895996094,212.73214721679688,118.56111145019531,-24.475500106811523,22.138870239257812,186.24713134765625,-8.507275581359863,-70.96212005615234,165.04574584960938,-3.3826794624328613,27.362709045410156,-13.495248794555664,8.672467231750488,-60.69601058959961,-47.00532531738281,169.0448455810547,125.72473907470703,221.33824157714844,-47.03374481201172,-45.47840881347656,-100.80754852294922,-184.99073791503906,-94.60380554199219,-12.995664596557617,-76.0204849243164,-75.85233306884766,35.71636199951172,14.090381622314453,36.28679275512695,-76.8747329711914,57.343624114990234,-22.248380661010742,-299.7983703613281,-69.78285217285156,-68.40888977050781,-39.36275863647461,-39.36275863647461,-38.62022018432617,-59.800926208496094,-21.471328735351562,-21.471328735351562,-51.017127990722656,-57.13401412963867,-304.9892578125,-1.5715614557266235,156.19862365722656,-21.584667205810547,-9.052960395812988,4.021487236022949,-15.619427680969238,-93.14363098144531,189.8789520263672,18.195011138916016,-193.601806640625,-60.69601058959961,-46.82575988769531,-218.83444213867188,-299.7983703613281,-89.15814208984375,-124.14656829833984,-123.67945098876953,136.64842224121094,216.3623809814453,-28.224119186401367,-78.52815246582031,-15.2906494140625,161.87001037597656,-96.346923828125,-110.23436737060547,157.70852661132812,187.599853515625,-200.07696533203125,-25.58338737487793,-239.90243530273438,-77.08485412597656,-1.1766778230667114,148.8910369873047,-262.2204284667969,-92.74695587158203,200.992919921875,-104.06365203857422,-103.36962890625,-107.7391357421875,19.674901962280273,-41.64947509765625,-304.9892578125,200.992919921875,-190.61460876464844,-304.9892578125,-17.012187957763672],\"yaxis\":\"y\",\"type\":\"scatter\"},{\"customdata\":[[\"sales document (person)\",\"guzana\",\"P527420\",\"post-canonical\",4,10],[\"sales document (person)\",\"guzana\",\"X214103\",\"8th century\",6,14]],\"hovertemplate\":\"provenience=Tell Halaf (Guzana)<br>component 1=%{x}<br>component 2=%{y}<br>subgenre=%{customdata[0]}<br>project=%{customdata[1]}<br>index=%{customdata[2]}<br>date_for_viz=%{customdata[3]}<br>Text_length_partial=%{customdata[4]}<br>Text_length_full=%{customdata[5]}<extra></extra>\",\"legendgroup\":\"Tell Halaf (Guzana)\",\"marker\":{\"color\":\"#EF553B\",\"symbol\":\"circle\",\"line\":{\"color\":\"black\",\"width\":1}},\"mode\":\"markers\",\"name\":\"Tell Halaf (Guzana)\",\"orientation\":\"v\",\"showlegend\":true,\"x\":[-105.16388702392578,6.158959865570068],\"xaxis\":\"x\",\"y\":[-256.7720642089844,-154.83248901367188],\"yaxis\":\"y\",\"type\":\"scatter\"}],                        {\"template\":{\"data\":{\"histogram2dcontour\":[{\"type\":\"histogram2dcontour\",\"colorbar\":{\"outlinewidth\":0,\"ticks\":\"\"},\"colorscale\":[[0.0,\"#0d0887\"],[0.1111111111111111,\"#46039f\"],[0.2222222222222222,\"#7201a8\"],[0.3333333333333333,\"#9c179e\"],[0.4444444444444444,\"#bd3786\"],[0.5555555555555556,\"#d8576b\"],[0.6666666666666666,\"#ed7953\"],[0.7777777777777778,\"#fb9f3a\"],[0.8888888888888888,\"#fdca26\"],[1.0,\"#f0f921\"]]}],\"choropleth\":[{\"type\":\"choropleth\",\"colorbar\":{\"outlinewidth\":0,\"ticks\":\"\"}}],\"histogram2d\":[{\"type\":\"histogram2d\",\"colorbar\":{\"outlinewidth\":0,\"ticks\":\"\"},\"colorscale\":[[0.0,\"#0d0887\"],[0.1111111111111111,\"#46039f\"],[0.2222222222222222,\"#7201a8\"],[0.3333333333333333,\"#9c179e\"],[0.4444444444444444,\"#bd3786\"],[0.5555555555555556,\"#d8576b\"],[0.6666666666666666,\"#ed7953\"],[0.7777777777777778,\"#fb9f3a\"],[0.8888888888888888,\"#fdca26\"],[1.0,\"#f0f921\"]]}],\"heatmap\":[{\"type\":\"heatmap\",\"colorbar\":{\"outlinewidth\":0,\"ticks\":\"\"},\"colorscale\":[[0.0,\"#0d0887\"],[0.1111111111111111,\"#46039f\"],[0.2222222222222222,\"#7201a8\"],[0.3333333333333333,\"#9c179e\"],[0.4444444444444444,\"#bd3786\"],[0.5555555555555556,\"#d8576b\"],[0.6666666666666666,\"#ed7953\"],[0.7777777777777778,\"#fb9f3a\"],[0.8888888888888888,\"#fdca26\"],[1.0,\"#f0f921\"]]}],\"heatmapgl\":[{\"type\":\"heatmapgl\",\"colorbar\":{\"outlinewidth\":0,\"ticks\":\"\"},\"colorscale\":[[0.0,\"#0d0887\"],[0.1111111111111111,\"#46039f\"],[0.2222222222222222,\"#7201a8\"],[0.3333333333333333,\"#9c179e\"],[0.4444444444444444,\"#bd3786\"],[0.5555555555555556,\"#d8576b\"],[0.6666666666666666,\"#ed7953\"],[0.7777777777777778,\"#fb9f3a\"],[0.8888888888888888,\"#fdca26\"],[1.0,\"#f0f921\"]]}],\"contourcarpet\":[{\"type\":\"contourcarpet\",\"colorbar\":{\"outlinewidth\":0,\"ticks\":\"\"}}],\"contour\":[{\"type\":\"contour\",\"colorbar\":{\"outlinewidth\":0,\"ticks\":\"\"},\"colorscale\":[[0.0,\"#0d0887\"],[0.1111111111111111,\"#46039f\"],[0.2222222222222222,\"#7201a8\"],[0.3333333333333333,\"#9c179e\"],[0.4444444444444444,\"#bd3786\"],[0.5555555555555556,\"#d8576b\"],[0.6666666666666666,\"#ed7953\"],[0.7777777777777778,\"#fb9f3a\"],[0.8888888888888888,\"#fdca26\"],[1.0,\"#f0f921\"]]}],\"surface\":[{\"type\":\"surface\",\"colorbar\":{\"outlinewidth\":0,\"ticks\":\"\"},\"colorscale\":[[0.0,\"#0d0887\"],[0.1111111111111111,\"#46039f\"],[0.2222222222222222,\"#7201a8\"],[0.3333333333333333,\"#9c179e\"],[0.4444444444444444,\"#bd3786\"],[0.5555555555555556,\"#d8576b\"],[0.6666666666666666,\"#ed7953\"],[0.7777777777777778,\"#fb9f3a\"],[0.8888888888888888,\"#fdca26\"],[1.0,\"#f0f921\"]]}],\"mesh3d\":[{\"type\":\"mesh3d\",\"colorbar\":{\"outlinewidth\":0,\"ticks\":\"\"}}],\"scatter\":[{\"fillpattern\":{\"fillmode\":\"overlay\",\"size\":10,\"solidity\":0.2},\"type\":\"scatter\"}],\"parcoords\":[{\"type\":\"parcoords\",\"line\":{\"colorbar\":{\"outlinewidth\":0,\"ticks\":\"\"}}}],\"scatterpolargl\":[{\"type\":\"scatterpolargl\",\"marker\":{\"colorbar\":{\"outlinewidth\":0,\"ticks\":\"\"}}}],\"bar\":[{\"error_x\":{\"color\":\"#2a3f5f\"},\"error_y\":{\"color\":\"#2a3f5f\"},\"marker\":{\"line\":{\"color\":\"#E5ECF6\",\"width\":0.5},\"pattern\":{\"fillmode\":\"overlay\",\"size\":10,\"solidity\":0.2}},\"type\":\"bar\"}],\"scattergeo\":[{\"type\":\"scattergeo\",\"marker\":{\"colorbar\":{\"outlinewidth\":0,\"ticks\":\"\"}}}],\"scatterpolar\":[{\"type\":\"scatterpolar\",\"marker\":{\"colorbar\":{\"outlinewidth\":0,\"ticks\":\"\"}}}],\"histogram\":[{\"marker\":{\"pattern\":{\"fillmode\":\"overlay\",\"size\":10,\"solidity\":0.2}},\"type\":\"histogram\"}],\"scattergl\":[{\"type\":\"scattergl\",\"marker\":{\"colorbar\":{\"outlinewidth\":0,\"ticks\":\"\"}}}],\"scatter3d\":[{\"type\":\"scatter3d\",\"line\":{\"colorbar\":{\"outlinewidth\":0,\"ticks\":\"\"}},\"marker\":{\"colorbar\":{\"outlinewidth\":0,\"ticks\":\"\"}}}],\"scattermapbox\":[{\"type\":\"scattermapbox\",\"marker\":{\"colorbar\":{\"outlinewidth\":0,\"ticks\":\"\"}}}],\"scatterternary\":[{\"type\":\"scatterternary\",\"marker\":{\"colorbar\":{\"outlinewidth\":0,\"ticks\":\"\"}}}],\"scattercarpet\":[{\"type\":\"scattercarpet\",\"marker\":{\"colorbar\":{\"outlinewidth\":0,\"ticks\":\"\"}}}],\"carpet\":[{\"aaxis\":{\"endlinecolor\":\"#2a3f5f\",\"gridcolor\":\"white\",\"linecolor\":\"white\",\"minorgridcolor\":\"white\",\"startlinecolor\":\"#2a3f5f\"},\"baxis\":{\"endlinecolor\":\"#2a3f5f\",\"gridcolor\":\"white\",\"linecolor\":\"white\",\"minorgridcolor\":\"white\",\"startlinecolor\":\"#2a3f5f\"},\"type\":\"carpet\"}],\"table\":[{\"cells\":{\"fill\":{\"color\":\"#EBF0F8\"},\"line\":{\"color\":\"white\"}},\"header\":{\"fill\":{\"color\":\"#C8D4E3\"},\"line\":{\"color\":\"white\"}},\"type\":\"table\"}],\"barpolar\":[{\"marker\":{\"line\":{\"color\":\"#E5ECF6\",\"width\":0.5},\"pattern\":{\"fillmode\":\"overlay\",\"size\":10,\"solidity\":0.2}},\"type\":\"barpolar\"}],\"pie\":[{\"automargin\":true,\"type\":\"pie\"}]},\"layout\":{\"autotypenumbers\":\"strict\",\"colorway\":[\"#636efa\",\"#EF553B\",\"#00cc96\",\"#ab63fa\",\"#FFA15A\",\"#19d3f3\",\"#FF6692\",\"#B6E880\",\"#FF97FF\",\"#FECB52\"],\"font\":{\"color\":\"#2a3f5f\"},\"hovermode\":\"closest\",\"hoverlabel\":{\"align\":\"left\"},\"paper_bgcolor\":\"white\",\"plot_bgcolor\":\"#E5ECF6\",\"polar\":{\"bgcolor\":\"#E5ECF6\",\"angularaxis\":{\"gridcolor\":\"white\",\"linecolor\":\"white\",\"ticks\":\"\"},\"radialaxis\":{\"gridcolor\":\"white\",\"linecolor\":\"white\",\"ticks\":\"\"}},\"ternary\":{\"bgcolor\":\"#E5ECF6\",\"aaxis\":{\"gridcolor\":\"white\",\"linecolor\":\"white\",\"ticks\":\"\"},\"baxis\":{\"gridcolor\":\"white\",\"linecolor\":\"white\",\"ticks\":\"\"},\"caxis\":{\"gridcolor\":\"white\",\"linecolor\":\"white\",\"ticks\":\"\"}},\"coloraxis\":{\"colorbar\":{\"outlinewidth\":0,\"ticks\":\"\"}},\"colorscale\":{\"sequential\":[[0.0,\"#0d0887\"],[0.1111111111111111,\"#46039f\"],[0.2222222222222222,\"#7201a8\"],[0.3333333333333333,\"#9c179e\"],[0.4444444444444444,\"#bd3786\"],[0.5555555555555556,\"#d8576b\"],[0.6666666666666666,\"#ed7953\"],[0.7777777777777778,\"#fb9f3a\"],[0.8888888888888888,\"#fdca26\"],[1.0,\"#f0f921\"]],\"sequentialminus\":[[0.0,\"#0d0887\"],[0.1111111111111111,\"#46039f\"],[0.2222222222222222,\"#7201a8\"],[0.3333333333333333,\"#9c179e\"],[0.4444444444444444,\"#bd3786\"],[0.5555555555555556,\"#d8576b\"],[0.6666666666666666,\"#ed7953\"],[0.7777777777777778,\"#fb9f3a\"],[0.8888888888888888,\"#fdca26\"],[1.0,\"#f0f921\"]],\"diverging\":[[0,\"#8e0152\"],[0.1,\"#c51b7d\"],[0.2,\"#de77ae\"],[0.3,\"#f1b6da\"],[0.4,\"#fde0ef\"],[0.5,\"#f7f7f7\"],[0.6,\"#e6f5d0\"],[0.7,\"#b8e186\"],[0.8,\"#7fbc41\"],[0.9,\"#4d9221\"],[1,\"#276419\"]]},\"xaxis\":{\"gridcolor\":\"white\",\"linecolor\":\"white\",\"ticks\":\"\",\"title\":{\"standoff\":15},\"zerolinecolor\":\"white\",\"automargin\":true,\"zerolinewidth\":2},\"yaxis\":{\"gridcolor\":\"white\",\"linecolor\":\"white\",\"ticks\":\"\",\"title\":{\"standoff\":15},\"zerolinecolor\":\"white\",\"automargin\":true,\"zerolinewidth\":2},\"scene\":{\"xaxis\":{\"backgroundcolor\":\"#E5ECF6\",\"gridcolor\":\"white\",\"linecolor\":\"white\",\"showbackground\":true,\"ticks\":\"\",\"zerolinecolor\":\"white\",\"gridwidth\":2},\"yaxis\":{\"backgroundcolor\":\"#E5ECF6\",\"gridcolor\":\"white\",\"linecolor\":\"white\",\"showbackground\":true,\"ticks\":\"\",\"zerolinecolor\":\"white\",\"gridwidth\":2},\"zaxis\":{\"backgroundcolor\":\"#E5ECF6\",\"gridcolor\":\"white\",\"linecolor\":\"white\",\"showbackground\":true,\"ticks\":\"\",\"zerolinecolor\":\"white\",\"gridwidth\":2}},\"shapedefaults\":{\"line\":{\"color\":\"#2a3f5f\"}},\"annotationdefaults\":{\"arrowcolor\":\"#2a3f5f\",\"arrowhead\":0,\"arrowwidth\":1},\"geo\":{\"bgcolor\":\"white\",\"landcolor\":\"#E5ECF6\",\"subunitcolor\":\"white\",\"showland\":true,\"showlakes\":true,\"lakecolor\":\"white\"},\"title\":{\"x\":0.05},\"mapbox\":{\"style\":\"light\"}}},\"xaxis\":{\"anchor\":\"y\",\"domain\":[0.0,1.0],\"title\":{\"text\":\"component 1\"}},\"yaxis\":{\"anchor\":\"x\",\"domain\":[0.0,1.0],\"title\":{\"text\":\"component 2\"}},\"legend\":{\"title\":{\"text\":\"provenience\"},\"tracegroupgap\":0},\"margin\":{\"t\":60}},                        {\"responsive\": true}                    ).then(function(){\n",
       "                            \n",
       "var gd = document.getElementById('60a6121f-9133-4e68-a30b-fd8c6bd9ce4c');\n",
       "var x = new MutationObserver(function (mutations, observer) {{\n",
       "        var display = window.getComputedStyle(gd).display;\n",
       "        if (!display || display === 'none') {{\n",
       "            console.log([gd, 'removed!']);\n",
       "            Plotly.purge(gd);\n",
       "            observer.disconnect();\n",
       "        }}\n",
       "}});\n",
       "\n",
       "// Listen for the removal of the full notebook cells\n",
       "var notebookContainer = gd.closest('#notebook-container');\n",
       "if (notebookContainer) {{\n",
       "    x.observe(notebookContainer, {childList: true});\n",
       "}}\n",
       "\n",
       "// Listen for the clearing of the current output cell\n",
       "var outputEl = gd.closest('.output');\n",
       "if (outputEl) {{\n",
       "    x.observe(outputEl, {childList: true});\n",
       "}}\n",
       "\n",
       "                        })                };                });            </script>        </div>"
      ]
     },
     "metadata": {},
     "output_type": "display_data"
    }
   ],
   "source": [
    "fig = px.scatter(reduced_tsne, x=\"component 1\", y=\"component 2\",\n",
    "                 color=\"provenience\",\n",
    "                 hover_data=[\"subgenre\", \"project\", reduced_tsne.index, \"date_for_viz\", \"Text_length_partial\", \"Text_length_full\"])\n",
    "fig.update_traces(marker=dict(line=dict(width=1, color='black')))\n",
    "fig.show()"
   ]
  },
  {
   "cell_type": "code",
   "execution_count": null,
   "id": "13158aef",
   "metadata": {},
   "outputs": [],
   "source": []
  }
 ],
 "metadata": {
  "kernelspec": {
   "display_name": "Python 3 (ipykernel)",
   "language": "python",
   "name": "python3"
  },
  "language_info": {
   "codemirror_mode": {
    "name": "ipython",
    "version": 3
   },
   "file_extension": ".py",
   "mimetype": "text/x-python",
   "name": "python",
   "nbconvert_exporter": "python",
   "pygments_lexer": "ipython3",
   "version": "3.8.15"
  }
 },
 "nbformat": 4,
 "nbformat_minor": 5
}
