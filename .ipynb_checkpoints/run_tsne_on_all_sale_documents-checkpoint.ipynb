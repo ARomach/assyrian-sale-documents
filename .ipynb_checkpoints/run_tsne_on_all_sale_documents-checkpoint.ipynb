{
 "cells": [
  {
   "cell_type": "markdown",
   "id": "fc6630f2",
   "metadata": {},
   "source": [
    "# Imports and Functions"
   ]
  },
  {
   "cell_type": "code",
   "execution_count": 1,
   "id": "91ac757e",
   "metadata": {},
   "outputs": [],
   "source": [
    "import os\n",
    "import re\n",
    "import pandas as pd\n",
    "from tqdm import tqdm\n",
    "import csv\n",
    "from sklearn.feature_extraction.text import CountVectorizer, TfidfVectorizer\n",
    "from scipy.spatial.distance import pdist, squareform\n",
    "from sklearn.decomposition import PCA\n",
    "from sklearn.manifold import TSNE\n",
    "import plotly.express as px\n",
    "import plotly.io as pio"
   ]
  },
  {
   "cell_type": "code",
   "execution_count": 2,
   "id": "e3b0c3ad",
   "metadata": {},
   "outputs": [],
   "source": [
    "# text processing functions\n",
    "def upload_corpus_csv(path):\n",
    "    \"\"\"\n",
    "    Function to upload CSV files containing the texts and converting them into a dataframe\n",
    "    :return: a list of dataframes\n",
    "    \"\"\"\n",
    "    texts = os.listdir(path)\n",
    "    corpus = []\n",
    "    for text in texts:\n",
    "        try:\n",
    "            df = pd.read_csv(f\"{path}/{text}\", encoding=\"utf-8\").fillna(\"\")\n",
    "            corpus.append(df)\n",
    "        except Exception as e:\n",
    "            print(f\"can't process {text}:\\n{e}\")\n",
    "    return corpus\n",
    "\n",
    "def split_df_by_column_value(df, column):\n",
    "    \"\"\"\n",
    "    Function to split the text dataframes according to a column. Used to separate text to lines\n",
    "    :param df: dataframe containing one word in each row.\n",
    "    :param column: the column by which to split the dfs, perferably `text` or `line`.\n",
    "    :return: a list of dataframes split according to the value given to the column parameter.\n",
    "    \"\"\"\n",
    "    dfs = []\n",
    "    column_values = df[column].unique()\n",
    "    for value in column_values:\n",
    "        split_df = df[df[column]==value]\n",
    "        dfs.append(split_df)\n",
    "    return dfs\n",
    "\n",
    "def df2str(df, column, break_perc=1, mask=True, segmentation=True):\n",
    "    \"\"\"\n",
    "    Function to convert the values from the text dataframe to a string of text with line breaks.\n",
    "    :param df: the text dataframe\n",
    "    :param column: the chosen column from the dataframe to construct the text from (preferably Unicode, cf, or lemma)\n",
    "    :param break_perc: a parameter which dictates whether to include broken words depending on the percentage of how broken they are. Compares this value to the `break_perc` column in the dataframe. Parameter is set to 1 (i.e. all words, whether broken or not, are included); can be any float between 0 and 1.\n",
    "    :param mask: boolean whether to mask named entities or not; set to True.\n",
    "    :return: a string which includes all the words in the texts according to the column chosen. Extra spaces that were between broken words or empty lines are removed.\n",
    "    \"\"\"\n",
    "    # check if column exists in dataframe. If not, return empty text.\n",
    "    if column not in df.columns:\n",
    "        return (\"\", 0, 0)\n",
    "    else: \n",
    "        # remove rows that include duplicate values for compound words\n",
    "        if column not in [\"norm\", \"cf\", \"sense\", \"pos\"]:\n",
    "            df = df.drop_duplicates(\"ref\").copy()\n",
    "        # if column entry is empty string, replace with UNK (can happen with normalization or lemmatization)\n",
    "        mask_empty = df[column]==\"\"\n",
    "        df[column] = df[column].where(~mask_empty, other=\"UNK\")\n",
    "        # mask proper nouns\n",
    "        if mask and \"pos\" in df.columns:\n",
    "            mask_bool = df[\"pos\"].isin([\"PN\", \"RN\", \"DN\", \"GN\", \"MN\", \"SN\", \"n\"])\n",
    "            df[column] = df[column].where(~mask_bool, other=df[\"pos\"])\n",
    "        # change number masking from `n` to `NUM`\n",
    "        if mask:\n",
    "            mask_num = df[column]==\"n\"\n",
    "            df[column] = df[column].where(~mask_num, other=\"NUM\")\n",
    "            # add masking to male PNs based on determinative\n",
    "            has_determinative = df[column].str[0]==\"𒁹\"\n",
    "            df[column] = df[column].where(~has_determinative, other=\"PN\")\n",
    "        # remove rows without break_perc\n",
    "        if \"\" in df[\"break_perc\"].unique().tolist():\n",
    "            df = df[df[\"break_perc\"]!=\"\"].copy()\n",
    "        # filter according to break_perc\n",
    "        mask_break = df[\"break_perc\"] <= break_perc\n",
    "        df[column] = df[column].where(mask_break, other=\"X\")\n",
    "        # calculate text length with and without UNK and x tokens\n",
    "        text_length_full = df.shape[0]\n",
    "        mask_partial = df[column].isin([\"UNK\", \"X\", \"x\"])\n",
    "        text_length_partial = text_length_full - sum(mask_partial)\n",
    "        # create text lines\n",
    "        text = \"\"\n",
    "        df_lines = split_df_by_column_value(df, \"line\")\n",
    "        for line in df_lines:\n",
    "            word_list = list(filter(None, line[column].to_list()))\n",
    "            if word_list != []:\n",
    "                text += \" \".join(map(str, word_list)).replace(\"x\", \"X\").strip() + \"\\n\"\n",
    "\n",
    "        if segmentation == False:\n",
    "            # remove all white spaces (word segmentation and line breaks)\n",
    "            text = re.sub(r\"[\\s\\u00A0]+\", \"\", text)\n",
    "            \n",
    "        # double check length of words in text matches number of rows:\n",
    "        len_text = len([word for word in text.replace(\"\\n\", \" \").split(\" \") if word != \"\"])\n",
    "        if len_text != text_length_full:\n",
    "            print(f\"Number of words in text ({len_text}) does not match number of rows in dataframe ({text_length_full})!\\nSee {df.loc[0, 'text']}\")\n",
    "\n",
    "        return (text, text_length_full, text_length_partial)\n",
    "    \n",
    "def get_segmented_unicode_texts(corpus, break_perc=1, mask=True):\n",
    "    \"\"\"\n",
    "    Function to convert the dataframes into strings of segmented unicode texts.\n",
    "    :param corpus: a list of dataframes\n",
    "    :param break_perc: a parameter which dictates whether to include broken words depending on the percentage of how broken they are. Compares this value to the `break_perc` column in the dataframe. Parameter is set to 1 (i.e. all words, whether broken or not, are included); can be any float between 0 and 1.\n",
    "    :param mask: boolean whether to mask named entities or not; set to True.\n",
    "    :return: a dictionary where the keys are the text IDs and the values are the segmented unicode texts\n",
    "    \"\"\"\n",
    "    texts_dict = {}\n",
    "    for df in corpus:\n",
    "        # get the text number from the dataframe \"text\" column\n",
    "        key = df.loc[0, \"text\"]\n",
    "        text, text_length_full, text_length_partial = df2str(df, \"unicode_word\", break_perc, mask)\n",
    "        texts_dict[key] = (text, text_length_full, text_length_partial)\n",
    "    return texts_dict\n",
    "\n",
    "def add_texts_dict_to_dataframe(df, text_dict):\n",
    "    text_df = pd.DataFrame(text_dict).transpose().rename(columns={0: \"Text\",\n",
    "                                                                  1: f\"Text_length_full\",\n",
    "                                                                  2: f\"Text_length_partial\"})\n",
    "    new_df = df.join(text_df)\n",
    "    return new_df"
   ]
  },
  {
   "cell_type": "code",
   "execution_count": 3,
   "id": "8a7e0672",
   "metadata": {},
   "outputs": [],
   "source": [
    "# vectorization and tsne functions\n",
    "# vectorizing texts\n",
    "\n",
    "def vectorize(vectorizer, corpus, analyzer=\"word\", ngram_range=(1,1), max_df=1.0, min_df=1, max_features=None, stop_words=[\"UNK\", \"X\"]):\n",
    "    \"\"\"\n",
    "    Converts a list of texts into a term-document matrix based on TF-IDF scores.\n",
    "    Full full documentation of the variables of TfidfVectorizer from sklearn, see:\n",
    "    https://scikit-learn.org/stable/modules/generated/sklearn.feature_extraction.text.TfidfVectorizer.html#sklearn.feature_extraction.text.TfidfVectorizer\n",
    "    :param corpus: a dataframe in which the texts are in a `\"Text\"` column and the dataframe's index is the text ids.\n",
    "    :param analyzer: whether the feature should be made of word or character n-grams.\n",
    "                     use `\"word\"` for word features, `\"char_wb\"` for character n-grams within word boundaries,\n",
    "                     or `\"char\"` for character n-grams without word boundaries.\n",
    "    :param ngram_range: the lower and upper boundary of the range of n-values for different n-grams to be extracted.\n",
    "    :param max_df: threshold to ignore terms that have a document frequency above a certain value.\n",
    "                   If the threshold is a float, it represent a proportion of the documents.\n",
    "                   If the threshold is an integer, it represents absolute counts of number of documents in which the terms appears.\n",
    "    :param min_df: threshold to ignore terms that have a document frequency below a certain value.\n",
    "                   If the threshold is a float, it represent a proportion of the documents.\n",
    "                   If the threshold is an integer, it represents absolute counts of number of documents in which the terms appears.\n",
    "    :param max_features: if not `None`, build a vocabulary that only considers the top max_features ordered by term frequency across the corpus.\n",
    "    :param stop_words: if `None`, no stop words are used. Otherwise, can be a list with words to be removed from resulting tokens.\n",
    "    :return: `counts` the raw counts of the vectorizer,\n",
    "             `counts_df` a dataframe of the counts where the index is the text ids and the columns are the tokens,\n",
    "             `stop_words` an updated list of stop words\n",
    "    \"\"\"\n",
    "\n",
    "    if vectorizer == \"tfidf\":\n",
    "        vectorizer = TfidfVectorizer(input=\"content\", lowercase=False, analyzer=analyzer,\n",
    "                                 token_pattern=r\"(?u)\\b\\w+\\b\", ngram_range=ngram_range,\n",
    "                                 max_df=max_df, min_df=min_df, max_features=max_features, stop_words=stop_words)\n",
    "    elif vectorizer == \"count\":\n",
    "        vectorizer = CountVectorizer(input=\"content\", lowercase=False, analyzer=analyzer,\n",
    "                                 token_pattern=r\"(?u)\\b\\w+\\b\", ngram_range=ngram_range,\n",
    "                                 max_df=max_df, min_df=min_df, max_features=max_features, stop_words=stop_words,\n",
    "                                 binary=True)\n",
    "\n",
    "    counts = vectorizer.fit_transform(corpus[\"Text\"].tolist()).toarray()\n",
    "    stop_words = vectorizer.stop_words_\n",
    "\n",
    "    # saving the vocab used for vectorization, and switching the dictionary so that the feature index is the key\n",
    "    vocab = vectorizer.vocabulary_\n",
    "    switched_vocab = {value: key for key, value in vocab.items()}\n",
    "    # adding the vocab words to the counts dataframe for easier viewing.\n",
    "    column_names = []\n",
    "    x = 0\n",
    "    while x < len(switched_vocab):\n",
    "        column_names.append(switched_vocab[x])\n",
    "        x += 1\n",
    "\n",
    "    counts_df = pd.DataFrame(counts, index=corpus.index, columns=column_names)\n",
    "\n",
    "    return (counts, counts_df, stop_words)\n",
    "\n",
    "# calculating distances between vectorized documents\n",
    "\n",
    "def distance_calculator(counts, metric, text_ids):\n",
    "    \"\"\"\n",
    "    Converts a term-document matrix to a text similarity matrix.\n",
    "    :param counts: the raw counts from the `vectorize` function.\n",
    "    :param metric: the metric by which to calculate the distances between the texts in the corpus.\n",
    "                   Valid metrics are:\n",
    "                   ‘braycurtis’, ‘canberra’, ‘chebyshev’, ‘cityblock’, ‘correlation’, ‘cosine’,\n",
    "                   ‘dice’, ‘euclidean’, ‘hamming’, ‘jaccard’, ‘jensenshannon’, ‘kulczynski1’,\n",
    "                   ‘mahalanobis’, ‘matching’, ‘minkowski’, ‘rogerstanimoto’, ‘russellrao’,\n",
    "                   ‘seuclidean’, ‘sokalmichener’, ‘sokalsneath’, ‘sqeuclidean’, ‘yule’.\n",
    "    :param text_ids: list of unique text_ids.\n",
    "    :return: a dataframe matrix of distance between texts.\n",
    "    \"\"\"\n",
    "    return pd.DataFrame(squareform(pdist(counts, metric=metric)), index=text_ids, columns=text_ids)\n",
    "\n",
    "# reducing dimensions with pca or tsne\n",
    "\n",
    "def reduce_dimensions_pca(df, metadata):\n",
    "    \"\"\"\n",
    "    Reduces multidimensional data into two dimensions using PCA.\n",
    "    :param df: dataframe holding the dimensions to reduce. All columns should include numerical values only.\n",
    "               The dataframe's index should hold the unique text ids.\n",
    "    :param metadata: the rest of the metadata in the corpus, to help visualize the resulting clusters in meaningful ways.\n",
    "                     The metadata's index should hold the unique text ids.\n",
    "    :return: a dataframe with the coordinates of the two remaining dimensions on all other columns from the metadata.\n",
    "    \"\"\"\n",
    "    pca = PCA(n_components=2)\n",
    "    reduced_data = pca.fit_transform(df)\n",
    "    reduced_df = pd.DataFrame(data=reduced_data, index=df.index, columns=[\"component 1\", \"component 2\"])\n",
    "    reduced_df_metadata = metadata.join(reduced_df)\n",
    "    return reduced_df_metadata\n",
    "\n",
    "def reduce_dimensions_tsne(df, perplexity, n_iter, metric, metadata):\n",
    "    \"\"\"\n",
    "    Reduces multidimensional data into two dimensions using TSNE.\n",
    "    See full documentation of sklearn's TSNE on:\n",
    "    https://scikit-learn.org/stable/modules/generated/sklearn.manifold.TSNE.html\n",
    "    :param df: dataframe holding the dimensions to reduce. All columns should include numerical values only.\n",
    "               The dataframe's index should hold the unique text ids.\n",
    "    :param perplexity: perplexity is a measure the weighs the importance of nearby versus distant points when creating a lower-dimension mapping.\n",
    "                       t-SNE first converts the distances between points into conditional probabilities that represent similarities,\n",
    "                       using Gaussian probability distributions.\n",
    "                       The perplexity parameter influences the variance used to compute these probabilities.\n",
    "                       A higher perplexity leads to a broader Gaussian that considers a larger number of neighbors when assessing similarity.\n",
    "                       Lower perplexity puts more focus on the local structure and considers fewer neighbors.\n",
    "                       A good perplexity depends greatly on dataset size and density.\n",
    "                       The documentation recommends a value between 5 and 50.\n",
    "                       We recommend to start with the square root of the length of the corpus.\n",
    "    :param n_iter: maximum number of iterations for optimization.\n",
    "    :param metric: the metric to be used when calculating distances between vectors.\n",
    "                   Valid metrics are:\n",
    "                   ‘braycurtis’, ‘canberra’, ‘chebyshev’, ‘cityblock’, ‘correlation’, ‘cosine’,\n",
    "                   ‘dice’, ‘euclidean’, ‘hamming’, ‘jaccard’, ‘jensenshannon’, ‘kulczynski1’,\n",
    "                   ‘mahalanobis’, ‘matching’, ‘minkowski’, ‘rogerstanimoto’, ‘russellrao’,\n",
    "                   ‘seuclidean’, ‘sokalmichener’, ‘sokalsneath’, ‘sqeuclidean’, ‘yule’.\n",
    "    :param metadata: the rest of the metadata in the corpus, to help visualize the resulting clusters in meaningful ways.\n",
    "                     The metadata's index should hold the unique text ids.\n",
    "    :return: a dataframe with the coordinates of the two remaining dimensions on all other columns from the metadata.\n",
    "    \"\"\"\n",
    "    tsne = TSNE(n_components=2, perplexity=perplexity, n_iter=n_iter, metric=metric, init=\"pca\", random_state=42)\n",
    "    reduced_data = tsne.fit_transform(df)\n",
    "    reduced_df = pd.DataFrame(data=reduced_data, index=df.index, columns=[\"component 1\", \"component 2\"])\n",
    "    reduced_df_metadata = metadata.join(reduced_df)\n",
    "    return reduced_df_metadata"
   ]
  },
  {
   "cell_type": "markdown",
   "id": "9d1e4c71",
   "metadata": {},
   "source": [
    "# Main"
   ]
  },
  {
   "cell_type": "code",
   "execution_count": 4,
   "id": "5c95f5ab",
   "metadata": {},
   "outputs": [],
   "source": [
    "# upload text CSVs\n",
    "corpus = upload_corpus_csv(\"land_sale_annotated\")\n",
    "corpus.extend(upload_corpus_csv(\"slave_sale_annotated\"))\n",
    "corpus.extend(upload_corpus_csv(\"unknown_sale_annotated\"))"
   ]
  },
  {
   "cell_type": "code",
   "execution_count": 6,
   "id": "6296c6fc",
   "metadata": {},
   "outputs": [],
   "source": [
    "# create metadata file with a new column for visualizing the type of sale document\n",
    "land_sale = ['lease document',\n",
    "             'lease document (field)',\n",
    "             'sales document (field)',\n",
    "             'sales document (field, person)',\n",
    "             'sales document (garden)',\n",
    "             'sales document (house)',\n",
    "             'sales document (inheritance)',\n",
    "             'sales document (plot)']\n",
    "slave_sale = ['sales document (duplicate)',\n",
    "              'sales document (person)',\n",
    "              'sales document (person, marriage?)',\n",
    "              'sales document (person, restricted)']\n",
    "unknown_sale = ['sales document']\n",
    "\n",
    "df = pd.read_csv(\"NA_archival_texts_metadata_050724.csv\",\n",
    "                 encoding=\"utf-8\",\n",
    "                 index_col=\"ID\").fillna(\"\")\n",
    "\n",
    "df[\"sale_type\"] = df[\"subgenre\"].where(~df[\"subgenre\"].isin(land_sale), other=\"Land Sale\")\n",
    "df[\"sale_type\"] = df[\"sale_type\"].where(~df[\"subgenre\"].isin(slave_sale), other=\"Slave Sale\")\n",
    "df[\"sale_type\"] = df[\"sale_type\"].where(~df[\"subgenre\"].isin(unknown_sale), other=\"Unknown Sale\")\n",
    "\n",
    "# add processed texts to metadata\n",
    "text_dict = get_segmented_unicode_texts(corpus, break_perc=.25, mask=True)\n",
    "df = add_texts_dict_to_dataframe(df, text_dict)"
   ]
  },
  {
   "cell_type": "code",
   "execution_count": 7,
   "id": "3d4421be",
   "metadata": {},
   "outputs": [
    {
     "name": "stderr",
     "output_type": "stream",
     "text": [
      "C:\\Users\\user\\anaconda3\\envs\\stylometry\\lib\\site-packages\\sklearn\\manifold\\_t_sne.py:810: FutureWarning: The default learning rate in TSNE will change from 200.0 to 'auto' in 1.2.\n",
      "  warnings.warn(\n",
      "C:\\Users\\user\\anaconda3\\envs\\stylometry\\lib\\site-packages\\sklearn\\manifold\\_t_sne.py:996: FutureWarning: The PCA initialization in TSNE will change to have the standard deviation of PC1 equal to 1e-4 in 1.2. This will ensure better convergence.\n",
      "  warnings.warn(\n"
     ]
    }
   ],
   "source": [
    "# vectorize and reduce dimensions\n",
    "final_df = df[df[\"Text_length_partial\"]>=3]\n",
    "counts, counts_df, stop_words = vectorize(vectorizer=\"tfidf\", corpus=final_df)\n",
    "matrix = distance_calculator(counts, \"cosine\", final_df.index)\n",
    "reduced_tsne = reduce_dimensions_tsne(matrix,\n",
    "                                      perplexity=matrix.shape[0]**0.5,\n",
    "                                      n_iter=5000,\n",
    "                                      metric=\"euclidean\",\n",
    "                                      metadata=final_df)"
   ]
  },
  {
   "cell_type": "code",
   "execution_count": 12,
   "id": "1c627d49",
   "metadata": {
    "scrolled": false
   },
   "outputs": [
    {
     "data": {
      "application/vnd.plotly.v1+json": {
       "config": {
        "plotlyServerURL": "https://plot.ly"
       },
       "data": [
        {
         "customdata": [
          [
           "sales document (plot)",
           "saa06",
           "Sargonid period",
           "P336192",
           38,
           119
          ],
          [
           "sales document (plot)",
           "saa06",
           "Sargonid period",
           "P335413",
           88,
           168
          ],
          [
           "sales document",
           "saa06",
           "Sargonid period",
           "P335414",
           30,
           120
          ],
          [
           "sales document (person)",
           "saa06",
           "Sargonid period",
           "P335444",
           38,
           99
          ],
          [
           "sales document (field, person)",
           "saa14",
           "Ashurbanipal",
           "P335443",
           9,
           70
          ],
          [
           "sales document",
           "saa06",
           "Sargonid period",
           "P335442",
           20,
           73
          ],
          [
           "sales document (person)",
           "saa06",
           "Sargonid period",
           "P335441",
           56,
           77
          ],
          [
           "sales document",
           "saa06",
           "Sargonid period",
           "P335440",
           20,
           59
          ],
          [
           "sales document (person)",
           "saa06",
           "Sargonid period",
           "P335439",
           23,
           61
          ],
          [
           "sales document",
           "saa14",
           "post-canonical",
           "P335438",
           104,
           173
          ],
          [
           "sales document (person)",
           "saa06",
           "Sargonid period",
           "P335437",
           33,
           114
          ],
          [
           "sales document",
           "saa14",
           "post-canonical",
           "P335436",
           38,
           116
          ],
          [
           "sales document (person)",
           "saa06",
           "8th century",
           "P335435",
           9,
           34
          ],
          [
           "sales document (plot)",
           "saa14",
           "post-canonical",
           "P335434",
           14,
           52
          ],
          [
           "sales document",
           "saa14",
           "post-canonical",
           "P335433",
           33,
           64
          ],
          [
           "sales document",
           "saa14",
           "Ashurbanipal",
           "P335432",
           22,
           36
          ],
          [
           "sales document",
           "saa06",
           "Sargonid period",
           "P335431",
           42,
           71
          ],
          [
           "sales document",
           "saa06",
           "Sargonid period",
           "P335445",
           47,
           85
          ],
          [
           "sales document (person)",
           "saa06",
           "8th century",
           "P335430",
           50,
           91
          ],
          [
           "sales document (garden)",
           "saa06",
           "Sargonid period",
           "P335427",
           20,
           44
          ],
          [
           "sales document",
           "saa14",
           "post-canonical",
           "P335426",
           7,
           36
          ],
          [
           "sales document (person)",
           "saa06",
           "8th century",
           "P335425",
           21,
           35
          ],
          [
           "sales document",
           "saa14",
           "post-canonical",
           "P335424",
           35,
           110
          ],
          [
           "sales document (plot)",
           "saa06",
           "Sargonid period",
           "P335423",
           20,
           118
          ],
          [
           "sales document",
           "saa14",
           "post-canonical",
           "P335422",
           12,
           47
          ],
          [
           "sales document",
           "saa14",
           "post-canonical",
           "P335420",
           60,
           111
          ],
          [
           "sales document (person)",
           "saa06",
           "8th century",
           "P335419",
           26,
           54
          ],
          [
           "sales document",
           "saa14",
           "post-canonical",
           "P335418",
           17,
           82
          ],
          [
           "sales document (plot)",
           "saa06",
           "Sargonid period",
           "P335412",
           64,
           215
          ],
          [
           "sales document",
           "saa14",
           "post-canonical",
           "P335417",
           28,
           54
          ],
          [
           "sales document",
           "saa14",
           "post-canonical",
           "P335428",
           8,
           40
          ],
          [
           "sales document (house)",
           "saa14",
           "Ashurbanipal",
           "P335411",
           66,
           164
          ],
          [
           "sales document",
           "saa14",
           "post-canonical",
           "P335485",
           4,
           33
          ],
          [
           "sales document (person)",
           "saa06",
           "Sargonid period",
           "P335446",
           36,
           67
          ],
          [
           "sales document (person)",
           "saa14",
           "post-canonical",
           "P335447",
           32,
           64
          ],
          [
           "sales document (house)",
           "saa14",
           "post-canonical",
           "P335448",
           40,
           120
          ],
          [
           "sales document (person)",
           "saa14",
           "post-canonical",
           "P335499",
           17,
           96
          ],
          [
           "sales document",
           "saa14",
           "post-canonical",
           "P335498",
           21,
           96
          ],
          [
           "sales document",
           "saa06",
           "Ashurbanipal",
           "P335497",
           10,
           40
          ],
          [
           "sales document (person)",
           "saa06",
           "Sargonid period",
           "P335496",
           24,
           146
          ],
          [
           "sales document",
           "saa06",
           "Sargonid period",
           "P335495",
           28,
           48
          ],
          [
           "sales document",
           "saa14",
           "post-canonical",
           "P335492",
           7,
           52
          ],
          [
           "sales document",
           "saa14",
           "post-canonical",
           "P335491",
           6,
           25
          ],
          [
           "sales document",
           "saa14",
           "post-canonical",
           "P335490",
           13,
           64
          ],
          [
           "sales document",
           "saa14",
           "post-canonical",
           "P335488",
           19,
           61
          ],
          [
           "sales document",
           "saa14",
           "post-canonical",
           "P335487",
           12,
           28
          ],
          [
           "sales document",
           "saa14",
           "post-canonical",
           "P335483",
           11,
           61
          ],
          [
           "sales document (plot)",
           "saa14",
           "post-canonical",
           "P335460",
           29,
           100
          ],
          [
           "sales document",
           "saa14",
           "post-canonical",
           "P335481",
           10,
           25
          ],
          [
           "sales document",
           "saa14",
           "post-canonical",
           "P335479",
           9,
           121
          ],
          [
           "sales document",
           "saa14",
           "post-canonical",
           "P335478",
           7,
           53
          ],
          [
           "sales document",
           "saa14",
           "post-canonical",
           "P335477",
           22,
           112
          ],
          [
           "sales document",
           "saa14",
           "post-canonical",
           "P335471",
           11,
           46
          ],
          [
           "sales document (field)",
           "saa14",
           "post-canonical",
           "P335450",
           22,
           57
          ],
          [
           "sales document (garden)",
           "saa14",
           "post-canonical",
           "P335451",
           20,
           82
          ],
          [
           "sales document (plot)",
           "saa06",
           "Ashurbanipal",
           "P335452",
           9,
           28
          ],
          [
           "sales document (plot)",
           "saa14",
           "post-canonical",
           "P335453",
           5,
           36
          ],
          [
           "sales document (house)",
           "saa14",
           "post-canonical",
           "P335454",
           21,
           56
          ],
          [
           "sales document",
           "saa06",
           "Sargonid period",
           "P335455",
           8,
           60
          ],
          [
           "sales document (plot)",
           "saa06",
           "Sargonid period",
           "P335456",
           35,
           144
          ],
          [
           "sales document",
           "saa06",
           "Sargonid period",
           "P335416",
           84,
           126
          ],
          [
           "sales document (plot)",
           "saa14",
           "post-canonical",
           "P335458",
           15,
           114
          ],
          [
           "sales document (plot)",
           "saa14",
           "post-canonical",
           "P335461",
           13,
           59
          ],
          [
           "sales document (plot)",
           "saa14",
           "post-canonical",
           "P335350",
           23,
           40
          ],
          [
           "sales document (plot)",
           "saa14",
           "8th century",
           "P335463",
           20,
           31
          ],
          [
           "sales document (person)",
           "saa14",
           "Ashurbanipal",
           "P335467",
           62,
           87
          ],
          [
           "sales document (plot)",
           "saa14",
           "post-canonical",
           "P335457",
           36,
           128
          ],
          [
           "sales document",
           "saa14",
           "Ashurbanipal",
           "P335500",
           5,
           56
          ],
          [
           "sales document (house)",
           "saa06",
           "Ashurbanipal",
           "P335410",
           180,
           275
          ],
          [
           "sales document (house)",
           "saa06",
           "Sargonid period",
           "P335408",
           140,
           425
          ],
          [
           "sales document (house)",
           "saa06",
           "Sargonid period",
           "P335371",
           91,
           165
          ],
          [
           "sales document (garden)",
           "saa06",
           "Sargonid period",
           "P335370",
           100,
           130
          ],
          [
           "sales document (field, person)",
           "saa14",
           "post-canonical",
           "P335369",
           55,
           164
          ],
          [
           "sales document (plot)",
           "saa06",
           "Sargonid period",
           "P335368",
           185,
           298
          ],
          [
           "sales document (person)",
           "saa06",
           "Ashurbanipal",
           "P335367",
           36,
           178
          ],
          [
           "sales document (field, person)",
           "saa06",
           "Sargonid period",
           "P335366",
           44,
           75
          ],
          [
           "sales document (field, person)",
           "saa06",
           "Sargonid period",
           "P335365",
           59,
           132
          ],
          [
           "sales document (field, person)",
           "saa06",
           "Ashurbanipal",
           "P335364",
           35,
           94
          ],
          [
           "sales document (field, person)",
           "saa06",
           "Ashurbanipal",
           "P335363",
           63,
           98
          ],
          [
           "sales document (plot)",
           "saa14",
           "post-canonical",
           "P337155",
           240,
           267
          ],
          [
           "sales document (plot)",
           "saa06",
           "Ashurbanipal",
           "P335361",
           153,
           247
          ],
          [
           "sales document (field, person)",
           "saa14",
           "post-canonical",
           "P335360",
           65,
           81
          ],
          [
           "sales document (house)",
           "saa06",
           "Sargonid period",
           "P335359",
           77,
           93
          ],
          [
           "sales document (house)",
           "saa06",
           "8th century",
           "P335358",
           85,
           136
          ],
          [
           "sales document (plot)",
           "saa06",
           "Ashurbanipal",
           "P335372",
           110,
           522
          ],
          [
           "sales document (plot)",
           "saa14",
           "post-canonical",
           "P335357",
           340,
           400
          ],
          [
           "sales document (plot)",
           "saa06",
           "Sargonid period",
           "P335949",
           127,
           175
          ],
          [
           "sales document (plot)",
           "saa14",
           "post-canonical",
           "P335354",
           30,
           65
          ],
          [
           "sales document (house)",
           "saa14",
           "post-canonical",
           "P335353",
           33,
           121
          ],
          [
           "sales document (plot)",
           "saa14",
           "post-canonical",
           "P335352",
           32,
           89
          ],
          [
           "sales document (plot)",
           "saa14",
           "post-canonical",
           "P335349",
           48,
           59
          ],
          [
           "sales document (plot)",
           "saa06",
           "Sargonid period",
           "P335348",
           41,
           78
          ],
          [
           "sales document (house)",
           "saa06",
           "Sargonid period",
           "P335347",
           53,
           89
          ],
          [
           "sales document (plot)",
           "saa06",
           "Sargonid period",
           "P335377",
           85,
           188
          ],
          [
           "sales document (plot)",
           "saa14",
           "post-canonical",
           "P335378",
           48,
           203
          ],
          [
           "sales document (garden)",
           "saa06",
           "Sargonid period",
           "P335403",
           15,
           98
          ],
          [
           "sales document (plot)",
           "saa14",
           "post-canonical",
           "P335346",
           20,
           72
          ],
          [
           "sales document (plot)",
           "saa14",
           "post-canonical",
           "P335345",
           18,
           51
          ],
          [
           "sales document (plot)",
           "saa14",
           "post-canonical",
           "P335344",
           17,
           41
          ],
          [
           "sales document (plot)",
           "saa14",
           "post-canonical",
           "P335343",
           87,
           124
          ],
          [
           "sales document (plot)",
           "saa14",
           "Ashurbanipal",
           "P335342",
           17,
           94
          ],
          [
           "sales document (plot)",
           "saa14",
           "post-canonical",
           "P335356",
           86,
           155
          ],
          [
           "sales document (house)",
           "saa06",
           "Sargonid period",
           "P335373",
           32,
           53
          ],
          [
           "sales document (house)",
           "saa06",
           "Sargonid period",
           "P335374",
           27,
           184
          ],
          [
           "sales document (plot)",
           "saa06",
           "Sargonid period",
           "P335375",
           18,
           141
          ],
          [
           "sales document (garden)",
           "saa06",
           "Sargonid period",
           "P335407",
           66,
           162
          ],
          [
           "sales document (garden)",
           "saa14",
           "post-canonical",
           "P335406",
           27,
           117
          ],
          [
           "sales document (house)",
           "saa06",
           "Sargonid period",
           "P335379",
           77,
           157
          ],
          [
           "sales document (garden)",
           "saa14",
           "post-canonical",
           "P335405",
           12,
           50
          ],
          [
           "sales document (field, person)",
           "saa06",
           "Sargonid period",
           "P335402",
           37,
           205
          ],
          [
           "sales document (plot)",
           "saa14",
           "post-canonical",
           "P335462",
           27,
           69
          ],
          [
           "sales document (house)",
           "saa06",
           "Sargonid period",
           "P335401",
           41,
           79
          ],
          [
           "sales document (field, person)",
           "saa14",
           "post-canonical",
           "P335399",
           16,
           167
          ],
          [
           "sales document (field, person)",
           "saa14",
           "post-canonical",
           "P335398",
           15,
           45
          ],
          [
           "sales document (plot)",
           "saa06",
           "Sargonid period",
           "P335397",
           26,
           131
          ],
          [
           "sales document (field, person)",
           "saa06",
           "Sargonid period",
           "P335396",
           13,
           100
          ],
          [
           "sales document (field, person)",
           "saa06",
           "Sargonid period",
           "P335395",
           11,
           25
          ],
          [
           "sales document (field, person)",
           "saa14",
           "Ashurbanipal",
           "P335393",
           26,
           68
          ],
          [
           "sales document (plot)",
           "saa06",
           "Ashurbanipal",
           "P335392",
           10,
           33
          ],
          [
           "sales document (person)",
           "saa14",
           "post-canonical",
           "P335391",
           35,
           98
          ],
          [
           "sales document (field, person)",
           "saa14",
           "post-canonical",
           "P335390",
           11,
           45
          ],
          [
           "sales document (field, person)",
           "saa06",
           "Ashurbanipal",
           "P335376",
           62,
           139
          ],
          [
           "sales document (house)",
           "saa14",
           "post-canonical",
           "P335404",
           93,
           146
          ],
          [
           "sales document (plot)",
           "saa06",
           "Ashurbanipal",
           "P335351",
           47,
           140
          ],
          [
           "sales document (plot)",
           "saa06",
           "8th century",
           "P335355",
           76,
           98
          ],
          [
           "sales document (plot)",
           "saa14",
           "post-canonical",
           "P335539",
           152,
           178
          ],
          [
           "sales document",
           "saa14",
           "post-canonical",
           "P336034",
           13,
           83
          ],
          [
           "sales document",
           "saa14",
           "post-canonical",
           "P336750",
           4,
           16
          ],
          [
           "sales document (house)",
           "saa06",
           "Ashurbanipal",
           "P335409",
           143,
           154
          ],
          [
           "sales document (plot)",
           "saa06",
           "Ashurbanipal",
           "P335382",
           24,
           114
          ],
          [
           "sales document (field, person)",
           "saa06",
           "Sargonid period",
           "P335384",
           47,
           127
          ],
          [
           "sales document (garden)",
           "saa06",
           "Ashurbanipal",
           "P335385",
           144,
           179
          ],
          [
           "sales document (garden)",
           "saa06",
           "Ashurbanipal",
           "P335386",
           34,
           105
          ],
          [
           "sales document (field, person)",
           "saa14",
           "post-canonical",
           "P335387",
           211,
           211
          ],
          [
           "sales document (field, person)",
           "saa06",
           "Sargonid period",
           "P335388",
           110,
           144
          ],
          [
           "sales document (house)",
           "saa06",
           "Ashurbanipal",
           "P335389",
           124,
           289
          ],
          [
           "sales document (field, person)",
           "saa06",
           "Sargonid period",
           "P335383",
           19,
           109
          ],
          [
           "sales document",
           "saa06",
           "Sargonid period",
           "P335501",
           13,
           67
          ],
          [
           "sales document (person)",
           "saa14",
           "post-canonical",
           "P335502",
           25,
           57
          ],
          [
           "sales document (plot)",
           "saa14",
           "post-canonical",
           "P336036",
           8,
           44
          ],
          [
           "sales document (plot)",
           "saa14",
           "post-canonical",
           "P336032",
           6,
           36
          ],
          [
           "sales document",
           "saa14",
           "post-canonical",
           "P335999",
           3,
           33
          ],
          [
           "sales document (plot)",
           "saa14",
           "Ashurbanipal",
           "P336031",
           28,
           129
          ],
          [
           "sales document",
           "saa14",
           "post-canonical",
           "P336028",
           10,
           20
          ],
          [
           "sales document",
           "saa14",
           "post-canonical",
           "P336027",
           4,
           22
          ],
          [
           "sales document (house)",
           "saa14",
           "post-canonical",
           "P336026",
           10,
           32
          ],
          [
           "sales document",
           "saa14",
           "post-canonical",
           "P336025",
           8,
           38
          ],
          [
           "sales document (plot)",
           "saa14",
           "post-canonical",
           "P336023",
           8,
           48
          ],
          [
           "sales document (plot)",
           "saa14",
           "post-canonical",
           "P336020",
           8,
           19
          ],
          [
           "sales document (plot)",
           "saa14",
           "post-canonical",
           "P336018",
           7,
           62
          ],
          [
           "lease document (field)",
           "saa14",
           "post-canonical",
           "P336014",
           13,
           45
          ],
          [
           "sales document (inheritance)",
           "saa14",
           "Ashurbanipal",
           "P336013",
           56,
           83
          ],
          [
           "sales document (plot)",
           "saa14",
           "8th century",
           "P336005",
           74,
           195
          ],
          [
           "sales document (person)",
           "saa14",
           "post-canonical",
           "P335995",
           17,
           75
          ],
          [
           "sales document (house)",
           "saa14",
           "post-canonical",
           "P336189",
           44,
           126
          ],
          [
           "sales document",
           "saa14",
           "post-canonical",
           "P335503",
           18,
           99
          ],
          [
           "sales document",
           "saa14",
           "post-canonical",
           "P336754",
           9,
           36
          ],
          [
           "sales document (plot)",
           "saa06",
           "Sargonid period",
           "P336003",
           28,
           75
          ],
          [
           "sales document (person)",
           "saa14",
           "Ashurbanipal",
           "P335963",
           16,
           37
          ],
          [
           "sales document",
           "saa14",
           "post-canonical",
           "P335964",
           8,
           56
          ],
          [
           "sales document (plot)",
           "saa14",
           "post-canonical",
           "P335965",
           148,
           264
          ],
          [
           "sales document (house)",
           "saa06",
           "Ashurbanipal",
           "P335969",
           40,
           145
          ],
          [
           "sales document (plot)",
           "saa14",
           "post-canonical",
           "P335984",
           4,
           43
          ],
          [
           "sales document (person)",
           "saa06",
           "Sargonid period",
           "P335974",
           129,
           150
          ],
          [
           "sales document (plot)",
           "saa14",
           "Sargonid period",
           "P335975",
           81,
           148
          ],
          [
           "sales document (house)",
           "saa06",
           "Sargonid period",
           "P335976",
           162,
           278
          ],
          [
           "sales document",
           "saa14",
           "Ashurbanipal",
           "P335977",
           5,
           17
          ],
          [
           "sales document (plot)",
           "saa14",
           "post-canonical",
           "P336191",
           19,
           159
          ],
          [
           "sales document (plot)",
           "saa14",
           "post-canonical",
           "P335982",
           13,
           68
          ],
          [
           "sales document (house)",
           "saa14",
           "Ashurbanipal",
           "P336190",
           33,
           41
          ],
          [
           "sales document (inheritance)",
           "saa14",
           "Ashurbanipal",
           "P451453",
           51,
           51
          ],
          [
           "sales document",
           "saa14",
           "post-canonical",
           "P336193",
           32,
           132
          ],
          [
           "sales document (person)",
           "saa14",
           "Ashurbanipal",
           "P337156",
           99,
           219
          ],
          [
           "sales document (plot)",
           "saa14",
           "Ashurbanipal",
           "P337162",
           41,
           103
          ],
          [
           "sales document",
           "saa14",
           "post-canonical",
           "P337166",
           29,
           85
          ],
          [
           "lease document (field)",
           "saa14",
           "post-canonical",
           "P337172",
           58,
           65
          ],
          [
           "sales document (house)",
           "saa14",
           "Ashurbanipal",
           "P418948",
           22,
           97
          ],
          [
           "sales document",
           "saa14",
           "post-canonical",
           "P424910",
           10,
           30
          ],
          [
           "sales document (plot)",
           "saa14",
           "post-canonical",
           "P336766",
           5,
           74
          ],
          [
           "sales document (plot)",
           "saa14",
           "post-canonical",
           "P336763",
           12,
           123
          ],
          [
           "sales document",
           "saa14",
           "post-canonical",
           "P336759",
           10,
           70
          ],
          [
           "sales document (person)",
           "saa14",
           "post-canonical",
           "P336758",
           5,
           43
          ],
          [
           "sales document",
           "saa14",
           "post-canonical",
           "P336757",
           7,
           54
          ],
          [
           "sales document (plot)",
           "saa14",
           "post-canonical",
           "P335986",
           13,
           68
          ],
          [
           "sales document (field, person)",
           "saa14",
           "post-canonical",
           "P335985",
           31,
           120
          ],
          [
           "sales document (person)",
           "saa14",
           "Ashurbanipal",
           "P336004",
           58,
           82
          ],
          [
           "sales document (plot)",
           "saa14",
           "post-canonical",
           "P336751",
           7,
           24
          ],
          [
           "sales document",
           "saa14",
           "post-canonical",
           "P335504",
           8,
           93
          ],
          [
           "lease document (field)",
           "saa14",
           "Ashurbanipal",
           "P335538",
           87,
           87
          ],
          [
           "sales document (house)",
           "saa14",
           "post-canonical",
           "P336195",
           45,
           125
          ],
          [
           "sales document (house)",
           "saa14",
           "post-canonical",
           "P336197",
           42,
           120
          ],
          [
           "sales document",
           "saa06",
           "Sargonid period",
           "P336198",
           6,
           55
          ],
          [
           "sales document (person)",
           "saa06",
           "Sargonid period",
           "P336200",
           14,
           26
          ],
          [
           "sales document (plot)",
           "saa14",
           "post-canonical",
           "P336247",
           84,
           91
          ],
          [
           "sales document (plot)",
           "saa06",
           "Ashurbanipal",
           "P336637",
           7,
           59
          ],
          [
           "sales document",
           "saa14",
           "post-canonical",
           "P335962",
           21,
           67
          ],
          [
           "sales document",
           "saa14",
           "post-canonical",
           "P336738",
           10,
           130
          ],
          [
           "sales document",
           "saa14",
           "post-canonical",
           "P336741",
           12,
           162
          ],
          [
           "sales document (house)",
           "saa14",
           "post-canonical",
           "P336742",
           12,
           82
          ],
          [
           "sales document (plot)",
           "saa14",
           "post-canonical",
           "P336743",
           3,
           34
          ],
          [
           "sales document (person)",
           "saa14",
           "post-canonical",
           "P336744",
           7,
           52
          ],
          [
           "sales document (field, person)",
           "saa14",
           "post-canonical",
           "P336745",
           12,
           109
          ],
          [
           "sales document (person)",
           "saa14",
           "post-canonical",
           "P336746",
           10,
           23
          ],
          [
           "sales document (house)",
           "saa14",
           "Ashurbanipal",
           "P336739",
           71,
           167
          ],
          [
           "sales document (house)",
           "saa14",
           "post-canonical",
           "P335961",
           41,
           87
          ],
          [
           "sales document (plot)",
           "saa06",
           "Sargonid period",
           "P335960",
           21,
           55
          ],
          [
           "sales document (house)",
           "saa06",
           "Sargonid period",
           "P335959",
           57,
           99
          ],
          [
           "lease document (field)",
           "saa14",
           "post-canonical",
           "P335548",
           13,
           67
          ],
          [
           "sales document",
           "saa06",
           "Sargonid period",
           "P335547",
           21,
           116
          ],
          [
           "sales document (plot)",
           "saa06",
           "Sargonid period",
           "P335546",
           32,
           46
          ],
          [
           "sales document (house)",
           "saa06",
           "Sargonid period",
           "P335544",
           74,
           148
          ],
          [
           "lease document (field)",
           "saa14",
           "Ashurbanipal",
           "P335543",
           68,
           75
          ],
          [
           "sales document (house)",
           "saa14",
           "Ashurbanipal",
           "P335542",
           56,
           105
          ],
          [
           "sales document (house)",
           "saa06",
           "Sargonid period",
           "P335541",
           121,
           145
          ],
          [
           "sales document (house)",
           "saa06",
           "Sargonid period",
           "P335540",
           86,
           112
          ],
          [
           "sales document (plot)",
           "saa14",
           "post-canonical",
           "P336748",
           11,
           43
          ],
          [
           "sales document (plot)",
           "saa14",
           "post-canonical",
           "P335537",
           130,
           133
          ],
          [
           "sales document (house)",
           "saa06",
           "Sargonid period",
           "P335534",
           14,
           53
          ],
          [
           "lease document (field)",
           "saa14",
           "post-canonical",
           "P335951",
           48,
           99
          ],
          [
           "sales document",
           "saa14",
           "post-canonical",
           "P336749",
           9,
           35
          ],
          [
           "sales document (field, person)",
           "saa14",
           "post-canonical",
           "P335536",
           83,
           94
          ],
          [
           "sales document (person)",
           "saa06",
           "Sargonid period",
           "P335533",
           34,
           102
          ],
          [
           "sales document (person)",
           "saa06",
           "Sargonid period",
           "P335531",
           11,
           73
          ],
          [
           "sales document (plot)",
           "saa14",
           "post-canonical",
           "P335530",
           51,
           69
          ],
          [
           "sales document",
           "saa06",
           "Sargonid period",
           "P335529",
           51,
           80
          ],
          [
           "sales document (house)",
           "saa06",
           "Sargonid period",
           "P335380",
           13,
           57
          ],
          [
           "sales document",
           "saa14",
           "post-canonical",
           "P335505",
           9,
           35
          ],
          [
           "sales document",
           "saa14",
           "post-canonical",
           "P335507",
           13,
           56
          ],
          [
           "sales document",
           "saa14",
           "Ashurbanipal",
           "P335508",
           9,
           90
          ],
          [
           "sales document",
           "saa14",
           "post-canonical",
           "P335509",
           24,
           117
          ],
          [
           "sales document",
           "saa06",
           "Sargonid period",
           "P335510",
           6,
           42
          ],
          [
           "sales document (plot)",
           "saa14",
           "post-canonical",
           "P335552",
           6,
           22
          ],
          [
           "sales document (house)",
           "saa14",
           "post-canonical",
           "P335381",
           16,
           128
          ],
          [
           "sales document",
           "saa14",
           "post-canonical",
           "P335511",
           13,
           78
          ],
          [
           "sales document",
           "saa06",
           "Sargonid period",
           "P335515",
           14,
           84
          ],
          [
           "sales document",
           "saa06",
           "Ashurbanipal",
           "P335516",
           16,
           64
          ],
          [
           "sales document (plot)",
           "saa14",
           "post-canonical",
           "P335517",
           11,
           122
          ],
          [
           "sales document",
           "saa14",
           "post-canonical",
           "P335518",
           34,
           43
          ],
          [
           "sales document (plot)",
           "saa14",
           "post-canonical",
           "P335527",
           28,
           90
          ],
          [
           "sales document",
           "saa14",
           "post-canonical",
           "P335512",
           7,
           33
          ],
          [
           "sales document (plot)",
           "saa14",
           "post-canonical",
           "P335341",
           51,
           139
          ],
          [
           "sales document (house)",
           "saa06",
           "Sargonid period",
           "P335556",
           71,
           156
          ],
          [
           "sales document (person)",
           "saa14",
           "post-canonical",
           "P335591",
           15,
           51
          ],
          [
           "sales document (plot)",
           "saa06",
           "8th century",
           "P335957",
           73,
           104
          ],
          [
           "sales document (plot)",
           "saa14",
           "post-canonical",
           "P335956",
           42,
           186
          ],
          [
           "sales document (person)",
           "saa14",
           "post-canonical",
           "P335953",
           14,
           52
          ],
          [
           "sales document (person)",
           "saa06",
           "Sargonid period",
           "P335952",
           69,
           103
          ],
          [
           "sales document",
           "saa14",
           "post-canonical",
           "P335514",
           10,
           77
          ],
          [
           "sales document (field, person)",
           "saa14",
           "post-canonical",
           "P335950",
           72,
           218
          ],
          [
           "sales document (house)",
           "saa06",
           "Sargonid period",
           "P335394",
           37,
           133
          ],
          [
           "sales document",
           "saa14",
           "post-canonical",
           "P335948",
           31,
           119
          ],
          [
           "sales document (person)",
           "saa06",
           "Sargonid period",
           "P335186",
           62,
           147
          ],
          [
           "sales document",
           "saa14",
           "Ashurbanipal",
           "P335944",
           75,
           112
          ],
          [
           "sales document (person)",
           "saa06",
           "Sargonid period",
           "P335940",
           59,
           78
          ],
          [
           "sales document (person)",
           "saa06",
           "Sargonid period",
           "P335939",
           89,
           110
          ],
          [
           "sales document (person)",
           "saa06",
           "Sargonid period",
           "P335176",
           51,
           52
          ],
          [
           "sales document",
           "saa06",
           "Ashurbanipal",
           "P335937",
           59,
           121
          ],
          [
           "sales document (house)",
           "saa06",
           "Ashurbanipal",
           "P335935",
           79,
           173
          ],
          [
           "sales document (house)",
           "saa06",
           "Sargonid period",
           "P335934",
           68,
           120
          ],
          [
           "sales document",
           "saa14",
           "post-canonical",
           "P335654",
           44,
           77
          ],
          [
           "sales document",
           "saa14",
           "post-canonical",
           "P335595",
           8,
           38
          ],
          [
           "sales document (plot)",
           "saa14",
           "post-canonical",
           "P335596",
           9,
           37
          ],
          [
           "sales document (person)",
           "saa06",
           "Sargonid period",
           "P335597",
           11,
           54
          ],
          [
           "sales document (person)",
           "saa14",
           "Ashurbanipal",
           "P335599",
           14,
           53
          ],
          [
           "sales document",
           "saa14",
           "post-canonical",
           "P335601",
           10,
           28
          ],
          [
           "sales document",
           "saa14",
           "post-canonical",
           "P335602",
           5,
           18
          ],
          [
           "sales document (field)",
           "saa14",
           "post-canonical",
           "P335584",
           37,
           51
          ],
          [
           "sales document (garden)",
           "saa14",
           "post-canonical",
           "P335615",
           5,
           47
          ],
          [
           "sales document",
           "saa14",
           "post-canonical",
           "P335641",
           7,
           54
          ],
          [
           "sales document",
           "saa14",
           "post-canonical",
           "P335642",
           5,
           15
          ],
          [
           "sales document (person)",
           "saa14",
           "post-canonical",
           "P335643",
           12,
           104
          ],
          [
           "sales document",
           "saa14",
           "post-canonical",
           "P335647",
           5,
           25
          ],
          [
           "sales document (person)",
           "saa06",
           "Ashurbanipal",
           "P335652",
           36,
           119
          ],
          [
           "sales document (plot)",
           "saa06",
           "Sargonid period",
           "P335653",
           71,
           197
          ],
          [
           "sales document",
           "saa14",
           "post-canonical",
           "P335636",
           5,
           30
          ],
          [
           "sales document (plot)",
           "saa14",
           "post-canonical",
           "P335340",
           27,
           69
          ],
          [
           "sales document (house)",
           "saa06",
           "Ashurbanipal",
           "P335362",
           80,
           190
          ],
          [
           "sales document (plot)",
           "saa06",
           "Sargonid period",
           "P335338",
           66,
           259
          ],
          [
           "sales document (person)",
           "saa06",
           "Sargonid period",
           "P335185",
           111,
           155
          ],
          [
           "sales document (person)",
           "saa06",
           "Ashurbanipal",
           "P335184",
           107,
           121
          ],
          [
           "sales document (person)",
           "saa06",
           "Sargonid period",
           "P335183",
           64,
           95
          ],
          [
           "sales document (person)",
           "saa06",
           "Sargonid period",
           "P335211",
           49,
           61
          ],
          [
           "sales document (plot)",
           "saa06",
           "8th century",
           "P335339",
           22,
           70
          ],
          [
           "sales document (person)",
           "saa14",
           "post-canonical",
           "P335182",
           112,
           126
          ],
          [
           "sales document (person)",
           "saa06",
           "Sargonid period",
           "P335181",
           110,
           119
          ],
          [
           "sales document (person)",
           "saa06",
           "Sargonid period",
           "P335179",
           81,
           90
          ],
          [
           "sales document (person)",
           "saa06",
           "Sargonid period",
           "P335178",
           99,
           100
          ],
          [
           "sales document (person)",
           "saa06",
           "Sargonid period",
           "P335177",
           111,
           112
          ],
          [
           "sales document (person)",
           "saa06",
           "Sargonid period",
           "P335175",
           24,
           41
          ],
          [
           "sales document (person)",
           "saa06",
           "Sargonid period",
           "P335174",
           34,
           49
          ],
          [
           "sales document (person)",
           "saa06",
           "Sargonid period",
           "P335173",
           12,
           32
          ],
          [
           "sales document (person)",
           "saa06",
           "Sargonid period",
           "P335172",
           34,
           60
          ],
          [
           "sales document (person)",
           "saa14",
           "post-canonical",
           "P335171",
           12,
           64
          ],
          [
           "sales document (person)",
           "saa06",
           "Sargonid period",
           "P335170",
           25,
           64
          ],
          [
           "sales document (person)",
           "saa06",
           "Sargonid period",
           "P335169",
           33,
           42
          ],
          [
           "sales document (person)",
           "saa06",
           "Sargonid period",
           "P335187",
           49,
           135
          ],
          [
           "sales document (person)",
           "saa14",
           "post-canonical",
           "P335168",
           19,
           76
          ],
          [
           "sales document (person)",
           "saa06",
           "Sargonid period",
           "P335145",
           53,
           85
          ],
          [
           "sales document (person)",
           "saa06",
           "Sargonid period",
           "P335165",
           50,
           61
          ],
          [
           "sales document (person)",
           "saa14",
           "post-canonical",
           "P335164",
           37,
           52
          ],
          [
           "sales document (person)",
           "saa06",
           "Sargonid period",
           "P335188",
           69,
           146
          ],
          [
           "sales document (person)",
           "saa06",
           "Sargonid period",
           "P335189",
           91,
           110
          ],
          [
           "sales document (person)",
           "saa06",
           "Sargonid period",
           "P335190",
           59,
           125
          ],
          [
           "sales document (person)",
           "saa06",
           "Sargonid period",
           "P335191",
           154,
           209
          ],
          [
           "sales document (person)",
           "saa06",
           "Ashurbanipal",
           "P335217",
           23,
           60
          ],
          [
           "sales document (person)",
           "saa06",
           "Sargonid period",
           "P335216",
           34,
           68
          ],
          [
           "sales document (person)",
           "saa06",
           "Sargonid period",
           "P335215",
           29,
           41
          ],
          [
           "sales document (person)",
           "saa14",
           "Ashurbanipal",
           "P335214",
           32,
           102
          ],
          [
           "sales document (person)",
           "saa06",
           "Sargonid period",
           "P335213",
           55,
           87
          ],
          [
           "sales document (person)",
           "saa14",
           "post-canonical",
           "P335212",
           36,
           84
          ],
          [
           "sales document (person)",
           "saa14",
           "post-canonical",
           "P335166",
           29,
           90
          ],
          [
           "sales document (plot)",
           "saa06",
           "Sargonid period",
           "P335946",
           46,
           103
          ],
          [
           "sales document (person)",
           "saa06",
           "Sargonid period",
           "P335210",
           85,
           104
          ],
          [
           "sales document (person)",
           "saa06",
           "Sargonid period",
           "P335208",
           65,
           222
          ],
          [
           "sales document (person)",
           "saa14",
           "post-canonical",
           "P335163",
           49,
           78
          ],
          [
           "sales document (person)",
           "saa14",
           "post-canonical",
           "P335206",
           65,
           114
          ],
          [
           "sales document (person)",
           "saa06",
           "Sargonid period",
           "P335204",
           70,
           156
          ],
          [
           "sales document (person)",
           "saa06",
           "Sargonid period",
           "P335203",
           43,
           99
          ],
          [
           "sales document (person)",
           "saa06",
           "Sargonid period",
           "P335202",
           81,
           134
          ],
          [
           "sales document (person)",
           "saa14",
           "Ashurbanipal",
           "P335201",
           45,
           52
          ],
          [
           "sales document (person)",
           "saa06",
           "Sargonid period",
           "P335200",
           52,
           139
          ],
          [
           "sales document (person)",
           "saa14",
           "post-canonical",
           "P335199",
           48,
           139
          ],
          [
           "sales document (person)",
           "saa06",
           "Sargonid period",
           "P335198",
           38,
           79
          ],
          [
           "sales document (person)",
           "saa06",
           "Sargonid period",
           "P335195",
           95,
           127
          ],
          [
           "sales document (person)",
           "saa06",
           "Ashurbanipal",
           "P335194",
           73,
           184
          ],
          [
           "sales document (person)",
           "saa06",
           "Sargonid period",
           "P335193",
           102,
           139
          ],
          [
           "sales document (person)",
           "saa06",
           "Sargonid period",
           "P335192",
           71,
           85
          ],
          [
           "sales document (person)",
           "saa06",
           "Ashurbanipal",
           "P335205",
           34,
           72
          ],
          [
           "sales document (person)",
           "saa06",
           "Sargonid period",
           "P335162",
           74,
           92
          ],
          [
           "sales document (person)",
           "saa14",
           "Ashurbanipal",
           "P335161",
           59,
           105
          ],
          [
           "sales document (person)",
           "saa06",
           "Sargonid period",
           "P335160",
           44,
           81
          ],
          [
           "sales document (person)",
           "saa06",
           "8th century",
           "P335130",
           64,
           141
          ],
          [
           "sales document (person)",
           "saa06",
           "Sargonid period",
           "P335129",
           58,
           78
          ],
          [
           "sales document (person)",
           "saa06",
           "Sargonid period",
           "P335128",
           54,
           69
          ],
          [
           "sales document (person)",
           "saa14",
           "Ashurbanipal",
           "P335127",
           45,
           105
          ],
          [
           "sales document (person)",
           "saa06",
           "Sargonid period",
           "P335125",
           79,
           119
          ],
          [
           "sales document (person)",
           "saa06",
           "Ashurbanipal",
           "P335124",
           46,
           90
          ],
          [
           "sales document (person)",
           "saa14",
           "Ashurbanipal",
           "P335123",
           85,
           128
          ],
          [
           "sales document (person)",
           "saa06",
           "Sargonid period",
           "P335122",
           99,
           141
          ],
          [
           "sales document",
           "saa06",
           "Sargonid period",
           "P335109",
           13,
           54
          ],
          [
           "sales document (person)",
           "saa06",
           "Sargonid period",
           "P335051",
           39,
           39
          ],
          [
           "sales document",
           "saa14",
           "Ashurbanipal",
           "P335038",
           14,
           31
          ],
          [
           "sales document (person)",
           "saa14",
           "Ashurbanipal",
           "P335207",
           106,
           129
          ],
          [
           "sales document (person)",
           "saa06",
           "Sargonid period",
           "P335131",
           79,
           151
          ],
          [
           "lease document (field)",
           "saa06",
           "Sargonid period",
           "P335022",
           58,
           101
          ],
          [
           "sales document (person)",
           "saa06",
           "8th century",
           "P335027",
           46,
           258
          ],
          [
           "sales document (person)",
           "saa06",
           "Sargonid period",
           "P335011",
           114,
           135
          ],
          [
           "lease document (field)",
           "saa14",
           "post-canonical",
           "P334990",
           46,
           46
          ],
          [
           "sales document (person)",
           "saa06",
           "8th century",
           "P240189",
           16,
           19
          ],
          [
           "sales document (person)",
           "saa06",
           "Sargonid period",
           "P237807",
           38,
           48
          ],
          [
           "sales document",
           "saa14",
           "Ashurbanipal",
           "P224977",
           15,
           78
          ],
          [
           "lease document (field)",
           "saa14",
           "Ashurbanipal",
           "P224976",
           69,
           211
          ],
          [
           "sales document",
           "saa14",
           "Ashurbanipal",
           "P224975",
           40,
           91
          ],
          [
           "sales document (person)",
           "saa14",
           "Ashurbanipal",
           "P224957",
           87,
           139
          ],
          [
           "sales document (person)",
           "saa14",
           "post-canonical",
           "P224956",
           60,
           108
          ],
          [
           "sales document (person)",
           "saa14",
           "post-canonical",
           "P224946",
           113,
           134
          ],
          [
           "sales document (field)",
           "saa06",
           "Sargonid period",
           "P335023",
           18,
           76
          ],
          [
           "sales document (person)",
           "saa06",
           "Ashurbanipal",
           "P335218",
           51,
           114
          ],
          [
           "sales document (person)",
           "saa06",
           "Sargonid period",
           "P335209",
           68,
           133
          ],
          [
           "sales document (person)",
           "saa14",
           "Ashurbanipal",
           "P335132",
           34,
           41
          ],
          [
           "sales document (person)",
           "saa06",
           "Sargonid period",
           "P335159",
           47,
           119
          ],
          [
           "sales document (person)",
           "saa14",
           "post-canonical",
           "P335158",
           101,
           144
          ],
          [
           "sales document (person)",
           "saa14",
           "post-canonical",
           "P335157",
           95,
           149
          ],
          [
           "sales document (person)",
           "saa14",
           "Ashurbanipal",
           "P335156",
           67,
           110
          ],
          [
           "sales document (person)",
           "saa14",
           "Ashurbanipal",
           "P335155",
           102,
           157
          ],
          [
           "sales document (person)",
           "saa14",
           "Ashurbanipal",
           "P335153",
           50,
           153
          ],
          [
           "sales document (person)",
           "saa14",
           "post-canonical",
           "P335152",
           4,
           15
          ],
          [
           "sales document (person)",
           "saa14",
           "Ashurbanipal",
           "P335151",
           25,
           29
          ],
          [
           "sales document (person)",
           "saa06",
           "Ashurbanipal",
           "P335150",
           56,
           72
          ],
          [
           "sales document (person)",
           "saa06",
           "Sargonid period",
           "P335149",
           20,
           52
          ],
          [
           "sales document (person)",
           "saa06",
           "Sargonid period",
           "P335148",
           40,
           102
          ],
          [
           "sales document (person)",
           "saa06",
           "Sargonid period",
           "P335133",
           65,
           106
          ],
          [
           "sales document (person)",
           "saa06",
           "Ashurbanipal",
           "P335147",
           67,
           106
          ],
          [
           "sales document (person)",
           "saa14",
           "Ashurbanipal",
           "P335134",
           37,
           96
          ],
          [
           "sales document (person)",
           "saa14",
           "Ashurbanipal",
           "P335144",
           36,
           50
          ],
          [
           "sales document (plot)",
           "saa06",
           "8th century",
           "P335938",
           83,
           85
          ],
          [
           "sales document (person)",
           "saa06",
           "Sargonid period",
           "P335223",
           30,
           50
          ],
          [
           "sales document (plot)",
           "saa14",
           "post-canonical",
           "P335291",
           10,
           88
          ],
          [
           "sales document (plot)",
           "saa14",
           "post-canonical",
           "P335292",
           11,
           43
          ],
          [
           "sales document (person)",
           "saa14",
           "Ashurbanipal",
           "P335141",
           19,
           47
          ],
          [
           "sales document (person)",
           "saa06",
           "Sargonid period",
           "P335140",
           16,
           32
          ],
          [
           "sales document (person)",
           "saa14",
           "Ashurbanipal",
           "P335139",
           28,
           81
          ],
          [
           "sales document (person)",
           "saa06",
           "Sargonid period",
           "P335138",
           15,
           60
          ],
          [
           "sales document (person)",
           "saa06",
           "Sargonid period",
           "P335137",
           48,
           86
          ],
          [
           "sales document (person)",
           "saa06",
           "Sargonid period",
           "P335136",
           57,
           65
          ],
          [
           "sales document (person)",
           "saa06",
           "Ashurbanipal",
           "P335135",
           56,
           75
          ],
          [
           "sales document (person)",
           "saa06",
           "Sargonid period",
           "P335146",
           40,
           68
          ],
          [
           "sales document (person)",
           "saa06",
           "Sargonid period",
           "P335219",
           20,
           69
          ],
          [
           "sales document (person)",
           "saa14",
           "post-canonical",
           "P335167",
           16,
           45
          ],
          [
           "sales document (person)",
           "saa06",
           "Sargonid period",
           "P335221",
           22,
           51
          ],
          [
           "sales document (garden)",
           "saa06",
           "Sargonid period",
           "P335309",
           37,
           53
          ],
          [
           "sales document (garden)",
           "saa06",
           "Sargonid period",
           "P335308",
           63,
           91
          ],
          [
           "sales document (garden)",
           "saa06",
           "Sargonid period",
           "P335307",
           52,
           93
          ],
          [
           "sales document (garden)",
           "saa06",
           "Ashurbanipal",
           "P335306",
           38,
           77
          ],
          [
           "sales document (garden)",
           "saa06",
           "Sargonid period",
           "P335304",
           144,
           146
          ],
          [
           "sales document (garden)",
           "saa06",
           "Sargonid period",
           "P335303",
           75,
           107
          ],
          [
           "sales document (plot)",
           "saa14",
           "Ashurbanipal",
           "P335302",
           35,
           63
          ],
          [
           "sales document (house)",
           "saa14",
           "post-canonical",
           "P335301",
           85,
           108
          ],
          [
           "sales document (plot)",
           "saa14",
           "post-canonical",
           "P335300",
           41,
           51
          ],
          [
           "sales document (plot)",
           "saa14",
           "post-canonical",
           "P335299",
           35,
           61
          ],
          [
           "sales document (plot)",
           "saa14",
           "post-canonical",
           "P335298",
           55,
           102
          ],
          [
           "sales document (garden)",
           "saa06",
           "Sargonid period",
           "P335310",
           19,
           47
          ],
          [
           "sales document (plot)",
           "saa06",
           "Sargonid period",
           "P335297",
           18,
           41
          ],
          [
           "sales document (plot)",
           "saa14",
           "Ashurbanipal",
           "P335295",
           47,
           77
          ],
          [
           "sales document (plot)",
           "saa14",
           "post-canonical",
           "P335290",
           33,
           45
          ],
          [
           "sales document (plot)",
           "saa06",
           "Sargonid period",
           "P335294",
           113,
           158
          ],
          [
           "sales document (house)",
           "saa14",
           "post-canonical",
           "P335289",
           36,
           46
          ],
          [
           "sales document (house)",
           "saa06",
           "Sargonid period",
           "P335320",
           69,
           134
          ],
          [
           "sales document (house)",
           "saa14",
           "post-canonical",
           "P335332",
           43,
           63
          ],
          [
           "sales document (house)",
           "saa14",
           "post-canonical",
           "P335288",
           23,
           36
          ],
          [
           "sales document (house)",
           "saa14",
           "post-canonical",
           "P335287",
           32,
           41
          ],
          [
           "sales document (house)",
           "saa14",
           "Ashurbanipal",
           "P335286",
           24,
           58
          ],
          [
           "sales document (house)",
           "saa14",
           "post-canonical",
           "P335285",
           10,
           49
          ],
          [
           "sales document (plot)",
           "saa14",
           "post-canonical",
           "P335296",
           43,
           120
          ],
          [
           "sales document (house)",
           "saa14",
           "Ashurbanipal",
           "P335284",
           74,
           133
          ],
          [
           "sales document (garden)",
           "saa14",
           "post-canonical",
           "P335311",
           8,
           36
          ],
          [
           "sales document (garden)",
           "saa06",
           "Sargonid period",
           "P335314",
           23,
           37
          ],
          [
           "sales document (plot)",
           "saa06",
           "Sargonid period",
           "P335337",
           35,
           133
          ],
          [
           "sales document (plot)",
           "saa06",
           "Sargonid period",
           "P335336",
           51,
           83
          ],
          [
           "sales document (plot)",
           "saa06",
           "Sargonid period",
           "P335335",
           110,
           223
          ],
          [
           "sales document (house)",
           "saa14",
           "post-canonical",
           "P335334",
           36,
           152
          ],
          [
           "sales document (plot)",
           "saa14",
           "post-canonical",
           "P335333",
           53,
           156
          ],
          [
           "sales document (person)",
           "saa06",
           "Sargonid period",
           "P335220",
           30,
           68
          ],
          [
           "sales document (person)",
           "saa06",
           "Sargonid period",
           "P335143",
           43,
           100
          ],
          [
           "sales document (house)",
           "saa14",
           "Ashurbanipal",
           "P335331",
           37,
           72
          ],
          [
           "sales document (plot)",
           "saa14",
           "post-canonical",
           "P335330",
           100,
           167
          ],
          [
           "sales document (house)",
           "saa14",
           "post-canonical",
           "P335329",
           114,
           156
          ],
          [
           "sales document (plot)",
           "saa14",
           "Ashurbanipal",
           "P335328",
           75,
           128
          ],
          [
           "sales document (garden)",
           "saa14",
           "post-canonical",
           "P335313",
           4,
           17
          ],
          [
           "sales document (plot)",
           "saa06",
           "Sargonid period",
           "P335327",
           116,
           116
          ],
          [
           "sales document (person)",
           "saa06",
           "Sargonid period",
           "P335142",
           21,
           28
          ],
          [
           "sales document (plot)",
           "saa14",
           "post-canonical",
           "P335324",
           24,
           65
          ],
          [
           "sales document (house)",
           "saa14",
           "Ashurbanipal",
           "P335323",
           17,
           48
          ],
          [
           "sales document (plot)",
           "saa06",
           "Sargonid period",
           "P335322",
           57,
           144
          ],
          [
           "sales document (plot)",
           "saa06",
           "Ashurbanipal",
           "P335321",
           54,
           87
          ],
          [
           "sales document (plot)",
           "saa06",
           "Sargonid period",
           "P335319",
           30,
           103
          ],
          [
           "sales document (house)",
           "saa14",
           "post-canonical",
           "P335293",
           135,
           170
          ],
          [
           "sales document (house)",
           "saa06",
           "Sargonid period",
           "P335325",
           19,
           112
          ],
          [
           "sales document (house)",
           "saa14",
           "Ashurbanipal",
           "P335317",
           102,
           104
          ],
          [
           "sales document (garden)",
           "saa06",
           "Sargonid period",
           "P335315",
           20,
           68
          ],
          [
           "sales document (person)",
           "saa14",
           "Ashurbanipal",
           "P335222",
           48,
           74
          ],
          [
           "sales document (plot)",
           "saa06",
           "Sargonid period",
           "P335326",
           86,
           118
          ],
          [
           "sales document (plot)",
           "saa14",
           "post-canonical",
           "P335283",
           40,
           103
          ],
          [
           "sales document (plot)",
           "saa06",
           "Sargonid period",
           "P337149",
           354,
           492
          ],
          [
           "sales document (house)",
           "saa14",
           "post-canonical",
           "P335280",
           77,
           91
          ],
          [
           "sales document (person)",
           "saa06",
           "Sargonid period",
           "P335246",
           15,
           38
          ],
          [
           "sales document (person)",
           "saa06",
           "Sargonid period",
           "P335245",
           8,
           55
          ],
          [
           "sales document (person)",
           "saa06",
           "Sargonid period",
           "P335244",
           11,
           31
          ],
          [
           "sales document (person)",
           "saa06",
           "Sargonid period",
           "P335243",
           8,
           17
          ],
          [
           "sales document (person)",
           "saa06",
           "Ashurbanipal",
           "P335242",
           23,
           83
          ],
          [
           "sales document (person)",
           "saa14",
           "post-canonical",
           "P335241",
           23,
           80
          ],
          [
           "sales document (person)",
           "saa14",
           "Ashurbanipal",
           "P335240",
           22,
           92
          ],
          [
           "sales document (person)",
           "saa06",
           "Sargonid period",
           "P335233",
           40,
           129
          ],
          [
           "sales document (person)",
           "saa06",
           "Sargonid period",
           "P335239",
           27,
           99
          ],
          [
           "sales document (person)",
           "saa14",
           "post-canonical",
           "P335236",
           13,
           46
          ],
          [
           "sales document (person)",
           "saa14",
           "post-canonical",
           "P335247",
           7,
           16
          ],
          [
           "sales document (person)",
           "saa14",
           "post-canonical",
           "P335234",
           13,
           52
          ],
          [
           "sales document (person)",
           "saa14",
           "Ashurbanipal",
           "P335232",
           11,
           21
          ],
          [
           "sales document (person)",
           "saa06",
           "Sargonid period",
           "P335231",
           14,
           33
          ],
          [
           "sales document (person)",
           "saa06",
           "Sargonid period",
           "P335230",
           44,
           58
          ],
          [
           "sales document (person)",
           "saa14",
           "Ashurbanipal",
           "P335229",
           71,
           156
          ],
          [
           "sales document (person)",
           "saa14",
           "post-canonical",
           "P335228",
           39,
           129
          ],
          [
           "sales document (person)",
           "saa14",
           "post-canonical",
           "P335227",
           29,
           102
          ],
          [
           "sales document (person)",
           "saa06",
           "Sargonid period",
           "P335226",
           29,
           58
          ],
          [
           "sales document (person)",
           "saa06",
           "Sargonid period",
           "P335225",
           22,
           88
          ],
          [
           "sales document (person)",
           "saa06",
           "Sargonid period",
           "P335224",
           25,
           111
          ],
          [
           "sales document (house)",
           "saa06",
           "Sargonid period",
           "P335318",
           113,
           126
          ],
          [
           "sales document (house)",
           "saa06",
           "Sargonid period",
           "P335281",
           43,
           123
          ],
          [
           "sales document (person)",
           "saa14",
           "post-canonical",
           "P335238",
           23,
           69
          ],
          [
           "sales document (person)",
           "saa14",
           "post-canonical",
           "P335235",
           16,
           67
          ],
          [
           "sales document (person)",
           "saa14",
           "Ashurbanipal",
           "P335261",
           21,
           41
          ],
          [
           "sales document (field, person)",
           "saa06",
           "Ashurbanipal",
           "P335316",
           31,
           143
          ],
          [
           "sales document (person)",
           "saa06",
           "Sargonid period",
           "P335262",
           41,
           84
          ],
          [
           "sales document",
           "saa06",
           "8th century",
           "P335248",
           18,
           73
          ],
          [
           "sales document (person)",
           "saa14",
           "post-canonical",
           "P335250",
           9,
           20
          ],
          [
           "sales document (house)",
           "saa14",
           "Ashurbanipal",
           "P335273",
           60,
           100
          ],
          [
           "sales document (house)",
           "saa06",
           "Sargonid period",
           "P335274",
           89,
           136
          ],
          [
           "sales document (house)",
           "saa06",
           "Ashurbanipal",
           "P335275",
           79,
           103
          ],
          [
           "sales document (house)",
           "saa14",
           "Ashurbanipal",
           "P335277",
           71,
           192
          ],
          [
           "sales document (person)",
           "saa14",
           "post-canonical",
           "P335249",
           6,
           34
          ],
          [
           "sales document (house)",
           "saa06",
           "Sargonid period",
           "P335279",
           53,
           75
          ],
          [
           "sales document (house)",
           "saa06",
           "Sargonid period",
           "P335272",
           101,
           146
          ],
          [
           "sales document (house)",
           "saa14",
           "post-canonical",
           "P335271",
           91,
           113
          ],
          [
           "sales document (house)",
           "saa06",
           "Sargonid period",
           "P335270",
           148,
           173
          ],
          [
           "sales document (house)",
           "saa06",
           "Sargonid period",
           "P335268",
           121,
           121
          ],
          [
           "sales document (house)",
           "saa06",
           "Sargonid period",
           "P335276",
           24,
           152
          ],
          [
           "sales document (house)",
           "saa14",
           "post-canonical",
           "P335269",
           175,
           177
          ],
          [
           "sales document (person)",
           "saa14",
           "post-canonical",
           "P335259",
           23,
           83
          ],
          [
           "sales document (person)",
           "saa06",
           "Ashurbanipal",
           "P335267",
           21,
           74
          ],
          [
           "sales document (person)",
           "saa14",
           "post-canonical",
           "P335258",
           22,
           103
          ],
          [
           "sales document (person)",
           "saa06",
           "8th century",
           "P335265",
           39,
           67
          ],
          [
           "sales document (person)",
           "saa14",
           "post-canonical",
           "P335256",
           131,
           146
          ],
          [
           "sales document (person)",
           "saa14",
           "Ashurbanipal",
           "P335255",
           106,
           197
          ],
          [
           "sales document (person)",
           "saa14",
           "Ashurbanipal",
           "P335260",
           49,
           90
          ],
          [
           "sales document (person)",
           "saa14",
           "post-canonical",
           "P335254",
           44,
           59
          ],
          [
           "sales document (person)",
           "saa14",
           "post-canonical",
           "P335253",
           99,
           114
          ],
          [
           "sales document (person)",
           "saa14",
           "post-canonical",
           "P335252",
           133,
           146
          ],
          [
           "sales document (person)",
           "saa06",
           "Sargonid period",
           "P335251",
           5,
           21
          ],
          [
           "sales document (person)",
           "saa06",
           "Sargonid period",
           "P335264",
           36,
           87
          ]
         ],
         "hovertemplate": "region-tsne=Kuyunjik (Nineveh)<br>component 1=%{x}<br>component 2=%{y}<br>size=%{marker.size}<br>subgenre=%{customdata[0]}<br>project=%{customdata[1]}<br>date_for_viz=%{customdata[2]}<br>index=%{customdata[3]}<br>Text_length_partial=%{customdata[4]}<br>Text_length_full=%{customdata[5]}<extra></extra>",
         "legendgroup": "Kuyunjik (Nineveh)",
         "marker": {
          "color": "#A25FAC",
          "line": {
           "color": "black",
           "width": 1
          },
          "size": [
           38,
           88,
           30,
           38,
           9,
           20,
           56,
           20,
           23,
           104,
           33,
           38,
           9,
           14,
           33,
           22,
           42,
           47,
           50,
           20,
           7,
           21,
           35,
           20,
           12,
           60,
           26,
           17,
           64,
           28,
           8,
           66,
           4,
           36,
           32,
           40,
           17,
           21,
           10,
           24,
           28,
           7,
           6,
           13,
           19,
           12,
           11,
           29,
           10,
           9,
           7,
           22,
           11,
           22,
           20,
           9,
           5,
           21,
           8,
           35,
           84,
           15,
           13,
           23,
           20,
           62,
           36,
           5,
           180,
           140,
           91,
           100,
           55,
           185,
           36,
           44,
           59,
           35,
           63,
           240,
           153,
           65,
           77,
           85,
           110,
           340,
           127,
           30,
           33,
           32,
           48,
           41,
           53,
           85,
           48,
           15,
           20,
           18,
           17,
           87,
           17,
           86,
           32,
           27,
           18,
           66,
           27,
           77,
           12,
           37,
           27,
           41,
           16,
           15,
           26,
           13,
           11,
           26,
           10,
           35,
           11,
           62,
           93,
           47,
           76,
           152,
           13,
           4,
           143,
           24,
           47,
           144,
           34,
           211,
           110,
           124,
           19,
           13,
           25,
           8,
           6,
           3,
           28,
           10,
           4,
           10,
           8,
           8,
           8,
           7,
           13,
           56,
           74,
           17,
           44,
           18,
           9,
           28,
           16,
           8,
           148,
           40,
           4,
           129,
           81,
           162,
           5,
           19,
           13,
           33,
           51,
           32,
           99,
           41,
           29,
           58,
           22,
           10,
           5,
           12,
           10,
           5,
           7,
           13,
           31,
           58,
           7,
           8,
           87,
           45,
           42,
           6,
           14,
           84,
           7,
           21,
           10,
           12,
           12,
           3,
           7,
           12,
           10,
           71,
           41,
           21,
           57,
           13,
           21,
           32,
           74,
           68,
           56,
           121,
           86,
           11,
           130,
           14,
           48,
           9,
           83,
           34,
           11,
           51,
           51,
           13,
           9,
           13,
           9,
           24,
           6,
           6,
           16,
           13,
           14,
           16,
           11,
           34,
           28,
           7,
           51,
           71,
           15,
           73,
           42,
           14,
           69,
           10,
           72,
           37,
           31,
           62,
           75,
           59,
           89,
           51,
           59,
           79,
           68,
           44,
           8,
           9,
           11,
           14,
           10,
           5,
           37,
           5,
           7,
           5,
           12,
           5,
           36,
           71,
           5,
           27,
           80,
           66,
           111,
           107,
           64,
           49,
           22,
           112,
           110,
           81,
           99,
           111,
           24,
           34,
           12,
           34,
           12,
           25,
           33,
           49,
           19,
           53,
           50,
           37,
           69,
           91,
           59,
           154,
           23,
           34,
           29,
           32,
           55,
           36,
           29,
           46,
           85,
           65,
           49,
           65,
           70,
           43,
           81,
           45,
           52,
           48,
           38,
           95,
           73,
           102,
           71,
           34,
           74,
           59,
           44,
           64,
           58,
           54,
           45,
           79,
           46,
           85,
           99,
           13,
           39,
           14,
           106,
           79,
           58,
           46,
           114,
           46,
           16,
           38,
           15,
           69,
           40,
           87,
           60,
           113,
           18,
           51,
           68,
           34,
           47,
           101,
           95,
           67,
           102,
           50,
           4,
           25,
           56,
           20,
           40,
           65,
           67,
           37,
           36,
           83,
           30,
           10,
           11,
           19,
           16,
           28,
           15,
           48,
           57,
           56,
           40,
           20,
           16,
           22,
           37,
           63,
           52,
           38,
           144,
           75,
           35,
           85,
           41,
           35,
           55,
           19,
           18,
           47,
           33,
           113,
           36,
           69,
           43,
           23,
           32,
           24,
           10,
           43,
           74,
           8,
           23,
           35,
           51,
           110,
           36,
           53,
           30,
           43,
           37,
           100,
           114,
           75,
           4,
           116,
           21,
           24,
           17,
           57,
           54,
           30,
           135,
           19,
           102,
           20,
           48,
           86,
           40,
           354,
           77,
           15,
           8,
           11,
           8,
           23,
           23,
           22,
           40,
           27,
           13,
           7,
           13,
           11,
           14,
           44,
           71,
           39,
           29,
           29,
           22,
           25,
           113,
           43,
           23,
           16,
           21,
           31,
           41,
           18,
           9,
           60,
           89,
           79,
           71,
           6,
           53,
           101,
           91,
           148,
           121,
           24,
           175,
           23,
           21,
           22,
           39,
           131,
           106,
           49,
           44,
           99,
           133,
           5,
           36
          ],
          "sizemode": "area",
          "sizeref": 0.885,
          "symbol": "circle"
         },
         "mode": "markers",
         "name": "Kuyunjik (Nineveh)",
         "showlegend": true,
         "type": "scattergl",
         "x": [
          56.20130157470703,
          -37.90504837036133,
          -6.528770446777344,
          -46.095375061035156,
          -28.17357063293457,
          15.519746780395508,
          -12.629583358764648,
          -35.59442901611328,
          -45.735626220703125,
          53.001834869384766,
          56.56835174560547,
          -22.91453742980957,
          -61.821372985839844,
          -37.28811264038086,
          -40.375980377197266,
          -43.71425247192383,
          45.16045379638672,
          30.117090225219727,
          -46.459678649902344,
          -47.0716667175293,
          -32.23457717895508,
          -36.832359313964844,
          -47.80573654174805,
          4.286441802978516,
          -47.75402069091797,
          -9.64171314239502,
          -9.062291145324707,
          -60.29954528808594,
          -8.749960899353027,
          -11.42971420288086,
          -43.66252899169922,
          -26.886539459228516,
          -46.7418327331543,
          -35.93890380859375,
          -9.69188117980957,
          -27.54294204711914,
          10.162095069885254,
          -28.692455291748047,
          67.69473266601562,
          -46.7345085144043,
          40.41132354736328,
          -50.69668197631836,
          -63.27398681640625,
          -53.624305725097656,
          -49.68039321899414,
          -59.19961929321289,
          -31.811254501342773,
          -7.490757942199707,
          -52.40164566040039,
          -61.40953826904297,
          -69.27084350585938,
          -25.127384185791016,
          -65.01924896240234,
          -32.19151306152344,
          -10.224970817565918,
          -51.77772521972656,
          -41.96824264526367,
          -50.18406677246094,
          -46.1215934753418,
          -32.411006927490234,
          22.01263427734375,
          -56.684574127197266,
          -46.28182601928711,
          -45.96432876586914,
          10.570215225219727,
          31.59162712097168,
          -15.5174560546875,
          -2.988649606704712,
          29.177322387695312,
          -4.705249309539795,
          -12.460811614990234,
          24.28620719909668,
          -22.570573806762695,
          31.570768356323242,
          -24.791658401489258,
          -19.37920570373535,
          -4.2254109382629395,
          -5.943887710571289,
          31.47711944580078,
          35.92718505859375,
          -4.719595909118652,
          -19.064456939697266,
          38.60197067260742,
          33.51220703125,
          -6.682338714599609,
          -12.012063980102539,
          33.304561614990234,
          -10.212438583374023,
          -8.286210060119629,
          -42.48379898071289,
          -18.56650161743164,
          -39.65169906616211,
          66.79118347167969,
          -41.29804229736328,
          10.287148475646973,
          -49.74310302734375,
          18.250686645507812,
          39.66830825805664,
          -35.14366912841797,
          19.820125579833984,
          -47.931190490722656,
          -21.497303009033203,
          -4.436599254608154,
          60.222869873046875,
          -65.20132446289062,
          -27.046993255615234,
          -9.060603141784668,
          -22.212066650390625,
          -58.89114761352539,
          60.62965393066406,
          22.87837028503418,
          -42.912784576416016,
          -60.68172836303711,
          -61.421573638916016,
          38.02779006958008,
          -27.574081420898438,
          -23.631561279296875,
          -41.42076110839844,
          -60.49065399169922,
          -48.221256256103516,
          -61.502052307128906,
          35.71810531616211,
          44.246002197265625,
          -42.52153778076172,
          34.03499984741211,
          20.161964416503906,
          36.48082733154297,
          -64.25438690185547,
          52.00065231323242,
          -2.249741554260254,
          -43.52776336669922,
          29.8156681060791,
          62.738990783691406,
          51.36445999145508,
          34.19788360595703,
          53.395851135253906,
          -51.49849319458008,
          7.384666919708252,
          -19.863201141357422,
          -73.36474609375,
          -44.46204376220703,
          -58.01103210449219,
          -45.066654205322266,
          -2.7467041015625,
          -54.173423767089844,
          -48.89646530151367,
          -47.776248931884766,
          -69.59014892578125,
          -46.80687713623047,
          -64.14009094238281,
          -45.584556579589844,
          -17.602630615234375,
          -31.066213607788086,
          -1.0822629928588867,
          -4.781432151794434,
          -27.020761489868164,
          -51.77949142456055,
          -13.933589935302734,
          49.06790542602539,
          -30.97640609741211,
          -12.062355041503906,
          1.352311372756958,
          -67.5943603515625,
          22.189208984375,
          19.40088653564453,
          -9.451955795288086,
          -32.77415084838867,
          -33.42858123779297,
          -42.937252044677734,
          67.03836059570312,
          22.329511642456055,
          -32.732460021972656,
          33.91962814331055,
          -30.82669448852539,
          -6.5260844230651855,
          -30.36655616760254,
          -43.94312286376953,
          -24.13196563720703,
          -41.923484802246094,
          -58.08441162109375,
          -51.273677825927734,
          -64.76627349853516,
          -65.22815704345703,
          -45.455448150634766,
          -29.149141311645508,
          58.78114700317383,
          -72.61267852783203,
          4.745502948760986,
          38.00445556640625,
          62.18754959106445,
          -6.6769118309021,
          -63.8068962097168,
          7.980942726135254,
          21.416532516479492,
          -50.80109786987305,
          -55.14952087402344,
          -67.24349212646484,
          -62.20217514038086,
          -50.11003112792969,
          -34.82971954345703,
          -51.80879211425781,
          -50.55967330932617,
          -48.46924591064453,
          -12.077733993530273,
          -43.82197952270508,
          -44.45731735229492,
          -5.958192825317383,
          -28.500930786132812,
          -70.63169860839844,
          17.61210060119629,
          -5.437225818634033,
          21.470565795898438,
          -0.648129940032959,
          -4.945903301239014,
          36.43699264526367,
          -42.95621109008789,
          29.843969345092773,
          -65.85069274902344,
          38.69017791748047,
          -61.272884368896484,
          45.307960510253906,
          37.73387908935547,
          -8.555216789245605,
          -33.0703239440918,
          20.000476837158203,
          18.618865966796875,
          13.888687133789062,
          -7.553176403045654,
          66.26927947998047,
          -51.828495025634766,
          -71.12046813964844,
          -61.15613555908203,
          -31.615564346313477,
          -16.956897735595703,
          -57.19939041137695,
          -42.48434066772461,
          18.85112953186035,
          52.71953201293945,
          -45.70143508911133,
          28.156160354614258,
          30.30208969116211,
          -33.1293830871582,
          -4.108665943145752,
          22.56037712097168,
          -15.718522071838379,
          -37.67340850830078,
          14.507407188415527,
          -63.11471939086914,
          -7.700101375579834,
          -6.535536289215088,
          4.832823276519775,
          22.66209602355957,
          24.460159301757812,
          54.895164489746094,
          -18.556270599365234,
          56.529212951660156,
          21.154468536376953,
          -15.477725982666016,
          61.57907485961914,
          3.3513386249542236,
          -45.32875442504883,
          -42.21736526489258,
          -63.57612228393555,
          -61.96918869018555,
          -13.677848815917969,
          -71.5211410522461,
          -14.87872314453125,
          -65.03375244140625,
          -22.80433464050293,
          -46.57087326049805,
          -73.91910552978516,
          -68.27787017822266,
          -22.2546329498291,
          -33.42912292480469,
          -73.04063415527344,
          15.940958976745605,
          -34.65284729003906,
          -41.770484924316406,
          45.72686767578125,
          63.048770904541016,
          23.52730369567871,
          15.54989242553711,
          -26.655445098876953,
          40.67497253417969,
          52.98910903930664,
          30.56156349182129,
          37.58168411254883,
          62.460418701171875,
          10.987526893615723,
          16.195541381835938,
          -39.550941467285156,
          7.556057453155518,
          -57.572383880615234,
          -46.0369873046875,
          49.79196548461914,
          59.591453552246094,
          -18.405725479125977,
          53.04065704345703,
          24.19367027282715,
          17.992218017578125,
          34.03120040893555,
          16.66120147705078,
          47.89543914794922,
          45.85202407836914,
          -29.29856300354004,
          50.239261627197266,
          17.39784049987793,
          61.575843811035156,
          60.09349060058594,
          -20.289649963378906,
          -48.60186004638672,
          -5.2972092628479,
          -17.480083465576172,
          22.297447204589844,
          -16.622234344482422,
          35.233428955078125,
          14.590614318847656,
          5.655432224273682,
          34.813716888427734,
          25.326723098754883,
          -24.59299659729004,
          -25.131898880004883,
          24.616741180419922,
          18.373708724975586,
          18.119274139404297,
          33.753868103027344,
          36.87157440185547,
          -23.969566345214844,
          16.521129608154297,
          -25.232460021972656,
          38.320953369140625,
          -14.572728157043457,
          19.33796501159668,
          52.984378814697266,
          19.396163940429688,
          54.841434478759766,
          -22.812829971313477,
          42.42184066772461,
          52.371883392333984,
          5.444473743438721,
          31.320877075195312,
          -7.7547783851623535,
          45.77934265136719,
          -20.13412857055664,
          -6.1302170753479,
          14.761908531188965,
          -22.841466903686523,
          31.115629196166992,
          8.212198257446289,
          41.10726547241211,
          -62.15931701660156,
          -43.47153091430664,
          47.431880950927734,
          57.77371597290039,
          -24.014970779418945,
          59.82938766479492,
          -52.07014465332031,
          -16.582033157348633,
          40.585731506347656,
          -22.256919860839844,
          -11.125792503356934,
          -14.1237211227417,
          57.80315399169922,
          50.256988525390625,
          51.764869689941406,
          40.711734771728516,
          -69.33207702636719,
          49.907135009765625,
          -18.541730880737305,
          -56.602169036865234,
          13.524436950683594,
          -16.995563507080078,
          36.14381790161133,
          -36.47938919067383,
          8.498801231384277,
          36.53862380981445,
          -1.197016716003418,
          -37.82013702392578,
          -38.10979461669922,
          -27.662357330322266,
          -23.357013702392578,
          52.932411193847656,
          -37.632774353027344,
          -39.39146041870117,
          57.7238883972168,
          21.8211727142334,
          -19.40342903137207,
          10.15982437133789,
          -33.075889587402344,
          -25.814130783081055,
          18.770580291748047,
          36.16920471191406,
          31.45934295654297,
          35.898460388183594,
          29.645904541015625,
          18.639925003051758,
          13.991379737854004,
          -10.139297485351562,
          -38.195804595947266,
          46.38313293457031,
          -29.166086196899414,
          43.1478271484375,
          -28.16724967956543,
          17.492021560668945,
          -16.922706604003906,
          28.501956939697266,
          44.18492889404297,
          -16.132675170898438,
          58.84726333618164,
          24.90657615661621,
          -40.98896789550781,
          64.23085021972656,
          -69.35954284667969,
          -19.61504554748535,
          -7.021472454071045,
          -31.40711212158203,
          -46.00965118408203,
          -5.557408809661865,
          29.54438018798828,
          34.15176010131836,
          24.574846267700195,
          -35.11369705200195,
          63.24424743652344,
          47.20470428466797,
          57.25098419189453,
          -12.146292686462402,
          30.61697006225586,
          12.19958782196045,
          -66.37395477294922,
          43.7852668762207,
          14.079300880432129,
          -49.045040130615234,
          -39.50393295288086,
          -3.4685964584350586,
          30.934072494506836,
          25.342689514160156,
          47.06266403198242,
          -31.499984741210938,
          30.1002140045166,
          -6.8174896240234375,
          -5.166470050811768,
          -11.546496391296387,
          -11.001605987548828,
          29.75149154663086,
          -17.078554153442383,
          -65.4173583984375,
          -23.186033248901367,
          -31.06586265563965,
          -25.729551315307617,
          47.16911315917969,
          47.67673110961914,
          57.36956024169922,
          49.29143142700195,
          1.4132568836212158,
          66.08629608154297,
          -58.98003387451172,
          -71.55461883544922,
          -27.7780704498291,
          -24.3682918548584,
          51.08466720581055,
          -13.612014770507812,
          -22.55840301513672,
          -38.9137077331543,
          52.90637969970703,
          -28.844192504882812,
          -27.037904739379883,
          38.71202850341797,
          -30.404287338256836,
          -49.86782455444336,
          60.394981384277344,
          -5.289156913757324,
          -53.2714729309082,
          -20.758747100830078,
          -47.66619873046875,
          -29.144001007080078,
          32.54020309448242,
          31.42042350769043,
          13.203215599060059,
          61.469879150390625,
          -59.14513397216797,
          19.242511749267578,
          40.30631637573242,
          41.808685302734375,
          23.350513458251953,
          40.478675842285156,
          6.3046064376831055,
          61.14435958862305,
          -20.28672218322754,
          -51.539581298828125,
          -17.094223022460938,
          56.93273162841797,
          66.61477661132812,
          18.04405975341797,
          10.239906311035156,
          36.90199661254883,
          16.778820037841797,
          55.58098602294922,
          -63.13732147216797,
          -36.75518798828125
         ],
         "xaxis": "x",
         "y": [
          14.897608757019043,
          17.3275146484375,
          -4.9139909744262695,
          4.66666841506958,
          8.320728302001953,
          14.175524711608887,
          11.586374282836914,
          16.77888298034668,
          7.028901100158691,
          -7.654808521270752,
          13.423380851745605,
          -2.9448940753936768,
          2.975651264190674,
          18.644020080566406,
          15.872575759887695,
          4.380598068237305,
          -14.96631908416748,
          -11.786202430725098,
          6.101003170013428,
          14.80921745300293,
          11.03259563446045,
          15.710784912109375,
          4.603894233703613,
          -6.455916881561279,
          12.908485412597656,
          8.179755210876465,
          9.313994407653809,
          7.7106404304504395,
          7.667994976043701,
          10.472808837890625,
          10.058686256408691,
          4.639892101287842,
          16.573274612426758,
          18.55034065246582,
          11.436247825622559,
          0.07325531542301178,
          -8.41934585571289,
          -6.244361400604248,
          6.53770637512207,
          3.8933205604553223,
          13.658669471740723,
          13.04719066619873,
          6.929025173187256,
          7.573502540588379,
          6.434230327606201,
          5.109127044677734,
          12.10982608795166,
          -15.880547523498535,
          9.252799034118652,
          5.6017608642578125,
          -3.374408483505249,
          -5.486671447753906,
          -3.71016263961792,
          -4.638952732086182,
          -13.947182655334473,
          -10.600566864013672,
          -3.556386709213257,
          12.38876724243164,
          -12.177947998046875,
          16.739707946777344,
          -9.614030838012695,
          5.323724746704102,
          -11.55618667602539,
          14.375907897949219,
          7.192126750946045,
          -8.025053977966309,
          10.198222160339355,
          4.243320465087891,
          -19.67841148376465,
          -17.29801368713379,
          17.456708908081055,
          -16.81514549255371,
          18.117446899414062,
          -26.08924102783203,
          -0.166429802775383,
          20.0513973236084,
          -19.60544776916504,
          -7.170619010925293,
          -4.276444911956787,
          -21.26836585998535,
          -18.04986000061035,
          18.410554885864258,
          -2.773094415664673,
          2.401259660720825,
          -13.028331756591797,
          -16.673599243164062,
          -24.694276809692383,
          -18.5634765625,
          -15.149613380432129,
          -3.8620259761810303,
          16.87108612060547,
          17.64188003540039,
          -3.7791190147399902,
          -15.607311248779297,
          -9.230768203735352,
          -10.8720703125,
          13.81308650970459,
          14.534981727600098,
          8.180712699890137,
          -8.216721534729004,
          -10.820320129394531,
          18.698972702026367,
          -10.674407958984375,
          16.893310546875,
          -0.9184408783912659,
          2.708916664123535,
          -14.06079387664795,
          11.735345840454102,
          3.1057446002960205,
          10.77772045135498,
          13.78067684173584,
          -8.092037200927734,
          -0.617954432964325,
          -0.43396398425102234,
          -5.437783718109131,
          -7.7030029296875,
          -13.541563034057617,
          2.4999852180480957,
          -2.3121156692504883,
          13.097009658813477,
          -3.3327796459198,
          -4.084741115570068,
          -9.734532356262207,
          1.9074891805648804,
          1.2086207866668701,
          -23.209148406982422,
          10.285871505737305,
          6.5939860343933105,
          12.335076332092285,
          -13.441178321838379,
          -8.71209716796875,
          -21.220897674560547,
          9.366748809814453,
          2.4963197708129883,
          -8.297871589660645,
          -8.945130348205566,
          -5.447914123535156,
          9.356612205505371,
          3.2946839332580566,
          0.857791006565094,
          -13.352129936218262,
          9.488847732543945,
          -10.86478042602539,
          3.713792562484741,
          -4.552491188049316,
          -13.668198585510254,
          17.99292755126953,
          3.7670860290527344,
          -7.4751739501953125,
          -3.410924196243286,
          -6.913878440856934,
          5.021241188049316,
          4.014404773712158,
          -0.10995858907699585,
          -21.08502769470215,
          7.862757682800293,
          5.421431541442871,
          19.728090286254883,
          19.579992294311523,
          -7.751835346221924,
          -16.82805633544922,
          4.363749980926514,
          -1.1155664920806885,
          -12.832110404968262,
          -11.515019416809082,
          -18.386686325073242,
          -8.176684379577637,
          14.123734474182129,
          -15.67924690246582,
          -4.849920749664307,
          5.9426116943359375,
          -6.308012008666992,
          -9.399805068969727,
          -1.370219111442566,
          0.2696778178215027,
          -0.4445813298225403,
          -9.652974128723145,
          5.052979469299316,
          0.21826615929603577,
          -0.9971891045570374,
          -3.2223870754241943,
          1.876469612121582,
          -4.720403671264648,
          -8.602080345153809,
          16.452354431152344,
          1.3746830224990845,
          -1.0280662775039673,
          -10.909687042236328,
          -23.03553009033203,
          12.44832706451416,
          -19.90306854248047,
          -1.744590401649475,
          12.486974716186523,
          -23.710037231445312,
          2.4543216228485107,
          -0.749960720539093,
          -3.0540552139282227,
          -4.724827289581299,
          1.781596302986145,
          -12.907909393310547,
          4.214097023010254,
          -0.8962861895561218,
          14.202143669128418,
          17.98334312438965,
          10.315972328186035,
          -3.426403522491455,
          -15.294447898864746,
          -4.9105119705200195,
          -3.7193260192871094,
          11.685395240783691,
          -16.282373428344727,
          -24.939393997192383,
          1.9810800552368164,
          -14.440999031066895,
          -23.5106201171875,
          15.256239891052246,
          -26.003299713134766,
          -5.3262457847595215,
          -3.4768290519714355,
          4.394252300262451,
          9.433155059814453,
          4.280190467834473,
          -2.7785422801971436,
          17.92066192626953,
          9.482826232910156,
          14.833096504211426,
          3.5017812252044678,
          5.144745349884033,
          7.558401584625244,
          9.70131778717041,
          -4.308443069458008,
          3.472085475921631,
          -9.621577262878418,
          -9.039867401123047,
          0.8635973334312439,
          12.766376495361328,
          15.695752143859863,
          -5.119718074798584,
          -10.429299354553223,
          10.805817604064941,
          -26.306119918823242,
          15.240119934082031,
          -2.5994503498077393,
          -25.371219635009766,
          5.570855617523193,
          4.112575054168701,
          -13.116232872009277,
          -3.2783846855163574,
          -14.695266723632812,
          -6.0142412185668945,
          0.8942616581916809,
          -10.830016136169434,
          -7.998824119567871,
          -4.3467183113098145,
          18.133983612060547,
          1.8138387203216553,
          -10.841535568237305,
          -17.192665100097656,
          9.410477638244629,
          5.283786773681641,
          3.331360101699829,
          -9.430220603942871,
          0.10913875699043274,
          0.47988298535346985,
          -3.964837074279785,
          -1.564031958580017,
          8.410449028015137,
          -0.3444800078868866,
          12.431516647338867,
          7.878240585327148,
          -2.464668035507202,
          -1.7489633560180664,
          2.097562074661255,
          16.61151123046875,
          -4.5395684242248535,
          10.711455345153809,
          16.348554611206055,
          -14.730076789855957,
          -11.079522132873535,
          -2.990661144256592,
          -7.338367462158203,
          -2.6597046852111816,
          -1.6014882326126099,
          -12.365102767944336,
          -14.741816520690918,
          2.407205581665039,
          -12.59949016571045,
          -4.469146251678467,
          -4.034923553466797,
          -14.662789344787598,
          0.5747668743133545,
          -0.33366888761520386,
          3.173466205596924,
          17.3817081451416,
          -5.483911037445068,
          9.195965766906738,
          -0.7040668725967407,
          8.908535957336426,
          1.8589829206466675,
          -15.2096586227417,
          10.489013671875,
          -11.127680778503418,
          -7.67931604385376,
          -12.557422637939453,
          -13.762659072875977,
          17.91726303100586,
          9.93709659576416,
          11.017775535583496,
          3.281057119369507,
          3.852358818054199,
          6.976778030395508,
          -13.335347175598145,
          18.644954681396484,
          5.333347320556641,
          9.915083885192871,
          2.8930904865264893,
          -10.883136749267578,
          4.869170665740967,
          15.450968742370605,
          -6.012471675872803,
          0.7073950171470642,
          6.351756572723389,
          -11.627598762512207,
          -11.711833953857422,
          -9.872237205505371,
          -9.933959007263184,
          -12.289647102355957,
          0.8586742281913757,
          -13.425899505615234,
          12.15307903289795,
          1.2054295539855957,
          18.92127799987793,
          3.4922256469726562,
          9.056452751159668,
          4.745397090911865,
          -5.265137195587158,
          5.842171669006348,
          -12.090909957885742,
          -10.325206756591797,
          -11.670963287353516,
          4.125210762023926,
          -3.3850932121276855,
          -11.868850708007812,
          9.378324508666992,
          -17.983474731445312,
          6.969076156616211,
          1.7244999408721924,
          3.6079773902893066,
          11.476844787597656,
          17.88189125061035,
          6.584226608276367,
          -13.286256790161133,
          13.780840873718262,
          -3.368798017501831,
          6.364205360412598,
          -3.3921663761138916,
          -4.52197265625,
          12.045971870422363,
          -14.559286117553711,
          5.840512752532959,
          8.421058654785156,
          16.519264221191406,
          -7.875293731689453,
          -6.692013740539551,
          -8.0949125289917,
          11.13328742980957,
          -6.0581464767456055,
          16.522626876831055,
          19.83546257019043,
          -7.406479358673096,
          -13.008522987365723,
          16.468852996826172,
          14.113794326782227,
          4.816514015197754,
          3.094503164291382,
          -15.967018127441406,
          3.155189275741577,
          -8.292566299438477,
          -8.693665504455566,
          -8.315534591674805,
          -9.766036033630371,
          15.173389434814453,
          4.145493030548096,
          16.150848388671875,
          -0.7541562914848328,
          9.954022407531738,
          9.27111530303955,
          11.192671775817871,
          9.867721557617188,
          -14.27860164642334,
          2.1242992877960205,
          -3.75372052192688,
          6.055358409881592,
          -2.01719331741333,
          -19.513587951660156,
          1.5621224641799927,
          9.281743049621582,
          17.47102928161621,
          12.89072322845459,
          18.382347106933594,
          -1.6478347778320312,
          20.047489166259766,
          -1.8086738586425781,
          -23.254730224609375,
          -17.0603084564209,
          -17.692920684814453,
          18.03900146484375,
          -16.22970962524414,
          5.375993251800537,
          14.016288757324219,
          -12.713669776916504,
          11.055851936340332,
          1.3228870630264282,
          -1.2399054765701294,
          -17.566673278808594,
          -12.15046501159668,
          -3.5814566612243652,
          -19.95936393737793,
          -25.02691078186035,
          -24.066617965698242,
          -26.228351593017578,
          14.419374465942383,
          11.146843910217285,
          -13.723160743713379,
          3.654416561126709,
          15.517590522766113,
          -24.878063201904297,
          -7.826722145080566,
          -7.204989910125732,
          -22.24422264099121,
          11.618888854980469,
          -12.064105987548828,
          -10.486658096313477,
          -17.682355880737305,
          -23.55316162109375,
          -25.73116683959961,
          -5.62275505065918,
          -0.43351423740386963,
          -18.376022338867188,
          -3.615818738937378,
          -1.0616263151168823,
          -19.01697540283203,
          18.23525619506836,
          -27.212419509887695,
          19.42514419555664,
          -7.234436988830566,
          -13.599267959594727,
          -13.770634651184082,
          -11.397941589355469,
          -11.656332969665527,
          16.129901885986328,
          9.643081665039062,
          14.401333808898926,
          1.598357915878296,
          6.731113433837891,
          -6.447489261627197,
          0.21302440762519836,
          -14.329752922058105,
          -9.736730575561523,
          16.111480712890625,
          10.021446228027344,
          9.265761375427246,
          7.307860851287842,
          15.819954872131348,
          -12.274934768676758,
          -14.433027267456055,
          -23.789508819580078,
          -3.1582398414611816,
          4.446788311004639,
          13.329655647277832,
          -1.9896677732467651,
          10.539729118347168,
          7.282574653625488,
          6.35217809677124,
          -14.63393497467041,
          -3.5065951347351074,
          -2.30129337310791,
          -14.123804092407227,
          12.342833518981934,
          9.928789138793945,
          -24.753223419189453,
          -20.758621215820312,
          -21.157371520996094,
          -12.247672080993652,
          -20.428943634033203,
          8.887892723083496,
          -5.287558555603027,
          6.501646995544434,
          -6.428070068359375,
          12.20263385772705,
          2.325706720352173,
          -0.27979379892349243,
          -10.939393043518066,
          3.316725015640259,
          13.710204124450684,
          -7.098896503448486,
          -6.8509626388549805,
          -8.910683631896973,
          11.744244575500488
         ],
         "yaxis": "y"
        },
        {
         "customdata": [
          [
           "sales document",
           "ctn2",
           "8th century",
           "P428801",
           14,
           50
          ],
          [
           "sales document (field)",
           "ctn2",
           "8th century",
           "P428868",
           42,
           68
          ],
          [
           "sales document (person)",
           "ctn6",
           "Ashurbanipal",
           "P428990",
           100,
           100
          ],
          [
           "sales document",
           "ctn2",
           "8th century",
           "P428862",
           55,
           82
          ],
          [
           "sales document (person)",
           "ctn2",
           "8th century",
           "P428861",
           18,
           36
          ],
          [
           "sales document (house)",
           "ctn2",
           "8th century",
           "P428832",
           69,
           97
          ],
          [
           "sales document (person)",
           "ctn6",
           "post-canonical",
           "P428991",
           104,
           129
          ],
          [
           "sales document (field)",
           "ctn2",
           "8th century",
           "P469183",
           87,
           93
          ],
          [
           "sales document (field)",
           "edubba10",
           "8th century",
           "P522534",
           44,
           115
          ],
          [
           "sales document (person)",
           "ctn2",
           "9th century",
           "P468987",
           44,
           46
          ],
          [
           "sales document (field)",
           "ctn2",
           "8th century",
           "P469182",
           99,
           122
          ],
          [
           "sales document (field)",
           "ctn2",
           "8th century",
           "P469184",
           65,
           68
          ],
          [
           "sales document",
           "ctn2",
           "8th century",
           "P469193",
           7,
           59
          ],
          [
           "sales document",
           "ctn2",
           "8th century",
           "P471641",
           22,
           102
          ],
          [
           "sales document (field)",
           "edubba10",
           "8th century",
           "P522529",
           142,
           145
          ],
          [
           "sales document",
           "ctn2",
           "8th century",
           "P469194",
           8,
           68
          ],
          [
           "sales document (person)",
           "ctn6",
           "Ashurbanipal",
           "P428999",
           90,
           105
          ],
          [
           "sales document",
           "ctn2",
           "8th century",
           "P469195",
           6,
           54
          ],
          [
           "sales document (person)",
           "edubba10",
           "8th century",
           "P522542",
           76,
           130
          ],
          [
           "sales document (person)",
           "ctn2",
           "8th century",
           "P471642",
           64,
           74
          ],
          [
           "sales document (person)",
           "ctn6",
           "post-canonical",
           "P429007",
           55,
           114
          ],
          [
           "sales document (person)",
           "ctn2",
           "8th century",
           "P428804",
           19,
           110
          ],
          [
           "sales document (house)",
           "ctn2",
           "8th century",
           "P428825",
           4,
           39
          ],
          [
           "sales document (person)",
           "edubba10",
           "8th century",
           "P522537",
           89,
           141
          ],
          [
           "sales document (plot)",
           "ctn2",
           "8th century",
           "P428823",
           7,
           37
          ],
          [
           "sales document",
           "edubba10",
           "8th century",
           "P522543",
           56,
           106
          ],
          [
           "sales document (plot)",
           "edubba10",
           "8th century",
           "P522538",
           53,
           60
          ],
          [
           "sales document (house)",
           "ctn6",
           "post-canonical",
           "P469390",
           87,
           155
          ],
          [
           "sales document (person)",
           "ctn6",
           "Ashurbanipal",
           "P496499",
           119,
           122
          ],
          [
           "sales document (field)",
           "edubba10",
           "8th century",
           "P522535",
           79,
           99
          ],
          [
           "sales document (field)",
           "ctn2",
           "8th century",
           "P428793",
           55,
           77
          ],
          [
           "sales document (field)",
           "ctn2",
           "8th century",
           "P428794",
           98,
           148
          ],
          [
           "sales document (field)",
           "ctn2",
           "8th century",
           "P428795",
           48,
           190
          ],
          [
           "sales document",
           "ctn2",
           "8th century",
           "P428797",
           18,
           129
          ],
          [
           "sales document",
           "ctn2",
           "8th century",
           "P428798",
           38,
           72
          ],
          [
           "sales document (person)",
           "edubba10",
           "8th century",
           "P471642",
           64,
           74
          ],
          [
           "sales document (field)",
           "edubba10",
           "8th century",
           "P522536",
           44,
           66
          ],
          [
           "sales document (person)",
           "ctn2",
           "8th century",
           "P471642",
           64,
           74
          ],
          [
           "sales document (person)",
           "edubba10",
           "8th century",
           "P522532",
           51,
           103
          ],
          [
           "sales document (person)",
           "edubba10",
           "8th century",
           "P522496",
           70,
           96
          ],
          [
           "sales document (person)",
           "ctn2",
           "8th century",
           "P428812",
           20,
           82
          ],
          [
           "sales document (plot)",
           "ctn2",
           "8th century",
           "P428813",
           54,
           74
          ],
          [
           "sales document",
           "ctn2",
           "8th century",
           "P428816",
           50,
           50
          ],
          [
           "sales document (field)",
           "ctn2",
           "8th century",
           "P428817",
           87,
           137
          ],
          [
           "sales document",
           "ctn2",
           "8th century",
           "P428821",
           13,
           140
          ],
          [
           "sales document (person)",
           "ctn6",
           "Ashurbanipal",
           "P496503",
           84,
           84
          ],
          [
           "sales document (house)",
           "edubba10",
           "8th century",
           "P522506",
           82,
           84
          ],
          [
           "sales document (person)",
           "edubba10",
           "8th century",
           "P522499",
           58,
           88
          ],
          [
           "sales document (house)",
           "ctn2",
           "8th century",
           "P428824",
           16,
           47
          ],
          [
           "sales document (person)",
           "edubba10",
           "8th century",
           "P522504",
           35,
           107
          ],
          [
           "sales document (person)",
           "edubba10",
           "8th century",
           "P522503",
           85,
           131
          ],
          [
           "sales document (person)",
           "edubba10",
           "8th century",
           "P522502",
           51,
           90
          ],
          [
           "sales document (person)",
           "edubba10",
           "8th century",
           "P522501",
           65,
           116
          ],
          [
           "sales document (person)",
           "edubba10",
           "8th century",
           "P522500",
           85,
           124
          ],
          [
           "sales document (house)",
           "edubba10",
           "8th century",
           "P522505",
           97,
           109
          ],
          [
           "sales document (field)",
           "edubba10",
           "8th century",
           "P522530",
           79,
           163
          ],
          [
           "sales document (person)",
           "ctn2",
           "8th century",
           "P428809",
           60,
           137
          ],
          [
           "sales document (person)",
           "ctn2",
           "8th century",
           "P428808",
           61,
           135
          ],
          [
           "sales document (person)",
           "edubba10",
           "9th century",
           "P522490",
           53,
           67
          ],
          [
           "sales document (person)",
           "edubba10",
           "8th century",
           "P522497",
           78,
           93
          ],
          [
           "sales document (person)",
           "edubba10",
           "8th century",
           "P522495",
           74,
           87
          ],
          [
           "sales document (person)",
           "edubba10",
           "8th century",
           "P522494",
           68,
           74
          ],
          [
           "sales document (person)",
           "edubba10",
           "8th century",
           "P522493",
           56,
           73
          ],
          [
           "sales document (person)",
           "edubba10",
           "8th century",
           "P522492",
           43,
           54
          ],
          [
           "sales document (person)",
           "edubba10",
           "8th century",
           "P522491",
           82,
           104
          ],
          [
           "sales document (person)",
           "ctn6",
           "Unknown",
           "P517180",
           25,
           65
          ],
          [
           "sales document (person)",
           "ctn6",
           "Unknown",
           "P517179",
           137,
           161
          ],
          [
           "sales document (person)",
           "edubba10",
           "8th century",
           "P522498",
           49,
           60
          ],
          [
           "sales document (person)",
           "ctn6",
           "post-canonical",
           "P517142",
           13,
           13
          ],
          [
           "sales document (person)",
           "ctn6",
           "Ashurbanipal",
           "P498857",
           236,
           238
          ],
          [
           "sales document (person)",
           "ctn6",
           "Ashurbanipal",
           "P496521",
           78,
           78
          ],
          [
           "sales document (person)",
           "edubba10",
           "8th century",
           "P522507",
           40,
           77
          ],
          [
           "sales document (person)",
           "edubba10",
           "8th century",
           "P522508",
           37,
           51
          ],
          [
           "sales document (house)",
           "edubba10",
           "8th century",
           "P522510",
           74,
           94
          ],
          [
           "sales document (field)",
           "ctn2",
           "8th century",
           "P428806",
           11,
           214
          ],
          [
           "sales document (field)",
           "edubba10",
           "8th century",
           "P522531",
           68,
           156
          ],
          [
           "sales document (person)",
           "ctn6",
           "Ashurbanipal",
           "P517141",
           115,
           115
          ],
          [
           "sales document (person)",
           "edubba10",
           "8th century",
           "P471642",
           64,
           74
          ],
          [
           "sales document (field)",
           "edubba10",
           "8th century",
           "P522526",
           84,
           86
          ],
          [
           "sales document (field)",
           "ctn3",
           "8th century",
           "P225210",
           44,
           97
          ],
          [
           "sales document (house)",
           "ctn2",
           "8th century",
           "P224570",
           92,
           96
          ],
          [
           "sales document (house)",
           "edubba10",
           "8th century",
           "P522525",
           82,
           102
          ],
          [
           "sales document (house)",
           "edubba10",
           "8th century",
           "P522524",
           69,
           115
          ],
          [
           "sales document (house)",
           "edubba10",
           "8th century",
           "P522523",
           200,
           220
          ],
          [
           "sales document (field)",
           "edubba10",
           "8th century",
           "P522522",
           100,
           202
          ],
          [
           "sales document (field)",
           "edubba10",
           "8th century",
           "P522521",
           102,
           160
          ],
          [
           "sales document (house)",
           "edubba10",
           "8th century",
           "P522520",
           115,
           130
          ],
          [
           "sales document (person)",
           "edubba10",
           "8th century",
           "P522519",
           124,
           142
          ],
          [
           "sales document (field)",
           "edubba10",
           "8th century",
           "P522517",
           103,
           163
          ],
          [
           "sales document (field)",
           "edubba10",
           "8th century",
           "P522516",
           105,
           142
          ],
          [
           "sales document (person)",
           "ctn6",
           "Ashurbanipal",
           "P496505",
           112,
           112
          ],
          [
           "sales document (house)",
           "ctn6",
           "Ashurbanipal",
           "P496518",
           140,
           195
          ],
          [
           "sales document (field)",
           "edubba10",
           "8th century",
           "P522515",
           120,
           219
          ],
          [
           "sales document (person)",
           "ctn6",
           "post-canonical",
           "P496520",
           111,
           126
          ],
          [
           "sales document (plot)",
           "edubba10",
           "8th century",
           "P522514",
           102,
           160
          ],
          [
           "sales document (house)",
           "edubba10",
           "8th century",
           "P522511",
           73,
           142
          ],
          [
           "sales document (person)",
           "ctn6",
           "post-canonical",
           "P517136",
           20,
           42
          ],
          [
           "sales document (field)",
           "ctn2",
           "8th century",
           "P224609",
           15,
           115
          ],
          [
           "sales document",
           "ctn2",
           "8th century",
           "P224574",
           35,
           80
          ],
          [
           "sales document (field)",
           "edubba10",
           "8th century",
           "P522528",
           95,
           106
          ],
          [
           "sales document",
           "ctn2",
           "8th century",
           "P224612",
           8,
           35
          ],
          [
           "sales document (person)",
           "ctn2",
           "post-canonical",
           "P224623",
           32,
           88
          ],
          [
           "sales document (person)",
           "ctn2",
           "8th century",
           "P224621",
           15,
           84
          ],
          [
           "sales document (plot)",
           "ctn2",
           "8th century",
           "P224620",
           15,
           73
          ],
          [
           "sales document (person)",
           "ctn2",
           "8th century",
           "P224506",
           41,
           50
          ],
          [
           "sales document (field)",
           "ctn2",
           "8th century",
           "P224638",
           12,
           50
          ],
          [
           "sales document (field)",
           "edubba10",
           "8th century",
           "P522518",
           118,
           233
          ],
          [
           "sales document (house)",
           "ctn2",
           "8th century",
           "P224637",
           27,
           77
          ],
          [
           "sales document",
           "ctn2",
           "8th century",
           "P224607",
           11,
           48
          ],
          [
           "sales document (field)",
           "ctn2",
           "8th century",
           "P224602",
           31,
           145
          ],
          [
           "sales document",
           "ctn2",
           "8th century",
           "P224601",
           5,
           42
          ],
          [
           "sales document (field)",
           "ctn2",
           "8th century",
           "P224595",
           69,
           117
          ],
          [
           "sales document (field)",
           "ctn2",
           "8th century",
           "P224594",
           206,
           303
          ],
          [
           "sales document (field)",
           "ctn2",
           "8th century",
           "P224571",
           249,
           281
          ],
          [
           "sales document (garden)",
           "ctn2",
           "8th century",
           "P224504",
           49,
           87
          ],
          [
           "sales document (person)",
           "ctn2",
           "8th century",
           "P224600",
           17,
           70
          ],
          [
           "sales document (field)",
           "ctn2",
           "8th century",
           "P224564",
           29,
           88
          ],
          [
           "sales document (field)",
           "edubba10",
           "8th century",
           "P522533",
           34,
           49
          ],
          [
           "sales document (person)",
           "ctn2",
           "8th century",
           "P224562",
           65,
           66
          ],
          [
           "sales document (field, person)",
           "ctn6",
           "post-canonical",
           "P336734",
           184,
           226
          ],
          [
           "sales document (field)",
           "ctn2",
           "8th century",
           "P224641",
           9,
           50
          ],
          [
           "sales document (field)",
           "ctn2",
           "8th century",
           "P224561",
           98,
           146
          ],
          [
           "sales document (person)",
           "ctn3",
           "post-canonical",
           "P225178",
           60,
           60
          ],
          [
           "sales document (person)",
           "ctn3",
           "post-canonical",
           "P225180",
           100,
           165
          ],
          [
           "sales document",
           "ctn3",
           "8th century",
           "P225214",
           29,
           97
          ],
          [
           "sales document (house)",
           "ctn3",
           "8th century",
           "P225212",
           15,
           43
          ],
          [
           "sales document (person)",
           "ctn3",
           "post-canonical",
           "P225196",
           49,
           86
          ],
          [
           "sales document (field)",
           "ctn3",
           "8th century",
           "P225211",
           36,
           89
          ],
          [
           "sales document (house)",
           "ctn3",
           "post-canonical",
           "P225203",
           35,
           52
          ],
          [
           "sales document (field)",
           "ctn3",
           "Ashurbanipal",
           "P225202",
           58,
           115
          ],
          [
           "sales document (plot)",
           "ctn3",
           "Ashurbanipal",
           "P225201",
           33,
           105
          ],
          [
           "sales document (field)",
           "ctn3",
           "post-canonical",
           "P225200",
           54,
           83
          ],
          [
           "sales document (garden)",
           "ctn3",
           "post-canonical",
           "P225199",
           36,
           61
          ],
          [
           "sales document (person)",
           "ctn6",
           "Unknown",
           "P336278",
           51,
           71
          ],
          [
           "sales document (person)",
           "ctn2",
           "8th century",
           "P224525",
           68,
           68
          ],
          [
           "sales document (person)",
           "ctn6",
           "7th century",
           "P336733",
           88,
           184
          ],
          [
           "sales document (person)",
           "ctn3",
           "post-canonical",
           "P225195",
           70,
           108
          ],
          [
           "sales document",
           "ctn2",
           "8th century",
           "P224563",
           47,
           115
          ],
          [
           "sales document",
           "ctn3",
           "8th century",
           "P225213",
           36,
           91
          ],
          [
           "sales document (person)",
           "ctn2",
           "8th century",
           "P224520",
           32,
           75
          ],
          [
           "sales document (person)",
           "ctn3",
           "post-canonical",
           "P225192",
           55,
           107
          ],
          [
           "sales document (person)",
           "ctn3",
           "post-canonical",
           "P225182",
           53,
           85
          ],
          [
           "sales document (person)",
           "ctn3",
           "post-canonical",
           "P225179",
           55,
           77
          ],
          [
           "sales document (field)",
           "ctn2",
           "8th century",
           "P224555",
           20,
           83
          ],
          [
           "sales document (field)",
           "ctn2",
           "8th century",
           "P224596",
           15,
           22
          ],
          [
           "sales document (person)",
           "ctn3",
           "post-canonical",
           "P225194",
           24,
           42
          ],
          [
           "sales document (field)",
           "ctn2",
           "8th century",
           "P224523",
           65,
           107
          ],
          [
           "sales document (person)",
           "ctn2",
           "8th century",
           "P224519",
           19,
           48
          ],
          [
           "sales document (field)",
           "ctn2",
           "8th century",
           "P224526",
           50,
           64
          ],
          [
           "sales document (person)",
           "ctn3",
           "post-canonical",
           "P225193",
           54,
           105
          ],
          [
           "sales document",
           "ctn2",
           "8th century",
           "P224517",
           38,
           46
          ],
          [
           "sales document (field)",
           "ctn2",
           "8th century",
           "P224516",
           65,
           111
          ],
          [
           "sales document",
           "ctn2",
           "8th century",
           "P224505",
           65,
           166
          ],
          [
           "sales document (plot)",
           "ctn2",
           "8th century",
           "P224531",
           57,
           74
          ],
          [
           "sales document (field)",
           "edubba10",
           "8th century",
           "P522527",
           94,
           125
          ],
          [
           "sales document",
           "ctn2",
           "8th century",
           "P224518",
           29,
           108
          ]
         ],
         "hovertemplate": "region-tsne=Nimrud (Kalhu)<br>component 1=%{x}<br>component 2=%{y}<br>size=%{marker.size}<br>subgenre=%{customdata[0]}<br>project=%{customdata[1]}<br>date_for_viz=%{customdata[2]}<br>index=%{customdata[3]}<br>Text_length_partial=%{customdata[4]}<br>Text_length_full=%{customdata[5]}<extra></extra>",
         "legendgroup": "Nimrud (Kalhu)",
         "marker": {
          "color": "#5F8AEE",
          "line": {
           "color": "black",
           "width": 1
          },
          "size": [
           14,
           42,
           100,
           55,
           18,
           69,
           104,
           87,
           44,
           44,
           99,
           65,
           7,
           22,
           142,
           8,
           90,
           6,
           76,
           64,
           55,
           19,
           4,
           89,
           7,
           56,
           53,
           87,
           119,
           79,
           55,
           98,
           48,
           18,
           38,
           64,
           44,
           64,
           51,
           70,
           20,
           54,
           50,
           87,
           13,
           84,
           82,
           58,
           16,
           35,
           85,
           51,
           65,
           85,
           97,
           79,
           60,
           61,
           53,
           78,
           74,
           68,
           56,
           43,
           82,
           25,
           137,
           49,
           13,
           236,
           78,
           40,
           37,
           74,
           11,
           68,
           115,
           64,
           84,
           44,
           92,
           82,
           69,
           200,
           100,
           102,
           115,
           124,
           103,
           105,
           112,
           140,
           120,
           111,
           102,
           73,
           20,
           15,
           35,
           95,
           8,
           32,
           15,
           15,
           41,
           12,
           118,
           27,
           11,
           31,
           5,
           69,
           206,
           249,
           49,
           17,
           29,
           34,
           65,
           184,
           9,
           98,
           60,
           100,
           29,
           15,
           49,
           36,
           35,
           58,
           33,
           54,
           36,
           51,
           68,
           88,
           70,
           47,
           36,
           32,
           55,
           53,
           55,
           20,
           15,
           24,
           65,
           19,
           50,
           54,
           38,
           65,
           65,
           57,
           94,
           29
          ],
          "sizemode": "area",
          "sizeref": 0.885,
          "symbol": "circle"
         },
         "mode": "markers",
         "name": "Nimrud (Kalhu)",
         "showlegend": true,
         "type": "scattergl",
         "x": [
          6.841854095458984,
          -34.990631103515625,
          55.46748352050781,
          44.519081115722656,
          -22.563636779785156,
          15.997573852539062,
          51.418067932128906,
          33.17654037475586,
          -32.82523727416992,
          34.87228012084961,
          29.92852020263672,
          25.601892471313477,
          -69.41313934326172,
          3.4395124912261963,
          28.354907989501953,
          -50.03544616699219,
          27.434011459350586,
          -47.65632629394531,
          13.049339294433594,
          36.783512115478516,
          42.73682403564453,
          -60.65128707885742,
          -67.47079467773438,
          42.209381103515625,
          -64.03620910644531,
          -13.027921676635742,
          -26.859363555908203,
          -16.279258728027344,
          61.441734313964844,
          56.7873420715332,
          25.645267486572266,
          -21.62007713317871,
          -32.34801483154297,
          59.75236511230469,
          12.922065734863281,
          36.783512115478516,
          -33.29319381713867,
          36.78365707397461,
          23.34579086303711,
          23.129528045654297,
          24.97172737121582,
          -37.82063674926758,
          42.011409759521484,
          -13.0820951461792,
          -58.486289978027344,
          26.174638748168945,
          26.75359535217285,
          6.993317127227783,
          -67.79759216308594,
          -0.27867287397384644,
          25.879016876220703,
          44.529808044433594,
          19.24802017211914,
          34.85969543457031,
          28.905168533325195,
          42.7790412902832,
          32.80830001831055,
          -13.309622764587402,
          33.159053802490234,
          26.53826332092285,
          44.530792236328125,
          6.61460542678833,
          30.477115631103516,
          45.93942642211914,
          32.240623474121094,
          -38.78565216064453,
          28.753265380859375,
          28.348352432250977,
          -28.667776107788086,
          51.73189163208008,
          63.567543029785156,
          -5.965460777282715,
          -25.42229652404785,
          12.08327865600586,
          -29.786943435668945,
          34.02284622192383,
          52.489986419677734,
          36.78365707397461,
          34.18438720703125,
          -12.130289077758789,
          26.372800827026367,
          47.539451599121094,
          64.07792663574219,
          36.67008590698242,
          -14.882364273071289,
          27.162363052368164,
          26.150304794311523,
          35.43726348876953,
          -11.460345268249512,
          36.700252532958984,
          43.39369201660156,
          59.20769119262695,
          13.368531227111816,
          47.382835388183594,
          26.865760803222656,
          45.935367584228516,
          63.60218811035156,
          -48.47138595581055,
          8.981267929077148,
          43.88970184326172,
          -69.74141693115234,
          43.27548599243164,
          7.506811141967773,
          -59.536991119384766,
          7.872788906097412,
          -47.68645477294922,
          54.72887420654297,
          7.9771904945373535,
          -62.67180633544922,
          -31.953807830810547,
          -73.51307678222656,
          -15.87833023071289,
          42.44119644165039,
          26.470077514648438,
          33.26678466796875,
          0.12611514329910278,
          -44.24949264526367,
          -25.354848861694336,
          13.476744651794434,
          -15.863727569580078,
          -50.176998138427734,
          33.49225616455078,
          27.899744033813477,
          23.640403747558594,
          62.1034049987793,
          -49.008636474609375,
          28.261972427368164,
          -13.70250129699707,
          57.47360610961914,
          31.825271606445312,
          19.566404342651367,
          18.073402404785156,
          51.04429244995117,
          -64.24874114990234,
          20.7348575592041,
          -21.22940444946289,
          39.884918212890625,
          -8.555286407470703,
          43.93534851074219,
          12.39896011352539,
          -17.87973403930664,
          26.44635581970215,
          28.845918655395508,
          -52.50301742553711,
          -62.49605941772461,
          51.3477897644043,
          -24.996076583862305,
          -35.04584884643555,
          -25.079261779785156,
          -13.43387222290039,
          41.11028289794922,
          -31.24529266357422,
          33.01638412475586,
          42.05718231201172,
          34.48657989501953,
          -55.91181182861328
         ],
         "xaxis": "x",
         "y": [
          10.621681213378906,
          18.158018112182617,
          -11.746603965759277,
          -13.652445793151855,
          7.2013163566589355,
          -8.263043403625488,
          -12.585235595703125,
          -16.042142868041992,
          -3.23337984085083,
          6.778552055358887,
          -15.94441032409668,
          -17.511465072631836,
          -0.22363460063934326,
          2.2899811267852783,
          -16.691381454467773,
          15.831033706665039,
          -8.694602012634277,
          7.735037803649902,
          -7.033870220184326,
          5.374093532562256,
          -13.844921112060547,
          2.202220916748047,
          2.236467123031616,
          -5.9329071044921875,
          1.8643765449523926,
          14.184303283691406,
          1.7909947633743286,
          17.952524185180664,
          -3.347769021987915,
          -9.387208938598633,
          -19.095138549804688,
          17.671234130859375,
          5.6002726554870605,
          15.99034595489502,
          -10.070460319519043,
          5.374093532562256,
          6.173223495483398,
          5.374138355255127,
          7.451961517333984,
          7.73197603225708,
          4.014465808868408,
          12.62331771850586,
          16.579376220703125,
          6.463318347930908,
          6.716582775115967,
          -5.69498872756958,
          5.5328521728515625,
          2.7794101238250732,
          1.10377037525177,
          3.6661720275878906,
          0.05791020765900612,
          13.594087600708008,
          9.923192024230957,
          5.871737003326416,
          -0.1855345517396927,
          -9.460944175720215,
          5.45501708984375,
          6.954601764678955,
          7.321515083312988,
          8.003551483154297,
          11.075535774230957,
          3.6836202144622803,
          7.191368579864502,
          10.860957145690918,
          7.566664218902588,
          11.650778770446777,
          -11.05643081665039,
          7.978491306304932,
          -9.431195259094238,
          -9.489062309265137,
          1.6316070556640625,
          0.8532148599624634,
          3.613780975341797,
          -3.8919286727905273,
          -7.8866868019104,
          -0.40219125151634216,
          -2.1568329334259033,
          5.374138355255127,
          -16.572376251220703,
          4.933392524719238,
          -0.9363232851028442,
          6.783697128295898,
          0.9256498217582703,
          -18.292924880981445,
          -15.365190505981445,
          -16.484355926513672,
          -15.708136558532715,
          0.977421760559082,
          15.712977409362793,
          -17.83018684387207,
          -12.30253791809082,
          -6.684116363525391,
          -8.335277557373047,
          -15.54605484008789,
          -13.625889778137207,
          -4.788910388946533,
          12.802886962890625,
          -8.9722900390625,
          -3.5667519569396973,
          -21.5061092376709,
          -4.352804660797119,
          14.264906883239746,
          9.424592018127441,
          2.0396902561187744,
          -4.538530349731445,
          -8.617430686950684,
          -8.33230972290039,
          -1.8676435947418213,
          9.606521606445312,
          14.752800941467285,
          -5.099034786224365,
          19.534339904785156,
          -8.401802062988281,
          -15.195446968078613,
          3.257509708404541,
          6.171741485595703,
          -7.118971347808838,
          3.752025604248047,
          -10.108292579650879,
          5.889901161193848,
          -4.801573753356934,
          -17.055309295654297,
          3.653280258178711,
          -10.480111122131348,
          2.2456748485565186,
          -3.318937301635742,
          2.159343957901001,
          -18.35503387451172,
          13.486939430236816,
          1.2154204845428467,
          12.135814666748047,
          -23.584087371826172,
          14.086804389953613,
          4.323864459991455,
          8.894238471984863,
          -1.912807583808899,
          -12.979822158813477,
          1.1262696981430054,
          12.162774085998535,
          8.493860244750977,
          6.371963024139404,
          -3.1096885204315186,
          2.4679462909698486,
          7.6031494140625,
          -1.913293719291687,
          16.978300094604492,
          16.102815628051758,
          -0.36646780371665955,
          16.112062454223633,
          9.495760917663574,
          15.811290740966797,
          5.479531288146973,
          6.261782646179199,
          11.48160171508789,
          -15.833003997802734,
          -1.6849392652511597
         ],
         "yaxis": "y"
        },
        {
         "customdata": [
          [
           "sales document (house)",
           "saab0509",
           "Ashurbanipal",
           "P528304",
           11,
           31
          ],
          [
           "sales document (person)",
           "rfdn17",
           "Sargonid period",
           "P522461",
           56,
           56
          ],
          [
           "sales document (person)",
           "rfdn17",
           "Ashurbanipal",
           "P522459",
           119,
           173
          ],
          [
           "sales document (person)",
           "rfdn17",
           "post-canonical",
           "P522462",
           130,
           131
          ],
          [
           "sales document (person)",
           "rfdn17",
           "Ashurbanipal",
           "P522466",
           64,
           154
          ],
          [
           "sales document (person)",
           "rfdn17",
           "Ashurbanipal",
           "P522464",
           81,
           82
          ],
          [
           "sales document (house)",
           "rfdn17",
           "post-canonical",
           "P522465",
           120,
           188
          ],
          [
           "sales document (person)",
           "rfdn17",
           "post-canonical",
           "P522457",
           129,
           140
          ],
          [
           "sales document (person)",
           "stat2",
           "post-canonical",
           "P336989",
           114,
           170
          ],
          [
           "sales document (person)",
           "rfdn17",
           "Ashurbanipal",
           "P522456",
           112,
           112
          ],
          [
           "sales document (inheritance)",
           "saab0509",
           "7th century",
           "P528243",
           28,
           62
          ],
          [
           "sales document (person)",
           "saab0509",
           "Ashurbanipal",
           "P528253",
           85,
           85
          ],
          [
           "sales document (person)",
           "saab0509",
           "Ashurbanipal",
           "P528252",
           71,
           141
          ],
          [
           "sales document (inheritance)",
           "saab0509",
           "post-canonical",
           "P528251",
           45,
           98
          ],
          [
           "sales document",
           "stat1",
           "post-canonical",
           "P514481",
           3,
           20
          ],
          [
           "sales document (person)",
           "rfdn17",
           "post-canonical",
           "P522458",
           92,
           95
          ],
          [
           "sales document (inheritance)",
           "rfdn17",
           "Ashurbanipal",
           "P522486",
           65,
           88
          ],
          [
           "sales document (person)",
           "rfdn17",
           "post-canonical",
           "P522463",
           95,
           97
          ],
          [
           "sales document (person)",
           "stat2",
           "7th century",
           "P336946",
           18,
           60
          ],
          [
           "sales document (plot)",
           "stat3",
           "Ashurbanipal",
           "P514322",
           159,
           163
          ],
          [
           "sales document",
           "stat1",
           "post-canonical",
           "P514479",
           4,
           22
          ],
          [
           "sales document (person)",
           "stat3",
           "Ashurbanipal",
           "P514324",
           81,
           97
          ],
          [
           "sales document (person)",
           "saab0509",
           "post-canonical",
           "P528301",
           85,
           145
          ],
          [
           "sales document (person)",
           "stat3",
           "Ashurbanipal",
           "P514323",
           156,
           164
          ],
          [
           "sales document (house)",
           "saab0509",
           "7th century",
           "P528256",
           150,
           255
          ],
          [
           "sales document (person)",
           "saab0509",
           "7th century",
           "P528257",
           41,
           85
          ],
          [
           "sales document (person)",
           "saab0509",
           "post-canonical",
           "P528266",
           60,
           87
          ],
          [
           "sales document (person)",
           "saab0509",
           "Ashurbanipal",
           "P528262",
           48,
           89
          ],
          [
           "sales document (person)",
           "saab0509",
           "Ashurbanipal",
           "P528355",
           53,
           81
          ],
          [
           "sales document",
           "stat1",
           "post-canonical",
           "P514480",
           5,
           47
          ],
          [
           "sales document (inheritance)",
           "stat3",
           "post-canonical",
           "P514321",
           101,
           102
          ],
          [
           "sales document (person)",
           "saab0509",
           "Ashurbanipal",
           "P528347",
           82,
           91
          ],
          [
           "sales document (person)",
           "saab0509",
           "post-canonical",
           "P528342",
           57,
           85
          ],
          [
           "sales document (person)",
           "saab0509",
           "post-canonical",
           "P528332",
           113,
           155
          ],
          [
           "sales document (person)",
           "saab0509",
           "Ashurbanipal",
           "P528326",
           37,
           218
          ],
          [
           "sales document (field)",
           "saab0509",
           "Ashurbanipal",
           "P528322",
           81,
           221
          ],
          [
           "sales document (person)",
           "saab0509",
           "post-canonical",
           "P528308",
           33,
           65
          ],
          [
           "sales document (person)",
           "stat1",
           "post-canonical",
           "P514477",
           64,
           65
          ],
          [
           "sales document (person)",
           "stat1",
           "post-canonical",
           "P514478",
           9,
           44
          ],
          [
           "sales document (person)",
           "saab0509",
           "Ashurbanipal",
           "P528350",
           149,
           162
          ],
          [
           "sales document (person)",
           "rfdn17",
           "Ashurbanipal",
           "P522460",
           92,
           92
          ],
          [
           "sales document (person)",
           "stat3",
           "Ashurbanipal",
           "P514319",
           7,
           34
          ],
          [
           "sales document (person)",
           "stat2",
           "post-canonical",
           "P336953",
           70,
           142
          ],
          [
           "sales document (house)",
           "saab0509",
           "Sargonid period",
           "P528296",
           259,
           276
          ],
          [
           "sales document (person)",
           "saab0509",
           "post-canonical",
           "P528299",
           85,
           140
          ],
          [
           "sales document (person)",
           "saab0509",
           "post-canonical",
           "P528284",
           103,
           113
          ],
          [
           "sales document (plot)",
           "saab0509",
           "post-canonical",
           "P528282",
           147,
           156
          ],
          [
           "sales document",
           "saab0509",
           "7th century",
           "P528281",
           35,
           109
          ],
          [
           "sales document (person)",
           "saab0509",
           "Ashurbanipal",
           "P528278",
           29,
           81
          ],
          [
           "sales document (person)",
           "saab0509",
           "7th century",
           "P528276",
           57,
           114
          ],
          [
           "sales document (plot)",
           "saab0509",
           "7th century",
           "P528277",
           14,
           62
          ],
          [
           "sales document (person)",
           "saab0509",
           "post-canonical",
           "P528267",
           25,
           58
          ],
          [
           "sales document (house)",
           "saab0509",
           "7th century",
           "P528265",
           70,
           217
          ],
          [
           "sales document (person)",
           "saab0509",
           "post-canonical",
           "P528264",
           56,
           92
          ],
          [
           "sales document (house)",
           "saab0509",
           "Sargonid period",
           "P528298",
           160,
           180
          ],
          [
           "sales document (person)",
           "stat1",
           "post-canonical",
           "P514476",
           40,
           46
          ],
          [
           "sales document (duplicate)",
           "stat2",
           "post-canonical",
           "P336990",
           83,
           117
          ],
          [
           "sales document (person, marriage?)",
           "stat3",
           "Ashurbanipal",
           "P514306",
           37,
           90
          ],
          [
           "sales document (person)",
           "stat2",
           "Ashurbanipal",
           "P336977",
           94,
           135
          ],
          [
           "sales document (inheritance)",
           "saab0509",
           "post-canonical",
           "P528275",
           123,
           128
          ],
          [
           "sales document (person)",
           "stat2",
           "post-canonical",
           "P336954",
           97,
           120
          ],
          [
           "sales document (person)",
           "stat2",
           "Sargonid period",
           "P336966",
           35,
           47
          ],
          [
           "sales document (person)",
           "stat2",
           "Unknown",
           "P336929",
           15,
           61
          ],
          [
           "sales document (field)",
           "saab0509",
           "8th century",
           "P528359",
           78,
           130
          ],
          [
           "sales document (person)",
           "stat2",
           "post-canonical",
           "P336952",
           17,
           54
          ],
          [
           "sales document",
           "stat2",
           "post-canonical",
           "P336951",
           8,
           29
          ],
          [
           "sales document (house)",
           "stat2",
           "post-canonical",
           "P336950",
           50,
           116
          ],
          [
           "sales document (person)",
           "stat2",
           "post-canonical",
           "P336949",
           92,
           139
          ],
          [
           "sales document (person)",
           "stat2",
           "Ashurbanipal",
           "P336948",
           102,
           106
          ],
          [
           "sales document (person)",
           "stat2",
           "post-canonical",
           "P336986",
           87,
           123
          ],
          [
           "sales document (person)",
           "stat2",
           "Sargonid period",
           "P336947",
           33,
           85
          ],
          [
           "sales document (person)",
           "saab0509",
           "7th century",
           "P528357",
           59,
           106
          ],
          [
           "sales document (plot)",
           "saab0509",
           "post-canonical",
           "P528258",
           145,
           341
          ],
          [
           "sales document (person)",
           "stat2",
           "7th century",
           "P336945",
           6,
           28
          ],
          [
           "sales document (field)",
           "stat2",
           "Ashurbanipal",
           "P336942",
           22,
           65
          ],
          [
           "sales document",
           "stat2",
           "Unknown",
           "P336934",
           15,
           25
          ],
          [
           "sales document (person)",
           "stat2",
           "Unknown",
           "P336933",
           28,
           65
          ],
          [
           "sales document (person)",
           "stat2",
           "Unknown",
           "P336932",
           10,
           36
          ],
          [
           "sales document (person)",
           "stat2",
           "Unknown",
           "P336931",
           48,
           72
          ],
          [
           "sales document (person)",
           "stat2",
           "Unknown",
           "P336928",
           42,
           50
          ],
          [
           "sales document (person)",
           "saab0509",
           "post-canonical",
           "P528300",
           87,
           101
          ],
          [
           "sales document (person)",
           "stat2",
           "Ashurbanipal",
           "P336944",
           72,
           94
          ],
          [
           "sales document (person)",
           "stat2",
           "Ashurbanipal",
           "P336943",
           40,
           130
          ],
          [
           "sales document (person)",
           "stat2",
           "Unknown",
           "P336927",
           46,
           86
          ],
          [
           "sales document (person)",
           "saab0509",
           "Unknown",
           "P528295",
           10,
           32
          ],
          [
           "sales document",
           "stat2",
           "Unknown",
           "P336926",
           7,
           17
          ],
          [
           "sales document (person)",
           "stat3",
           "Unknown",
           "P514239",
           10,
           32
          ],
          [
           "sales document",
           "stat3",
           "post-canonical",
           "P514318",
           4,
           16
          ],
          [
           "sales document (field)",
           "stat2",
           "post-canonical",
           "P337015",
           178,
           233
          ],
          [
           "sales document (field)",
           "stat2",
           "8th century",
           "P337042",
           106,
           229
          ],
          [
           "sales document",
           "stat2",
           "post-canonical",
           "P337046",
           38,
           49
          ],
          [
           "sales document",
           "stat2",
           "post-canonical",
           "P337049",
           17,
           87
          ],
          [
           "sales document (house)",
           "stat2",
           "post-canonical",
           "P337051",
           40,
           209
          ],
          [
           "sales document (person)",
           "stat2",
           "Ashurbanipal",
           "P337079",
           28,
           62
          ],
          [
           "sales document (field)",
           "stat2",
           "post-canonical",
           "P337052",
           178,
           348
          ],
          [
           "sales document (field)",
           "stat2",
           "Unknown",
           "P337064",
           58,
           125
          ],
          [
           "sales document (field)",
           "stat2",
           "8th century",
           "P337065",
           47,
           71
          ],
          [
           "sales document (person)",
           "stat2",
           "Ashurbanipal",
           "P336988",
           36,
           50
          ],
          [
           "sales document (field)",
           "stat2",
           "Unknown",
           "P337066",
           25,
           52
          ],
          [
           "sales document",
           "stat2",
           "Unknown",
           "P337068",
           69,
           169
          ],
          [
           "sales document (person)",
           "stat2",
           "Ashurbanipal",
           "P337074",
           62,
           100
          ],
          [
           "sales document (person)",
           "stat2",
           "Ashurbanipal",
           "P337075",
           23,
           42
          ],
          [
           "sales document (person)",
           "stat2",
           "post-canonical",
           "P337076",
           27,
           29
          ],
          [
           "sales document",
           "stat2",
           "Unknown",
           "P337085",
           20,
           96
          ],
          [
           "sales document (person)",
           "stat2",
           "Unknown",
           "P337078",
           4,
           24
          ],
          [
           "sales document (person)",
           "stat2",
           "post-canonical",
           "P336991",
           71,
           86
          ],
          [
           "sales document (person)",
           "stat2",
           "Ashurbanipal",
           "P337080",
           18,
           42
          ],
          [
           "sales document (person)",
           "stat2",
           "8th century",
           "P336908",
           31,
           49
          ],
          [
           "sales document (house)",
           "stat2",
           "Unknown",
           "P336923",
           52,
           135
          ],
          [
           "sales document",
           "stat2",
           "Unknown",
           "P337083",
           8,
           31
          ],
          [
           "sales document",
           "stat2",
           "Unknown",
           "P337084",
           36,
           108
          ],
          [
           "sales document",
           "stat2",
           "Unknown",
           "P337067",
           24,
           79
          ],
          [
           "sales document (person)",
           "stat2",
           "Unknown",
           "P336925",
           12,
           31
          ],
          [
           "sales document (person)",
           "stat2",
           "Unknown",
           "P337077",
           84,
           106
          ],
          [
           "sales document (house)",
           "stat3",
           "Ashurbanipal",
           "P514222",
           107,
           146
          ],
          [
           "sales document",
           "stat2",
           "post-canonical",
           "P337053",
           9,
           43
          ],
          [
           "sales document (house)",
           "stat3",
           "8th century",
           "P514234",
           36,
           88
          ],
          [
           "sales document (person)",
           "stat3",
           "Unknown",
           "P514229",
           39,
           73
          ],
          [
           "sales document (house)",
           "stat3",
           "8th century",
           "P514230",
           79,
           174
          ],
          [
           "sales document (person)",
           "stat3",
           "Unknown",
           "P514232",
           59,
           74
          ],
          [
           "sales document (person)",
           "stat3",
           "post-canonical",
           "P514233",
           98,
           169
          ],
          [
           "sales document (person)",
           "stat3",
           "Sargonid period",
           "P514235",
           45,
           67
          ],
          [
           "sales document (person)",
           "stat2",
           "post-canonical",
           "P337081",
           14,
           29
          ],
          [
           "sales document (person)",
           "stat3",
           "Ashurbanipal",
           "P514236",
           33,
           65
          ],
          [
           "sales document (person)",
           "stat3",
           "post-canonical",
           "P514224",
           114,
           213
          ],
          [
           "sales document (plot)",
           "stat3",
           "Sargonid period",
           "P514225",
           97,
           161
          ],
          [
           "sales document (person)",
           "wvdog152",
           "post-canonical",
           "P514211",
           26,
           37
          ],
          [
           "sales document",
           "stat2",
           "Unknown",
           "P337082",
           3,
           9
          ],
          [
           "sales document (person)",
           "stat3",
           "Sargonid period",
           "P514256",
           62,
           101
          ],
          [
           "sales document (person)",
           "stat3",
           "Ashurbanipal",
           "P514279",
           95,
           112
          ],
          [
           "sales document (house)",
           "stat3",
           "post-canonical",
           "P514287",
           115,
           298
          ],
          [
           "sales document (person)",
           "stat3",
           "7th century",
           "P514290",
           29,
           51
          ],
          [
           "sales document (house)",
           "stat3",
           "Sargonid period",
           "P514291",
           130,
           262
          ],
          [
           "sales document (field)",
           "stat3",
           "7th century",
           "P514292",
           70,
           277
          ],
          [
           "sales document (person)",
           "stat3",
           "Ashurbanipal",
           "P514294",
           78,
           112
          ],
          [
           "sales document (plot)",
           "stat3",
           "post-canonical",
           "P514295",
           58,
           126
          ],
          [
           "sales document (house)",
           "stat3",
           "Unknown",
           "P514240",
           43,
           147
          ],
          [
           "sales document (person)",
           "stat3",
           "Ashurbanipal",
           "P514277",
           63,
           87
          ],
          [
           "sales document",
           "stat3",
           "post-canonical",
           "P514301",
           5,
           18
          ],
          [
           "sales document (person)",
           "wvdog152",
           "post-canonical",
           "P514158",
           6,
           19
          ],
          [
           "sales document (house)",
           "wvdog152",
           "post-canonical",
           "P514159",
           32,
           74
          ],
          [
           "sales document (person)",
           "wvdog152",
           "post-canonical",
           "P514153",
           105,
           114
          ],
          [
           "sales document",
           "stat2",
           "Unknown",
           "P336922",
           14,
           46
          ],
          [
           "sales document (person)",
           "stat2",
           "Ashurbanipal",
           "P336921",
           35,
           111
          ],
          [
           "sales document",
           "stat2",
           "Ashurbanipal",
           "P336920",
           16,
           25
          ],
          [
           "sales document (house)",
           "stat2",
           "Unknown",
           "P336924",
           44,
           122
          ],
          [
           "sales document (person)",
           "stat2",
           "7th century",
           "P336824",
           5,
           11
          ],
          [
           "sales document (field)",
           "stat3",
           "Sargonid period",
           "P514252",
           127,
           132
          ],
          [
           "sales document",
           "stat2",
           "Unknown",
           "P336914",
           35,
           79
          ],
          [
           "sales document",
           "stat2",
           "Ashurbanipal",
           "P336915",
           13,
           27
          ],
          [
           "sales document",
           "stat2",
           "Sargonid period",
           "P336912",
           37,
           56
          ],
          [
           "sales document",
           "stat2",
           "Sargonid period",
           "P336913",
           35,
           46
          ],
          [
           "sales document",
           "stat2",
           "8th century",
           "P336907",
           13,
           105
          ],
          [
           "sales document (person)",
           "stat2",
           "Unknown",
           "P336899",
           26,
           49
          ],
          [
           "sales document",
           "stat2",
           "Sargonid period",
           "P336910",
           54,
           77
          ],
          [
           "sales document (leather)",
           "wvdog152",
           "",
           "P514154",
           67,
           108
          ],
          [
           "lease document",
           "stat2",
           "post-canonical",
           "P336891",
           23,
           36
          ],
          [
           "sales document (field)",
           "stat2",
           "post-canonical",
           "P336868",
           95,
           139
          ],
          [
           "sales document (house)",
           "wvdog152",
           "Sargonid period",
           "P514141",
           31,
           116
          ],
          [
           "sales document (person)",
           "saab0509",
           "7th century",
           "P528362",
           42,
           74
          ],
          [
           "sales document (person, restricted)",
           "assurmisc",
           "Sargonid period",
           "P250657",
           88,
           129
          ],
          [
           "sales document (house)",
           "stat2",
           "7th century",
           "P336822",
           60,
           210
          ],
          [
           "sales document",
           "stat2",
           "Unknown",
           "P336815",
           92,
           188
          ],
          [
           "sales document (person)",
           "stat2",
           "post-canonical",
           "P336987",
           43,
           162
          ],
          [
           "sales document (house)",
           "stat3",
           "post-canonical",
           "P514303",
           11,
           23
          ],
          [
           "sales document (person)",
           "stat2",
           "post-canonical",
           "P336841",
           34,
           115
          ],
          [
           "sales document (house)",
           "stat2",
           "Sargonid period",
           "P336861",
           160,
           184
          ],
          [
           "sales document (plot)",
           "stat2",
           "7th century",
           "P336823",
           17,
           60
          ],
          [
           "sales document",
           "stat2",
           "Sargonid period",
           "P336911",
           8,
           31
          ],
          [
           "sales document (field)",
           "stat2",
           "post-canonical",
           "P336869",
           7,
           43
          ]
         ],
         "hovertemplate": "region-tsne=Qalat Sherqat (Assur)<br>component 1=%{x}<br>component 2=%{y}<br>size=%{marker.size}<br>subgenre=%{customdata[0]}<br>project=%{customdata[1]}<br>date_for_viz=%{customdata[2]}<br>index=%{customdata[3]}<br>Text_length_partial=%{customdata[4]}<br>Text_length_full=%{customdata[5]}<extra></extra>",
         "legendgroup": "Qalat Sherqat (Assur)",
         "marker": {
          "color": "#64D380",
          "line": {
           "color": "black",
           "width": 1
          },
          "size": [
           11,
           56,
           119,
           130,
           64,
           81,
           120,
           129,
           114,
           112,
           28,
           85,
           71,
           45,
           3,
           92,
           65,
           95,
           18,
           159,
           4,
           81,
           85,
           156,
           150,
           41,
           60,
           48,
           53,
           5,
           101,
           82,
           57,
           113,
           37,
           81,
           33,
           64,
           9,
           149,
           92,
           7,
           70,
           259,
           85,
           103,
           147,
           35,
           29,
           57,
           14,
           25,
           70,
           56,
           160,
           40,
           83,
           37,
           94,
           123,
           97,
           35,
           15,
           78,
           17,
           8,
           50,
           92,
           102,
           87,
           33,
           59,
           145,
           6,
           22,
           15,
           28,
           10,
           48,
           42,
           87,
           72,
           40,
           46,
           10,
           7,
           10,
           4,
           178,
           106,
           38,
           17,
           40,
           28,
           178,
           58,
           47,
           36,
           25,
           69,
           62,
           23,
           27,
           20,
           4,
           71,
           18,
           31,
           52,
           8,
           36,
           24,
           12,
           84,
           107,
           9,
           36,
           39,
           79,
           59,
           98,
           45,
           14,
           33,
           114,
           97,
           26,
           3,
           62,
           95,
           115,
           29,
           130,
           70,
           78,
           58,
           43,
           63,
           5,
           6,
           32,
           105,
           14,
           35,
           16,
           44,
           5,
           127,
           35,
           13,
           37,
           35,
           13,
           26,
           54,
           67,
           23,
           95,
           31,
           42,
           88,
           60,
           92,
           43,
           11,
           34,
           160,
           17,
           8,
           7
          ],
          "sizemode": "area",
          "sizeref": 0.885,
          "symbol": "circle"
         },
         "mode": "markers",
         "name": "Qalat Sherqat (Assur)",
         "showlegend": true,
         "type": "scattergl",
         "x": [
          17.341373443603516,
          47.79141616821289,
          46.77082824707031,
          48.58586502075195,
          -36.416439056396484,
          47.656578063964844,
          25.457799911499023,
          17.375049591064453,
          48.18905258178711,
          50.08449172973633,
          -56.736976623535156,
          24.294836044311523,
          25.6191349029541,
          -26.67243766784668,
          62.36714553833008,
          11.230345726013184,
          -36.24934768676758,
          25.65951156616211,
          12.761311531066895,
          64.16728973388672,
          61.47906494140625,
          7.9691643714904785,
          46.05371856689453,
          28.047822952270508,
          45.15556335449219,
          -28.62747573852539,
          8.973464012145996,
          19.376684188842773,
          14.869308471679688,
          -70.60790252685547,
          58.51345443725586,
          30.01572036743164,
          18.59914207458496,
          63.5024299621582,
          37.95392990112305,
          -15.359184265136719,
          -40.91650390625,
          26.363933563232422,
          -51.193580627441406,
          48.22327423095703,
          45.53067398071289,
          -35.07854080200195,
          -29.564401626586914,
          52.071022033691406,
          30.33629035949707,
          40.864463806152344,
          59.6479606628418,
          21.360185623168945,
          13.191696166992188,
          -40.812313079833984,
          3.859056234359741,
          -33.5911865234375,
          45.69287872314453,
          46.545833587646484,
          60.354026794433594,
          39.86390686035156,
          -13.283770561218262,
          8.673087120056152,
          10.950117111206055,
          43.661415100097656,
          11.797533988952637,
          -40.52187728881836,
          -62.888607025146484,
          17.932544708251953,
          -55.459449768066406,
          -53.86001968383789,
          23.014387130737305,
          17.053218841552734,
          41.511539459228516,
          24.144119262695312,
          21.913400650024414,
          18.129066467285156,
          30.509599685668945,
          -59.88889694213867,
          -52.224159240722656,
          -55.42415237426758,
          -17.718843460083008,
          59.58818054199219,
          6.194707870483398,
          -42.92551040649414,
          20.354351043701172,
          28.128602981567383,
          -39.274356842041016,
          -39.281150817871094,
          -67.51622009277344,
          -72.44326782226562,
          -12.836714744567871,
          65.95437622070312,
          15.580580711364746,
          48.43896484375,
          49.86376953125,
          27.725902557373047,
          -66.76931762695312,
          21.558582305908203,
          65.29098510742188,
          -11.237550735473633,
          -18.909006118774414,
          15.10594654083252,
          -39.99259567260742,
          -13.750225067138672,
          14.073472023010254,
          -3.1664795875549316,
          45.50848388671875,
          -23.096616744995117,
          -70.48650360107422,
          25.28464698791504,
          -55.37211608886719,
          12.986283302307129,
          63.81068420410156,
          -53.468570709228516,
          -17.613880157470703,
          -45.81358337402344,
          59.10780715942383,
          -10.362128257751465,
          40.69987106323242,
          -51.193580627441406,
          -29.398162841796875,
          33.206687927246094,
          47.02642059326172,
          11.344687461853027,
          52.207759857177734,
          16.720378875732422,
          -54.98794174194336,
          4.60953950881958,
          27.804105758666992,
          46.6607551574707,
          -10.761581420898438,
          -61.04106903076172,
          45.29021453857422,
          56.11458206176758,
          -13.826675415039062,
          -20.21561050415039,
          32.25868225097656,
          -12.597628593444824,
          57.348777770996094,
          36.51874923706055,
          -29.811368942260742,
          39.68263626098633,
          -49.22217559814453,
          -53.497222900390625,
          -24.99095916748047,
          57.40608215332031,
          -30.608434677124023,
          10.079717636108398,
          15.93502426147461,
          63.587196350097656,
          -53.33863067626953,
          62.444053649902344,
          -54.86013412475586,
          -57.45724105834961,
          44.98323059082031,
          16.77630043029785,
          -66.86553192138672,
          3.9625329971313477,
          12.844405174255371,
          -19.473512649536133,
          2.94966983795166,
          28.206256866455078,
          50.34085464477539,
          62.55978012084961,
          54.0002555847168,
          12.846394538879395,
          21.08950424194336,
          58.58840560913086,
          -49.290103912353516,
          61.28070831298828,
          19.140411376953125,
          -51.82426071166992,
          -64.0041732788086,
          -31.82107925415039
         ],
         "xaxis": "x",
         "y": [
          12.568083763122559,
          12.078086853027344,
          -0.19994622468948364,
          -0.3622073531150818,
          -2.10931396484375,
          10.706310272216797,
          6.150775909423828,
          -4.895998477935791,
          -0.9210672378540039,
          -12.421072959899902,
          -2.672978401184082,
          -3.4016811847686768,
          -9.80415153503418,
          -5.773475646972656,
          15.089771270751953,
          -0.5288508534431458,
          -2.4555599689483643,
          -0.7877833843231201,
          10.868793487548828,
          -1.2621644735336304,
          16.54256248474121,
          -5.510059833526611,
          8.328460693359375,
          -10.990001678466797,
          2.333747386932373,
          6.293131351470947,
          1.6362427473068237,
          6.6695637702941895,
          0.7677119374275208,
          -2.345621347427368,
          -5.743048667907715,
          1.8124653100967407,
          -5.107394218444824,
          -5.521929740905762,
          10.02878475189209,
          -14.952191352844238,
          16.966901779174805,
          2.360210418701172,
          17.09787368774414,
          -15.322572708129883,
          14.355389595031738,
          -10.131953239440918,
          6.961787223815918,
          3.3731558322906494,
          -6.951920032501221,
          -10.847912788391113,
          -5.168703079223633,
          13.475634574890137,
          -1.9162408113479614,
          18.070310592651367,
          -9.167320251464844,
          -10.111998558044434,
          6.081718444824219,
          12.788406372070312,
          -5.468177318572998,
          16.370704650878906,
          12.41075611114502,
          1.0852258205413818,
          0.44093984365463257,
          4.251595497131348,
          -0.3601948320865631,
          1.0611284971237183,
          1.5457936525344849,
          -3.101149797439575,
          5.29163122177124,
          1.1516494750976562,
          -0.48715993762016296,
          -5.54331111907959,
          9.742720603942871,
          -0.8270682692527771,
          13.985581398010254,
          -6.692577362060547,
          9.414116859436035,
          -4.300882339477539,
          -1.0503699779510498,
          5.575713157653809,
          -1.0552891492843628,
          18.58547592163086,
          1.7312240600585938,
          4.958987236022949,
          -7.307017803192139,
          -7.798649787902832,
          13.666502952575684,
          1.9416425228118896,
          -4.502321720123291,
          -2.775989532470703,
          -6.882979393005371,
          9.89111042022705,
          -4.361886024475098,
          7.795017242431641,
          15.179366111755371,
          10.722358703613281,
          1.0996291637420654,
          12.262922286987305,
          5.805583477020264,
          1.6225699186325073,
          -3.1921846866607666,
          9.6390962600708,
          -12.224115371704102,
          -7.53123664855957,
          0.48377925157546997,
          2.5425736904144287,
          16.173215866088867,
          -4.249344825744629,
          -5.936445236206055,
          11.32359504699707,
          1.8864810466766357,
          8.9669771194458,
          3.3569936752319336,
          4.072254657745361,
          -3.0237081050872803,
          16.273845672607422,
          14.797574996948242,
          7.109711647033691,
          -0.3266140818595886,
          17.09787368774414,
          2.158348798751831,
          12.169528007507324,
          8.962246894836426,
          -2.669485569000244,
          4.662230968475342,
          8.173718452453613,
          -5.6833295822143555,
          2.3715169429779053,
          8.244606971740723,
          7.365209579467773,
          -1.4627004861831665,
          -8.538214683532715,
          12.354641914367676,
          -6.682506561279297,
          -9.092232704162598,
          7.41351842880249,
          -3.1639902591705322,
          -18.569467544555664,
          -4.395756721496582,
          -5.279123783111572,
          -3.5636491775512695,
          -9.293672561645508,
          16.764801025390625,
          -6.154092311859131,
          8.791105270385742,
          -5.9351654052734375,
          -9.106133460998535,
          -0.8537249565124512,
          12.618782043457031,
          4.0969977378845215,
          -3.6327738761901855,
          6.419426918029785,
          -2.834498405456543,
          -6.157064914703369,
          17.36102294921875,
          4.9779582023620605,
          -4.219626426696777,
          4.326886177062988,
          7.6394476890563965,
          -3.152378559112549,
          3.9146173000335693,
          -23.121274948120117,
          -3.4751548767089844,
          0.7409509420394897,
          4.279470920562744,
          6.75464391708374,
          7.625220775604248,
          13.158130645751953,
          -13.309481620788574,
          13.710762977600098,
          -4.421281814575195,
          -13.119400024414062,
          -4.353673458099365,
          -7.703817844390869
         ],
         "yaxis": "y"
        },
        {
         "customdata": [
          [
           "lease document (field)",
           "imgurenlil",
           "7th century",
           "P522827",
           64,
           84
          ],
          [
           "sales document (person)",
           "imgurenlil",
           "Sargonid period",
           "P522841",
           112,
           117
          ],
          [
           "sales document (field)",
           "imgurenlil",
           "Sargonid period",
           "P522846",
           56,
           110
          ],
          [
           "sales document (field)",
           "imgurenlil",
           "8th century",
           "P522826",
           65,
           95
          ],
          [
           "sales document (person)",
           "imgurenlil",
           "Sargonid period",
           "P522842",
           44,
           81
          ],
          [
           "lease document (field)",
           "imgurenlil",
           "Unknown",
           "P522830",
           23,
           54
          ]
         ],
         "hovertemplate": "region-tsne=Balawat (Imgur-Enlil)<br>component 1=%{x}<br>component 2=%{y}<br>size=%{marker.size}<br>subgenre=%{customdata[0]}<br>project=%{customdata[1]}<br>date_for_viz=%{customdata[2]}<br>index=%{customdata[3]}<br>Text_length_partial=%{customdata[4]}<br>Text_length_full=%{customdata[5]}<extra></extra>",
         "legendgroup": "Balawat (Imgur-Enlil)",
         "marker": {
          "color": "#FFF56A",
          "line": {
           "color": "black",
           "width": 1
          },
          "size": [
           64,
           112,
           56,
           65,
           44,
           23
          ],
          "sizemode": "area",
          "sizeref": 0.885,
          "symbol": "circle"
         },
         "mode": "markers",
         "name": "Balawat (Imgur-Enlil)",
         "showlegend": true,
         "type": "scattergl",
         "x": [
          37.266597747802734,
          43.80890655517578,
          2.534153699874878,
          32.225154876708984,
          25.986034393310547,
          -29.8894100189209
         ],
         "xaxis": "x",
         "y": [
          -4.472188472747803,
          -12.086100578308105,
          3.482213258743286,
          -0.2912861704826355,
          2.5514163970947266,
          -0.04437195882201195
         ],
         "yaxis": "y"
        },
        {
         "customdata": [
          [
           "sales document (field)",
           "durkatlimmu",
           "7th century",
           "P527219",
           36,
           60
          ],
          [
           "sales document (person)",
           "durkatlimmu",
           "7th century",
           "P527220",
           68,
           94
          ],
          [
           "sales document",
           "durkatlimmu",
           "7th century",
           "P527236",
           25,
           28
          ],
          [
           "sales document (field, person)",
           "durkatlimmu",
           "7th century",
           "P527305",
           22,
           54
          ],
          [
           "sales document (field)",
           "durkatlimmu",
           "Sargonid period",
           "P527232",
           29,
           54
          ],
          [
           "sales document (person)",
           "durkatlimmu",
           "7th century",
           "P527222",
           29,
           76
          ],
          [
           "sales document",
           "durkatlimmu",
           "7th century",
           "P527223",
           4,
           21
          ],
          [
           "sales document (person)",
           "durkatlimmu",
           "Ashurbanipal",
           "P527224",
           29,
           86
          ],
          [
           "sales document (person)",
           "durkatlimmu",
           "7th century",
           "P527225",
           24,
           35
          ],
          [
           "sales document",
           "durkatlimmu",
           "7th century",
           "P527231",
           10,
           24
          ],
          [
           "sales document",
           "durkatlimmu",
           "7th century",
           "P527227",
           8,
           29
          ],
          [
           "sales document",
           "durkatlimmu",
           "7th century",
           "P527228",
           19,
           34
          ],
          [
           "sales document (person)",
           "durkatlimmu",
           "7th century",
           "P527230",
           28,
           68
          ],
          [
           "sales document",
           "durkatlimmu",
           "7th century",
           "P527277",
           24,
           32
          ],
          [
           "sales document (field)",
           "durkatlimmu",
           "7th century",
           "P527218",
           64,
           103
          ],
          [
           "sales document",
           "durkatlimmu",
           "7th century",
           "P527226",
           26,
           33
          ],
          [
           "sales document (person)",
           "durkatlimmu",
           "7th century",
           "P527215",
           54,
           121
          ],
          [
           "sales document (person)",
           "durkatlimmu",
           "7th century",
           "P527217",
           19,
           42
          ],
          [
           "sales document (person)",
           "durkatlimmu",
           "7th century",
           "P527201",
           25,
           40
          ],
          [
           "sales document (house)",
           "durkatlimmu",
           "7th century",
           "P527208",
           19,
           49
          ],
          [
           "sales document",
           "durkatlimmu",
           "7th century",
           "P527202",
           4,
           64
          ],
          [
           "sales document (person)",
           "durkatlimmu",
           "7th century",
           "P527203",
           39,
           79
          ],
          [
           "sales document (field)",
           "durkatlimmu",
           "7th century",
           "P527205",
           20,
           38
          ],
          [
           "sales document",
           "durkatlimmu",
           "7th century",
           "P527206",
           16,
           46
          ],
          [
           "sales document (field)",
           "durkatlimmu",
           "Sargonid period",
           "P527238",
           67,
           73
          ],
          [
           "sales document (person)",
           "durkatlimmu",
           "7th century",
           "P527216",
           65,
           89
          ],
          [
           "sales document (person)",
           "durkatlimmu",
           "7th century",
           "P527210",
           28,
           33
          ],
          [
           "sales document (person)",
           "durkatlimmu",
           "7th century",
           "P527211",
           35,
           98
          ],
          [
           "sales document",
           "durkatlimmu",
           "7th century",
           "P527212",
           22,
           60
          ],
          [
           "sales document (field)",
           "durkatlimmu",
           "7th century",
           "P527213",
           41,
           158
          ],
          [
           "sales document (person)",
           "durkatlimmu",
           "7th century",
           "P527214",
           51,
           71
          ],
          [
           "sales document",
           "durkatlimmu",
           "7th century",
           "P527207",
           7,
           23
          ],
          [
           "sales document",
           "durkatlimmu",
           "7th century",
           "P527209",
           13,
           18
          ],
          [
           "sales document (garden)",
           "durkatlimmu",
           "7th century",
           "P527240",
           32,
           59
          ],
          [
           "sales document",
           "durkatlimmu",
           "post-canonical",
           "P527271",
           3,
           12
          ],
          [
           "sales document",
           "durkatlimmu",
           "Ashurbanipal",
           "P527243",
           8,
           58
          ],
          [
           "sales document (field)",
           "durkatlimmu",
           "Ashurbanipal",
           "P527269",
           39,
           73
          ],
          [
           "sales document",
           "durkatlimmu",
           "post-canonical",
           "P527270",
           16,
           48
          ],
          [
           "sales document",
           "durkatlimmu",
           "post-canonical",
           "P527272",
           10,
           15
          ],
          [
           "sales document (person)",
           "durkatlimmu",
           "Ashurbanipal",
           "P527267",
           14,
           43
          ],
          [
           "sales document",
           "durkatlimmu",
           "post-canonical",
           "P527273",
           7,
           20
          ],
          [
           "sales document",
           "durkatlimmu",
           "Ashurbanipal",
           "P527268",
           12,
           35
          ],
          [
           "sales document",
           "durkatlimmu",
           "7th century",
           "P527287",
           7,
           22
          ],
          [
           "sales document",
           "durkatlimmu",
           "7th century",
           "P527275",
           6,
           14
          ],
          [
           "sales document",
           "durkatlimmu",
           "7th century",
           "P527199",
           16,
           41
          ],
          [
           "sales document (person)",
           "durkatlimmu",
           "7th century",
           "P527281",
           5,
           9
          ],
          [
           "sales document (person)",
           "durkatlimmu",
           "7th century",
           "P527288",
           12,
           33
          ],
          [
           "sales document",
           "durkatlimmu",
           "7th century",
           "P527285",
           4,
           5
          ],
          [
           "sales document (field)",
           "durkatlimmu",
           "7th century",
           "P527286",
           13,
           36
          ],
          [
           "sales document (field)",
           "durkatlimmu",
           "7th century",
           "P527283",
           32,
           46
          ],
          [
           "sales document (person)",
           "durkatlimmu",
           "7th century",
           "P527200",
           32,
           44
          ],
          [
           "sales document",
           "durkatlimmu",
           "Ashurbanipal",
           "P527265",
           6,
           21
          ],
          [
           "sales document (person)",
           "durkatlimmu",
           "7th century",
           "P527221",
           14,
           27
          ],
          [
           "sales document (person)",
           "durkatlimmu",
           "post-canonical",
           "P527266",
           11,
           46
          ],
          [
           "sales document",
           "durkatlimmu",
           "Ashurbanipal",
           "P527262",
           4,
           19
          ],
          [
           "sales document (field)",
           "durkatlimmu",
           "7th century",
           "P527245",
           54,
           62
          ],
          [
           "sales document (house)",
           "durkatlimmu",
           "Sargonid period",
           "P527246",
           71,
           78
          ],
          [
           "sales document (person)",
           "durkatlimmu",
           "Sargonid period",
           "P527249",
           63,
           84
          ],
          [
           "sales document (field)",
           "durkatlimmu",
           "Ashurbanipal",
           "P527250",
           28,
           92
          ],
          [
           "sales document (person)",
           "durkatlimmu",
           "Ashurbanipal",
           "P527251",
           10,
           54
          ],
          [
           "sales document (field)",
           "durkatlimmu",
           "Sargonid period",
           "P527252",
           82,
           126
          ],
          [
           "sales document (person)",
           "durkatlimmu",
           "Sargonid period",
           "P527244",
           59,
           90
          ],
          [
           "sales document (garden)",
           "durkatlimmu",
           "7th century",
           "P527253",
           74,
           98
          ],
          [
           "sales document (field)",
           "durkatlimmu",
           "Sargonid period",
           "P527257",
           14,
           73
          ],
          [
           "sales document",
           "durkatlimmu",
           "Sargonid period",
           "P527258",
           13,
           17
          ],
          [
           "sales document",
           "durkatlimmu",
           "Ashurbanipal",
           "P527259",
           21,
           35
          ],
          [
           "sales document",
           "durkatlimmu",
           "Ashurbanipal",
           "P527260",
           4,
           14
          ],
          [
           "sales document",
           "durkatlimmu",
           "7th century",
           "P527279",
           7,
           30
          ],
          [
           "sales document (field)",
           "durkatlimmu",
           "9th century",
           "P527241",
           50,
           57
          ],
          [
           "sales document (garden)",
           "durkatlimmu",
           "Sargonid period",
           "P527255",
           19,
           31
          ],
          [
           "sales document (person)",
           "durkatlimmu",
           "Ashurbanipal",
           "P527261",
           7,
           17
          ],
          [
           "sales document (house)",
           "durkatlimmu",
           "7th century",
           "P527198",
           24,
           60
          ],
          [
           "sales document (person)",
           "durkatlimmu",
           "Ashurbanipal",
           "P527184",
           35,
           44
          ],
          [
           "sales document (field)",
           "durkatlimmu",
           "Ashurbanipal",
           "P527195",
           22,
           82
          ],
          [
           "sales document (person)",
           "durkatlimmu",
           "Ashurbanipal",
           "P527197",
           81,
           96
          ],
          [
           "sales document (field)",
           "durkatlimmu",
           "7th century",
           "P527295",
           3,
           34
          ],
          [
           "sales document (field)",
           "durkatlimmu",
           "post-canonical",
           "P527294",
           27,
           54
          ],
          [
           "sales document (person)",
           "durkatlimmu",
           "Ashurbanipal",
           "P527129",
           47,
           62
          ],
          [
           "sales document (person)",
           "durkatlimmu",
           "7th century",
           "P527130",
           8,
           20
          ],
          [
           "sales document (person)",
           "durkatlimmu",
           "7th century",
           "P527300",
           3,
           8
          ],
          [
           "sales document",
           "durkatlimmu",
           "7th century",
           "P527297",
           10,
           24
          ],
          [
           "sales document (field)",
           "durkatlimmu",
           "Sargonid period",
           "P527133",
           82,
           104
          ],
          [
           "sales document",
           "durkatlimmu",
           "Sargonid period",
           "P527140",
           3,
           6
          ],
          [
           "sales document (person)",
           "durkatlimmu",
           "Ashurbanipal",
           "P527142",
           28,
           83
          ],
          [
           "sales document (person)",
           "durkatlimmu",
           "Ashurbanipal",
           "P527143",
           25,
           41
          ],
          [
           "sales document (person)",
           "durkatlimmu",
           "7th century",
           "P527146",
           55,
           64
          ],
          [
           "sales document (person)",
           "durkatlimmu",
           "Ashurbanipal",
           "P527134",
           91,
           108
          ],
          [
           "sales document (house)",
           "durkatlimmu",
           "Ashurbanipal",
           "P527136",
           67,
           139
          ],
          [
           "sales document (house)",
           "durkatlimmu",
           "Unknown",
           "P527137",
           27,
           41
          ],
          [
           "sales document (person)",
           "durkatlimmu",
           "Ashurbanipal",
           "P527151",
           35,
           65
          ],
          [
           "sales document (person)",
           "durkatlimmu",
           "7th century",
           "P527299",
           14,
           35
          ],
          [
           "sales document (person)",
           "durkatlimmu",
           "7th century",
           "P527303",
           9,
           25
          ],
          [
           "sales document",
           "durkatlimmu",
           "7th century",
           "P527328",
           9,
           11
          ],
          [
           "sales document (person)",
           "durkatlimmu",
           "Sargonid period",
           "P527327",
           23,
           50
          ],
          [
           "sales document (field)",
           "durkatlimmu",
           "7th century",
           "P527313",
           14,
           27
          ],
          [
           "sales document (field)",
           "durkatlimmu",
           "7th century",
           "P527247",
           65,
           98
          ],
          [
           "sales document (person)",
           "durkatlimmu",
           "7th century",
           "P527304",
           4,
           16
          ],
          [
           "sales document",
           "durkatlimmu",
           "7th century",
           "P527318",
           15,
           38
          ],
          [
           "sales document (person)",
           "durkatlimmu",
           "7th century",
           "P527316",
           11,
           30
          ],
          [
           "sales document (field)",
           "durkatlimmu",
           "Ashurbanipal",
           "P527301",
           10,
           56
          ],
          [
           "sales document (person)",
           "durkatlimmu",
           "7th century",
           "P527312",
           46,
           55
          ],
          [
           "sales document (field)",
           "durkatlimmu",
           "7th century",
           "P527306",
           4,
           29
          ],
          [
           "sales document (person)",
           "durkatlimmu",
           "7th century",
           "P527311",
           36,
           74
          ],
          [
           "sales document",
           "durkatlimmu",
           "7th century",
           "P527308",
           9,
           29
          ],
          [
           "sales document (house)",
           "durkatlimmu",
           "7th century",
           "P527307",
           40,
           78
          ],
          [
           "sales document",
           "durkatlimmu",
           "7th century",
           "P527292",
           4,
           10
          ],
          [
           "sales document",
           "durkatlimmu",
           "Sargonid period",
           "P527314",
           5,
           7
          ],
          [
           "sales document (field)",
           "durkatlimmu",
           "post-canonical",
           "P527154",
           53,
           76
          ],
          [
           "sales document (field)",
           "durkatlimmu",
           "Nebuchadnezzar II",
           "P527164",
           81,
           87
          ],
          [
           "sales document (person)",
           "durkatlimmu",
           "7th century",
           "P527325",
           20,
           37
          ],
          [
           "sales document (field)",
           "durkatlimmu",
           "Nebuchadnezzar II",
           "P527162",
           159,
           160
          ],
          [
           "sales document (field)",
           "durkatlimmu",
           "Ashurbanipal",
           "P527182",
           70,
           77
          ],
          [
           "sales document (person)",
           "durkatlimmu",
           "Ashurbanipal",
           "P527183",
           35,
           69
          ],
          [
           "sales document (person)",
           "durkatlimmu",
           "Ashurbanipal",
           "P527185",
           41,
           57
          ],
          [
           "sales document (person)",
           "durkatlimmu",
           "Ashurbanipal",
           "P527179",
           63,
           83
          ],
          [
           "sales document (person)",
           "durkatlimmu",
           "Ashurbanipal",
           "P527186",
           30,
           61
          ],
          [
           "sales document (person)",
           "durkatlimmu",
           "Ashurbanipal",
           "P527188",
           62,
           73
          ],
          [
           "sales document (person)",
           "durkatlimmu",
           "Ashurbanipal",
           "P527181",
           73,
           150
          ],
          [
           "sales document (person)",
           "durkatlimmu",
           "Ashurbanipal",
           "P527189",
           117,
           121
          ],
          [
           "sales document (person)",
           "durkatlimmu",
           "Ashurbanipal",
           "P527191",
           104,
           107
          ],
          [
           "sales document (person)",
           "durkatlimmu",
           "Ashurbanipal",
           "P527192",
           44,
           79
          ],
          [
           "sales document (person)",
           "durkatlimmu",
           "Ashurbanipal",
           "P527194",
           83,
           136
          ],
          [
           "sales document (person)",
           "durkatlimmu",
           "Ashurbanipal",
           "P527187",
           91,
           119
          ],
          [
           "sales document (garden)",
           "durkatlimmu",
           "Ashurbanipal",
           "P527176",
           18,
           29
          ],
          [
           "sales document (field)",
           "durkatlimmu",
           "Ashurbanipal",
           "P527180",
           73,
           89
          ],
          [
           "sales document (person)",
           "durkatlimmu",
           "Ashurbanipal",
           "P527190",
           117,
           130
          ],
          [
           "sales document (person)",
           "durkatlimmu",
           "Ashurbanipal",
           "P527178",
           89,
           101
          ],
          [
           "sales document (person)",
           "durkatlimmu",
           "post-canonical",
           "P527155",
           5,
           46
          ],
          [
           "sales document (house)",
           "durkatlimmu",
           "post-canonical",
           "P527156",
           61,
           74
          ],
          [
           "sales document (person)",
           "durkatlimmu",
           "7th century",
           "P527159",
           53,
           61
          ],
          [
           "sales document (person)",
           "durkatlimmu",
           "Ashurbanipal",
           "P527177",
           54,
           71
          ],
          [
           "sales document (person)",
           "durkatlimmu",
           "Ashurbanipal",
           "P527167",
           29,
           66
          ],
          [
           "sales document (person)",
           "durkatlimmu",
           "Ashurbanipal",
           "P527169",
           53,
           72
          ],
          [
           "sales document (person)",
           "durkatlimmu",
           "Ashurbanipal",
           "P527170",
           76,
           108
          ],
          [
           "sales document (person)",
           "durkatlimmu",
           "Ashurbanipal",
           "P527171",
           31,
           61
          ],
          [
           "sales document (person)",
           "durkatlimmu",
           "Ashurbanipal",
           "P527172",
           105,
           108
          ],
          [
           "sales document (field)",
           "durkatlimmu",
           "Nebuchadnezzar II",
           "P527165",
           75,
           75
          ],
          [
           "sales document (person)",
           "durkatlimmu",
           "Ashurbanipal",
           "P527174",
           41,
           84
          ],
          [
           "sales document (person)",
           "durkatlimmu",
           "7th century",
           "P527161",
           8,
           24
          ],
          [
           "sales document (field)",
           "durkatlimmu",
           "Ashurbanipal",
           "P527173",
           92,
           118
          ],
          [
           "sales document (person)",
           "durkatlimmu",
           "7th century",
           "P527298",
           5,
           41
          ],
          [
           "sales document (field)",
           "durkatlimmu",
           "Nebuchadnezzar II",
           "P527163",
           99,
           107
          ],
          [
           "sales document (garden)",
           "durkatlimmu",
           "Ashurbanipal",
           "P527168",
           58,
           99
          ],
          [
           "sales document (person)",
           "durkatlimmu",
           "Ashurbanipal",
           "P527175",
           29,
           49
          ],
          [
           "sales document (field)",
           "durkatlimmu",
           "7th century",
           "P527293",
           9,
           18
          ]
         ],
         "hovertemplate": "region-tsne=Dur-Katlimmu<br>component 1=%{x}<br>component 2=%{y}<br>size=%{marker.size}<br>subgenre=%{customdata[0]}<br>project=%{customdata[1]}<br>date_for_viz=%{customdata[2]}<br>index=%{customdata[3]}<br>Text_length_partial=%{customdata[4]}<br>Text_length_full=%{customdata[5]}<extra></extra>",
         "legendgroup": "Dur-Katlimmu",
         "marker": {
          "color": "#FF8D00",
          "line": {
           "color": "black",
           "width": 1
          },
          "size": [
           36,
           68,
           25,
           22,
           29,
           29,
           4,
           29,
           24,
           10,
           8,
           19,
           28,
           24,
           64,
           26,
           54,
           19,
           25,
           19,
           4,
           39,
           20,
           16,
           67,
           65,
           28,
           35,
           22,
           41,
           51,
           7,
           13,
           32,
           3,
           8,
           39,
           16,
           10,
           14,
           7,
           12,
           7,
           6,
           16,
           5,
           12,
           4,
           13,
           32,
           32,
           6,
           14,
           11,
           4,
           54,
           71,
           63,
           28,
           10,
           82,
           59,
           74,
           14,
           13,
           21,
           4,
           7,
           50,
           19,
           7,
           24,
           35,
           22,
           81,
           3,
           27,
           47,
           8,
           3,
           10,
           82,
           3,
           28,
           25,
           55,
           91,
           67,
           27,
           35,
           14,
           9,
           9,
           23,
           14,
           65,
           4,
           15,
           11,
           10,
           46,
           4,
           36,
           9,
           40,
           4,
           5,
           53,
           81,
           20,
           159,
           70,
           35,
           41,
           63,
           30,
           62,
           73,
           117,
           104,
           44,
           83,
           91,
           18,
           73,
           117,
           89,
           5,
           61,
           53,
           54,
           29,
           53,
           76,
           31,
           105,
           75,
           41,
           8,
           92,
           5,
           99,
           58,
           29,
           9
          ],
          "sizemode": "area",
          "sizeref": 0.885,
          "symbol": "circle"
         },
         "mode": "markers",
         "name": "Dur-Katlimmu",
         "showlegend": true,
         "type": "scattergl",
         "x": [
          20.451139450073242,
          56.13217544555664,
          6.231299877166748,
          -6.506104946136475,
          -32.38459396362305,
          -12.30622386932373,
          -53.05710220336914,
          42.003883361816406,
          -26.419540405273438,
          62.07316589355469,
          -40.07601547241211,
          -41.549625396728516,
          3.8650448322296143,
          65.95437622070312,
          -11.795551300048828,
          43.93840408325195,
          -10.531333923339844,
          60.41600036621094,
          -28.7409725189209,
          -20.052213668823242,
          -68.82503509521484,
          44.73656463623047,
          -31.993133544921875,
          -41.439002990722656,
          39.77347183227539,
          49.69204330444336,
          47.0521354675293,
          -14.318961143493652,
          -59.679290771484375,
          60.44623565673828,
          5.605255603790283,
          -68.63215637207031,
          -41.050453186035156,
          -34.98593521118164,
          2.9961748123168945,
          -35.579959869384766,
          42.31618118286133,
          4.372354030609131,
          65.35095977783203,
          -20.358484268188477,
          -21.95032501220703,
          64.61936950683594,
          43.12493896484375,
          4.063686847686768,
          -42.009124755859375,
          -34.22249221801758,
          -9.127803802490234,
          14.082762718200684,
          -52.346492767333984,
          -11.632794380187988,
          -12.602325439453125,
          -24.28564453125,
          -29.560245513916016,
          2.057387351989746,
          67.52174377441406,
          39.255123138427734,
          45.73688888549805,
          -11.473395347595215,
          -34.88190841674805,
          -34.37206268310547,
          19.054174423217773,
          25.13248634338379,
          5.157835483551025,
          -30.503190994262695,
          9.557428359985352,
          43.3297119140625,
          -67.51055145263672,
          -63.032405853271484,
          28.856111526489258,
          15.493422508239746,
          -26.66914939880371,
          22.81279945373535,
          54.676780700683594,
          -42.41405487060547,
          30.67068099975586,
          -70.01126861572266,
          -16.947128295898438,
          54.559635162353516,
          -56.28526306152344,
          -68.25914764404297,
          -19.598634719848633,
          49.871498107910156,
          -56.15926742553711,
          -15.723454475402832,
          66.47396087646484,
          -16.11948585510254,
          46.15894317626953,
          51.52494812011719,
          -16.069791793823242,
          -18.80413055419922,
          41.43640899658203,
          -55.088706970214844,
          -57.4093017578125,
          -26.43697166442871,
          -18.257919311523438,
          60.451141357421875,
          -71.2310562133789,
          23.56358528137207,
          2.060189723968506,
          -18.06675910949707,
          -15.14311408996582,
          -73.65852355957031,
          44.97423553466797,
          -34.77745819091797,
          -26.18244743347168,
          -34.04507827758789,
          -63.57367706298828,
          38.833919525146484,
          20.938749313354492,
          -4.538662910461426,
          53.50401306152344,
          54.91227722167969,
          -13.192562103271484,
          65.27583312988281,
          58.74446487426758,
          5.490619659423828,
          65.73672485351562,
          39.76039123535156,
          48.84500503540039,
          46.71099090576172,
          44.52127456665039,
          38.84864807128906,
          46.44202423095703,
          43.09085464477539,
          51.23149490356445,
          64.73399353027344,
          48.68970489501953,
          8.216605186462402,
          29.379070281982422,
          35.84882736206055,
          49.73625183105469,
          -40.04130554199219,
          60.295753479003906,
          48.735984802246094,
          6.1953325271606445,
          48.290611267089844,
          21.48121452331543,
          65.23426055908203,
          -70.2504653930664,
          20.11794662475586,
          -62.886932373046875,
          20.69773292541504,
          61.37255096435547,
          -15.140387535095215,
          -35.3249397277832
         ],
         "xaxis": "x",
         "y": [
          -0.727838933467865,
          -2.5899298191070557,
          -1.1314865350723267,
          -7.145540714263916,
          1.3059329986572266,
          -5.298905849456787,
          14.981342315673828,
          5.363597393035889,
          11.490013122558594,
          17.256988525390625,
          5.3028106689453125,
          6.834125995635986,
          -1.4387009143829346,
          9.89111042022705,
          2.062983274459839,
          2.454145908355713,
          13.85336971282959,
          12.508649826049805,
          11.518510818481445,
          -4.908041477203369,
          -8.5330228805542,
          1.0324857234954834,
          2.04477858543396,
          15.200181007385254,
          7.154083251953125,
          3.861691951751709,
          3.761943817138672,
          12.897788047790527,
          6.435324668884277,
          18.59779930114746,
          2.6699776649475098,
          4.940736293792725,
          7.7325310707092285,
          1.1500461101531982,
          -9.168323516845703,
          -3.99027943611145,
          2.4436700344085693,
          -11.553031921386719,
          11.140384674072266,
          -9.059553146362305,
          -5.649046421051025,
          8.465940475463867,
          0.741863489151001,
          -10.447376251220703,
          6.523953437805176,
          -11.775765419006348,
          13.747342109680176,
          12.671521186828613,
          -10.274391174316406,
          -5.931277751922607,
          -1.1920219659805298,
          -9.14903736114502,
          11.203690528869629,
          -3.7143614292144775,
          4.052679538726807,
          -21.957704544067383,
          3.6149654388427734,
          -5.071370601654053,
          2.2076168060302734,
          -7.349636554718018,
          8.533400535583496,
          -2.284973382949829,
          -3.0715835094451904,
          -6.61997127532959,
          14.444029808044434,
          1.7968907356262207,
          0.09599684178829193,
          9.926798820495605,
          -1.5703916549682617,
          8.612831115722656,
          -10.743876457214355,
          15.563896179199219,
          5.07459831237793,
          -13.354986190795898,
          -9.497671127319336,
          -2.2696595191955566,
          2.5651049613952637,
          5.0529327392578125,
          10.494969367980957,
          -9.895183563232422,
          1.3793455362319946,
          1.5038514137268066,
          -5.794400215148926,
          -8.59497356414795,
          5.2533721923828125,
          8.593110084533691,
          -8.800890922546387,
          5.373488426208496,
          1.5453382730484009,
          -2.096324920654297,
          2.9770100116729736,
          8.275999069213867,
          12.207901000976562,
          6.138903617858887,
          -10.45934009552002,
          -8.19115924835205,
          2.9620964527130127,
          12.36003589630127,
          -1.4719171524047852,
          -9.791864395141602,
          1.3444671630859375,
          1.6056323051452637,
          3.8137595653533936,
          0.48902902007102966,
          10.856369018554688,
          -2.0370919704437256,
          -8.541329383850098,
          -21.307220458984375,
          -25.516502380371094,
          -1.3524861335754395,
          2.2187576293945312,
          -0.18053749203681946,
          -1.2242037057876587,
          4.252876281738281,
          -0.8420056700706482,
          -1.0497699975967407,
          3.178901433944702,
          9.90754508972168,
          3.5956075191497803,
          2.7986512184143066,
          16.462692260742188,
          -8.81521224975586,
          1.7870213985443115,
          18.962100982666016,
          3.525641679763794,
          0.08519309014081955,
          -9.299219131469727,
          4.951688289642334,
          -2.5578806400299072,
          -11.103925704956055,
          10.407530784606934,
          6.793271064758301,
          -0.5399084687232971,
          4.911033630371094,
          -2.714393377304077,
          2.690565347671509,
          -26.55496597290039,
          1.7990080118179321,
          -0.9724571704864502,
          -1.6955658197402954,
          -6.478203773498535,
          -25.018430709838867,
          6.850284576416016,
          -0.2506576180458069,
          8.074912071228027
         ],
         "yaxis": "y"
        },
        {
         "customdata": [
          [
           "sales document (field)",
           "burmarina",
           "Sargonid period",
           "P522616",
           30,
           131
          ],
          [
           "sales document (person)",
           "marqasu",
           "Ashurbanipal",
           "P522577",
           90,
           95
          ],
          [
           "sales document (person)",
           "marqasu",
           "7th century",
           "P522583",
           26,
           33
          ],
          [
           "sales document (person)",
           "marqasu",
           "7th century",
           "P522586",
           28,
           39
          ],
          [
           "sales document",
           "tilbarsip",
           "Ashurbanipal",
           "P522596",
           12,
           34
          ],
          [
           "sales document (person)",
           "tilbarsip",
           "Ashurbanipal",
           "P522599",
           73,
           83
          ],
          [
           "sales document (person)",
           "tilbarsip",
           "Ashurbanipal",
           "P522600",
           18,
           53
          ],
          [
           "sales document",
           "tilbarsip",
           "Ashurbanipal",
           "P522612",
           19,
           78
          ],
          [
           "sales document",
           "burmarina",
           "Sargonid period",
           "P522618",
           18,
           52
          ],
          [
           "sales document (person)",
           "guzana",
           "post-canonical",
           "P527426",
           20,
           80
          ],
          [
           "sales document (person)",
           "guzana",
           "post-canonical",
           "P527420",
           64,
           119
          ],
          [
           "sales document (person)",
           "marqasu",
           "Ashurbanipal",
           "P522576",
           72,
           72
          ],
          [
           "sales document (person)",
           "tilbarsip",
           "Ashurbanipal",
           "P522604",
           77,
           77
          ],
          [
           "sales document (field)",
           "mallanate",
           "Unknown",
           "P522889",
           36,
           45
          ],
          [
           "sales document (person)",
           "marqasu",
           "Sargonid period",
           "P522560",
           148,
           158
          ],
          [
           "sales document (person)",
           "marqasu",
           "Ashurbanipal",
           "P522568",
           112,
           139
          ],
          [
           "sales document (field)",
           "marqasu",
           "Ashurbanipal",
           "P522567",
           84,
           84
          ],
          [
           "sales document (garden)",
           "marqasu",
           "Ashurbanipal",
           "P522566",
           62,
           104
          ],
          [
           "sales document (person)",
           "marqasu",
           "Ashurbanipal",
           "P522563",
           93,
           101
          ],
          [
           "sales document (person)",
           "marqasu",
           "Sargonid period",
           "P522562",
           113,
           115
          ],
          [
           "sales document (person)",
           "marqasu",
           "7th century",
           "P522561",
           72,
           83
          ],
          [
           "sales document (person)",
           "marqasu",
           "post-canonical",
           "P522559",
           25,
           64
          ],
          [
           "sales document (person)",
           "marqasu",
           "post-canonical",
           "P522555",
           81,
           87
          ],
          [
           "sales document (person)",
           "marqasu",
           "Ashurbanipal",
           "P522553",
           100,
           104
          ],
          [
           "sales document (person)",
           "marqasu",
           "post-canonical",
           "P522549",
           99,
           113
          ],
          [
           "sales document (person)",
           "marqasu",
           "7th century",
           "P522548",
           67,
           71
          ],
          [
           "sales document (person)",
           "marqasu",
           "Sargonid period",
           "P522547",
           25,
           40
          ],
          [
           "sales document (person)",
           "marqasu",
           "Sargonid period",
           "P522546",
           125,
           125
          ],
          [
           "sales document (person)",
           "mallanate",
           "Ashurbanipal",
           "P342654",
           97,
           103
          ],
          [
           "sales document (field)",
           "marqasu",
           "Sargonid period",
           "P522573",
           122,
           122
          ],
          [
           "sales document (person)",
           "marqasu",
           "Sargonid period",
           "P522572",
           142,
           142
          ],
          [
           "sales document",
           "burmarina",
           "Sargonid period",
           "P522629",
           3,
           18
          ],
          [
           "sales document (person)",
           "mallanate",
           "Sargonid period",
           "P522852",
           108,
           127
          ],
          [
           "sales document (person)",
           "huzirina",
           "7th century",
           "P338308",
           65,
           107
          ],
          [
           "sales document (person)",
           "burmarina",
           "Sargonid period",
           "P522615",
           18,
           34
          ],
          [
           "sales document (person)",
           "mallanate",
           "Sargonid period",
           "P522854",
           101,
           102
          ],
          [
           "sales document (person)",
           "mallanate",
           "Sargonid period",
           "P522855",
           117,
           120
          ],
          [
           "sales document (person)",
           "mallanate",
           "Sargonid period",
           "P522856",
           77,
           77
          ],
          [
           "sales document (person)",
           "mallanate",
           "Sargonid period",
           "P522857",
           97,
           110
          ],
          [
           "sales document (field)",
           "mallanate",
           "Sargonid period",
           "P522859",
           173,
           179
          ],
          [
           "sales document (field)",
           "mallanate",
           "Sargonid period",
           "P522860",
           33,
           155
          ],
          [
           "sales document (field)",
           "mallanate",
           "Ashurbanipal",
           "P522869",
           118,
           218
          ],
          [
           "sales document (person)",
           "mallanate",
           "Ashurbanipal",
           "P522882",
           43,
           109
          ],
          [
           "sales document (plot)",
           "mallanate",
           "7th century",
           "P522883",
           98,
           158
          ],
          [
           "sales document (person)",
           "burmarina",
           "Sargonid period",
           "P522617",
           29,
           73
          ],
          [
           "sales document (person)",
           "mallanate",
           "Sargonid period",
           "P522853",
           66,
           66
          ],
          [
           "sales document (field)",
           "mallanate",
           "Sargonid period",
           "P522861",
           123,
           141
          ],
          [
           "sales document (person)",
           "mallanate",
           "Ashurbanipal",
           "P522881",
           114,
           121
          ],
          [
           "sales document (person)",
           "mallanate",
           "Sargonid period",
           "P522851",
           118,
           119
          ],
          [
           "sales document (person)",
           "mallanate",
           "Sargonid period",
           "P522850",
           33,
           67
          ],
          [
           "sales document (person)",
           "samal",
           "Sargonid period",
           "P522659",
           20,
           89
          ],
          [
           "sales document (person)",
           "samal",
           "Sargonid period",
           "P522658",
           61,
           70
          ],
          [
           "sales document",
           "burmarina",
           "Sargonid period",
           "P522640",
           6,
           16
          ],
          [
           "sales document",
           "burmarina",
           "Sargonid period",
           "P522633",
           3,
           14
          ],
          [
           "sales document",
           "burmarina",
           "Sargonid period",
           "P522628",
           5,
           24
          ],
          [
           "sales document (person)",
           "burmarina",
           "Sargonid period",
           "P522625",
           4,
           26
          ],
          [
           "sales document (person)",
           "burmarina",
           "Sargonid period",
           "P522624",
           3,
           22
          ],
          [
           "sales document",
           "burmarina",
           "Sargonid period",
           "P522623",
           9,
           34
          ],
          [
           "sales document (plot)",
           "burmarina",
           "Sargonid period",
           "P522622",
           6,
           18
          ],
          [
           "sales document",
           "burmarina",
           "Sargonid period",
           "P522620",
           7,
           29
          ],
          [
           "sales document (person)",
           "burmarina",
           "Sargonid period",
           "P522619",
           4,
           35
          ],
          [
           "sales document (person)",
           "mallanate",
           "7th century",
           "P522918",
           37,
           117
          ],
          [
           "sales document (person)",
           "burmarina",
           "Sargonid period",
           "P522614",
           15,
           67
          ],
          [
           "sales document (person)",
           "guzana",
           "8th century",
           "X214103",
           71,
           131
          ]
         ],
         "hovertemplate": "region-tsne=Western periphery<br>component 1=%{x}<br>component 2=%{y}<br>size=%{marker.size}<br>subgenre=%{customdata[0]}<br>project=%{customdata[1]}<br>date_for_viz=%{customdata[2]}<br>index=%{customdata[3]}<br>Text_length_partial=%{customdata[4]}<br>Text_length_full=%{customdata[5]}<extra></extra>",
         "legendgroup": "Western periphery",
         "marker": {
          "color": "#E50000",
          "line": {
           "color": "black",
           "width": 1
          },
          "size": [
           30,
           90,
           26,
           28,
           12,
           73,
           18,
           19,
           18,
           20,
           64,
           72,
           77,
           36,
           148,
           112,
           84,
           62,
           93,
           113,
           72,
           25,
           81,
           100,
           99,
           67,
           25,
           125,
           97,
           122,
           142,
           3,
           108,
           65,
           18,
           101,
           117,
           77,
           97,
           173,
           33,
           118,
           43,
           98,
           29,
           66,
           123,
           114,
           118,
           33,
           20,
           61,
           6,
           3,
           5,
           4,
           3,
           9,
           6,
           7,
           4,
           37,
           15,
           71
          ],
          "sizemode": "area",
          "sizeref": 0.885,
          "symbol": "circle"
         },
         "mode": "markers",
         "name": "Western periphery",
         "showlegend": true,
         "type": "scattergl",
         "x": [
          -33.83269500732422,
          54.3264274597168,
          -55.36798858642578,
          -56.320316314697266,
          -57.910709381103516,
          60.10540771484375,
          -53.25162124633789,
          -60.411739349365234,
          9.173845291137695,
          13.563343048095703,
          59.68781661987305,
          53.11013412475586,
          57.82006072998047,
          -38.18745803833008,
          53.75502395629883,
          61.77009963989258,
          40.048797607421875,
          -1.9263699054718018,
          50.69953155517578,
          52.750179290771484,
          19.134458541870117,
          28.508113861083984,
          42.17225646972656,
          61.069854736328125,
          50.63511657714844,
          -42.374053955078125,
          48.9940071105957,
          29.71262550354004,
          63.09138488769531,
          26.882570266723633,
          63.70574188232422,
          -73.22249603271484,
          45.131221771240234,
          27.39031410217285,
          34.125240325927734,
          51.608116149902344,
          52.97194290161133,
          48.351593017578125,
          42.90961456298828,
          24.808414459228516,
          -63.154296875,
          23.58867645263672,
          -33.2452278137207,
          38.09092330932617,
          6.8996100425720215,
          42.578025817871094,
          32.94142150878906,
          60.72418975830078,
          28.540481567382812,
          0.942503035068512,
          -35.216217041015625,
          53.06245422363281,
          63.649784088134766,
          -54.08069610595703,
          -22.00637435913086,
          -70.01138305664062,
          -70.4580078125,
          -50.13712692260742,
          -71.61907958984375,
          12.110213279724121,
          -63.908668518066406,
          63.55913543701172,
          -28.876846313476562,
          41.295265197753906
         ],
         "xaxis": "x",
         "y": [
          3.676284074783325,
          -2.684985876083374,
          9.812541007995605,
          8.899879455566406,
          -4.011911869049072,
          -2.535639762878418,
          -1.9175264835357666,
          4.250245094299316,
          14.011919975280762,
          3.651737689971924,
          -9.13379192352295,
          -2.839181661605835,
          -1.7077311277389526,
          8.650193214416504,
          -12.54887580871582,
          -1.3201321363449097,
          -23.667726516723633,
          -5.769899845123291,
          -12.127021789550781,
          -12.097253799438477,
          -15.239335060119629,
          4.291318416595459,
          10.12034797668457,
          -1.9588189125061035,
          11.363136291503906,
          9.76733112335205,
          17.954059600830078,
          0.8742825984954834,
          -0.30145594477653503,
          -17.708131790161133,
          -3.8681135177612305,
          -6.201602935791016,
          -8.948251724243164,
          -4.097923755645752,
          11.705511093139648,
          -14.352420806884766,
          -13.483494758605957,
          -7.308446407318115,
          8.150346755981445,
          -14.663115501403809,
          4.376214504241943,
          -14.818860054016113,
          1.2517613172531128,
          -9.271361351013184,
          0.797661304473877,
          -5.617419242858887,
          -19.92302894592285,
          -7.025735855102539,
          -12.713050842285156,
          2.778785228729248,
          -4.994506359100342,
          -1.144426703453064,
          16.377111434936523,
          13.574104309082031,
          -4.604893207550049,
          2.384780168533325,
          1.370234727859497,
          11.444891929626465,
          -3.1674842834472656,
          14.627962112426758,
          -4.940173625946045,
          7.617447376251221,
          3.7045624256134033,
          8.53043270111084
         ],
         "yaxis": "y"
        }
       ],
       "layout": {
        "legend": {
         "itemsizing": "constant",
         "title": {
          "text": "Provenience"
         },
         "tracegroupgap": 0
        },
        "template": {
         "data": {
          "bar": [
           {
            "error_x": {
             "color": "#2a3f5f"
            },
            "error_y": {
             "color": "#2a3f5f"
            },
            "marker": {
             "line": {
              "color": "#E5ECF6",
              "width": 0.5
             },
             "pattern": {
              "fillmode": "overlay",
              "size": 10,
              "solidity": 0.2
             }
            },
            "type": "bar"
           }
          ],
          "barpolar": [
           {
            "marker": {
             "line": {
              "color": "#E5ECF6",
              "width": 0.5
             },
             "pattern": {
              "fillmode": "overlay",
              "size": 10,
              "solidity": 0.2
             }
            },
            "type": "barpolar"
           }
          ],
          "carpet": [
           {
            "aaxis": {
             "endlinecolor": "#2a3f5f",
             "gridcolor": "white",
             "linecolor": "white",
             "minorgridcolor": "white",
             "startlinecolor": "#2a3f5f"
            },
            "baxis": {
             "endlinecolor": "#2a3f5f",
             "gridcolor": "white",
             "linecolor": "white",
             "minorgridcolor": "white",
             "startlinecolor": "#2a3f5f"
            },
            "type": "carpet"
           }
          ],
          "choropleth": [
           {
            "colorbar": {
             "outlinewidth": 0,
             "ticks": ""
            },
            "type": "choropleth"
           }
          ],
          "contour": [
           {
            "colorbar": {
             "outlinewidth": 0,
             "ticks": ""
            },
            "colorscale": [
             [
              0,
              "#0d0887"
             ],
             [
              0.1111111111111111,
              "#46039f"
             ],
             [
              0.2222222222222222,
              "#7201a8"
             ],
             [
              0.3333333333333333,
              "#9c179e"
             ],
             [
              0.4444444444444444,
              "#bd3786"
             ],
             [
              0.5555555555555556,
              "#d8576b"
             ],
             [
              0.6666666666666666,
              "#ed7953"
             ],
             [
              0.7777777777777778,
              "#fb9f3a"
             ],
             [
              0.8888888888888888,
              "#fdca26"
             ],
             [
              1,
              "#f0f921"
             ]
            ],
            "type": "contour"
           }
          ],
          "contourcarpet": [
           {
            "colorbar": {
             "outlinewidth": 0,
             "ticks": ""
            },
            "type": "contourcarpet"
           }
          ],
          "heatmap": [
           {
            "colorbar": {
             "outlinewidth": 0,
             "ticks": ""
            },
            "colorscale": [
             [
              0,
              "#0d0887"
             ],
             [
              0.1111111111111111,
              "#46039f"
             ],
             [
              0.2222222222222222,
              "#7201a8"
             ],
             [
              0.3333333333333333,
              "#9c179e"
             ],
             [
              0.4444444444444444,
              "#bd3786"
             ],
             [
              0.5555555555555556,
              "#d8576b"
             ],
             [
              0.6666666666666666,
              "#ed7953"
             ],
             [
              0.7777777777777778,
              "#fb9f3a"
             ],
             [
              0.8888888888888888,
              "#fdca26"
             ],
             [
              1,
              "#f0f921"
             ]
            ],
            "type": "heatmap"
           }
          ],
          "heatmapgl": [
           {
            "colorbar": {
             "outlinewidth": 0,
             "ticks": ""
            },
            "colorscale": [
             [
              0,
              "#0d0887"
             ],
             [
              0.1111111111111111,
              "#46039f"
             ],
             [
              0.2222222222222222,
              "#7201a8"
             ],
             [
              0.3333333333333333,
              "#9c179e"
             ],
             [
              0.4444444444444444,
              "#bd3786"
             ],
             [
              0.5555555555555556,
              "#d8576b"
             ],
             [
              0.6666666666666666,
              "#ed7953"
             ],
             [
              0.7777777777777778,
              "#fb9f3a"
             ],
             [
              0.8888888888888888,
              "#fdca26"
             ],
             [
              1,
              "#f0f921"
             ]
            ],
            "type": "heatmapgl"
           }
          ],
          "histogram": [
           {
            "marker": {
             "pattern": {
              "fillmode": "overlay",
              "size": 10,
              "solidity": 0.2
             }
            },
            "type": "histogram"
           }
          ],
          "histogram2d": [
           {
            "colorbar": {
             "outlinewidth": 0,
             "ticks": ""
            },
            "colorscale": [
             [
              0,
              "#0d0887"
             ],
             [
              0.1111111111111111,
              "#46039f"
             ],
             [
              0.2222222222222222,
              "#7201a8"
             ],
             [
              0.3333333333333333,
              "#9c179e"
             ],
             [
              0.4444444444444444,
              "#bd3786"
             ],
             [
              0.5555555555555556,
              "#d8576b"
             ],
             [
              0.6666666666666666,
              "#ed7953"
             ],
             [
              0.7777777777777778,
              "#fb9f3a"
             ],
             [
              0.8888888888888888,
              "#fdca26"
             ],
             [
              1,
              "#f0f921"
             ]
            ],
            "type": "histogram2d"
           }
          ],
          "histogram2dcontour": [
           {
            "colorbar": {
             "outlinewidth": 0,
             "ticks": ""
            },
            "colorscale": [
             [
              0,
              "#0d0887"
             ],
             [
              0.1111111111111111,
              "#46039f"
             ],
             [
              0.2222222222222222,
              "#7201a8"
             ],
             [
              0.3333333333333333,
              "#9c179e"
             ],
             [
              0.4444444444444444,
              "#bd3786"
             ],
             [
              0.5555555555555556,
              "#d8576b"
             ],
             [
              0.6666666666666666,
              "#ed7953"
             ],
             [
              0.7777777777777778,
              "#fb9f3a"
             ],
             [
              0.8888888888888888,
              "#fdca26"
             ],
             [
              1,
              "#f0f921"
             ]
            ],
            "type": "histogram2dcontour"
           }
          ],
          "mesh3d": [
           {
            "colorbar": {
             "outlinewidth": 0,
             "ticks": ""
            },
            "type": "mesh3d"
           }
          ],
          "parcoords": [
           {
            "line": {
             "colorbar": {
              "outlinewidth": 0,
              "ticks": ""
             }
            },
            "type": "parcoords"
           }
          ],
          "pie": [
           {
            "automargin": true,
            "type": "pie"
           }
          ],
          "scatter": [
           {
            "fillpattern": {
             "fillmode": "overlay",
             "size": 10,
             "solidity": 0.2
            },
            "type": "scatter"
           }
          ],
          "scatter3d": [
           {
            "line": {
             "colorbar": {
              "outlinewidth": 0,
              "ticks": ""
             }
            },
            "marker": {
             "colorbar": {
              "outlinewidth": 0,
              "ticks": ""
             }
            },
            "type": "scatter3d"
           }
          ],
          "scattercarpet": [
           {
            "marker": {
             "colorbar": {
              "outlinewidth": 0,
              "ticks": ""
             }
            },
            "type": "scattercarpet"
           }
          ],
          "scattergeo": [
           {
            "marker": {
             "colorbar": {
              "outlinewidth": 0,
              "ticks": ""
             }
            },
            "type": "scattergeo"
           }
          ],
          "scattergl": [
           {
            "marker": {
             "colorbar": {
              "outlinewidth": 0,
              "ticks": ""
             }
            },
            "type": "scattergl"
           }
          ],
          "scattermapbox": [
           {
            "marker": {
             "colorbar": {
              "outlinewidth": 0,
              "ticks": ""
             }
            },
            "type": "scattermapbox"
           }
          ],
          "scatterpolar": [
           {
            "marker": {
             "colorbar": {
              "outlinewidth": 0,
              "ticks": ""
             }
            },
            "type": "scatterpolar"
           }
          ],
          "scatterpolargl": [
           {
            "marker": {
             "colorbar": {
              "outlinewidth": 0,
              "ticks": ""
             }
            },
            "type": "scatterpolargl"
           }
          ],
          "scatterternary": [
           {
            "marker": {
             "colorbar": {
              "outlinewidth": 0,
              "ticks": ""
             }
            },
            "type": "scatterternary"
           }
          ],
          "surface": [
           {
            "colorbar": {
             "outlinewidth": 0,
             "ticks": ""
            },
            "colorscale": [
             [
              0,
              "#0d0887"
             ],
             [
              0.1111111111111111,
              "#46039f"
             ],
             [
              0.2222222222222222,
              "#7201a8"
             ],
             [
              0.3333333333333333,
              "#9c179e"
             ],
             [
              0.4444444444444444,
              "#bd3786"
             ],
             [
              0.5555555555555556,
              "#d8576b"
             ],
             [
              0.6666666666666666,
              "#ed7953"
             ],
             [
              0.7777777777777778,
              "#fb9f3a"
             ],
             [
              0.8888888888888888,
              "#fdca26"
             ],
             [
              1,
              "#f0f921"
             ]
            ],
            "type": "surface"
           }
          ],
          "table": [
           {
            "cells": {
             "fill": {
              "color": "#EBF0F8"
             },
             "line": {
              "color": "white"
             }
            },
            "header": {
             "fill": {
              "color": "#C8D4E3"
             },
             "line": {
              "color": "white"
             }
            },
            "type": "table"
           }
          ]
         },
         "layout": {
          "annotationdefaults": {
           "arrowcolor": "#2a3f5f",
           "arrowhead": 0,
           "arrowwidth": 1
          },
          "autotypenumbers": "strict",
          "coloraxis": {
           "colorbar": {
            "outlinewidth": 0,
            "ticks": ""
           }
          },
          "colorscale": {
           "diverging": [
            [
             0,
             "#8e0152"
            ],
            [
             0.1,
             "#c51b7d"
            ],
            [
             0.2,
             "#de77ae"
            ],
            [
             0.3,
             "#f1b6da"
            ],
            [
             0.4,
             "#fde0ef"
            ],
            [
             0.5,
             "#f7f7f7"
            ],
            [
             0.6,
             "#e6f5d0"
            ],
            [
             0.7,
             "#b8e186"
            ],
            [
             0.8,
             "#7fbc41"
            ],
            [
             0.9,
             "#4d9221"
            ],
            [
             1,
             "#276419"
            ]
           ],
           "sequential": [
            [
             0,
             "#0d0887"
            ],
            [
             0.1111111111111111,
             "#46039f"
            ],
            [
             0.2222222222222222,
             "#7201a8"
            ],
            [
             0.3333333333333333,
             "#9c179e"
            ],
            [
             0.4444444444444444,
             "#bd3786"
            ],
            [
             0.5555555555555556,
             "#d8576b"
            ],
            [
             0.6666666666666666,
             "#ed7953"
            ],
            [
             0.7777777777777778,
             "#fb9f3a"
            ],
            [
             0.8888888888888888,
             "#fdca26"
            ],
            [
             1,
             "#f0f921"
            ]
           ],
           "sequentialminus": [
            [
             0,
             "#0d0887"
            ],
            [
             0.1111111111111111,
             "#46039f"
            ],
            [
             0.2222222222222222,
             "#7201a8"
            ],
            [
             0.3333333333333333,
             "#9c179e"
            ],
            [
             0.4444444444444444,
             "#bd3786"
            ],
            [
             0.5555555555555556,
             "#d8576b"
            ],
            [
             0.6666666666666666,
             "#ed7953"
            ],
            [
             0.7777777777777778,
             "#fb9f3a"
            ],
            [
             0.8888888888888888,
             "#fdca26"
            ],
            [
             1,
             "#f0f921"
            ]
           ]
          },
          "colorway": [
           "#636efa",
           "#EF553B",
           "#00cc96",
           "#ab63fa",
           "#FFA15A",
           "#19d3f3",
           "#FF6692",
           "#B6E880",
           "#FF97FF",
           "#FECB52"
          ],
          "font": {
           "color": "#2a3f5f"
          },
          "geo": {
           "bgcolor": "white",
           "lakecolor": "white",
           "landcolor": "#E5ECF6",
           "showlakes": true,
           "showland": true,
           "subunitcolor": "white"
          },
          "hoverlabel": {
           "align": "left"
          },
          "hovermode": "closest",
          "mapbox": {
           "style": "light"
          },
          "paper_bgcolor": "white",
          "plot_bgcolor": "#E5ECF6",
          "polar": {
           "angularaxis": {
            "gridcolor": "white",
            "linecolor": "white",
            "ticks": ""
           },
           "bgcolor": "#E5ECF6",
           "radialaxis": {
            "gridcolor": "white",
            "linecolor": "white",
            "ticks": ""
           }
          },
          "scene": {
           "xaxis": {
            "backgroundcolor": "#E5ECF6",
            "gridcolor": "white",
            "gridwidth": 2,
            "linecolor": "white",
            "showbackground": true,
            "ticks": "",
            "zerolinecolor": "white"
           },
           "yaxis": {
            "backgroundcolor": "#E5ECF6",
            "gridcolor": "white",
            "gridwidth": 2,
            "linecolor": "white",
            "showbackground": true,
            "ticks": "",
            "zerolinecolor": "white"
           },
           "zaxis": {
            "backgroundcolor": "#E5ECF6",
            "gridcolor": "white",
            "gridwidth": 2,
            "linecolor": "white",
            "showbackground": true,
            "ticks": "",
            "zerolinecolor": "white"
           }
          },
          "shapedefaults": {
           "line": {
            "color": "#2a3f5f"
           }
          },
          "ternary": {
           "aaxis": {
            "gridcolor": "white",
            "linecolor": "white",
            "ticks": ""
           },
           "baxis": {
            "gridcolor": "white",
            "linecolor": "white",
            "ticks": ""
           },
           "bgcolor": "#E5ECF6",
           "caxis": {
            "gridcolor": "white",
            "linecolor": "white",
            "ticks": ""
           }
          },
          "title": {
           "x": 0.05
          },
          "xaxis": {
           "automargin": true,
           "gridcolor": "white",
           "linecolor": "white",
           "ticks": "",
           "title": {
            "standoff": 15
           },
           "zerolinecolor": "white",
           "zerolinewidth": 2
          },
          "yaxis": {
           "automargin": true,
           "gridcolor": "white",
           "linecolor": "white",
           "ticks": "",
           "title": {
            "standoff": 15
           },
           "zerolinecolor": "white",
           "zerolinewidth": 2
          }
         }
        },
        "title": {
         "text": "NA Sale Document Corpus"
        },
        "xaxis": {
         "anchor": "y",
         "domain": [
          0,
          1
         ],
         "title": {
          "text": ""
         }
        },
        "yaxis": {
         "anchor": "x",
         "domain": [
          0,
          1
         ],
         "title": {
          "text": ""
         }
        }
       }
      },
      "text/html": [
       "<div>                            <div id=\"c2712ef3-d85a-4b21-8d41-a8bf183f466a\" class=\"plotly-graph-div\" style=\"height:525px; width:100%;\"></div>            <script type=\"text/javascript\">                require([\"plotly\"], function(Plotly) {                    window.PLOTLYENV=window.PLOTLYENV || {};                                    if (document.getElementById(\"c2712ef3-d85a-4b21-8d41-a8bf183f466a\")) {                    Plotly.newPlot(                        \"c2712ef3-d85a-4b21-8d41-a8bf183f466a\",                        [{\"customdata\":[[\"sales document (plot)\",\"saa06\",\"Sargonid period\",\"P336192\",38,119],[\"sales document (plot)\",\"saa06\",\"Sargonid period\",\"P335413\",88,168],[\"sales document\",\"saa06\",\"Sargonid period\",\"P335414\",30,120],[\"sales document (person)\",\"saa06\",\"Sargonid period\",\"P335444\",38,99],[\"sales document (field, person)\",\"saa14\",\"Ashurbanipal\",\"P335443\",9,70],[\"sales document\",\"saa06\",\"Sargonid period\",\"P335442\",20,73],[\"sales document (person)\",\"saa06\",\"Sargonid period\",\"P335441\",56,77],[\"sales document\",\"saa06\",\"Sargonid period\",\"P335440\",20,59],[\"sales document (person)\",\"saa06\",\"Sargonid period\",\"P335439\",23,61],[\"sales document\",\"saa14\",\"post-canonical\",\"P335438\",104,173],[\"sales document (person)\",\"saa06\",\"Sargonid period\",\"P335437\",33,114],[\"sales document\",\"saa14\",\"post-canonical\",\"P335436\",38,116],[\"sales document (person)\",\"saa06\",\"8th century\",\"P335435\",9,34],[\"sales document (plot)\",\"saa14\",\"post-canonical\",\"P335434\",14,52],[\"sales document\",\"saa14\",\"post-canonical\",\"P335433\",33,64],[\"sales document\",\"saa14\",\"Ashurbanipal\",\"P335432\",22,36],[\"sales document\",\"saa06\",\"Sargonid period\",\"P335431\",42,71],[\"sales document\",\"saa06\",\"Sargonid period\",\"P335445\",47,85],[\"sales document (person)\",\"saa06\",\"8th century\",\"P335430\",50,91],[\"sales document (garden)\",\"saa06\",\"Sargonid period\",\"P335427\",20,44],[\"sales document\",\"saa14\",\"post-canonical\",\"P335426\",7,36],[\"sales document (person)\",\"saa06\",\"8th century\",\"P335425\",21,35],[\"sales document\",\"saa14\",\"post-canonical\",\"P335424\",35,110],[\"sales document (plot)\",\"saa06\",\"Sargonid period\",\"P335423\",20,118],[\"sales document\",\"saa14\",\"post-canonical\",\"P335422\",12,47],[\"sales document\",\"saa14\",\"post-canonical\",\"P335420\",60,111],[\"sales document (person)\",\"saa06\",\"8th century\",\"P335419\",26,54],[\"sales document\",\"saa14\",\"post-canonical\",\"P335418\",17,82],[\"sales document (plot)\",\"saa06\",\"Sargonid period\",\"P335412\",64,215],[\"sales document\",\"saa14\",\"post-canonical\",\"P335417\",28,54],[\"sales document\",\"saa14\",\"post-canonical\",\"P335428\",8,40],[\"sales document (house)\",\"saa14\",\"Ashurbanipal\",\"P335411\",66,164],[\"sales document\",\"saa14\",\"post-canonical\",\"P335485\",4,33],[\"sales document (person)\",\"saa06\",\"Sargonid period\",\"P335446\",36,67],[\"sales document (person)\",\"saa14\",\"post-canonical\",\"P335447\",32,64],[\"sales document (house)\",\"saa14\",\"post-canonical\",\"P335448\",40,120],[\"sales document (person)\",\"saa14\",\"post-canonical\",\"P335499\",17,96],[\"sales document\",\"saa14\",\"post-canonical\",\"P335498\",21,96],[\"sales document\",\"saa06\",\"Ashurbanipal\",\"P335497\",10,40],[\"sales document (person)\",\"saa06\",\"Sargonid period\",\"P335496\",24,146],[\"sales document\",\"saa06\",\"Sargonid period\",\"P335495\",28,48],[\"sales document\",\"saa14\",\"post-canonical\",\"P335492\",7,52],[\"sales document\",\"saa14\",\"post-canonical\",\"P335491\",6,25],[\"sales document\",\"saa14\",\"post-canonical\",\"P335490\",13,64],[\"sales document\",\"saa14\",\"post-canonical\",\"P335488\",19,61],[\"sales document\",\"saa14\",\"post-canonical\",\"P335487\",12,28],[\"sales document\",\"saa14\",\"post-canonical\",\"P335483\",11,61],[\"sales document (plot)\",\"saa14\",\"post-canonical\",\"P335460\",29,100],[\"sales document\",\"saa14\",\"post-canonical\",\"P335481\",10,25],[\"sales document\",\"saa14\",\"post-canonical\",\"P335479\",9,121],[\"sales document\",\"saa14\",\"post-canonical\",\"P335478\",7,53],[\"sales document\",\"saa14\",\"post-canonical\",\"P335477\",22,112],[\"sales document\",\"saa14\",\"post-canonical\",\"P335471\",11,46],[\"sales document (field)\",\"saa14\",\"post-canonical\",\"P335450\",22,57],[\"sales document (garden)\",\"saa14\",\"post-canonical\",\"P335451\",20,82],[\"sales document (plot)\",\"saa06\",\"Ashurbanipal\",\"P335452\",9,28],[\"sales document (plot)\",\"saa14\",\"post-canonical\",\"P335453\",5,36],[\"sales document (house)\",\"saa14\",\"post-canonical\",\"P335454\",21,56],[\"sales document\",\"saa06\",\"Sargonid period\",\"P335455\",8,60],[\"sales document (plot)\",\"saa06\",\"Sargonid period\",\"P335456\",35,144],[\"sales document\",\"saa06\",\"Sargonid period\",\"P335416\",84,126],[\"sales document (plot)\",\"saa14\",\"post-canonical\",\"P335458\",15,114],[\"sales document (plot)\",\"saa14\",\"post-canonical\",\"P335461\",13,59],[\"sales document (plot)\",\"saa14\",\"post-canonical\",\"P335350\",23,40],[\"sales document (plot)\",\"saa14\",\"8th century\",\"P335463\",20,31],[\"sales document (person)\",\"saa14\",\"Ashurbanipal\",\"P335467\",62,87],[\"sales document (plot)\",\"saa14\",\"post-canonical\",\"P335457\",36,128],[\"sales document\",\"saa14\",\"Ashurbanipal\",\"P335500\",5,56],[\"sales document (house)\",\"saa06\",\"Ashurbanipal\",\"P335410\",180,275],[\"sales document (house)\",\"saa06\",\"Sargonid period\",\"P335408\",140,425],[\"sales document (house)\",\"saa06\",\"Sargonid period\",\"P335371\",91,165],[\"sales document (garden)\",\"saa06\",\"Sargonid period\",\"P335370\",100,130],[\"sales document (field, person)\",\"saa14\",\"post-canonical\",\"P335369\",55,164],[\"sales document (plot)\",\"saa06\",\"Sargonid period\",\"P335368\",185,298],[\"sales document (person)\",\"saa06\",\"Ashurbanipal\",\"P335367\",36,178],[\"sales document (field, person)\",\"saa06\",\"Sargonid period\",\"P335366\",44,75],[\"sales document (field, person)\",\"saa06\",\"Sargonid period\",\"P335365\",59,132],[\"sales document (field, person)\",\"saa06\",\"Ashurbanipal\",\"P335364\",35,94],[\"sales document (field, person)\",\"saa06\",\"Ashurbanipal\",\"P335363\",63,98],[\"sales document (plot)\",\"saa14\",\"post-canonical\",\"P337155\",240,267],[\"sales document (plot)\",\"saa06\",\"Ashurbanipal\",\"P335361\",153,247],[\"sales document (field, person)\",\"saa14\",\"post-canonical\",\"P335360\",65,81],[\"sales document (house)\",\"saa06\",\"Sargonid period\",\"P335359\",77,93],[\"sales document (house)\",\"saa06\",\"8th century\",\"P335358\",85,136],[\"sales document (plot)\",\"saa06\",\"Ashurbanipal\",\"P335372\",110,522],[\"sales document (plot)\",\"saa14\",\"post-canonical\",\"P335357\",340,400],[\"sales document (plot)\",\"saa06\",\"Sargonid period\",\"P335949\",127,175],[\"sales document (plot)\",\"saa14\",\"post-canonical\",\"P335354\",30,65],[\"sales document (house)\",\"saa14\",\"post-canonical\",\"P335353\",33,121],[\"sales document (plot)\",\"saa14\",\"post-canonical\",\"P335352\",32,89],[\"sales document (plot)\",\"saa14\",\"post-canonical\",\"P335349\",48,59],[\"sales document (plot)\",\"saa06\",\"Sargonid period\",\"P335348\",41,78],[\"sales document (house)\",\"saa06\",\"Sargonid period\",\"P335347\",53,89],[\"sales document (plot)\",\"saa06\",\"Sargonid period\",\"P335377\",85,188],[\"sales document (plot)\",\"saa14\",\"post-canonical\",\"P335378\",48,203],[\"sales document (garden)\",\"saa06\",\"Sargonid period\",\"P335403\",15,98],[\"sales document (plot)\",\"saa14\",\"post-canonical\",\"P335346\",20,72],[\"sales document (plot)\",\"saa14\",\"post-canonical\",\"P335345\",18,51],[\"sales document (plot)\",\"saa14\",\"post-canonical\",\"P335344\",17,41],[\"sales document (plot)\",\"saa14\",\"post-canonical\",\"P335343\",87,124],[\"sales document (plot)\",\"saa14\",\"Ashurbanipal\",\"P335342\",17,94],[\"sales document (plot)\",\"saa14\",\"post-canonical\",\"P335356\",86,155],[\"sales document (house)\",\"saa06\",\"Sargonid period\",\"P335373\",32,53],[\"sales document (house)\",\"saa06\",\"Sargonid period\",\"P335374\",27,184],[\"sales document (plot)\",\"saa06\",\"Sargonid period\",\"P335375\",18,141],[\"sales document (garden)\",\"saa06\",\"Sargonid period\",\"P335407\",66,162],[\"sales document (garden)\",\"saa14\",\"post-canonical\",\"P335406\",27,117],[\"sales document (house)\",\"saa06\",\"Sargonid period\",\"P335379\",77,157],[\"sales document (garden)\",\"saa14\",\"post-canonical\",\"P335405\",12,50],[\"sales document (field, person)\",\"saa06\",\"Sargonid period\",\"P335402\",37,205],[\"sales document (plot)\",\"saa14\",\"post-canonical\",\"P335462\",27,69],[\"sales document (house)\",\"saa06\",\"Sargonid period\",\"P335401\",41,79],[\"sales document (field, person)\",\"saa14\",\"post-canonical\",\"P335399\",16,167],[\"sales document (field, person)\",\"saa14\",\"post-canonical\",\"P335398\",15,45],[\"sales document (plot)\",\"saa06\",\"Sargonid period\",\"P335397\",26,131],[\"sales document (field, person)\",\"saa06\",\"Sargonid period\",\"P335396\",13,100],[\"sales document (field, person)\",\"saa06\",\"Sargonid period\",\"P335395\",11,25],[\"sales document (field, person)\",\"saa14\",\"Ashurbanipal\",\"P335393\",26,68],[\"sales document (plot)\",\"saa06\",\"Ashurbanipal\",\"P335392\",10,33],[\"sales document (person)\",\"saa14\",\"post-canonical\",\"P335391\",35,98],[\"sales document (field, person)\",\"saa14\",\"post-canonical\",\"P335390\",11,45],[\"sales document (field, person)\",\"saa06\",\"Ashurbanipal\",\"P335376\",62,139],[\"sales document (house)\",\"saa14\",\"post-canonical\",\"P335404\",93,146],[\"sales document (plot)\",\"saa06\",\"Ashurbanipal\",\"P335351\",47,140],[\"sales document (plot)\",\"saa06\",\"8th century\",\"P335355\",76,98],[\"sales document (plot)\",\"saa14\",\"post-canonical\",\"P335539\",152,178],[\"sales document\",\"saa14\",\"post-canonical\",\"P336034\",13,83],[\"sales document\",\"saa14\",\"post-canonical\",\"P336750\",4,16],[\"sales document (house)\",\"saa06\",\"Ashurbanipal\",\"P335409\",143,154],[\"sales document (plot)\",\"saa06\",\"Ashurbanipal\",\"P335382\",24,114],[\"sales document (field, person)\",\"saa06\",\"Sargonid period\",\"P335384\",47,127],[\"sales document (garden)\",\"saa06\",\"Ashurbanipal\",\"P335385\",144,179],[\"sales document (garden)\",\"saa06\",\"Ashurbanipal\",\"P335386\",34,105],[\"sales document (field, person)\",\"saa14\",\"post-canonical\",\"P335387\",211,211],[\"sales document (field, person)\",\"saa06\",\"Sargonid period\",\"P335388\",110,144],[\"sales document (house)\",\"saa06\",\"Ashurbanipal\",\"P335389\",124,289],[\"sales document (field, person)\",\"saa06\",\"Sargonid period\",\"P335383\",19,109],[\"sales document\",\"saa06\",\"Sargonid period\",\"P335501\",13,67],[\"sales document (person)\",\"saa14\",\"post-canonical\",\"P335502\",25,57],[\"sales document (plot)\",\"saa14\",\"post-canonical\",\"P336036\",8,44],[\"sales document (plot)\",\"saa14\",\"post-canonical\",\"P336032\",6,36],[\"sales document\",\"saa14\",\"post-canonical\",\"P335999\",3,33],[\"sales document (plot)\",\"saa14\",\"Ashurbanipal\",\"P336031\",28,129],[\"sales document\",\"saa14\",\"post-canonical\",\"P336028\",10,20],[\"sales document\",\"saa14\",\"post-canonical\",\"P336027\",4,22],[\"sales document (house)\",\"saa14\",\"post-canonical\",\"P336026\",10,32],[\"sales document\",\"saa14\",\"post-canonical\",\"P336025\",8,38],[\"sales document (plot)\",\"saa14\",\"post-canonical\",\"P336023\",8,48],[\"sales document (plot)\",\"saa14\",\"post-canonical\",\"P336020\",8,19],[\"sales document (plot)\",\"saa14\",\"post-canonical\",\"P336018\",7,62],[\"lease document (field)\",\"saa14\",\"post-canonical\",\"P336014\",13,45],[\"sales document (inheritance)\",\"saa14\",\"Ashurbanipal\",\"P336013\",56,83],[\"sales document (plot)\",\"saa14\",\"8th century\",\"P336005\",74,195],[\"sales document (person)\",\"saa14\",\"post-canonical\",\"P335995\",17,75],[\"sales document (house)\",\"saa14\",\"post-canonical\",\"P336189\",44,126],[\"sales document\",\"saa14\",\"post-canonical\",\"P335503\",18,99],[\"sales document\",\"saa14\",\"post-canonical\",\"P336754\",9,36],[\"sales document (plot)\",\"saa06\",\"Sargonid period\",\"P336003\",28,75],[\"sales document (person)\",\"saa14\",\"Ashurbanipal\",\"P335963\",16,37],[\"sales document\",\"saa14\",\"post-canonical\",\"P335964\",8,56],[\"sales document (plot)\",\"saa14\",\"post-canonical\",\"P335965\",148,264],[\"sales document (house)\",\"saa06\",\"Ashurbanipal\",\"P335969\",40,145],[\"sales document (plot)\",\"saa14\",\"post-canonical\",\"P335984\",4,43],[\"sales document (person)\",\"saa06\",\"Sargonid period\",\"P335974\",129,150],[\"sales document (plot)\",\"saa14\",\"Sargonid period\",\"P335975\",81,148],[\"sales document (house)\",\"saa06\",\"Sargonid period\",\"P335976\",162,278],[\"sales document\",\"saa14\",\"Ashurbanipal\",\"P335977\",5,17],[\"sales document (plot)\",\"saa14\",\"post-canonical\",\"P336191\",19,159],[\"sales document (plot)\",\"saa14\",\"post-canonical\",\"P335982\",13,68],[\"sales document (house)\",\"saa14\",\"Ashurbanipal\",\"P336190\",33,41],[\"sales document (inheritance)\",\"saa14\",\"Ashurbanipal\",\"P451453\",51,51],[\"sales document\",\"saa14\",\"post-canonical\",\"P336193\",32,132],[\"sales document (person)\",\"saa14\",\"Ashurbanipal\",\"P337156\",99,219],[\"sales document (plot)\",\"saa14\",\"Ashurbanipal\",\"P337162\",41,103],[\"sales document\",\"saa14\",\"post-canonical\",\"P337166\",29,85],[\"lease document (field)\",\"saa14\",\"post-canonical\",\"P337172\",58,65],[\"sales document (house)\",\"saa14\",\"Ashurbanipal\",\"P418948\",22,97],[\"sales document\",\"saa14\",\"post-canonical\",\"P424910\",10,30],[\"sales document (plot)\",\"saa14\",\"post-canonical\",\"P336766\",5,74],[\"sales document (plot)\",\"saa14\",\"post-canonical\",\"P336763\",12,123],[\"sales document\",\"saa14\",\"post-canonical\",\"P336759\",10,70],[\"sales document (person)\",\"saa14\",\"post-canonical\",\"P336758\",5,43],[\"sales document\",\"saa14\",\"post-canonical\",\"P336757\",7,54],[\"sales document (plot)\",\"saa14\",\"post-canonical\",\"P335986\",13,68],[\"sales document (field, person)\",\"saa14\",\"post-canonical\",\"P335985\",31,120],[\"sales document (person)\",\"saa14\",\"Ashurbanipal\",\"P336004\",58,82],[\"sales document (plot)\",\"saa14\",\"post-canonical\",\"P336751\",7,24],[\"sales document\",\"saa14\",\"post-canonical\",\"P335504\",8,93],[\"lease document (field)\",\"saa14\",\"Ashurbanipal\",\"P335538\",87,87],[\"sales document (house)\",\"saa14\",\"post-canonical\",\"P336195\",45,125],[\"sales document (house)\",\"saa14\",\"post-canonical\",\"P336197\",42,120],[\"sales document\",\"saa06\",\"Sargonid period\",\"P336198\",6,55],[\"sales document (person)\",\"saa06\",\"Sargonid period\",\"P336200\",14,26],[\"sales document (plot)\",\"saa14\",\"post-canonical\",\"P336247\",84,91],[\"sales document (plot)\",\"saa06\",\"Ashurbanipal\",\"P336637\",7,59],[\"sales document\",\"saa14\",\"post-canonical\",\"P335962\",21,67],[\"sales document\",\"saa14\",\"post-canonical\",\"P336738\",10,130],[\"sales document\",\"saa14\",\"post-canonical\",\"P336741\",12,162],[\"sales document (house)\",\"saa14\",\"post-canonical\",\"P336742\",12,82],[\"sales document (plot)\",\"saa14\",\"post-canonical\",\"P336743\",3,34],[\"sales document (person)\",\"saa14\",\"post-canonical\",\"P336744\",7,52],[\"sales document (field, person)\",\"saa14\",\"post-canonical\",\"P336745\",12,109],[\"sales document (person)\",\"saa14\",\"post-canonical\",\"P336746\",10,23],[\"sales document (house)\",\"saa14\",\"Ashurbanipal\",\"P336739\",71,167],[\"sales document (house)\",\"saa14\",\"post-canonical\",\"P335961\",41,87],[\"sales document (plot)\",\"saa06\",\"Sargonid period\",\"P335960\",21,55],[\"sales document (house)\",\"saa06\",\"Sargonid period\",\"P335959\",57,99],[\"lease document (field)\",\"saa14\",\"post-canonical\",\"P335548\",13,67],[\"sales document\",\"saa06\",\"Sargonid period\",\"P335547\",21,116],[\"sales document (plot)\",\"saa06\",\"Sargonid period\",\"P335546\",32,46],[\"sales document (house)\",\"saa06\",\"Sargonid period\",\"P335544\",74,148],[\"lease document (field)\",\"saa14\",\"Ashurbanipal\",\"P335543\",68,75],[\"sales document (house)\",\"saa14\",\"Ashurbanipal\",\"P335542\",56,105],[\"sales document (house)\",\"saa06\",\"Sargonid period\",\"P335541\",121,145],[\"sales document (house)\",\"saa06\",\"Sargonid period\",\"P335540\",86,112],[\"sales document (plot)\",\"saa14\",\"post-canonical\",\"P336748\",11,43],[\"sales document (plot)\",\"saa14\",\"post-canonical\",\"P335537\",130,133],[\"sales document (house)\",\"saa06\",\"Sargonid period\",\"P335534\",14,53],[\"lease document (field)\",\"saa14\",\"post-canonical\",\"P335951\",48,99],[\"sales document\",\"saa14\",\"post-canonical\",\"P336749\",9,35],[\"sales document (field, person)\",\"saa14\",\"post-canonical\",\"P335536\",83,94],[\"sales document (person)\",\"saa06\",\"Sargonid period\",\"P335533\",34,102],[\"sales document (person)\",\"saa06\",\"Sargonid period\",\"P335531\",11,73],[\"sales document (plot)\",\"saa14\",\"post-canonical\",\"P335530\",51,69],[\"sales document\",\"saa06\",\"Sargonid period\",\"P335529\",51,80],[\"sales document (house)\",\"saa06\",\"Sargonid period\",\"P335380\",13,57],[\"sales document\",\"saa14\",\"post-canonical\",\"P335505\",9,35],[\"sales document\",\"saa14\",\"post-canonical\",\"P335507\",13,56],[\"sales document\",\"saa14\",\"Ashurbanipal\",\"P335508\",9,90],[\"sales document\",\"saa14\",\"post-canonical\",\"P335509\",24,117],[\"sales document\",\"saa06\",\"Sargonid period\",\"P335510\",6,42],[\"sales document (plot)\",\"saa14\",\"post-canonical\",\"P335552\",6,22],[\"sales document (house)\",\"saa14\",\"post-canonical\",\"P335381\",16,128],[\"sales document\",\"saa14\",\"post-canonical\",\"P335511\",13,78],[\"sales document\",\"saa06\",\"Sargonid period\",\"P335515\",14,84],[\"sales document\",\"saa06\",\"Ashurbanipal\",\"P335516\",16,64],[\"sales document (plot)\",\"saa14\",\"post-canonical\",\"P335517\",11,122],[\"sales document\",\"saa14\",\"post-canonical\",\"P335518\",34,43],[\"sales document (plot)\",\"saa14\",\"post-canonical\",\"P335527\",28,90],[\"sales document\",\"saa14\",\"post-canonical\",\"P335512\",7,33],[\"sales document (plot)\",\"saa14\",\"post-canonical\",\"P335341\",51,139],[\"sales document (house)\",\"saa06\",\"Sargonid period\",\"P335556\",71,156],[\"sales document (person)\",\"saa14\",\"post-canonical\",\"P335591\",15,51],[\"sales document (plot)\",\"saa06\",\"8th century\",\"P335957\",73,104],[\"sales document (plot)\",\"saa14\",\"post-canonical\",\"P335956\",42,186],[\"sales document (person)\",\"saa14\",\"post-canonical\",\"P335953\",14,52],[\"sales document (person)\",\"saa06\",\"Sargonid period\",\"P335952\",69,103],[\"sales document\",\"saa14\",\"post-canonical\",\"P335514\",10,77],[\"sales document (field, person)\",\"saa14\",\"post-canonical\",\"P335950\",72,218],[\"sales document (house)\",\"saa06\",\"Sargonid period\",\"P335394\",37,133],[\"sales document\",\"saa14\",\"post-canonical\",\"P335948\",31,119],[\"sales document (person)\",\"saa06\",\"Sargonid period\",\"P335186\",62,147],[\"sales document\",\"saa14\",\"Ashurbanipal\",\"P335944\",75,112],[\"sales document (person)\",\"saa06\",\"Sargonid period\",\"P335940\",59,78],[\"sales document (person)\",\"saa06\",\"Sargonid period\",\"P335939\",89,110],[\"sales document (person)\",\"saa06\",\"Sargonid period\",\"P335176\",51,52],[\"sales document\",\"saa06\",\"Ashurbanipal\",\"P335937\",59,121],[\"sales document (house)\",\"saa06\",\"Ashurbanipal\",\"P335935\",79,173],[\"sales document (house)\",\"saa06\",\"Sargonid period\",\"P335934\",68,120],[\"sales document\",\"saa14\",\"post-canonical\",\"P335654\",44,77],[\"sales document\",\"saa14\",\"post-canonical\",\"P335595\",8,38],[\"sales document (plot)\",\"saa14\",\"post-canonical\",\"P335596\",9,37],[\"sales document (person)\",\"saa06\",\"Sargonid period\",\"P335597\",11,54],[\"sales document (person)\",\"saa14\",\"Ashurbanipal\",\"P335599\",14,53],[\"sales document\",\"saa14\",\"post-canonical\",\"P335601\",10,28],[\"sales document\",\"saa14\",\"post-canonical\",\"P335602\",5,18],[\"sales document (field)\",\"saa14\",\"post-canonical\",\"P335584\",37,51],[\"sales document (garden)\",\"saa14\",\"post-canonical\",\"P335615\",5,47],[\"sales document\",\"saa14\",\"post-canonical\",\"P335641\",7,54],[\"sales document\",\"saa14\",\"post-canonical\",\"P335642\",5,15],[\"sales document (person)\",\"saa14\",\"post-canonical\",\"P335643\",12,104],[\"sales document\",\"saa14\",\"post-canonical\",\"P335647\",5,25],[\"sales document (person)\",\"saa06\",\"Ashurbanipal\",\"P335652\",36,119],[\"sales document (plot)\",\"saa06\",\"Sargonid period\",\"P335653\",71,197],[\"sales document\",\"saa14\",\"post-canonical\",\"P335636\",5,30],[\"sales document (plot)\",\"saa14\",\"post-canonical\",\"P335340\",27,69],[\"sales document (house)\",\"saa06\",\"Ashurbanipal\",\"P335362\",80,190],[\"sales document (plot)\",\"saa06\",\"Sargonid period\",\"P335338\",66,259],[\"sales document (person)\",\"saa06\",\"Sargonid period\",\"P335185\",111,155],[\"sales document (person)\",\"saa06\",\"Ashurbanipal\",\"P335184\",107,121],[\"sales document (person)\",\"saa06\",\"Sargonid period\",\"P335183\",64,95],[\"sales document (person)\",\"saa06\",\"Sargonid period\",\"P335211\",49,61],[\"sales document (plot)\",\"saa06\",\"8th century\",\"P335339\",22,70],[\"sales document (person)\",\"saa14\",\"post-canonical\",\"P335182\",112,126],[\"sales document (person)\",\"saa06\",\"Sargonid period\",\"P335181\",110,119],[\"sales document (person)\",\"saa06\",\"Sargonid period\",\"P335179\",81,90],[\"sales document (person)\",\"saa06\",\"Sargonid period\",\"P335178\",99,100],[\"sales document (person)\",\"saa06\",\"Sargonid period\",\"P335177\",111,112],[\"sales document (person)\",\"saa06\",\"Sargonid period\",\"P335175\",24,41],[\"sales document (person)\",\"saa06\",\"Sargonid period\",\"P335174\",34,49],[\"sales document (person)\",\"saa06\",\"Sargonid period\",\"P335173\",12,32],[\"sales document (person)\",\"saa06\",\"Sargonid period\",\"P335172\",34,60],[\"sales document (person)\",\"saa14\",\"post-canonical\",\"P335171\",12,64],[\"sales document (person)\",\"saa06\",\"Sargonid period\",\"P335170\",25,64],[\"sales document (person)\",\"saa06\",\"Sargonid period\",\"P335169\",33,42],[\"sales document (person)\",\"saa06\",\"Sargonid period\",\"P335187\",49,135],[\"sales document (person)\",\"saa14\",\"post-canonical\",\"P335168\",19,76],[\"sales document (person)\",\"saa06\",\"Sargonid period\",\"P335145\",53,85],[\"sales document (person)\",\"saa06\",\"Sargonid period\",\"P335165\",50,61],[\"sales document (person)\",\"saa14\",\"post-canonical\",\"P335164\",37,52],[\"sales document (person)\",\"saa06\",\"Sargonid period\",\"P335188\",69,146],[\"sales document (person)\",\"saa06\",\"Sargonid period\",\"P335189\",91,110],[\"sales document (person)\",\"saa06\",\"Sargonid period\",\"P335190\",59,125],[\"sales document (person)\",\"saa06\",\"Sargonid period\",\"P335191\",154,209],[\"sales document (person)\",\"saa06\",\"Ashurbanipal\",\"P335217\",23,60],[\"sales document (person)\",\"saa06\",\"Sargonid period\",\"P335216\",34,68],[\"sales document (person)\",\"saa06\",\"Sargonid period\",\"P335215\",29,41],[\"sales document (person)\",\"saa14\",\"Ashurbanipal\",\"P335214\",32,102],[\"sales document (person)\",\"saa06\",\"Sargonid period\",\"P335213\",55,87],[\"sales document (person)\",\"saa14\",\"post-canonical\",\"P335212\",36,84],[\"sales document (person)\",\"saa14\",\"post-canonical\",\"P335166\",29,90],[\"sales document (plot)\",\"saa06\",\"Sargonid period\",\"P335946\",46,103],[\"sales document (person)\",\"saa06\",\"Sargonid period\",\"P335210\",85,104],[\"sales document (person)\",\"saa06\",\"Sargonid period\",\"P335208\",65,222],[\"sales document (person)\",\"saa14\",\"post-canonical\",\"P335163\",49,78],[\"sales document (person)\",\"saa14\",\"post-canonical\",\"P335206\",65,114],[\"sales document (person)\",\"saa06\",\"Sargonid period\",\"P335204\",70,156],[\"sales document (person)\",\"saa06\",\"Sargonid period\",\"P335203\",43,99],[\"sales document (person)\",\"saa06\",\"Sargonid period\",\"P335202\",81,134],[\"sales document (person)\",\"saa14\",\"Ashurbanipal\",\"P335201\",45,52],[\"sales document (person)\",\"saa06\",\"Sargonid period\",\"P335200\",52,139],[\"sales document (person)\",\"saa14\",\"post-canonical\",\"P335199\",48,139],[\"sales document (person)\",\"saa06\",\"Sargonid period\",\"P335198\",38,79],[\"sales document (person)\",\"saa06\",\"Sargonid period\",\"P335195\",95,127],[\"sales document (person)\",\"saa06\",\"Ashurbanipal\",\"P335194\",73,184],[\"sales document (person)\",\"saa06\",\"Sargonid period\",\"P335193\",102,139],[\"sales document (person)\",\"saa06\",\"Sargonid period\",\"P335192\",71,85],[\"sales document (person)\",\"saa06\",\"Ashurbanipal\",\"P335205\",34,72],[\"sales document (person)\",\"saa06\",\"Sargonid period\",\"P335162\",74,92],[\"sales document (person)\",\"saa14\",\"Ashurbanipal\",\"P335161\",59,105],[\"sales document (person)\",\"saa06\",\"Sargonid period\",\"P335160\",44,81],[\"sales document (person)\",\"saa06\",\"8th century\",\"P335130\",64,141],[\"sales document (person)\",\"saa06\",\"Sargonid period\",\"P335129\",58,78],[\"sales document (person)\",\"saa06\",\"Sargonid period\",\"P335128\",54,69],[\"sales document (person)\",\"saa14\",\"Ashurbanipal\",\"P335127\",45,105],[\"sales document (person)\",\"saa06\",\"Sargonid period\",\"P335125\",79,119],[\"sales document (person)\",\"saa06\",\"Ashurbanipal\",\"P335124\",46,90],[\"sales document (person)\",\"saa14\",\"Ashurbanipal\",\"P335123\",85,128],[\"sales document (person)\",\"saa06\",\"Sargonid period\",\"P335122\",99,141],[\"sales document\",\"saa06\",\"Sargonid period\",\"P335109\",13,54],[\"sales document (person)\",\"saa06\",\"Sargonid period\",\"P335051\",39,39],[\"sales document\",\"saa14\",\"Ashurbanipal\",\"P335038\",14,31],[\"sales document (person)\",\"saa14\",\"Ashurbanipal\",\"P335207\",106,129],[\"sales document (person)\",\"saa06\",\"Sargonid period\",\"P335131\",79,151],[\"lease document (field)\",\"saa06\",\"Sargonid period\",\"P335022\",58,101],[\"sales document (person)\",\"saa06\",\"8th century\",\"P335027\",46,258],[\"sales document (person)\",\"saa06\",\"Sargonid period\",\"P335011\",114,135],[\"lease document (field)\",\"saa14\",\"post-canonical\",\"P334990\",46,46],[\"sales document (person)\",\"saa06\",\"8th century\",\"P240189\",16,19],[\"sales document (person)\",\"saa06\",\"Sargonid period\",\"P237807\",38,48],[\"sales document\",\"saa14\",\"Ashurbanipal\",\"P224977\",15,78],[\"lease document (field)\",\"saa14\",\"Ashurbanipal\",\"P224976\",69,211],[\"sales document\",\"saa14\",\"Ashurbanipal\",\"P224975\",40,91],[\"sales document (person)\",\"saa14\",\"Ashurbanipal\",\"P224957\",87,139],[\"sales document (person)\",\"saa14\",\"post-canonical\",\"P224956\",60,108],[\"sales document (person)\",\"saa14\",\"post-canonical\",\"P224946\",113,134],[\"sales document (field)\",\"saa06\",\"Sargonid period\",\"P335023\",18,76],[\"sales document (person)\",\"saa06\",\"Ashurbanipal\",\"P335218\",51,114],[\"sales document (person)\",\"saa06\",\"Sargonid period\",\"P335209\",68,133],[\"sales document (person)\",\"saa14\",\"Ashurbanipal\",\"P335132\",34,41],[\"sales document (person)\",\"saa06\",\"Sargonid period\",\"P335159\",47,119],[\"sales document (person)\",\"saa14\",\"post-canonical\",\"P335158\",101,144],[\"sales document (person)\",\"saa14\",\"post-canonical\",\"P335157\",95,149],[\"sales document (person)\",\"saa14\",\"Ashurbanipal\",\"P335156\",67,110],[\"sales document (person)\",\"saa14\",\"Ashurbanipal\",\"P335155\",102,157],[\"sales document (person)\",\"saa14\",\"Ashurbanipal\",\"P335153\",50,153],[\"sales document (person)\",\"saa14\",\"post-canonical\",\"P335152\",4,15],[\"sales document (person)\",\"saa14\",\"Ashurbanipal\",\"P335151\",25,29],[\"sales document (person)\",\"saa06\",\"Ashurbanipal\",\"P335150\",56,72],[\"sales document (person)\",\"saa06\",\"Sargonid period\",\"P335149\",20,52],[\"sales document (person)\",\"saa06\",\"Sargonid period\",\"P335148\",40,102],[\"sales document (person)\",\"saa06\",\"Sargonid period\",\"P335133\",65,106],[\"sales document (person)\",\"saa06\",\"Ashurbanipal\",\"P335147\",67,106],[\"sales document (person)\",\"saa14\",\"Ashurbanipal\",\"P335134\",37,96],[\"sales document (person)\",\"saa14\",\"Ashurbanipal\",\"P335144\",36,50],[\"sales document (plot)\",\"saa06\",\"8th century\",\"P335938\",83,85],[\"sales document (person)\",\"saa06\",\"Sargonid period\",\"P335223\",30,50],[\"sales document (plot)\",\"saa14\",\"post-canonical\",\"P335291\",10,88],[\"sales document (plot)\",\"saa14\",\"post-canonical\",\"P335292\",11,43],[\"sales document (person)\",\"saa14\",\"Ashurbanipal\",\"P335141\",19,47],[\"sales document (person)\",\"saa06\",\"Sargonid period\",\"P335140\",16,32],[\"sales document (person)\",\"saa14\",\"Ashurbanipal\",\"P335139\",28,81],[\"sales document (person)\",\"saa06\",\"Sargonid period\",\"P335138\",15,60],[\"sales document (person)\",\"saa06\",\"Sargonid period\",\"P335137\",48,86],[\"sales document (person)\",\"saa06\",\"Sargonid period\",\"P335136\",57,65],[\"sales document (person)\",\"saa06\",\"Ashurbanipal\",\"P335135\",56,75],[\"sales document (person)\",\"saa06\",\"Sargonid period\",\"P335146\",40,68],[\"sales document (person)\",\"saa06\",\"Sargonid period\",\"P335219\",20,69],[\"sales document (person)\",\"saa14\",\"post-canonical\",\"P335167\",16,45],[\"sales document (person)\",\"saa06\",\"Sargonid period\",\"P335221\",22,51],[\"sales document (garden)\",\"saa06\",\"Sargonid period\",\"P335309\",37,53],[\"sales document (garden)\",\"saa06\",\"Sargonid period\",\"P335308\",63,91],[\"sales document (garden)\",\"saa06\",\"Sargonid period\",\"P335307\",52,93],[\"sales document (garden)\",\"saa06\",\"Ashurbanipal\",\"P335306\",38,77],[\"sales document (garden)\",\"saa06\",\"Sargonid period\",\"P335304\",144,146],[\"sales document (garden)\",\"saa06\",\"Sargonid period\",\"P335303\",75,107],[\"sales document (plot)\",\"saa14\",\"Ashurbanipal\",\"P335302\",35,63],[\"sales document (house)\",\"saa14\",\"post-canonical\",\"P335301\",85,108],[\"sales document (plot)\",\"saa14\",\"post-canonical\",\"P335300\",41,51],[\"sales document (plot)\",\"saa14\",\"post-canonical\",\"P335299\",35,61],[\"sales document (plot)\",\"saa14\",\"post-canonical\",\"P335298\",55,102],[\"sales document (garden)\",\"saa06\",\"Sargonid period\",\"P335310\",19,47],[\"sales document (plot)\",\"saa06\",\"Sargonid period\",\"P335297\",18,41],[\"sales document (plot)\",\"saa14\",\"Ashurbanipal\",\"P335295\",47,77],[\"sales document (plot)\",\"saa14\",\"post-canonical\",\"P335290\",33,45],[\"sales document (plot)\",\"saa06\",\"Sargonid period\",\"P335294\",113,158],[\"sales document (house)\",\"saa14\",\"post-canonical\",\"P335289\",36,46],[\"sales document (house)\",\"saa06\",\"Sargonid period\",\"P335320\",69,134],[\"sales document (house)\",\"saa14\",\"post-canonical\",\"P335332\",43,63],[\"sales document (house)\",\"saa14\",\"post-canonical\",\"P335288\",23,36],[\"sales document (house)\",\"saa14\",\"post-canonical\",\"P335287\",32,41],[\"sales document (house)\",\"saa14\",\"Ashurbanipal\",\"P335286\",24,58],[\"sales document (house)\",\"saa14\",\"post-canonical\",\"P335285\",10,49],[\"sales document (plot)\",\"saa14\",\"post-canonical\",\"P335296\",43,120],[\"sales document (house)\",\"saa14\",\"Ashurbanipal\",\"P335284\",74,133],[\"sales document (garden)\",\"saa14\",\"post-canonical\",\"P335311\",8,36],[\"sales document (garden)\",\"saa06\",\"Sargonid period\",\"P335314\",23,37],[\"sales document (plot)\",\"saa06\",\"Sargonid period\",\"P335337\",35,133],[\"sales document (plot)\",\"saa06\",\"Sargonid period\",\"P335336\",51,83],[\"sales document (plot)\",\"saa06\",\"Sargonid period\",\"P335335\",110,223],[\"sales document (house)\",\"saa14\",\"post-canonical\",\"P335334\",36,152],[\"sales document (plot)\",\"saa14\",\"post-canonical\",\"P335333\",53,156],[\"sales document (person)\",\"saa06\",\"Sargonid period\",\"P335220\",30,68],[\"sales document (person)\",\"saa06\",\"Sargonid period\",\"P335143\",43,100],[\"sales document (house)\",\"saa14\",\"Ashurbanipal\",\"P335331\",37,72],[\"sales document (plot)\",\"saa14\",\"post-canonical\",\"P335330\",100,167],[\"sales document (house)\",\"saa14\",\"post-canonical\",\"P335329\",114,156],[\"sales document (plot)\",\"saa14\",\"Ashurbanipal\",\"P335328\",75,128],[\"sales document (garden)\",\"saa14\",\"post-canonical\",\"P335313\",4,17],[\"sales document (plot)\",\"saa06\",\"Sargonid period\",\"P335327\",116,116],[\"sales document (person)\",\"saa06\",\"Sargonid period\",\"P335142\",21,28],[\"sales document (plot)\",\"saa14\",\"post-canonical\",\"P335324\",24,65],[\"sales document (house)\",\"saa14\",\"Ashurbanipal\",\"P335323\",17,48],[\"sales document (plot)\",\"saa06\",\"Sargonid period\",\"P335322\",57,144],[\"sales document (plot)\",\"saa06\",\"Ashurbanipal\",\"P335321\",54,87],[\"sales document (plot)\",\"saa06\",\"Sargonid period\",\"P335319\",30,103],[\"sales document (house)\",\"saa14\",\"post-canonical\",\"P335293\",135,170],[\"sales document (house)\",\"saa06\",\"Sargonid period\",\"P335325\",19,112],[\"sales document (house)\",\"saa14\",\"Ashurbanipal\",\"P335317\",102,104],[\"sales document (garden)\",\"saa06\",\"Sargonid period\",\"P335315\",20,68],[\"sales document (person)\",\"saa14\",\"Ashurbanipal\",\"P335222\",48,74],[\"sales document (plot)\",\"saa06\",\"Sargonid period\",\"P335326\",86,118],[\"sales document (plot)\",\"saa14\",\"post-canonical\",\"P335283\",40,103],[\"sales document (plot)\",\"saa06\",\"Sargonid period\",\"P337149\",354,492],[\"sales document (house)\",\"saa14\",\"post-canonical\",\"P335280\",77,91],[\"sales document (person)\",\"saa06\",\"Sargonid period\",\"P335246\",15,38],[\"sales document (person)\",\"saa06\",\"Sargonid period\",\"P335245\",8,55],[\"sales document (person)\",\"saa06\",\"Sargonid period\",\"P335244\",11,31],[\"sales document (person)\",\"saa06\",\"Sargonid period\",\"P335243\",8,17],[\"sales document (person)\",\"saa06\",\"Ashurbanipal\",\"P335242\",23,83],[\"sales document (person)\",\"saa14\",\"post-canonical\",\"P335241\",23,80],[\"sales document (person)\",\"saa14\",\"Ashurbanipal\",\"P335240\",22,92],[\"sales document (person)\",\"saa06\",\"Sargonid period\",\"P335233\",40,129],[\"sales document (person)\",\"saa06\",\"Sargonid period\",\"P335239\",27,99],[\"sales document (person)\",\"saa14\",\"post-canonical\",\"P335236\",13,46],[\"sales document (person)\",\"saa14\",\"post-canonical\",\"P335247\",7,16],[\"sales document (person)\",\"saa14\",\"post-canonical\",\"P335234\",13,52],[\"sales document (person)\",\"saa14\",\"Ashurbanipal\",\"P335232\",11,21],[\"sales document (person)\",\"saa06\",\"Sargonid period\",\"P335231\",14,33],[\"sales document (person)\",\"saa06\",\"Sargonid period\",\"P335230\",44,58],[\"sales document (person)\",\"saa14\",\"Ashurbanipal\",\"P335229\",71,156],[\"sales document (person)\",\"saa14\",\"post-canonical\",\"P335228\",39,129],[\"sales document (person)\",\"saa14\",\"post-canonical\",\"P335227\",29,102],[\"sales document (person)\",\"saa06\",\"Sargonid period\",\"P335226\",29,58],[\"sales document (person)\",\"saa06\",\"Sargonid period\",\"P335225\",22,88],[\"sales document (person)\",\"saa06\",\"Sargonid period\",\"P335224\",25,111],[\"sales document (house)\",\"saa06\",\"Sargonid period\",\"P335318\",113,126],[\"sales document (house)\",\"saa06\",\"Sargonid period\",\"P335281\",43,123],[\"sales document (person)\",\"saa14\",\"post-canonical\",\"P335238\",23,69],[\"sales document (person)\",\"saa14\",\"post-canonical\",\"P335235\",16,67],[\"sales document (person)\",\"saa14\",\"Ashurbanipal\",\"P335261\",21,41],[\"sales document (field, person)\",\"saa06\",\"Ashurbanipal\",\"P335316\",31,143],[\"sales document (person)\",\"saa06\",\"Sargonid period\",\"P335262\",41,84],[\"sales document\",\"saa06\",\"8th century\",\"P335248\",18,73],[\"sales document (person)\",\"saa14\",\"post-canonical\",\"P335250\",9,20],[\"sales document (house)\",\"saa14\",\"Ashurbanipal\",\"P335273\",60,100],[\"sales document (house)\",\"saa06\",\"Sargonid period\",\"P335274\",89,136],[\"sales document (house)\",\"saa06\",\"Ashurbanipal\",\"P335275\",79,103],[\"sales document (house)\",\"saa14\",\"Ashurbanipal\",\"P335277\",71,192],[\"sales document (person)\",\"saa14\",\"post-canonical\",\"P335249\",6,34],[\"sales document (house)\",\"saa06\",\"Sargonid period\",\"P335279\",53,75],[\"sales document (house)\",\"saa06\",\"Sargonid period\",\"P335272\",101,146],[\"sales document (house)\",\"saa14\",\"post-canonical\",\"P335271\",91,113],[\"sales document (house)\",\"saa06\",\"Sargonid period\",\"P335270\",148,173],[\"sales document (house)\",\"saa06\",\"Sargonid period\",\"P335268\",121,121],[\"sales document (house)\",\"saa06\",\"Sargonid period\",\"P335276\",24,152],[\"sales document (house)\",\"saa14\",\"post-canonical\",\"P335269\",175,177],[\"sales document (person)\",\"saa14\",\"post-canonical\",\"P335259\",23,83],[\"sales document (person)\",\"saa06\",\"Ashurbanipal\",\"P335267\",21,74],[\"sales document (person)\",\"saa14\",\"post-canonical\",\"P335258\",22,103],[\"sales document (person)\",\"saa06\",\"8th century\",\"P335265\",39,67],[\"sales document (person)\",\"saa14\",\"post-canonical\",\"P335256\",131,146],[\"sales document (person)\",\"saa14\",\"Ashurbanipal\",\"P335255\",106,197],[\"sales document (person)\",\"saa14\",\"Ashurbanipal\",\"P335260\",49,90],[\"sales document (person)\",\"saa14\",\"post-canonical\",\"P335254\",44,59],[\"sales document (person)\",\"saa14\",\"post-canonical\",\"P335253\",99,114],[\"sales document (person)\",\"saa14\",\"post-canonical\",\"P335252\",133,146],[\"sales document (person)\",\"saa06\",\"Sargonid period\",\"P335251\",5,21],[\"sales document (person)\",\"saa06\",\"Sargonid period\",\"P335264\",36,87]],\"hovertemplate\":\"region-tsne=Kuyunjik (Nineveh)<br>component 1=%{x}<br>component 2=%{y}<br>size=%{marker.size}<br>subgenre=%{customdata[0]}<br>project=%{customdata[1]}<br>date_for_viz=%{customdata[2]}<br>index=%{customdata[3]}<br>Text_length_partial=%{customdata[4]}<br>Text_length_full=%{customdata[5]}<extra></extra>\",\"legendgroup\":\"Kuyunjik (Nineveh)\",\"marker\":{\"color\":\"#A25FAC\",\"size\":[38,88,30,38,9,20,56,20,23,104,33,38,9,14,33,22,42,47,50,20,7,21,35,20,12,60,26,17,64,28,8,66,4,36,32,40,17,21,10,24,28,7,6,13,19,12,11,29,10,9,7,22,11,22,20,9,5,21,8,35,84,15,13,23,20,62,36,5,180,140,91,100,55,185,36,44,59,35,63,240,153,65,77,85,110,340,127,30,33,32,48,41,53,85,48,15,20,18,17,87,17,86,32,27,18,66,27,77,12,37,27,41,16,15,26,13,11,26,10,35,11,62,93,47,76,152,13,4,143,24,47,144,34,211,110,124,19,13,25,8,6,3,28,10,4,10,8,8,8,7,13,56,74,17,44,18,9,28,16,8,148,40,4,129,81,162,5,19,13,33,51,32,99,41,29,58,22,10,5,12,10,5,7,13,31,58,7,8,87,45,42,6,14,84,7,21,10,12,12,3,7,12,10,71,41,21,57,13,21,32,74,68,56,121,86,11,130,14,48,9,83,34,11,51,51,13,9,13,9,24,6,6,16,13,14,16,11,34,28,7,51,71,15,73,42,14,69,10,72,37,31,62,75,59,89,51,59,79,68,44,8,9,11,14,10,5,37,5,7,5,12,5,36,71,5,27,80,66,111,107,64,49,22,112,110,81,99,111,24,34,12,34,12,25,33,49,19,53,50,37,69,91,59,154,23,34,29,32,55,36,29,46,85,65,49,65,70,43,81,45,52,48,38,95,73,102,71,34,74,59,44,64,58,54,45,79,46,85,99,13,39,14,106,79,58,46,114,46,16,38,15,69,40,87,60,113,18,51,68,34,47,101,95,67,102,50,4,25,56,20,40,65,67,37,36,83,30,10,11,19,16,28,15,48,57,56,40,20,16,22,37,63,52,38,144,75,35,85,41,35,55,19,18,47,33,113,36,69,43,23,32,24,10,43,74,8,23,35,51,110,36,53,30,43,37,100,114,75,4,116,21,24,17,57,54,30,135,19,102,20,48,86,40,354,77,15,8,11,8,23,23,22,40,27,13,7,13,11,14,44,71,39,29,29,22,25,113,43,23,16,21,31,41,18,9,60,89,79,71,6,53,101,91,148,121,24,175,23,21,22,39,131,106,49,44,99,133,5,36],\"sizemode\":\"area\",\"sizeref\":0.885,\"symbol\":\"circle\",\"line\":{\"color\":\"black\",\"width\":1}},\"mode\":\"markers\",\"name\":\"Kuyunjik (Nineveh)\",\"showlegend\":true,\"x\":[56.20130157470703,-37.90504837036133,-6.528770446777344,-46.095375061035156,-28.17357063293457,15.519746780395508,-12.629583358764648,-35.59442901611328,-45.735626220703125,53.001834869384766,56.56835174560547,-22.91453742980957,-61.821372985839844,-37.28811264038086,-40.375980377197266,-43.71425247192383,45.16045379638672,30.117090225219727,-46.459678649902344,-47.0716667175293,-32.23457717895508,-36.832359313964844,-47.80573654174805,4.286441802978516,-47.75402069091797,-9.64171314239502,-9.062291145324707,-60.29954528808594,-8.749960899353027,-11.42971420288086,-43.66252899169922,-26.886539459228516,-46.7418327331543,-35.93890380859375,-9.69188117980957,-27.54294204711914,10.162095069885254,-28.692455291748047,67.69473266601562,-46.7345085144043,40.41132354736328,-50.69668197631836,-63.27398681640625,-53.624305725097656,-49.68039321899414,-59.19961929321289,-31.811254501342773,-7.490757942199707,-52.40164566040039,-61.40953826904297,-69.27084350585938,-25.127384185791016,-65.01924896240234,-32.19151306152344,-10.224970817565918,-51.77772521972656,-41.96824264526367,-50.18406677246094,-46.1215934753418,-32.411006927490234,22.01263427734375,-56.684574127197266,-46.28182601928711,-45.96432876586914,10.570215225219727,31.59162712097168,-15.5174560546875,-2.988649606704712,29.177322387695312,-4.705249309539795,-12.460811614990234,24.28620719909668,-22.570573806762695,31.570768356323242,-24.791658401489258,-19.37920570373535,-4.2254109382629395,-5.943887710571289,31.47711944580078,35.92718505859375,-4.719595909118652,-19.064456939697266,38.60197067260742,33.51220703125,-6.682338714599609,-12.012063980102539,33.304561614990234,-10.212438583374023,-8.286210060119629,-42.48379898071289,-18.56650161743164,-39.65169906616211,66.79118347167969,-41.29804229736328,10.287148475646973,-49.74310302734375,18.250686645507812,39.66830825805664,-35.14366912841797,19.820125579833984,-47.931190490722656,-21.497303009033203,-4.436599254608154,60.222869873046875,-65.20132446289062,-27.046993255615234,-9.060603141784668,-22.212066650390625,-58.89114761352539,60.62965393066406,22.87837028503418,-42.912784576416016,-60.68172836303711,-61.421573638916016,38.02779006958008,-27.574081420898438,-23.631561279296875,-41.42076110839844,-60.49065399169922,-48.221256256103516,-61.502052307128906,35.71810531616211,44.246002197265625,-42.52153778076172,34.03499984741211,20.161964416503906,36.48082733154297,-64.25438690185547,52.00065231323242,-2.249741554260254,-43.52776336669922,29.8156681060791,62.738990783691406,51.36445999145508,34.19788360595703,53.395851135253906,-51.49849319458008,7.384666919708252,-19.863201141357422,-73.36474609375,-44.46204376220703,-58.01103210449219,-45.066654205322266,-2.7467041015625,-54.173423767089844,-48.89646530151367,-47.776248931884766,-69.59014892578125,-46.80687713623047,-64.14009094238281,-45.584556579589844,-17.602630615234375,-31.066213607788086,-1.0822629928588867,-4.781432151794434,-27.020761489868164,-51.77949142456055,-13.933589935302734,49.06790542602539,-30.97640609741211,-12.062355041503906,1.352311372756958,-67.5943603515625,22.189208984375,19.40088653564453,-9.451955795288086,-32.77415084838867,-33.42858123779297,-42.937252044677734,67.03836059570312,22.329511642456055,-32.732460021972656,33.91962814331055,-30.82669448852539,-6.5260844230651855,-30.36655616760254,-43.94312286376953,-24.13196563720703,-41.923484802246094,-58.08441162109375,-51.273677825927734,-64.76627349853516,-65.22815704345703,-45.455448150634766,-29.149141311645508,58.78114700317383,-72.61267852783203,4.745502948760986,38.00445556640625,62.18754959106445,-6.6769118309021,-63.8068962097168,7.980942726135254,21.416532516479492,-50.80109786987305,-55.14952087402344,-67.24349212646484,-62.20217514038086,-50.11003112792969,-34.82971954345703,-51.80879211425781,-50.55967330932617,-48.46924591064453,-12.077733993530273,-43.82197952270508,-44.45731735229492,-5.958192825317383,-28.500930786132812,-70.63169860839844,17.61210060119629,-5.437225818634033,21.470565795898438,-0.648129940032959,-4.945903301239014,36.43699264526367,-42.95621109008789,29.843969345092773,-65.85069274902344,38.69017791748047,-61.272884368896484,45.307960510253906,37.73387908935547,-8.555216789245605,-33.0703239440918,20.000476837158203,18.618865966796875,13.888687133789062,-7.553176403045654,66.26927947998047,-51.828495025634766,-71.12046813964844,-61.15613555908203,-31.615564346313477,-16.956897735595703,-57.19939041137695,-42.48434066772461,18.85112953186035,52.71953201293945,-45.70143508911133,28.156160354614258,30.30208969116211,-33.1293830871582,-4.108665943145752,22.56037712097168,-15.718522071838379,-37.67340850830078,14.507407188415527,-63.11471939086914,-7.700101375579834,-6.535536289215088,4.832823276519775,22.66209602355957,24.460159301757812,54.895164489746094,-18.556270599365234,56.529212951660156,21.154468536376953,-15.477725982666016,61.57907485961914,3.3513386249542236,-45.32875442504883,-42.21736526489258,-63.57612228393555,-61.96918869018555,-13.677848815917969,-71.5211410522461,-14.87872314453125,-65.03375244140625,-22.80433464050293,-46.57087326049805,-73.91910552978516,-68.27787017822266,-22.2546329498291,-33.42912292480469,-73.04063415527344,15.940958976745605,-34.65284729003906,-41.770484924316406,45.72686767578125,63.048770904541016,23.52730369567871,15.54989242553711,-26.655445098876953,40.67497253417969,52.98910903930664,30.56156349182129,37.58168411254883,62.460418701171875,10.987526893615723,16.195541381835938,-39.550941467285156,7.556057453155518,-57.572383880615234,-46.0369873046875,49.79196548461914,59.591453552246094,-18.405725479125977,53.04065704345703,24.19367027282715,17.992218017578125,34.03120040893555,16.66120147705078,47.89543914794922,45.85202407836914,-29.29856300354004,50.239261627197266,17.39784049987793,61.575843811035156,60.09349060058594,-20.289649963378906,-48.60186004638672,-5.2972092628479,-17.480083465576172,22.297447204589844,-16.622234344482422,35.233428955078125,14.590614318847656,5.655432224273682,34.813716888427734,25.326723098754883,-24.59299659729004,-25.131898880004883,24.616741180419922,18.373708724975586,18.119274139404297,33.753868103027344,36.87157440185547,-23.969566345214844,16.521129608154297,-25.232460021972656,38.320953369140625,-14.572728157043457,19.33796501159668,52.984378814697266,19.396163940429688,54.841434478759766,-22.812829971313477,42.42184066772461,52.371883392333984,5.444473743438721,31.320877075195312,-7.7547783851623535,45.77934265136719,-20.13412857055664,-6.1302170753479,14.761908531188965,-22.841466903686523,31.115629196166992,8.212198257446289,41.10726547241211,-62.15931701660156,-43.47153091430664,47.431880950927734,57.77371597290039,-24.014970779418945,59.82938766479492,-52.07014465332031,-16.582033157348633,40.585731506347656,-22.256919860839844,-11.125792503356934,-14.1237211227417,57.80315399169922,50.256988525390625,51.764869689941406,40.711734771728516,-69.33207702636719,49.907135009765625,-18.541730880737305,-56.602169036865234,13.524436950683594,-16.995563507080078,36.14381790161133,-36.47938919067383,8.498801231384277,36.53862380981445,-1.197016716003418,-37.82013702392578,-38.10979461669922,-27.662357330322266,-23.357013702392578,52.932411193847656,-37.632774353027344,-39.39146041870117,57.7238883972168,21.8211727142334,-19.40342903137207,10.15982437133789,-33.075889587402344,-25.814130783081055,18.770580291748047,36.16920471191406,31.45934295654297,35.898460388183594,29.645904541015625,18.639925003051758,13.991379737854004,-10.139297485351562,-38.195804595947266,46.38313293457031,-29.166086196899414,43.1478271484375,-28.16724967956543,17.492021560668945,-16.922706604003906,28.501956939697266,44.18492889404297,-16.132675170898438,58.84726333618164,24.90657615661621,-40.98896789550781,64.23085021972656,-69.35954284667969,-19.61504554748535,-7.021472454071045,-31.40711212158203,-46.00965118408203,-5.557408809661865,29.54438018798828,34.15176010131836,24.574846267700195,-35.11369705200195,63.24424743652344,47.20470428466797,57.25098419189453,-12.146292686462402,30.61697006225586,12.19958782196045,-66.37395477294922,43.7852668762207,14.079300880432129,-49.045040130615234,-39.50393295288086,-3.4685964584350586,30.934072494506836,25.342689514160156,47.06266403198242,-31.499984741210938,30.1002140045166,-6.8174896240234375,-5.166470050811768,-11.546496391296387,-11.001605987548828,29.75149154663086,-17.078554153442383,-65.4173583984375,-23.186033248901367,-31.06586265563965,-25.729551315307617,47.16911315917969,47.67673110961914,57.36956024169922,49.29143142700195,1.4132568836212158,66.08629608154297,-58.98003387451172,-71.55461883544922,-27.7780704498291,-24.3682918548584,51.08466720581055,-13.612014770507812,-22.55840301513672,-38.9137077331543,52.90637969970703,-28.844192504882812,-27.037904739379883,38.71202850341797,-30.404287338256836,-49.86782455444336,60.394981384277344,-5.289156913757324,-53.2714729309082,-20.758747100830078,-47.66619873046875,-29.144001007080078,32.54020309448242,31.42042350769043,13.203215599060059,61.469879150390625,-59.14513397216797,19.242511749267578,40.30631637573242,41.808685302734375,23.350513458251953,40.478675842285156,6.3046064376831055,61.14435958862305,-20.28672218322754,-51.539581298828125,-17.094223022460938,56.93273162841797,66.61477661132812,18.04405975341797,10.239906311035156,36.90199661254883,16.778820037841797,55.58098602294922,-63.13732147216797,-36.75518798828125],\"xaxis\":\"x\",\"y\":[14.897608757019043,17.3275146484375,-4.9139909744262695,4.66666841506958,8.320728302001953,14.175524711608887,11.586374282836914,16.77888298034668,7.028901100158691,-7.654808521270752,13.423380851745605,-2.9448940753936768,2.975651264190674,18.644020080566406,15.872575759887695,4.380598068237305,-14.96631908416748,-11.786202430725098,6.101003170013428,14.80921745300293,11.03259563446045,15.710784912109375,4.603894233703613,-6.455916881561279,12.908485412597656,8.179755210876465,9.313994407653809,7.7106404304504395,7.667994976043701,10.472808837890625,10.058686256408691,4.639892101287842,16.573274612426758,18.55034065246582,11.436247825622559,0.07325531542301178,-8.41934585571289,-6.244361400604248,6.53770637512207,3.8933205604553223,13.658669471740723,13.04719066619873,6.929025173187256,7.573502540588379,6.434230327606201,5.109127044677734,12.10982608795166,-15.880547523498535,9.252799034118652,5.6017608642578125,-3.374408483505249,-5.486671447753906,-3.71016263961792,-4.638952732086182,-13.947182655334473,-10.600566864013672,-3.556386709213257,12.38876724243164,-12.177947998046875,16.739707946777344,-9.614030838012695,5.323724746704102,-11.55618667602539,14.375907897949219,7.192126750946045,-8.025053977966309,10.198222160339355,4.243320465087891,-19.67841148376465,-17.29801368713379,17.456708908081055,-16.81514549255371,18.117446899414062,-26.08924102783203,-0.166429802775383,20.0513973236084,-19.60544776916504,-7.170619010925293,-4.276444911956787,-21.26836585998535,-18.04986000061035,18.410554885864258,-2.773094415664673,2.401259660720825,-13.028331756591797,-16.673599243164062,-24.694276809692383,-18.5634765625,-15.149613380432129,-3.8620259761810303,16.87108612060547,17.64188003540039,-3.7791190147399902,-15.607311248779297,-9.230768203735352,-10.8720703125,13.81308650970459,14.534981727600098,8.180712699890137,-8.216721534729004,-10.820320129394531,18.698972702026367,-10.674407958984375,16.893310546875,-0.9184408783912659,2.708916664123535,-14.06079387664795,11.735345840454102,3.1057446002960205,10.77772045135498,13.78067684173584,-8.092037200927734,-0.617954432964325,-0.43396398425102234,-5.437783718109131,-7.7030029296875,-13.541563034057617,2.4999852180480957,-2.3121156692504883,13.097009658813477,-3.3327796459198,-4.084741115570068,-9.734532356262207,1.9074891805648804,1.2086207866668701,-23.209148406982422,10.285871505737305,6.5939860343933105,12.335076332092285,-13.441178321838379,-8.71209716796875,-21.220897674560547,9.366748809814453,2.4963197708129883,-8.297871589660645,-8.945130348205566,-5.447914123535156,9.356612205505371,3.2946839332580566,0.857791006565094,-13.352129936218262,9.488847732543945,-10.86478042602539,3.713792562484741,-4.552491188049316,-13.668198585510254,17.99292755126953,3.7670860290527344,-7.4751739501953125,-3.410924196243286,-6.913878440856934,5.021241188049316,4.014404773712158,-0.10995858907699585,-21.08502769470215,7.862757682800293,5.421431541442871,19.728090286254883,19.579992294311523,-7.751835346221924,-16.82805633544922,4.363749980926514,-1.1155664920806885,-12.832110404968262,-11.515019416809082,-18.386686325073242,-8.176684379577637,14.123734474182129,-15.67924690246582,-4.849920749664307,5.9426116943359375,-6.308012008666992,-9.399805068969727,-1.370219111442566,0.2696778178215027,-0.4445813298225403,-9.652974128723145,5.052979469299316,0.21826615929603577,-0.9971891045570374,-3.2223870754241943,1.876469612121582,-4.720403671264648,-8.602080345153809,16.452354431152344,1.3746830224990845,-1.0280662775039673,-10.909687042236328,-23.03553009033203,12.44832706451416,-19.90306854248047,-1.744590401649475,12.486974716186523,-23.710037231445312,2.4543216228485107,-0.749960720539093,-3.0540552139282227,-4.724827289581299,1.781596302986145,-12.907909393310547,4.214097023010254,-0.8962861895561218,14.202143669128418,17.98334312438965,10.315972328186035,-3.426403522491455,-15.294447898864746,-4.9105119705200195,-3.7193260192871094,11.685395240783691,-16.282373428344727,-24.939393997192383,1.9810800552368164,-14.440999031066895,-23.5106201171875,15.256239891052246,-26.003299713134766,-5.3262457847595215,-3.4768290519714355,4.394252300262451,9.433155059814453,4.280190467834473,-2.7785422801971436,17.92066192626953,9.482826232910156,14.833096504211426,3.5017812252044678,5.144745349884033,7.558401584625244,9.70131778717041,-4.308443069458008,3.472085475921631,-9.621577262878418,-9.039867401123047,0.8635973334312439,12.766376495361328,15.695752143859863,-5.119718074798584,-10.429299354553223,10.805817604064941,-26.306119918823242,15.240119934082031,-2.5994503498077393,-25.371219635009766,5.570855617523193,4.112575054168701,-13.116232872009277,-3.2783846855163574,-14.695266723632812,-6.0142412185668945,0.8942616581916809,-10.830016136169434,-7.998824119567871,-4.3467183113098145,18.133983612060547,1.8138387203216553,-10.841535568237305,-17.192665100097656,9.410477638244629,5.283786773681641,3.331360101699829,-9.430220603942871,0.10913875699043274,0.47988298535346985,-3.964837074279785,-1.564031958580017,8.410449028015137,-0.3444800078868866,12.431516647338867,7.878240585327148,-2.464668035507202,-1.7489633560180664,2.097562074661255,16.61151123046875,-4.5395684242248535,10.711455345153809,16.348554611206055,-14.730076789855957,-11.079522132873535,-2.990661144256592,-7.338367462158203,-2.6597046852111816,-1.6014882326126099,-12.365102767944336,-14.741816520690918,2.407205581665039,-12.59949016571045,-4.469146251678467,-4.034923553466797,-14.662789344787598,0.5747668743133545,-0.33366888761520386,3.173466205596924,17.3817081451416,-5.483911037445068,9.195965766906738,-0.7040668725967407,8.908535957336426,1.8589829206466675,-15.2096586227417,10.489013671875,-11.127680778503418,-7.67931604385376,-12.557422637939453,-13.762659072875977,17.91726303100586,9.93709659576416,11.017775535583496,3.281057119369507,3.852358818054199,6.976778030395508,-13.335347175598145,18.644954681396484,5.333347320556641,9.915083885192871,2.8930904865264893,-10.883136749267578,4.869170665740967,15.450968742370605,-6.012471675872803,0.7073950171470642,6.351756572723389,-11.627598762512207,-11.711833953857422,-9.872237205505371,-9.933959007263184,-12.289647102355957,0.8586742281913757,-13.425899505615234,12.15307903289795,1.2054295539855957,18.92127799987793,3.4922256469726562,9.056452751159668,4.745397090911865,-5.265137195587158,5.842171669006348,-12.090909957885742,-10.325206756591797,-11.670963287353516,4.125210762023926,-3.3850932121276855,-11.868850708007812,9.378324508666992,-17.983474731445312,6.969076156616211,1.7244999408721924,3.6079773902893066,11.476844787597656,17.88189125061035,6.584226608276367,-13.286256790161133,13.780840873718262,-3.368798017501831,6.364205360412598,-3.3921663761138916,-4.52197265625,12.045971870422363,-14.559286117553711,5.840512752532959,8.421058654785156,16.519264221191406,-7.875293731689453,-6.692013740539551,-8.0949125289917,11.13328742980957,-6.0581464767456055,16.522626876831055,19.83546257019043,-7.406479358673096,-13.008522987365723,16.468852996826172,14.113794326782227,4.816514015197754,3.094503164291382,-15.967018127441406,3.155189275741577,-8.292566299438477,-8.693665504455566,-8.315534591674805,-9.766036033630371,15.173389434814453,4.145493030548096,16.150848388671875,-0.7541562914848328,9.954022407531738,9.27111530303955,11.192671775817871,9.867721557617188,-14.27860164642334,2.1242992877960205,-3.75372052192688,6.055358409881592,-2.01719331741333,-19.513587951660156,1.5621224641799927,9.281743049621582,17.47102928161621,12.89072322845459,18.382347106933594,-1.6478347778320312,20.047489166259766,-1.8086738586425781,-23.254730224609375,-17.0603084564209,-17.692920684814453,18.03900146484375,-16.22970962524414,5.375993251800537,14.016288757324219,-12.713669776916504,11.055851936340332,1.3228870630264282,-1.2399054765701294,-17.566673278808594,-12.15046501159668,-3.5814566612243652,-19.95936393737793,-25.02691078186035,-24.066617965698242,-26.228351593017578,14.419374465942383,11.146843910217285,-13.723160743713379,3.654416561126709,15.517590522766113,-24.878063201904297,-7.826722145080566,-7.204989910125732,-22.24422264099121,11.618888854980469,-12.064105987548828,-10.486658096313477,-17.682355880737305,-23.55316162109375,-25.73116683959961,-5.62275505065918,-0.43351423740386963,-18.376022338867188,-3.615818738937378,-1.0616263151168823,-19.01697540283203,18.23525619506836,-27.212419509887695,19.42514419555664,-7.234436988830566,-13.599267959594727,-13.770634651184082,-11.397941589355469,-11.656332969665527,16.129901885986328,9.643081665039062,14.401333808898926,1.598357915878296,6.731113433837891,-6.447489261627197,0.21302440762519836,-14.329752922058105,-9.736730575561523,16.111480712890625,10.021446228027344,9.265761375427246,7.307860851287842,15.819954872131348,-12.274934768676758,-14.433027267456055,-23.789508819580078,-3.1582398414611816,4.446788311004639,13.329655647277832,-1.9896677732467651,10.539729118347168,7.282574653625488,6.35217809677124,-14.63393497467041,-3.5065951347351074,-2.30129337310791,-14.123804092407227,12.342833518981934,9.928789138793945,-24.753223419189453,-20.758621215820312,-21.157371520996094,-12.247672080993652,-20.428943634033203,8.887892723083496,-5.287558555603027,6.501646995544434,-6.428070068359375,12.20263385772705,2.325706720352173,-0.27979379892349243,-10.939393043518066,3.316725015640259,13.710204124450684,-7.098896503448486,-6.8509626388549805,-8.910683631896973,11.744244575500488],\"yaxis\":\"y\",\"type\":\"scattergl\"},{\"customdata\":[[\"sales document\",\"ctn2\",\"8th century\",\"P428801\",14,50],[\"sales document (field)\",\"ctn2\",\"8th century\",\"P428868\",42,68],[\"sales document (person)\",\"ctn6\",\"Ashurbanipal\",\"P428990\",100,100],[\"sales document\",\"ctn2\",\"8th century\",\"P428862\",55,82],[\"sales document (person)\",\"ctn2\",\"8th century\",\"P428861\",18,36],[\"sales document (house)\",\"ctn2\",\"8th century\",\"P428832\",69,97],[\"sales document (person)\",\"ctn6\",\"post-canonical\",\"P428991\",104,129],[\"sales document (field)\",\"ctn2\",\"8th century\",\"P469183\",87,93],[\"sales document (field)\",\"edubba10\",\"8th century\",\"P522534\",44,115],[\"sales document (person)\",\"ctn2\",\"9th century\",\"P468987\",44,46],[\"sales document (field)\",\"ctn2\",\"8th century\",\"P469182\",99,122],[\"sales document (field)\",\"ctn2\",\"8th century\",\"P469184\",65,68],[\"sales document\",\"ctn2\",\"8th century\",\"P469193\",7,59],[\"sales document\",\"ctn2\",\"8th century\",\"P471641\",22,102],[\"sales document (field)\",\"edubba10\",\"8th century\",\"P522529\",142,145],[\"sales document\",\"ctn2\",\"8th century\",\"P469194\",8,68],[\"sales document (person)\",\"ctn6\",\"Ashurbanipal\",\"P428999\",90,105],[\"sales document\",\"ctn2\",\"8th century\",\"P469195\",6,54],[\"sales document (person)\",\"edubba10\",\"8th century\",\"P522542\",76,130],[\"sales document (person)\",\"ctn2\",\"8th century\",\"P471642\",64,74],[\"sales document (person)\",\"ctn6\",\"post-canonical\",\"P429007\",55,114],[\"sales document (person)\",\"ctn2\",\"8th century\",\"P428804\",19,110],[\"sales document (house)\",\"ctn2\",\"8th century\",\"P428825\",4,39],[\"sales document (person)\",\"edubba10\",\"8th century\",\"P522537\",89,141],[\"sales document (plot)\",\"ctn2\",\"8th century\",\"P428823\",7,37],[\"sales document\",\"edubba10\",\"8th century\",\"P522543\",56,106],[\"sales document (plot)\",\"edubba10\",\"8th century\",\"P522538\",53,60],[\"sales document (house)\",\"ctn6\",\"post-canonical\",\"P469390\",87,155],[\"sales document (person)\",\"ctn6\",\"Ashurbanipal\",\"P496499\",119,122],[\"sales document (field)\",\"edubba10\",\"8th century\",\"P522535\",79,99],[\"sales document (field)\",\"ctn2\",\"8th century\",\"P428793\",55,77],[\"sales document (field)\",\"ctn2\",\"8th century\",\"P428794\",98,148],[\"sales document (field)\",\"ctn2\",\"8th century\",\"P428795\",48,190],[\"sales document\",\"ctn2\",\"8th century\",\"P428797\",18,129],[\"sales document\",\"ctn2\",\"8th century\",\"P428798\",38,72],[\"sales document (person)\",\"edubba10\",\"8th century\",\"P471642\",64,74],[\"sales document (field)\",\"edubba10\",\"8th century\",\"P522536\",44,66],[\"sales document (person)\",\"ctn2\",\"8th century\",\"P471642\",64,74],[\"sales document (person)\",\"edubba10\",\"8th century\",\"P522532\",51,103],[\"sales document (person)\",\"edubba10\",\"8th century\",\"P522496\",70,96],[\"sales document (person)\",\"ctn2\",\"8th century\",\"P428812\",20,82],[\"sales document (plot)\",\"ctn2\",\"8th century\",\"P428813\",54,74],[\"sales document\",\"ctn2\",\"8th century\",\"P428816\",50,50],[\"sales document (field)\",\"ctn2\",\"8th century\",\"P428817\",87,137],[\"sales document\",\"ctn2\",\"8th century\",\"P428821\",13,140],[\"sales document (person)\",\"ctn6\",\"Ashurbanipal\",\"P496503\",84,84],[\"sales document (house)\",\"edubba10\",\"8th century\",\"P522506\",82,84],[\"sales document (person)\",\"edubba10\",\"8th century\",\"P522499\",58,88],[\"sales document (house)\",\"ctn2\",\"8th century\",\"P428824\",16,47],[\"sales document (person)\",\"edubba10\",\"8th century\",\"P522504\",35,107],[\"sales document (person)\",\"edubba10\",\"8th century\",\"P522503\",85,131],[\"sales document (person)\",\"edubba10\",\"8th century\",\"P522502\",51,90],[\"sales document (person)\",\"edubba10\",\"8th century\",\"P522501\",65,116],[\"sales document (person)\",\"edubba10\",\"8th century\",\"P522500\",85,124],[\"sales document (house)\",\"edubba10\",\"8th century\",\"P522505\",97,109],[\"sales document (field)\",\"edubba10\",\"8th century\",\"P522530\",79,163],[\"sales document (person)\",\"ctn2\",\"8th century\",\"P428809\",60,137],[\"sales document (person)\",\"ctn2\",\"8th century\",\"P428808\",61,135],[\"sales document (person)\",\"edubba10\",\"9th century\",\"P522490\",53,67],[\"sales document (person)\",\"edubba10\",\"8th century\",\"P522497\",78,93],[\"sales document (person)\",\"edubba10\",\"8th century\",\"P522495\",74,87],[\"sales document (person)\",\"edubba10\",\"8th century\",\"P522494\",68,74],[\"sales document (person)\",\"edubba10\",\"8th century\",\"P522493\",56,73],[\"sales document (person)\",\"edubba10\",\"8th century\",\"P522492\",43,54],[\"sales document (person)\",\"edubba10\",\"8th century\",\"P522491\",82,104],[\"sales document (person)\",\"ctn6\",\"Unknown\",\"P517180\",25,65],[\"sales document (person)\",\"ctn6\",\"Unknown\",\"P517179\",137,161],[\"sales document (person)\",\"edubba10\",\"8th century\",\"P522498\",49,60],[\"sales document (person)\",\"ctn6\",\"post-canonical\",\"P517142\",13,13],[\"sales document (person)\",\"ctn6\",\"Ashurbanipal\",\"P498857\",236,238],[\"sales document (person)\",\"ctn6\",\"Ashurbanipal\",\"P496521\",78,78],[\"sales document (person)\",\"edubba10\",\"8th century\",\"P522507\",40,77],[\"sales document (person)\",\"edubba10\",\"8th century\",\"P522508\",37,51],[\"sales document (house)\",\"edubba10\",\"8th century\",\"P522510\",74,94],[\"sales document (field)\",\"ctn2\",\"8th century\",\"P428806\",11,214],[\"sales document (field)\",\"edubba10\",\"8th century\",\"P522531\",68,156],[\"sales document (person)\",\"ctn6\",\"Ashurbanipal\",\"P517141\",115,115],[\"sales document (person)\",\"edubba10\",\"8th century\",\"P471642\",64,74],[\"sales document (field)\",\"edubba10\",\"8th century\",\"P522526\",84,86],[\"sales document (field)\",\"ctn3\",\"8th century\",\"P225210\",44,97],[\"sales document (house)\",\"ctn2\",\"8th century\",\"P224570\",92,96],[\"sales document (house)\",\"edubba10\",\"8th century\",\"P522525\",82,102],[\"sales document (house)\",\"edubba10\",\"8th century\",\"P522524\",69,115],[\"sales document (house)\",\"edubba10\",\"8th century\",\"P522523\",200,220],[\"sales document (field)\",\"edubba10\",\"8th century\",\"P522522\",100,202],[\"sales document (field)\",\"edubba10\",\"8th century\",\"P522521\",102,160],[\"sales document (house)\",\"edubba10\",\"8th century\",\"P522520\",115,130],[\"sales document (person)\",\"edubba10\",\"8th century\",\"P522519\",124,142],[\"sales document (field)\",\"edubba10\",\"8th century\",\"P522517\",103,163],[\"sales document (field)\",\"edubba10\",\"8th century\",\"P522516\",105,142],[\"sales document (person)\",\"ctn6\",\"Ashurbanipal\",\"P496505\",112,112],[\"sales document (house)\",\"ctn6\",\"Ashurbanipal\",\"P496518\",140,195],[\"sales document (field)\",\"edubba10\",\"8th century\",\"P522515\",120,219],[\"sales document (person)\",\"ctn6\",\"post-canonical\",\"P496520\",111,126],[\"sales document (plot)\",\"edubba10\",\"8th century\",\"P522514\",102,160],[\"sales document (house)\",\"edubba10\",\"8th century\",\"P522511\",73,142],[\"sales document (person)\",\"ctn6\",\"post-canonical\",\"P517136\",20,42],[\"sales document (field)\",\"ctn2\",\"8th century\",\"P224609\",15,115],[\"sales document\",\"ctn2\",\"8th century\",\"P224574\",35,80],[\"sales document (field)\",\"edubba10\",\"8th century\",\"P522528\",95,106],[\"sales document\",\"ctn2\",\"8th century\",\"P224612\",8,35],[\"sales document (person)\",\"ctn2\",\"post-canonical\",\"P224623\",32,88],[\"sales document (person)\",\"ctn2\",\"8th century\",\"P224621\",15,84],[\"sales document (plot)\",\"ctn2\",\"8th century\",\"P224620\",15,73],[\"sales document (person)\",\"ctn2\",\"8th century\",\"P224506\",41,50],[\"sales document (field)\",\"ctn2\",\"8th century\",\"P224638\",12,50],[\"sales document (field)\",\"edubba10\",\"8th century\",\"P522518\",118,233],[\"sales document (house)\",\"ctn2\",\"8th century\",\"P224637\",27,77],[\"sales document\",\"ctn2\",\"8th century\",\"P224607\",11,48],[\"sales document (field)\",\"ctn2\",\"8th century\",\"P224602\",31,145],[\"sales document\",\"ctn2\",\"8th century\",\"P224601\",5,42],[\"sales document (field)\",\"ctn2\",\"8th century\",\"P224595\",69,117],[\"sales document (field)\",\"ctn2\",\"8th century\",\"P224594\",206,303],[\"sales document (field)\",\"ctn2\",\"8th century\",\"P224571\",249,281],[\"sales document (garden)\",\"ctn2\",\"8th century\",\"P224504\",49,87],[\"sales document (person)\",\"ctn2\",\"8th century\",\"P224600\",17,70],[\"sales document (field)\",\"ctn2\",\"8th century\",\"P224564\",29,88],[\"sales document (field)\",\"edubba10\",\"8th century\",\"P522533\",34,49],[\"sales document (person)\",\"ctn2\",\"8th century\",\"P224562\",65,66],[\"sales document (field, person)\",\"ctn6\",\"post-canonical\",\"P336734\",184,226],[\"sales document (field)\",\"ctn2\",\"8th century\",\"P224641\",9,50],[\"sales document (field)\",\"ctn2\",\"8th century\",\"P224561\",98,146],[\"sales document (person)\",\"ctn3\",\"post-canonical\",\"P225178\",60,60],[\"sales document (person)\",\"ctn3\",\"post-canonical\",\"P225180\",100,165],[\"sales document\",\"ctn3\",\"8th century\",\"P225214\",29,97],[\"sales document (house)\",\"ctn3\",\"8th century\",\"P225212\",15,43],[\"sales document (person)\",\"ctn3\",\"post-canonical\",\"P225196\",49,86],[\"sales document (field)\",\"ctn3\",\"8th century\",\"P225211\",36,89],[\"sales document (house)\",\"ctn3\",\"post-canonical\",\"P225203\",35,52],[\"sales document (field)\",\"ctn3\",\"Ashurbanipal\",\"P225202\",58,115],[\"sales document (plot)\",\"ctn3\",\"Ashurbanipal\",\"P225201\",33,105],[\"sales document (field)\",\"ctn3\",\"post-canonical\",\"P225200\",54,83],[\"sales document (garden)\",\"ctn3\",\"post-canonical\",\"P225199\",36,61],[\"sales document (person)\",\"ctn6\",\"Unknown\",\"P336278\",51,71],[\"sales document (person)\",\"ctn2\",\"8th century\",\"P224525\",68,68],[\"sales document (person)\",\"ctn6\",\"7th century\",\"P336733\",88,184],[\"sales document (person)\",\"ctn3\",\"post-canonical\",\"P225195\",70,108],[\"sales document\",\"ctn2\",\"8th century\",\"P224563\",47,115],[\"sales document\",\"ctn3\",\"8th century\",\"P225213\",36,91],[\"sales document (person)\",\"ctn2\",\"8th century\",\"P224520\",32,75],[\"sales document (person)\",\"ctn3\",\"post-canonical\",\"P225192\",55,107],[\"sales document (person)\",\"ctn3\",\"post-canonical\",\"P225182\",53,85],[\"sales document (person)\",\"ctn3\",\"post-canonical\",\"P225179\",55,77],[\"sales document (field)\",\"ctn2\",\"8th century\",\"P224555\",20,83],[\"sales document (field)\",\"ctn2\",\"8th century\",\"P224596\",15,22],[\"sales document (person)\",\"ctn3\",\"post-canonical\",\"P225194\",24,42],[\"sales document (field)\",\"ctn2\",\"8th century\",\"P224523\",65,107],[\"sales document (person)\",\"ctn2\",\"8th century\",\"P224519\",19,48],[\"sales document (field)\",\"ctn2\",\"8th century\",\"P224526\",50,64],[\"sales document (person)\",\"ctn3\",\"post-canonical\",\"P225193\",54,105],[\"sales document\",\"ctn2\",\"8th century\",\"P224517\",38,46],[\"sales document (field)\",\"ctn2\",\"8th century\",\"P224516\",65,111],[\"sales document\",\"ctn2\",\"8th century\",\"P224505\",65,166],[\"sales document (plot)\",\"ctn2\",\"8th century\",\"P224531\",57,74],[\"sales document (field)\",\"edubba10\",\"8th century\",\"P522527\",94,125],[\"sales document\",\"ctn2\",\"8th century\",\"P224518\",29,108]],\"hovertemplate\":\"region-tsne=Nimrud (Kalhu)<br>component 1=%{x}<br>component 2=%{y}<br>size=%{marker.size}<br>subgenre=%{customdata[0]}<br>project=%{customdata[1]}<br>date_for_viz=%{customdata[2]}<br>index=%{customdata[3]}<br>Text_length_partial=%{customdata[4]}<br>Text_length_full=%{customdata[5]}<extra></extra>\",\"legendgroup\":\"Nimrud (Kalhu)\",\"marker\":{\"color\":\"#5F8AEE\",\"size\":[14,42,100,55,18,69,104,87,44,44,99,65,7,22,142,8,90,6,76,64,55,19,4,89,7,56,53,87,119,79,55,98,48,18,38,64,44,64,51,70,20,54,50,87,13,84,82,58,16,35,85,51,65,85,97,79,60,61,53,78,74,68,56,43,82,25,137,49,13,236,78,40,37,74,11,68,115,64,84,44,92,82,69,200,100,102,115,124,103,105,112,140,120,111,102,73,20,15,35,95,8,32,15,15,41,12,118,27,11,31,5,69,206,249,49,17,29,34,65,184,9,98,60,100,29,15,49,36,35,58,33,54,36,51,68,88,70,47,36,32,55,53,55,20,15,24,65,19,50,54,38,65,65,57,94,29],\"sizemode\":\"area\",\"sizeref\":0.885,\"symbol\":\"circle\",\"line\":{\"color\":\"black\",\"width\":1}},\"mode\":\"markers\",\"name\":\"Nimrud (Kalhu)\",\"showlegend\":true,\"x\":[6.841854095458984,-34.990631103515625,55.46748352050781,44.519081115722656,-22.563636779785156,15.997573852539062,51.418067932128906,33.17654037475586,-32.82523727416992,34.87228012084961,29.92852020263672,25.601892471313477,-69.41313934326172,3.4395124912261963,28.354907989501953,-50.03544616699219,27.434011459350586,-47.65632629394531,13.049339294433594,36.783512115478516,42.73682403564453,-60.65128707885742,-67.47079467773438,42.209381103515625,-64.03620910644531,-13.027921676635742,-26.859363555908203,-16.279258728027344,61.441734313964844,56.7873420715332,25.645267486572266,-21.62007713317871,-32.34801483154297,59.75236511230469,12.922065734863281,36.783512115478516,-33.29319381713867,36.78365707397461,23.34579086303711,23.129528045654297,24.97172737121582,-37.82063674926758,42.011409759521484,-13.0820951461792,-58.486289978027344,26.174638748168945,26.75359535217285,6.993317127227783,-67.79759216308594,-0.27867287397384644,25.879016876220703,44.529808044433594,19.24802017211914,34.85969543457031,28.905168533325195,42.7790412902832,32.80830001831055,-13.309622764587402,33.159053802490234,26.53826332092285,44.530792236328125,6.61460542678833,30.477115631103516,45.93942642211914,32.240623474121094,-38.78565216064453,28.753265380859375,28.348352432250977,-28.667776107788086,51.73189163208008,63.567543029785156,-5.965460777282715,-25.42229652404785,12.08327865600586,-29.786943435668945,34.02284622192383,52.489986419677734,36.78365707397461,34.18438720703125,-12.130289077758789,26.372800827026367,47.539451599121094,64.07792663574219,36.67008590698242,-14.882364273071289,27.162363052368164,26.150304794311523,35.43726348876953,-11.460345268249512,36.700252532958984,43.39369201660156,59.20769119262695,13.368531227111816,47.382835388183594,26.865760803222656,45.935367584228516,63.60218811035156,-48.47138595581055,8.981267929077148,43.88970184326172,-69.74141693115234,43.27548599243164,7.506811141967773,-59.536991119384766,7.872788906097412,-47.68645477294922,54.72887420654297,7.9771904945373535,-62.67180633544922,-31.953807830810547,-73.51307678222656,-15.87833023071289,42.44119644165039,26.470077514648438,33.26678466796875,0.12611514329910278,-44.24949264526367,-25.354848861694336,13.476744651794434,-15.863727569580078,-50.176998138427734,33.49225616455078,27.899744033813477,23.640403747558594,62.1034049987793,-49.008636474609375,28.261972427368164,-13.70250129699707,57.47360610961914,31.825271606445312,19.566404342651367,18.073402404785156,51.04429244995117,-64.24874114990234,20.7348575592041,-21.22940444946289,39.884918212890625,-8.555286407470703,43.93534851074219,12.39896011352539,-17.87973403930664,26.44635581970215,28.845918655395508,-52.50301742553711,-62.49605941772461,51.3477897644043,-24.996076583862305,-35.04584884643555,-25.079261779785156,-13.43387222290039,41.11028289794922,-31.24529266357422,33.01638412475586,42.05718231201172,34.48657989501953,-55.91181182861328],\"xaxis\":\"x\",\"y\":[10.621681213378906,18.158018112182617,-11.746603965759277,-13.652445793151855,7.2013163566589355,-8.263043403625488,-12.585235595703125,-16.042142868041992,-3.23337984085083,6.778552055358887,-15.94441032409668,-17.511465072631836,-0.22363460063934326,2.2899811267852783,-16.691381454467773,15.831033706665039,-8.694602012634277,7.735037803649902,-7.033870220184326,5.374093532562256,-13.844921112060547,2.202220916748047,2.236467123031616,-5.9329071044921875,1.8643765449523926,14.184303283691406,1.7909947633743286,17.952524185180664,-3.347769021987915,-9.387208938598633,-19.095138549804688,17.671234130859375,5.6002726554870605,15.99034595489502,-10.070460319519043,5.374093532562256,6.173223495483398,5.374138355255127,7.451961517333984,7.73197603225708,4.014465808868408,12.62331771850586,16.579376220703125,6.463318347930908,6.716582775115967,-5.69498872756958,5.5328521728515625,2.7794101238250732,1.10377037525177,3.6661720275878906,0.05791020765900612,13.594087600708008,9.923192024230957,5.871737003326416,-0.1855345517396927,-9.460944175720215,5.45501708984375,6.954601764678955,7.321515083312988,8.003551483154297,11.075535774230957,3.6836202144622803,7.191368579864502,10.860957145690918,7.566664218902588,11.650778770446777,-11.05643081665039,7.978491306304932,-9.431195259094238,-9.489062309265137,1.6316070556640625,0.8532148599624634,3.613780975341797,-3.8919286727905273,-7.8866868019104,-0.40219125151634216,-2.1568329334259033,5.374138355255127,-16.572376251220703,4.933392524719238,-0.9363232851028442,6.783697128295898,0.9256498217582703,-18.292924880981445,-15.365190505981445,-16.484355926513672,-15.708136558532715,0.977421760559082,15.712977409362793,-17.83018684387207,-12.30253791809082,-6.684116363525391,-8.335277557373047,-15.54605484008789,-13.625889778137207,-4.788910388946533,12.802886962890625,-8.9722900390625,-3.5667519569396973,-21.5061092376709,-4.352804660797119,14.264906883239746,9.424592018127441,2.0396902561187744,-4.538530349731445,-8.617430686950684,-8.33230972290039,-1.8676435947418213,9.606521606445312,14.752800941467285,-5.099034786224365,19.534339904785156,-8.401802062988281,-15.195446968078613,3.257509708404541,6.171741485595703,-7.118971347808838,3.752025604248047,-10.108292579650879,5.889901161193848,-4.801573753356934,-17.055309295654297,3.653280258178711,-10.480111122131348,2.2456748485565186,-3.318937301635742,2.159343957901001,-18.35503387451172,13.486939430236816,1.2154204845428467,12.135814666748047,-23.584087371826172,14.086804389953613,4.323864459991455,8.894238471984863,-1.912807583808899,-12.979822158813477,1.1262696981430054,12.162774085998535,8.493860244750977,6.371963024139404,-3.1096885204315186,2.4679462909698486,7.6031494140625,-1.913293719291687,16.978300094604492,16.102815628051758,-0.36646780371665955,16.112062454223633,9.495760917663574,15.811290740966797,5.479531288146973,6.261782646179199,11.48160171508789,-15.833003997802734,-1.6849392652511597],\"yaxis\":\"y\",\"type\":\"scattergl\"},{\"customdata\":[[\"sales document (house)\",\"saab0509\",\"Ashurbanipal\",\"P528304\",11,31],[\"sales document (person)\",\"rfdn17\",\"Sargonid period\",\"P522461\",56,56],[\"sales document (person)\",\"rfdn17\",\"Ashurbanipal\",\"P522459\",119,173],[\"sales document (person)\",\"rfdn17\",\"post-canonical\",\"P522462\",130,131],[\"sales document (person)\",\"rfdn17\",\"Ashurbanipal\",\"P522466\",64,154],[\"sales document (person)\",\"rfdn17\",\"Ashurbanipal\",\"P522464\",81,82],[\"sales document (house)\",\"rfdn17\",\"post-canonical\",\"P522465\",120,188],[\"sales document (person)\",\"rfdn17\",\"post-canonical\",\"P522457\",129,140],[\"sales document (person)\",\"stat2\",\"post-canonical\",\"P336989\",114,170],[\"sales document (person)\",\"rfdn17\",\"Ashurbanipal\",\"P522456\",112,112],[\"sales document (inheritance)\",\"saab0509\",\"7th century\",\"P528243\",28,62],[\"sales document (person)\",\"saab0509\",\"Ashurbanipal\",\"P528253\",85,85],[\"sales document (person)\",\"saab0509\",\"Ashurbanipal\",\"P528252\",71,141],[\"sales document (inheritance)\",\"saab0509\",\"post-canonical\",\"P528251\",45,98],[\"sales document\",\"stat1\",\"post-canonical\",\"P514481\",3,20],[\"sales document (person)\",\"rfdn17\",\"post-canonical\",\"P522458\",92,95],[\"sales document (inheritance)\",\"rfdn17\",\"Ashurbanipal\",\"P522486\",65,88],[\"sales document (person)\",\"rfdn17\",\"post-canonical\",\"P522463\",95,97],[\"sales document (person)\",\"stat2\",\"7th century\",\"P336946\",18,60],[\"sales document (plot)\",\"stat3\",\"Ashurbanipal\",\"P514322\",159,163],[\"sales document\",\"stat1\",\"post-canonical\",\"P514479\",4,22],[\"sales document (person)\",\"stat3\",\"Ashurbanipal\",\"P514324\",81,97],[\"sales document (person)\",\"saab0509\",\"post-canonical\",\"P528301\",85,145],[\"sales document (person)\",\"stat3\",\"Ashurbanipal\",\"P514323\",156,164],[\"sales document (house)\",\"saab0509\",\"7th century\",\"P528256\",150,255],[\"sales document (person)\",\"saab0509\",\"7th century\",\"P528257\",41,85],[\"sales document (person)\",\"saab0509\",\"post-canonical\",\"P528266\",60,87],[\"sales document (person)\",\"saab0509\",\"Ashurbanipal\",\"P528262\",48,89],[\"sales document (person)\",\"saab0509\",\"Ashurbanipal\",\"P528355\",53,81],[\"sales document\",\"stat1\",\"post-canonical\",\"P514480\",5,47],[\"sales document (inheritance)\",\"stat3\",\"post-canonical\",\"P514321\",101,102],[\"sales document (person)\",\"saab0509\",\"Ashurbanipal\",\"P528347\",82,91],[\"sales document (person)\",\"saab0509\",\"post-canonical\",\"P528342\",57,85],[\"sales document (person)\",\"saab0509\",\"post-canonical\",\"P528332\",113,155],[\"sales document (person)\",\"saab0509\",\"Ashurbanipal\",\"P528326\",37,218],[\"sales document (field)\",\"saab0509\",\"Ashurbanipal\",\"P528322\",81,221],[\"sales document (person)\",\"saab0509\",\"post-canonical\",\"P528308\",33,65],[\"sales document (person)\",\"stat1\",\"post-canonical\",\"P514477\",64,65],[\"sales document (person)\",\"stat1\",\"post-canonical\",\"P514478\",9,44],[\"sales document (person)\",\"saab0509\",\"Ashurbanipal\",\"P528350\",149,162],[\"sales document (person)\",\"rfdn17\",\"Ashurbanipal\",\"P522460\",92,92],[\"sales document (person)\",\"stat3\",\"Ashurbanipal\",\"P514319\",7,34],[\"sales document (person)\",\"stat2\",\"post-canonical\",\"P336953\",70,142],[\"sales document (house)\",\"saab0509\",\"Sargonid period\",\"P528296\",259,276],[\"sales document (person)\",\"saab0509\",\"post-canonical\",\"P528299\",85,140],[\"sales document (person)\",\"saab0509\",\"post-canonical\",\"P528284\",103,113],[\"sales document (plot)\",\"saab0509\",\"post-canonical\",\"P528282\",147,156],[\"sales document\",\"saab0509\",\"7th century\",\"P528281\",35,109],[\"sales document (person)\",\"saab0509\",\"Ashurbanipal\",\"P528278\",29,81],[\"sales document (person)\",\"saab0509\",\"7th century\",\"P528276\",57,114],[\"sales document (plot)\",\"saab0509\",\"7th century\",\"P528277\",14,62],[\"sales document (person)\",\"saab0509\",\"post-canonical\",\"P528267\",25,58],[\"sales document (house)\",\"saab0509\",\"7th century\",\"P528265\",70,217],[\"sales document (person)\",\"saab0509\",\"post-canonical\",\"P528264\",56,92],[\"sales document (house)\",\"saab0509\",\"Sargonid period\",\"P528298\",160,180],[\"sales document (person)\",\"stat1\",\"post-canonical\",\"P514476\",40,46],[\"sales document (duplicate)\",\"stat2\",\"post-canonical\",\"P336990\",83,117],[\"sales document (person, marriage?)\",\"stat3\",\"Ashurbanipal\",\"P514306\",37,90],[\"sales document (person)\",\"stat2\",\"Ashurbanipal\",\"P336977\",94,135],[\"sales document (inheritance)\",\"saab0509\",\"post-canonical\",\"P528275\",123,128],[\"sales document (person)\",\"stat2\",\"post-canonical\",\"P336954\",97,120],[\"sales document (person)\",\"stat2\",\"Sargonid period\",\"P336966\",35,47],[\"sales document (person)\",\"stat2\",\"Unknown\",\"P336929\",15,61],[\"sales document (field)\",\"saab0509\",\"8th century\",\"P528359\",78,130],[\"sales document (person)\",\"stat2\",\"post-canonical\",\"P336952\",17,54],[\"sales document\",\"stat2\",\"post-canonical\",\"P336951\",8,29],[\"sales document (house)\",\"stat2\",\"post-canonical\",\"P336950\",50,116],[\"sales document (person)\",\"stat2\",\"post-canonical\",\"P336949\",92,139],[\"sales document (person)\",\"stat2\",\"Ashurbanipal\",\"P336948\",102,106],[\"sales document (person)\",\"stat2\",\"post-canonical\",\"P336986\",87,123],[\"sales document (person)\",\"stat2\",\"Sargonid period\",\"P336947\",33,85],[\"sales document (person)\",\"saab0509\",\"7th century\",\"P528357\",59,106],[\"sales document (plot)\",\"saab0509\",\"post-canonical\",\"P528258\",145,341],[\"sales document (person)\",\"stat2\",\"7th century\",\"P336945\",6,28],[\"sales document (field)\",\"stat2\",\"Ashurbanipal\",\"P336942\",22,65],[\"sales document\",\"stat2\",\"Unknown\",\"P336934\",15,25],[\"sales document (person)\",\"stat2\",\"Unknown\",\"P336933\",28,65],[\"sales document (person)\",\"stat2\",\"Unknown\",\"P336932\",10,36],[\"sales document (person)\",\"stat2\",\"Unknown\",\"P336931\",48,72],[\"sales document (person)\",\"stat2\",\"Unknown\",\"P336928\",42,50],[\"sales document (person)\",\"saab0509\",\"post-canonical\",\"P528300\",87,101],[\"sales document (person)\",\"stat2\",\"Ashurbanipal\",\"P336944\",72,94],[\"sales document (person)\",\"stat2\",\"Ashurbanipal\",\"P336943\",40,130],[\"sales document (person)\",\"stat2\",\"Unknown\",\"P336927\",46,86],[\"sales document (person)\",\"saab0509\",\"Unknown\",\"P528295\",10,32],[\"sales document\",\"stat2\",\"Unknown\",\"P336926\",7,17],[\"sales document (person)\",\"stat3\",\"Unknown\",\"P514239\",10,32],[\"sales document\",\"stat3\",\"post-canonical\",\"P514318\",4,16],[\"sales document (field)\",\"stat2\",\"post-canonical\",\"P337015\",178,233],[\"sales document (field)\",\"stat2\",\"8th century\",\"P337042\",106,229],[\"sales document\",\"stat2\",\"post-canonical\",\"P337046\",38,49],[\"sales document\",\"stat2\",\"post-canonical\",\"P337049\",17,87],[\"sales document (house)\",\"stat2\",\"post-canonical\",\"P337051\",40,209],[\"sales document (person)\",\"stat2\",\"Ashurbanipal\",\"P337079\",28,62],[\"sales document (field)\",\"stat2\",\"post-canonical\",\"P337052\",178,348],[\"sales document (field)\",\"stat2\",\"Unknown\",\"P337064\",58,125],[\"sales document (field)\",\"stat2\",\"8th century\",\"P337065\",47,71],[\"sales document (person)\",\"stat2\",\"Ashurbanipal\",\"P336988\",36,50],[\"sales document (field)\",\"stat2\",\"Unknown\",\"P337066\",25,52],[\"sales document\",\"stat2\",\"Unknown\",\"P337068\",69,169],[\"sales document (person)\",\"stat2\",\"Ashurbanipal\",\"P337074\",62,100],[\"sales document (person)\",\"stat2\",\"Ashurbanipal\",\"P337075\",23,42],[\"sales document (person)\",\"stat2\",\"post-canonical\",\"P337076\",27,29],[\"sales document\",\"stat2\",\"Unknown\",\"P337085\",20,96],[\"sales document (person)\",\"stat2\",\"Unknown\",\"P337078\",4,24],[\"sales document (person)\",\"stat2\",\"post-canonical\",\"P336991\",71,86],[\"sales document (person)\",\"stat2\",\"Ashurbanipal\",\"P337080\",18,42],[\"sales document (person)\",\"stat2\",\"8th century\",\"P336908\",31,49],[\"sales document (house)\",\"stat2\",\"Unknown\",\"P336923\",52,135],[\"sales document\",\"stat2\",\"Unknown\",\"P337083\",8,31],[\"sales document\",\"stat2\",\"Unknown\",\"P337084\",36,108],[\"sales document\",\"stat2\",\"Unknown\",\"P337067\",24,79],[\"sales document (person)\",\"stat2\",\"Unknown\",\"P336925\",12,31],[\"sales document (person)\",\"stat2\",\"Unknown\",\"P337077\",84,106],[\"sales document (house)\",\"stat3\",\"Ashurbanipal\",\"P514222\",107,146],[\"sales document\",\"stat2\",\"post-canonical\",\"P337053\",9,43],[\"sales document (house)\",\"stat3\",\"8th century\",\"P514234\",36,88],[\"sales document (person)\",\"stat3\",\"Unknown\",\"P514229\",39,73],[\"sales document (house)\",\"stat3\",\"8th century\",\"P514230\",79,174],[\"sales document (person)\",\"stat3\",\"Unknown\",\"P514232\",59,74],[\"sales document (person)\",\"stat3\",\"post-canonical\",\"P514233\",98,169],[\"sales document (person)\",\"stat3\",\"Sargonid period\",\"P514235\",45,67],[\"sales document (person)\",\"stat2\",\"post-canonical\",\"P337081\",14,29],[\"sales document (person)\",\"stat3\",\"Ashurbanipal\",\"P514236\",33,65],[\"sales document (person)\",\"stat3\",\"post-canonical\",\"P514224\",114,213],[\"sales document (plot)\",\"stat3\",\"Sargonid period\",\"P514225\",97,161],[\"sales document (person)\",\"wvdog152\",\"post-canonical\",\"P514211\",26,37],[\"sales document\",\"stat2\",\"Unknown\",\"P337082\",3,9],[\"sales document (person)\",\"stat3\",\"Sargonid period\",\"P514256\",62,101],[\"sales document (person)\",\"stat3\",\"Ashurbanipal\",\"P514279\",95,112],[\"sales document (house)\",\"stat3\",\"post-canonical\",\"P514287\",115,298],[\"sales document (person)\",\"stat3\",\"7th century\",\"P514290\",29,51],[\"sales document (house)\",\"stat3\",\"Sargonid period\",\"P514291\",130,262],[\"sales document (field)\",\"stat3\",\"7th century\",\"P514292\",70,277],[\"sales document (person)\",\"stat3\",\"Ashurbanipal\",\"P514294\",78,112],[\"sales document (plot)\",\"stat3\",\"post-canonical\",\"P514295\",58,126],[\"sales document (house)\",\"stat3\",\"Unknown\",\"P514240\",43,147],[\"sales document (person)\",\"stat3\",\"Ashurbanipal\",\"P514277\",63,87],[\"sales document\",\"stat3\",\"post-canonical\",\"P514301\",5,18],[\"sales document (person)\",\"wvdog152\",\"post-canonical\",\"P514158\",6,19],[\"sales document (house)\",\"wvdog152\",\"post-canonical\",\"P514159\",32,74],[\"sales document (person)\",\"wvdog152\",\"post-canonical\",\"P514153\",105,114],[\"sales document\",\"stat2\",\"Unknown\",\"P336922\",14,46],[\"sales document (person)\",\"stat2\",\"Ashurbanipal\",\"P336921\",35,111],[\"sales document\",\"stat2\",\"Ashurbanipal\",\"P336920\",16,25],[\"sales document (house)\",\"stat2\",\"Unknown\",\"P336924\",44,122],[\"sales document (person)\",\"stat2\",\"7th century\",\"P336824\",5,11],[\"sales document (field)\",\"stat3\",\"Sargonid period\",\"P514252\",127,132],[\"sales document\",\"stat2\",\"Unknown\",\"P336914\",35,79],[\"sales document\",\"stat2\",\"Ashurbanipal\",\"P336915\",13,27],[\"sales document\",\"stat2\",\"Sargonid period\",\"P336912\",37,56],[\"sales document\",\"stat2\",\"Sargonid period\",\"P336913\",35,46],[\"sales document\",\"stat2\",\"8th century\",\"P336907\",13,105],[\"sales document (person)\",\"stat2\",\"Unknown\",\"P336899\",26,49],[\"sales document\",\"stat2\",\"Sargonid period\",\"P336910\",54,77],[\"sales document (leather)\",\"wvdog152\",\"\",\"P514154\",67,108],[\"lease document\",\"stat2\",\"post-canonical\",\"P336891\",23,36],[\"sales document (field)\",\"stat2\",\"post-canonical\",\"P336868\",95,139],[\"sales document (house)\",\"wvdog152\",\"Sargonid period\",\"P514141\",31,116],[\"sales document (person)\",\"saab0509\",\"7th century\",\"P528362\",42,74],[\"sales document (person, restricted)\",\"assurmisc\",\"Sargonid period\",\"P250657\",88,129],[\"sales document (house)\",\"stat2\",\"7th century\",\"P336822\",60,210],[\"sales document\",\"stat2\",\"Unknown\",\"P336815\",92,188],[\"sales document (person)\",\"stat2\",\"post-canonical\",\"P336987\",43,162],[\"sales document (house)\",\"stat3\",\"post-canonical\",\"P514303\",11,23],[\"sales document (person)\",\"stat2\",\"post-canonical\",\"P336841\",34,115],[\"sales document (house)\",\"stat2\",\"Sargonid period\",\"P336861\",160,184],[\"sales document (plot)\",\"stat2\",\"7th century\",\"P336823\",17,60],[\"sales document\",\"stat2\",\"Sargonid period\",\"P336911\",8,31],[\"sales document (field)\",\"stat2\",\"post-canonical\",\"P336869\",7,43]],\"hovertemplate\":\"region-tsne=Qalat Sherqat (Assur)<br>component 1=%{x}<br>component 2=%{y}<br>size=%{marker.size}<br>subgenre=%{customdata[0]}<br>project=%{customdata[1]}<br>date_for_viz=%{customdata[2]}<br>index=%{customdata[3]}<br>Text_length_partial=%{customdata[4]}<br>Text_length_full=%{customdata[5]}<extra></extra>\",\"legendgroup\":\"Qalat Sherqat (Assur)\",\"marker\":{\"color\":\"#64D380\",\"size\":[11,56,119,130,64,81,120,129,114,112,28,85,71,45,3,92,65,95,18,159,4,81,85,156,150,41,60,48,53,5,101,82,57,113,37,81,33,64,9,149,92,7,70,259,85,103,147,35,29,57,14,25,70,56,160,40,83,37,94,123,97,35,15,78,17,8,50,92,102,87,33,59,145,6,22,15,28,10,48,42,87,72,40,46,10,7,10,4,178,106,38,17,40,28,178,58,47,36,25,69,62,23,27,20,4,71,18,31,52,8,36,24,12,84,107,9,36,39,79,59,98,45,14,33,114,97,26,3,62,95,115,29,130,70,78,58,43,63,5,6,32,105,14,35,16,44,5,127,35,13,37,35,13,26,54,67,23,95,31,42,88,60,92,43,11,34,160,17,8,7],\"sizemode\":\"area\",\"sizeref\":0.885,\"symbol\":\"circle\",\"line\":{\"color\":\"black\",\"width\":1}},\"mode\":\"markers\",\"name\":\"Qalat Sherqat (Assur)\",\"showlegend\":true,\"x\":[17.341373443603516,47.79141616821289,46.77082824707031,48.58586502075195,-36.416439056396484,47.656578063964844,25.457799911499023,17.375049591064453,48.18905258178711,50.08449172973633,-56.736976623535156,24.294836044311523,25.6191349029541,-26.67243766784668,62.36714553833008,11.230345726013184,-36.24934768676758,25.65951156616211,12.761311531066895,64.16728973388672,61.47906494140625,7.9691643714904785,46.05371856689453,28.047822952270508,45.15556335449219,-28.62747573852539,8.973464012145996,19.376684188842773,14.869308471679688,-70.60790252685547,58.51345443725586,30.01572036743164,18.59914207458496,63.5024299621582,37.95392990112305,-15.359184265136719,-40.91650390625,26.363933563232422,-51.193580627441406,48.22327423095703,45.53067398071289,-35.07854080200195,-29.564401626586914,52.071022033691406,30.33629035949707,40.864463806152344,59.6479606628418,21.360185623168945,13.191696166992188,-40.812313079833984,3.859056234359741,-33.5911865234375,45.69287872314453,46.545833587646484,60.354026794433594,39.86390686035156,-13.283770561218262,8.673087120056152,10.950117111206055,43.661415100097656,11.797533988952637,-40.52187728881836,-62.888607025146484,17.932544708251953,-55.459449768066406,-53.86001968383789,23.014387130737305,17.053218841552734,41.511539459228516,24.144119262695312,21.913400650024414,18.129066467285156,30.509599685668945,-59.88889694213867,-52.224159240722656,-55.42415237426758,-17.718843460083008,59.58818054199219,6.194707870483398,-42.92551040649414,20.354351043701172,28.128602981567383,-39.274356842041016,-39.281150817871094,-67.51622009277344,-72.44326782226562,-12.836714744567871,65.95437622070312,15.580580711364746,48.43896484375,49.86376953125,27.725902557373047,-66.76931762695312,21.558582305908203,65.29098510742188,-11.237550735473633,-18.909006118774414,15.10594654083252,-39.99259567260742,-13.750225067138672,14.073472023010254,-3.1664795875549316,45.50848388671875,-23.096616744995117,-70.48650360107422,25.28464698791504,-55.37211608886719,12.986283302307129,63.81068420410156,-53.468570709228516,-17.613880157470703,-45.81358337402344,59.10780715942383,-10.362128257751465,40.69987106323242,-51.193580627441406,-29.398162841796875,33.206687927246094,47.02642059326172,11.344687461853027,52.207759857177734,16.720378875732422,-54.98794174194336,4.60953950881958,27.804105758666992,46.6607551574707,-10.761581420898438,-61.04106903076172,45.29021453857422,56.11458206176758,-13.826675415039062,-20.21561050415039,32.25868225097656,-12.597628593444824,57.348777770996094,36.51874923706055,-29.811368942260742,39.68263626098633,-49.22217559814453,-53.497222900390625,-24.99095916748047,57.40608215332031,-30.608434677124023,10.079717636108398,15.93502426147461,63.587196350097656,-53.33863067626953,62.444053649902344,-54.86013412475586,-57.45724105834961,44.98323059082031,16.77630043029785,-66.86553192138672,3.9625329971313477,12.844405174255371,-19.473512649536133,2.94966983795166,28.206256866455078,50.34085464477539,62.55978012084961,54.0002555847168,12.846394538879395,21.08950424194336,58.58840560913086,-49.290103912353516,61.28070831298828,19.140411376953125,-51.82426071166992,-64.0041732788086,-31.82107925415039],\"xaxis\":\"x\",\"y\":[12.568083763122559,12.078086853027344,-0.19994622468948364,-0.3622073531150818,-2.10931396484375,10.706310272216797,6.150775909423828,-4.895998477935791,-0.9210672378540039,-12.421072959899902,-2.672978401184082,-3.4016811847686768,-9.80415153503418,-5.773475646972656,15.089771270751953,-0.5288508534431458,-2.4555599689483643,-0.7877833843231201,10.868793487548828,-1.2621644735336304,16.54256248474121,-5.510059833526611,8.328460693359375,-10.990001678466797,2.333747386932373,6.293131351470947,1.6362427473068237,6.6695637702941895,0.7677119374275208,-2.345621347427368,-5.743048667907715,1.8124653100967407,-5.107394218444824,-5.521929740905762,10.02878475189209,-14.952191352844238,16.966901779174805,2.360210418701172,17.09787368774414,-15.322572708129883,14.355389595031738,-10.131953239440918,6.961787223815918,3.3731558322906494,-6.951920032501221,-10.847912788391113,-5.168703079223633,13.475634574890137,-1.9162408113479614,18.070310592651367,-9.167320251464844,-10.111998558044434,6.081718444824219,12.788406372070312,-5.468177318572998,16.370704650878906,12.41075611114502,1.0852258205413818,0.44093984365463257,4.251595497131348,-0.3601948320865631,1.0611284971237183,1.5457936525344849,-3.101149797439575,5.29163122177124,1.1516494750976562,-0.48715993762016296,-5.54331111907959,9.742720603942871,-0.8270682692527771,13.985581398010254,-6.692577362060547,9.414116859436035,-4.300882339477539,-1.0503699779510498,5.575713157653809,-1.0552891492843628,18.58547592163086,1.7312240600585938,4.958987236022949,-7.307017803192139,-7.798649787902832,13.666502952575684,1.9416425228118896,-4.502321720123291,-2.775989532470703,-6.882979393005371,9.89111042022705,-4.361886024475098,7.795017242431641,15.179366111755371,10.722358703613281,1.0996291637420654,12.262922286987305,5.805583477020264,1.6225699186325073,-3.1921846866607666,9.6390962600708,-12.224115371704102,-7.53123664855957,0.48377925157546997,2.5425736904144287,16.173215866088867,-4.249344825744629,-5.936445236206055,11.32359504699707,1.8864810466766357,8.9669771194458,3.3569936752319336,4.072254657745361,-3.0237081050872803,16.273845672607422,14.797574996948242,7.109711647033691,-0.3266140818595886,17.09787368774414,2.158348798751831,12.169528007507324,8.962246894836426,-2.669485569000244,4.662230968475342,8.173718452453613,-5.6833295822143555,2.3715169429779053,8.244606971740723,7.365209579467773,-1.4627004861831665,-8.538214683532715,12.354641914367676,-6.682506561279297,-9.092232704162598,7.41351842880249,-3.1639902591705322,-18.569467544555664,-4.395756721496582,-5.279123783111572,-3.5636491775512695,-9.293672561645508,16.764801025390625,-6.154092311859131,8.791105270385742,-5.9351654052734375,-9.106133460998535,-0.8537249565124512,12.618782043457031,4.0969977378845215,-3.6327738761901855,6.419426918029785,-2.834498405456543,-6.157064914703369,17.36102294921875,4.9779582023620605,-4.219626426696777,4.326886177062988,7.6394476890563965,-3.152378559112549,3.9146173000335693,-23.121274948120117,-3.4751548767089844,0.7409509420394897,4.279470920562744,6.75464391708374,7.625220775604248,13.158130645751953,-13.309481620788574,13.710762977600098,-4.421281814575195,-13.119400024414062,-4.353673458099365,-7.703817844390869],\"yaxis\":\"y\",\"type\":\"scattergl\"},{\"customdata\":[[\"lease document (field)\",\"imgurenlil\",\"7th century\",\"P522827\",64,84],[\"sales document (person)\",\"imgurenlil\",\"Sargonid period\",\"P522841\",112,117],[\"sales document (field)\",\"imgurenlil\",\"Sargonid period\",\"P522846\",56,110],[\"sales document (field)\",\"imgurenlil\",\"8th century\",\"P522826\",65,95],[\"sales document (person)\",\"imgurenlil\",\"Sargonid period\",\"P522842\",44,81],[\"lease document (field)\",\"imgurenlil\",\"Unknown\",\"P522830\",23,54]],\"hovertemplate\":\"region-tsne=Balawat (Imgur-Enlil)<br>component 1=%{x}<br>component 2=%{y}<br>size=%{marker.size}<br>subgenre=%{customdata[0]}<br>project=%{customdata[1]}<br>date_for_viz=%{customdata[2]}<br>index=%{customdata[3]}<br>Text_length_partial=%{customdata[4]}<br>Text_length_full=%{customdata[5]}<extra></extra>\",\"legendgroup\":\"Balawat (Imgur-Enlil)\",\"marker\":{\"color\":\"#FFF56A\",\"size\":[64,112,56,65,44,23],\"sizemode\":\"area\",\"sizeref\":0.885,\"symbol\":\"circle\",\"line\":{\"color\":\"black\",\"width\":1}},\"mode\":\"markers\",\"name\":\"Balawat (Imgur-Enlil)\",\"showlegend\":true,\"x\":[37.266597747802734,43.80890655517578,2.534153699874878,32.225154876708984,25.986034393310547,-29.8894100189209],\"xaxis\":\"x\",\"y\":[-4.472188472747803,-12.086100578308105,3.482213258743286,-0.2912861704826355,2.5514163970947266,-0.04437195882201195],\"yaxis\":\"y\",\"type\":\"scattergl\"},{\"customdata\":[[\"sales document (field)\",\"durkatlimmu\",\"7th century\",\"P527219\",36,60],[\"sales document (person)\",\"durkatlimmu\",\"7th century\",\"P527220\",68,94],[\"sales document\",\"durkatlimmu\",\"7th century\",\"P527236\",25,28],[\"sales document (field, person)\",\"durkatlimmu\",\"7th century\",\"P527305\",22,54],[\"sales document (field)\",\"durkatlimmu\",\"Sargonid period\",\"P527232\",29,54],[\"sales document (person)\",\"durkatlimmu\",\"7th century\",\"P527222\",29,76],[\"sales document\",\"durkatlimmu\",\"7th century\",\"P527223\",4,21],[\"sales document (person)\",\"durkatlimmu\",\"Ashurbanipal\",\"P527224\",29,86],[\"sales document (person)\",\"durkatlimmu\",\"7th century\",\"P527225\",24,35],[\"sales document\",\"durkatlimmu\",\"7th century\",\"P527231\",10,24],[\"sales document\",\"durkatlimmu\",\"7th century\",\"P527227\",8,29],[\"sales document\",\"durkatlimmu\",\"7th century\",\"P527228\",19,34],[\"sales document (person)\",\"durkatlimmu\",\"7th century\",\"P527230\",28,68],[\"sales document\",\"durkatlimmu\",\"7th century\",\"P527277\",24,32],[\"sales document (field)\",\"durkatlimmu\",\"7th century\",\"P527218\",64,103],[\"sales document\",\"durkatlimmu\",\"7th century\",\"P527226\",26,33],[\"sales document (person)\",\"durkatlimmu\",\"7th century\",\"P527215\",54,121],[\"sales document (person)\",\"durkatlimmu\",\"7th century\",\"P527217\",19,42],[\"sales document (person)\",\"durkatlimmu\",\"7th century\",\"P527201\",25,40],[\"sales document (house)\",\"durkatlimmu\",\"7th century\",\"P527208\",19,49],[\"sales document\",\"durkatlimmu\",\"7th century\",\"P527202\",4,64],[\"sales document (person)\",\"durkatlimmu\",\"7th century\",\"P527203\",39,79],[\"sales document (field)\",\"durkatlimmu\",\"7th century\",\"P527205\",20,38],[\"sales document\",\"durkatlimmu\",\"7th century\",\"P527206\",16,46],[\"sales document (field)\",\"durkatlimmu\",\"Sargonid period\",\"P527238\",67,73],[\"sales document (person)\",\"durkatlimmu\",\"7th century\",\"P527216\",65,89],[\"sales document (person)\",\"durkatlimmu\",\"7th century\",\"P527210\",28,33],[\"sales document (person)\",\"durkatlimmu\",\"7th century\",\"P527211\",35,98],[\"sales document\",\"durkatlimmu\",\"7th century\",\"P527212\",22,60],[\"sales document (field)\",\"durkatlimmu\",\"7th century\",\"P527213\",41,158],[\"sales document (person)\",\"durkatlimmu\",\"7th century\",\"P527214\",51,71],[\"sales document\",\"durkatlimmu\",\"7th century\",\"P527207\",7,23],[\"sales document\",\"durkatlimmu\",\"7th century\",\"P527209\",13,18],[\"sales document (garden)\",\"durkatlimmu\",\"7th century\",\"P527240\",32,59],[\"sales document\",\"durkatlimmu\",\"post-canonical\",\"P527271\",3,12],[\"sales document\",\"durkatlimmu\",\"Ashurbanipal\",\"P527243\",8,58],[\"sales document (field)\",\"durkatlimmu\",\"Ashurbanipal\",\"P527269\",39,73],[\"sales document\",\"durkatlimmu\",\"post-canonical\",\"P527270\",16,48],[\"sales document\",\"durkatlimmu\",\"post-canonical\",\"P527272\",10,15],[\"sales document (person)\",\"durkatlimmu\",\"Ashurbanipal\",\"P527267\",14,43],[\"sales document\",\"durkatlimmu\",\"post-canonical\",\"P527273\",7,20],[\"sales document\",\"durkatlimmu\",\"Ashurbanipal\",\"P527268\",12,35],[\"sales document\",\"durkatlimmu\",\"7th century\",\"P527287\",7,22],[\"sales document\",\"durkatlimmu\",\"7th century\",\"P527275\",6,14],[\"sales document\",\"durkatlimmu\",\"7th century\",\"P527199\",16,41],[\"sales document (person)\",\"durkatlimmu\",\"7th century\",\"P527281\",5,9],[\"sales document (person)\",\"durkatlimmu\",\"7th century\",\"P527288\",12,33],[\"sales document\",\"durkatlimmu\",\"7th century\",\"P527285\",4,5],[\"sales document (field)\",\"durkatlimmu\",\"7th century\",\"P527286\",13,36],[\"sales document (field)\",\"durkatlimmu\",\"7th century\",\"P527283\",32,46],[\"sales document (person)\",\"durkatlimmu\",\"7th century\",\"P527200\",32,44],[\"sales document\",\"durkatlimmu\",\"Ashurbanipal\",\"P527265\",6,21],[\"sales document (person)\",\"durkatlimmu\",\"7th century\",\"P527221\",14,27],[\"sales document (person)\",\"durkatlimmu\",\"post-canonical\",\"P527266\",11,46],[\"sales document\",\"durkatlimmu\",\"Ashurbanipal\",\"P527262\",4,19],[\"sales document (field)\",\"durkatlimmu\",\"7th century\",\"P527245\",54,62],[\"sales document (house)\",\"durkatlimmu\",\"Sargonid period\",\"P527246\",71,78],[\"sales document (person)\",\"durkatlimmu\",\"Sargonid period\",\"P527249\",63,84],[\"sales document (field)\",\"durkatlimmu\",\"Ashurbanipal\",\"P527250\",28,92],[\"sales document (person)\",\"durkatlimmu\",\"Ashurbanipal\",\"P527251\",10,54],[\"sales document (field)\",\"durkatlimmu\",\"Sargonid period\",\"P527252\",82,126],[\"sales document (person)\",\"durkatlimmu\",\"Sargonid period\",\"P527244\",59,90],[\"sales document (garden)\",\"durkatlimmu\",\"7th century\",\"P527253\",74,98],[\"sales document (field)\",\"durkatlimmu\",\"Sargonid period\",\"P527257\",14,73],[\"sales document\",\"durkatlimmu\",\"Sargonid period\",\"P527258\",13,17],[\"sales document\",\"durkatlimmu\",\"Ashurbanipal\",\"P527259\",21,35],[\"sales document\",\"durkatlimmu\",\"Ashurbanipal\",\"P527260\",4,14],[\"sales document\",\"durkatlimmu\",\"7th century\",\"P527279\",7,30],[\"sales document (field)\",\"durkatlimmu\",\"9th century\",\"P527241\",50,57],[\"sales document (garden)\",\"durkatlimmu\",\"Sargonid period\",\"P527255\",19,31],[\"sales document (person)\",\"durkatlimmu\",\"Ashurbanipal\",\"P527261\",7,17],[\"sales document (house)\",\"durkatlimmu\",\"7th century\",\"P527198\",24,60],[\"sales document (person)\",\"durkatlimmu\",\"Ashurbanipal\",\"P527184\",35,44],[\"sales document (field)\",\"durkatlimmu\",\"Ashurbanipal\",\"P527195\",22,82],[\"sales document (person)\",\"durkatlimmu\",\"Ashurbanipal\",\"P527197\",81,96],[\"sales document (field)\",\"durkatlimmu\",\"7th century\",\"P527295\",3,34],[\"sales document (field)\",\"durkatlimmu\",\"post-canonical\",\"P527294\",27,54],[\"sales document (person)\",\"durkatlimmu\",\"Ashurbanipal\",\"P527129\",47,62],[\"sales document (person)\",\"durkatlimmu\",\"7th century\",\"P527130\",8,20],[\"sales document (person)\",\"durkatlimmu\",\"7th century\",\"P527300\",3,8],[\"sales document\",\"durkatlimmu\",\"7th century\",\"P527297\",10,24],[\"sales document (field)\",\"durkatlimmu\",\"Sargonid period\",\"P527133\",82,104],[\"sales document\",\"durkatlimmu\",\"Sargonid period\",\"P527140\",3,6],[\"sales document (person)\",\"durkatlimmu\",\"Ashurbanipal\",\"P527142\",28,83],[\"sales document (person)\",\"durkatlimmu\",\"Ashurbanipal\",\"P527143\",25,41],[\"sales document (person)\",\"durkatlimmu\",\"7th century\",\"P527146\",55,64],[\"sales document (person)\",\"durkatlimmu\",\"Ashurbanipal\",\"P527134\",91,108],[\"sales document (house)\",\"durkatlimmu\",\"Ashurbanipal\",\"P527136\",67,139],[\"sales document (house)\",\"durkatlimmu\",\"Unknown\",\"P527137\",27,41],[\"sales document (person)\",\"durkatlimmu\",\"Ashurbanipal\",\"P527151\",35,65],[\"sales document (person)\",\"durkatlimmu\",\"7th century\",\"P527299\",14,35],[\"sales document (person)\",\"durkatlimmu\",\"7th century\",\"P527303\",9,25],[\"sales document\",\"durkatlimmu\",\"7th century\",\"P527328\",9,11],[\"sales document (person)\",\"durkatlimmu\",\"Sargonid period\",\"P527327\",23,50],[\"sales document (field)\",\"durkatlimmu\",\"7th century\",\"P527313\",14,27],[\"sales document (field)\",\"durkatlimmu\",\"7th century\",\"P527247\",65,98],[\"sales document (person)\",\"durkatlimmu\",\"7th century\",\"P527304\",4,16],[\"sales document\",\"durkatlimmu\",\"7th century\",\"P527318\",15,38],[\"sales document (person)\",\"durkatlimmu\",\"7th century\",\"P527316\",11,30],[\"sales document (field)\",\"durkatlimmu\",\"Ashurbanipal\",\"P527301\",10,56],[\"sales document (person)\",\"durkatlimmu\",\"7th century\",\"P527312\",46,55],[\"sales document (field)\",\"durkatlimmu\",\"7th century\",\"P527306\",4,29],[\"sales document (person)\",\"durkatlimmu\",\"7th century\",\"P527311\",36,74],[\"sales document\",\"durkatlimmu\",\"7th century\",\"P527308\",9,29],[\"sales document (house)\",\"durkatlimmu\",\"7th century\",\"P527307\",40,78],[\"sales document\",\"durkatlimmu\",\"7th century\",\"P527292\",4,10],[\"sales document\",\"durkatlimmu\",\"Sargonid period\",\"P527314\",5,7],[\"sales document (field)\",\"durkatlimmu\",\"post-canonical\",\"P527154\",53,76],[\"sales document (field)\",\"durkatlimmu\",\"Nebuchadnezzar II\",\"P527164\",81,87],[\"sales document (person)\",\"durkatlimmu\",\"7th century\",\"P527325\",20,37],[\"sales document (field)\",\"durkatlimmu\",\"Nebuchadnezzar II\",\"P527162\",159,160],[\"sales document (field)\",\"durkatlimmu\",\"Ashurbanipal\",\"P527182\",70,77],[\"sales document (person)\",\"durkatlimmu\",\"Ashurbanipal\",\"P527183\",35,69],[\"sales document (person)\",\"durkatlimmu\",\"Ashurbanipal\",\"P527185\",41,57],[\"sales document (person)\",\"durkatlimmu\",\"Ashurbanipal\",\"P527179\",63,83],[\"sales document (person)\",\"durkatlimmu\",\"Ashurbanipal\",\"P527186\",30,61],[\"sales document (person)\",\"durkatlimmu\",\"Ashurbanipal\",\"P527188\",62,73],[\"sales document (person)\",\"durkatlimmu\",\"Ashurbanipal\",\"P527181\",73,150],[\"sales document (person)\",\"durkatlimmu\",\"Ashurbanipal\",\"P527189\",117,121],[\"sales document (person)\",\"durkatlimmu\",\"Ashurbanipal\",\"P527191\",104,107],[\"sales document (person)\",\"durkatlimmu\",\"Ashurbanipal\",\"P527192\",44,79],[\"sales document (person)\",\"durkatlimmu\",\"Ashurbanipal\",\"P527194\",83,136],[\"sales document (person)\",\"durkatlimmu\",\"Ashurbanipal\",\"P527187\",91,119],[\"sales document (garden)\",\"durkatlimmu\",\"Ashurbanipal\",\"P527176\",18,29],[\"sales document (field)\",\"durkatlimmu\",\"Ashurbanipal\",\"P527180\",73,89],[\"sales document (person)\",\"durkatlimmu\",\"Ashurbanipal\",\"P527190\",117,130],[\"sales document (person)\",\"durkatlimmu\",\"Ashurbanipal\",\"P527178\",89,101],[\"sales document (person)\",\"durkatlimmu\",\"post-canonical\",\"P527155\",5,46],[\"sales document (house)\",\"durkatlimmu\",\"post-canonical\",\"P527156\",61,74],[\"sales document (person)\",\"durkatlimmu\",\"7th century\",\"P527159\",53,61],[\"sales document (person)\",\"durkatlimmu\",\"Ashurbanipal\",\"P527177\",54,71],[\"sales document (person)\",\"durkatlimmu\",\"Ashurbanipal\",\"P527167\",29,66],[\"sales document (person)\",\"durkatlimmu\",\"Ashurbanipal\",\"P527169\",53,72],[\"sales document (person)\",\"durkatlimmu\",\"Ashurbanipal\",\"P527170\",76,108],[\"sales document (person)\",\"durkatlimmu\",\"Ashurbanipal\",\"P527171\",31,61],[\"sales document (person)\",\"durkatlimmu\",\"Ashurbanipal\",\"P527172\",105,108],[\"sales document (field)\",\"durkatlimmu\",\"Nebuchadnezzar II\",\"P527165\",75,75],[\"sales document (person)\",\"durkatlimmu\",\"Ashurbanipal\",\"P527174\",41,84],[\"sales document (person)\",\"durkatlimmu\",\"7th century\",\"P527161\",8,24],[\"sales document (field)\",\"durkatlimmu\",\"Ashurbanipal\",\"P527173\",92,118],[\"sales document (person)\",\"durkatlimmu\",\"7th century\",\"P527298\",5,41],[\"sales document (field)\",\"durkatlimmu\",\"Nebuchadnezzar II\",\"P527163\",99,107],[\"sales document (garden)\",\"durkatlimmu\",\"Ashurbanipal\",\"P527168\",58,99],[\"sales document (person)\",\"durkatlimmu\",\"Ashurbanipal\",\"P527175\",29,49],[\"sales document (field)\",\"durkatlimmu\",\"7th century\",\"P527293\",9,18]],\"hovertemplate\":\"region-tsne=Dur-Katlimmu<br>component 1=%{x}<br>component 2=%{y}<br>size=%{marker.size}<br>subgenre=%{customdata[0]}<br>project=%{customdata[1]}<br>date_for_viz=%{customdata[2]}<br>index=%{customdata[3]}<br>Text_length_partial=%{customdata[4]}<br>Text_length_full=%{customdata[5]}<extra></extra>\",\"legendgroup\":\"Dur-Katlimmu\",\"marker\":{\"color\":\"#FF8D00\",\"size\":[36,68,25,22,29,29,4,29,24,10,8,19,28,24,64,26,54,19,25,19,4,39,20,16,67,65,28,35,22,41,51,7,13,32,3,8,39,16,10,14,7,12,7,6,16,5,12,4,13,32,32,6,14,11,4,54,71,63,28,10,82,59,74,14,13,21,4,7,50,19,7,24,35,22,81,3,27,47,8,3,10,82,3,28,25,55,91,67,27,35,14,9,9,23,14,65,4,15,11,10,46,4,36,9,40,4,5,53,81,20,159,70,35,41,63,30,62,73,117,104,44,83,91,18,73,117,89,5,61,53,54,29,53,76,31,105,75,41,8,92,5,99,58,29,9],\"sizemode\":\"area\",\"sizeref\":0.885,\"symbol\":\"circle\",\"line\":{\"color\":\"black\",\"width\":1}},\"mode\":\"markers\",\"name\":\"Dur-Katlimmu\",\"showlegend\":true,\"x\":[20.451139450073242,56.13217544555664,6.231299877166748,-6.506104946136475,-32.38459396362305,-12.30622386932373,-53.05710220336914,42.003883361816406,-26.419540405273438,62.07316589355469,-40.07601547241211,-41.549625396728516,3.8650448322296143,65.95437622070312,-11.795551300048828,43.93840408325195,-10.531333923339844,60.41600036621094,-28.7409725189209,-20.052213668823242,-68.82503509521484,44.73656463623047,-31.993133544921875,-41.439002990722656,39.77347183227539,49.69204330444336,47.0521354675293,-14.318961143493652,-59.679290771484375,60.44623565673828,5.605255603790283,-68.63215637207031,-41.050453186035156,-34.98593521118164,2.9961748123168945,-35.579959869384766,42.31618118286133,4.372354030609131,65.35095977783203,-20.358484268188477,-21.95032501220703,64.61936950683594,43.12493896484375,4.063686847686768,-42.009124755859375,-34.22249221801758,-9.127803802490234,14.082762718200684,-52.346492767333984,-11.632794380187988,-12.602325439453125,-24.28564453125,-29.560245513916016,2.057387351989746,67.52174377441406,39.255123138427734,45.73688888549805,-11.473395347595215,-34.88190841674805,-34.37206268310547,19.054174423217773,25.13248634338379,5.157835483551025,-30.503190994262695,9.557428359985352,43.3297119140625,-67.51055145263672,-63.032405853271484,28.856111526489258,15.493422508239746,-26.66914939880371,22.81279945373535,54.676780700683594,-42.41405487060547,30.67068099975586,-70.01126861572266,-16.947128295898438,54.559635162353516,-56.28526306152344,-68.25914764404297,-19.598634719848633,49.871498107910156,-56.15926742553711,-15.723454475402832,66.47396087646484,-16.11948585510254,46.15894317626953,51.52494812011719,-16.069791793823242,-18.80413055419922,41.43640899658203,-55.088706970214844,-57.4093017578125,-26.43697166442871,-18.257919311523438,60.451141357421875,-71.2310562133789,23.56358528137207,2.060189723968506,-18.06675910949707,-15.14311408996582,-73.65852355957031,44.97423553466797,-34.77745819091797,-26.18244743347168,-34.04507827758789,-63.57367706298828,38.833919525146484,20.938749313354492,-4.538662910461426,53.50401306152344,54.91227722167969,-13.192562103271484,65.27583312988281,58.74446487426758,5.490619659423828,65.73672485351562,39.76039123535156,48.84500503540039,46.71099090576172,44.52127456665039,38.84864807128906,46.44202423095703,43.09085464477539,51.23149490356445,64.73399353027344,48.68970489501953,8.216605186462402,29.379070281982422,35.84882736206055,49.73625183105469,-40.04130554199219,60.295753479003906,48.735984802246094,6.1953325271606445,48.290611267089844,21.48121452331543,65.23426055908203,-70.2504653930664,20.11794662475586,-62.886932373046875,20.69773292541504,61.37255096435547,-15.140387535095215,-35.3249397277832],\"xaxis\":\"x\",\"y\":[-0.727838933467865,-2.5899298191070557,-1.1314865350723267,-7.145540714263916,1.3059329986572266,-5.298905849456787,14.981342315673828,5.363597393035889,11.490013122558594,17.256988525390625,5.3028106689453125,6.834125995635986,-1.4387009143829346,9.89111042022705,2.062983274459839,2.454145908355713,13.85336971282959,12.508649826049805,11.518510818481445,-4.908041477203369,-8.5330228805542,1.0324857234954834,2.04477858543396,15.200181007385254,7.154083251953125,3.861691951751709,3.761943817138672,12.897788047790527,6.435324668884277,18.59779930114746,2.6699776649475098,4.940736293792725,7.7325310707092285,1.1500461101531982,-9.168323516845703,-3.99027943611145,2.4436700344085693,-11.553031921386719,11.140384674072266,-9.059553146362305,-5.649046421051025,8.465940475463867,0.741863489151001,-10.447376251220703,6.523953437805176,-11.775765419006348,13.747342109680176,12.671521186828613,-10.274391174316406,-5.931277751922607,-1.1920219659805298,-9.14903736114502,11.203690528869629,-3.7143614292144775,4.052679538726807,-21.957704544067383,3.6149654388427734,-5.071370601654053,2.2076168060302734,-7.349636554718018,8.533400535583496,-2.284973382949829,-3.0715835094451904,-6.61997127532959,14.444029808044434,1.7968907356262207,0.09599684178829193,9.926798820495605,-1.5703916549682617,8.612831115722656,-10.743876457214355,15.563896179199219,5.07459831237793,-13.354986190795898,-9.497671127319336,-2.2696595191955566,2.5651049613952637,5.0529327392578125,10.494969367980957,-9.895183563232422,1.3793455362319946,1.5038514137268066,-5.794400215148926,-8.59497356414795,5.2533721923828125,8.593110084533691,-8.800890922546387,5.373488426208496,1.5453382730484009,-2.096324920654297,2.9770100116729736,8.275999069213867,12.207901000976562,6.138903617858887,-10.45934009552002,-8.19115924835205,2.9620964527130127,12.36003589630127,-1.4719171524047852,-9.791864395141602,1.3444671630859375,1.6056323051452637,3.8137595653533936,0.48902902007102966,10.856369018554688,-2.0370919704437256,-8.541329383850098,-21.307220458984375,-25.516502380371094,-1.3524861335754395,2.2187576293945312,-0.18053749203681946,-1.2242037057876587,4.252876281738281,-0.8420056700706482,-1.0497699975967407,3.178901433944702,9.90754508972168,3.5956075191497803,2.7986512184143066,16.462692260742188,-8.81521224975586,1.7870213985443115,18.962100982666016,3.525641679763794,0.08519309014081955,-9.299219131469727,4.951688289642334,-2.5578806400299072,-11.103925704956055,10.407530784606934,6.793271064758301,-0.5399084687232971,4.911033630371094,-2.714393377304077,2.690565347671509,-26.55496597290039,1.7990080118179321,-0.9724571704864502,-1.6955658197402954,-6.478203773498535,-25.018430709838867,6.850284576416016,-0.2506576180458069,8.074912071228027],\"yaxis\":\"y\",\"type\":\"scattergl\"},{\"customdata\":[[\"sales document (field)\",\"burmarina\",\"Sargonid period\",\"P522616\",30,131],[\"sales document (person)\",\"marqasu\",\"Ashurbanipal\",\"P522577\",90,95],[\"sales document (person)\",\"marqasu\",\"7th century\",\"P522583\",26,33],[\"sales document (person)\",\"marqasu\",\"7th century\",\"P522586\",28,39],[\"sales document\",\"tilbarsip\",\"Ashurbanipal\",\"P522596\",12,34],[\"sales document (person)\",\"tilbarsip\",\"Ashurbanipal\",\"P522599\",73,83],[\"sales document (person)\",\"tilbarsip\",\"Ashurbanipal\",\"P522600\",18,53],[\"sales document\",\"tilbarsip\",\"Ashurbanipal\",\"P522612\",19,78],[\"sales document\",\"burmarina\",\"Sargonid period\",\"P522618\",18,52],[\"sales document (person)\",\"guzana\",\"post-canonical\",\"P527426\",20,80],[\"sales document (person)\",\"guzana\",\"post-canonical\",\"P527420\",64,119],[\"sales document (person)\",\"marqasu\",\"Ashurbanipal\",\"P522576\",72,72],[\"sales document (person)\",\"tilbarsip\",\"Ashurbanipal\",\"P522604\",77,77],[\"sales document (field)\",\"mallanate\",\"Unknown\",\"P522889\",36,45],[\"sales document (person)\",\"marqasu\",\"Sargonid period\",\"P522560\",148,158],[\"sales document (person)\",\"marqasu\",\"Ashurbanipal\",\"P522568\",112,139],[\"sales document (field)\",\"marqasu\",\"Ashurbanipal\",\"P522567\",84,84],[\"sales document (garden)\",\"marqasu\",\"Ashurbanipal\",\"P522566\",62,104],[\"sales document (person)\",\"marqasu\",\"Ashurbanipal\",\"P522563\",93,101],[\"sales document (person)\",\"marqasu\",\"Sargonid period\",\"P522562\",113,115],[\"sales document (person)\",\"marqasu\",\"7th century\",\"P522561\",72,83],[\"sales document (person)\",\"marqasu\",\"post-canonical\",\"P522559\",25,64],[\"sales document (person)\",\"marqasu\",\"post-canonical\",\"P522555\",81,87],[\"sales document (person)\",\"marqasu\",\"Ashurbanipal\",\"P522553\",100,104],[\"sales document (person)\",\"marqasu\",\"post-canonical\",\"P522549\",99,113],[\"sales document (person)\",\"marqasu\",\"7th century\",\"P522548\",67,71],[\"sales document (person)\",\"marqasu\",\"Sargonid period\",\"P522547\",25,40],[\"sales document (person)\",\"marqasu\",\"Sargonid period\",\"P522546\",125,125],[\"sales document (person)\",\"mallanate\",\"Ashurbanipal\",\"P342654\",97,103],[\"sales document (field)\",\"marqasu\",\"Sargonid period\",\"P522573\",122,122],[\"sales document (person)\",\"marqasu\",\"Sargonid period\",\"P522572\",142,142],[\"sales document\",\"burmarina\",\"Sargonid period\",\"P522629\",3,18],[\"sales document (person)\",\"mallanate\",\"Sargonid period\",\"P522852\",108,127],[\"sales document (person)\",\"huzirina\",\"7th century\",\"P338308\",65,107],[\"sales document (person)\",\"burmarina\",\"Sargonid period\",\"P522615\",18,34],[\"sales document (person)\",\"mallanate\",\"Sargonid period\",\"P522854\",101,102],[\"sales document (person)\",\"mallanate\",\"Sargonid period\",\"P522855\",117,120],[\"sales document (person)\",\"mallanate\",\"Sargonid period\",\"P522856\",77,77],[\"sales document (person)\",\"mallanate\",\"Sargonid period\",\"P522857\",97,110],[\"sales document (field)\",\"mallanate\",\"Sargonid period\",\"P522859\",173,179],[\"sales document (field)\",\"mallanate\",\"Sargonid period\",\"P522860\",33,155],[\"sales document (field)\",\"mallanate\",\"Ashurbanipal\",\"P522869\",118,218],[\"sales document (person)\",\"mallanate\",\"Ashurbanipal\",\"P522882\",43,109],[\"sales document (plot)\",\"mallanate\",\"7th century\",\"P522883\",98,158],[\"sales document (person)\",\"burmarina\",\"Sargonid period\",\"P522617\",29,73],[\"sales document (person)\",\"mallanate\",\"Sargonid period\",\"P522853\",66,66],[\"sales document (field)\",\"mallanate\",\"Sargonid period\",\"P522861\",123,141],[\"sales document (person)\",\"mallanate\",\"Ashurbanipal\",\"P522881\",114,121],[\"sales document (person)\",\"mallanate\",\"Sargonid period\",\"P522851\",118,119],[\"sales document (person)\",\"mallanate\",\"Sargonid period\",\"P522850\",33,67],[\"sales document (person)\",\"samal\",\"Sargonid period\",\"P522659\",20,89],[\"sales document (person)\",\"samal\",\"Sargonid period\",\"P522658\",61,70],[\"sales document\",\"burmarina\",\"Sargonid period\",\"P522640\",6,16],[\"sales document\",\"burmarina\",\"Sargonid period\",\"P522633\",3,14],[\"sales document\",\"burmarina\",\"Sargonid period\",\"P522628\",5,24],[\"sales document (person)\",\"burmarina\",\"Sargonid period\",\"P522625\",4,26],[\"sales document (person)\",\"burmarina\",\"Sargonid period\",\"P522624\",3,22],[\"sales document\",\"burmarina\",\"Sargonid period\",\"P522623\",9,34],[\"sales document (plot)\",\"burmarina\",\"Sargonid period\",\"P522622\",6,18],[\"sales document\",\"burmarina\",\"Sargonid period\",\"P522620\",7,29],[\"sales document (person)\",\"burmarina\",\"Sargonid period\",\"P522619\",4,35],[\"sales document (person)\",\"mallanate\",\"7th century\",\"P522918\",37,117],[\"sales document (person)\",\"burmarina\",\"Sargonid period\",\"P522614\",15,67],[\"sales document (person)\",\"guzana\",\"8th century\",\"X214103\",71,131]],\"hovertemplate\":\"region-tsne=Western periphery<br>component 1=%{x}<br>component 2=%{y}<br>size=%{marker.size}<br>subgenre=%{customdata[0]}<br>project=%{customdata[1]}<br>date_for_viz=%{customdata[2]}<br>index=%{customdata[3]}<br>Text_length_partial=%{customdata[4]}<br>Text_length_full=%{customdata[5]}<extra></extra>\",\"legendgroup\":\"Western periphery\",\"marker\":{\"color\":\"#E50000\",\"size\":[30,90,26,28,12,73,18,19,18,20,64,72,77,36,148,112,84,62,93,113,72,25,81,100,99,67,25,125,97,122,142,3,108,65,18,101,117,77,97,173,33,118,43,98,29,66,123,114,118,33,20,61,6,3,5,4,3,9,6,7,4,37,15,71],\"sizemode\":\"area\",\"sizeref\":0.885,\"symbol\":\"circle\",\"line\":{\"color\":\"black\",\"width\":1}},\"mode\":\"markers\",\"name\":\"Western periphery\",\"showlegend\":true,\"x\":[-33.83269500732422,54.3264274597168,-55.36798858642578,-56.320316314697266,-57.910709381103516,60.10540771484375,-53.25162124633789,-60.411739349365234,9.173845291137695,13.563343048095703,59.68781661987305,53.11013412475586,57.82006072998047,-38.18745803833008,53.75502395629883,61.77009963989258,40.048797607421875,-1.9263699054718018,50.69953155517578,52.750179290771484,19.134458541870117,28.508113861083984,42.17225646972656,61.069854736328125,50.63511657714844,-42.374053955078125,48.9940071105957,29.71262550354004,63.09138488769531,26.882570266723633,63.70574188232422,-73.22249603271484,45.131221771240234,27.39031410217285,34.125240325927734,51.608116149902344,52.97194290161133,48.351593017578125,42.90961456298828,24.808414459228516,-63.154296875,23.58867645263672,-33.2452278137207,38.09092330932617,6.8996100425720215,42.578025817871094,32.94142150878906,60.72418975830078,28.540481567382812,0.942503035068512,-35.216217041015625,53.06245422363281,63.649784088134766,-54.08069610595703,-22.00637435913086,-70.01138305664062,-70.4580078125,-50.13712692260742,-71.61907958984375,12.110213279724121,-63.908668518066406,63.55913543701172,-28.876846313476562,41.295265197753906],\"xaxis\":\"x\",\"y\":[3.676284074783325,-2.684985876083374,9.812541007995605,8.899879455566406,-4.011911869049072,-2.535639762878418,-1.9175264835357666,4.250245094299316,14.011919975280762,3.651737689971924,-9.13379192352295,-2.839181661605835,-1.7077311277389526,8.650193214416504,-12.54887580871582,-1.3201321363449097,-23.667726516723633,-5.769899845123291,-12.127021789550781,-12.097253799438477,-15.239335060119629,4.291318416595459,10.12034797668457,-1.9588189125061035,11.363136291503906,9.76733112335205,17.954059600830078,0.8742825984954834,-0.30145594477653503,-17.708131790161133,-3.8681135177612305,-6.201602935791016,-8.948251724243164,-4.097923755645752,11.705511093139648,-14.352420806884766,-13.483494758605957,-7.308446407318115,8.150346755981445,-14.663115501403809,4.376214504241943,-14.818860054016113,1.2517613172531128,-9.271361351013184,0.797661304473877,-5.617419242858887,-19.92302894592285,-7.025735855102539,-12.713050842285156,2.778785228729248,-4.994506359100342,-1.144426703453064,16.377111434936523,13.574104309082031,-4.604893207550049,2.384780168533325,1.370234727859497,11.444891929626465,-3.1674842834472656,14.627962112426758,-4.940173625946045,7.617447376251221,3.7045624256134033,8.53043270111084],\"yaxis\":\"y\",\"type\":\"scattergl\"}],                        {\"template\":{\"data\":{\"histogram2dcontour\":[{\"type\":\"histogram2dcontour\",\"colorbar\":{\"outlinewidth\":0,\"ticks\":\"\"},\"colorscale\":[[0.0,\"#0d0887\"],[0.1111111111111111,\"#46039f\"],[0.2222222222222222,\"#7201a8\"],[0.3333333333333333,\"#9c179e\"],[0.4444444444444444,\"#bd3786\"],[0.5555555555555556,\"#d8576b\"],[0.6666666666666666,\"#ed7953\"],[0.7777777777777778,\"#fb9f3a\"],[0.8888888888888888,\"#fdca26\"],[1.0,\"#f0f921\"]]}],\"choropleth\":[{\"type\":\"choropleth\",\"colorbar\":{\"outlinewidth\":0,\"ticks\":\"\"}}],\"histogram2d\":[{\"type\":\"histogram2d\",\"colorbar\":{\"outlinewidth\":0,\"ticks\":\"\"},\"colorscale\":[[0.0,\"#0d0887\"],[0.1111111111111111,\"#46039f\"],[0.2222222222222222,\"#7201a8\"],[0.3333333333333333,\"#9c179e\"],[0.4444444444444444,\"#bd3786\"],[0.5555555555555556,\"#d8576b\"],[0.6666666666666666,\"#ed7953\"],[0.7777777777777778,\"#fb9f3a\"],[0.8888888888888888,\"#fdca26\"],[1.0,\"#f0f921\"]]}],\"heatmap\":[{\"type\":\"heatmap\",\"colorbar\":{\"outlinewidth\":0,\"ticks\":\"\"},\"colorscale\":[[0.0,\"#0d0887\"],[0.1111111111111111,\"#46039f\"],[0.2222222222222222,\"#7201a8\"],[0.3333333333333333,\"#9c179e\"],[0.4444444444444444,\"#bd3786\"],[0.5555555555555556,\"#d8576b\"],[0.6666666666666666,\"#ed7953\"],[0.7777777777777778,\"#fb9f3a\"],[0.8888888888888888,\"#fdca26\"],[1.0,\"#f0f921\"]]}],\"heatmapgl\":[{\"type\":\"heatmapgl\",\"colorbar\":{\"outlinewidth\":0,\"ticks\":\"\"},\"colorscale\":[[0.0,\"#0d0887\"],[0.1111111111111111,\"#46039f\"],[0.2222222222222222,\"#7201a8\"],[0.3333333333333333,\"#9c179e\"],[0.4444444444444444,\"#bd3786\"],[0.5555555555555556,\"#d8576b\"],[0.6666666666666666,\"#ed7953\"],[0.7777777777777778,\"#fb9f3a\"],[0.8888888888888888,\"#fdca26\"],[1.0,\"#f0f921\"]]}],\"contourcarpet\":[{\"type\":\"contourcarpet\",\"colorbar\":{\"outlinewidth\":0,\"ticks\":\"\"}}],\"contour\":[{\"type\":\"contour\",\"colorbar\":{\"outlinewidth\":0,\"ticks\":\"\"},\"colorscale\":[[0.0,\"#0d0887\"],[0.1111111111111111,\"#46039f\"],[0.2222222222222222,\"#7201a8\"],[0.3333333333333333,\"#9c179e\"],[0.4444444444444444,\"#bd3786\"],[0.5555555555555556,\"#d8576b\"],[0.6666666666666666,\"#ed7953\"],[0.7777777777777778,\"#fb9f3a\"],[0.8888888888888888,\"#fdca26\"],[1.0,\"#f0f921\"]]}],\"surface\":[{\"type\":\"surface\",\"colorbar\":{\"outlinewidth\":0,\"ticks\":\"\"},\"colorscale\":[[0.0,\"#0d0887\"],[0.1111111111111111,\"#46039f\"],[0.2222222222222222,\"#7201a8\"],[0.3333333333333333,\"#9c179e\"],[0.4444444444444444,\"#bd3786\"],[0.5555555555555556,\"#d8576b\"],[0.6666666666666666,\"#ed7953\"],[0.7777777777777778,\"#fb9f3a\"],[0.8888888888888888,\"#fdca26\"],[1.0,\"#f0f921\"]]}],\"mesh3d\":[{\"type\":\"mesh3d\",\"colorbar\":{\"outlinewidth\":0,\"ticks\":\"\"}}],\"scatter\":[{\"fillpattern\":{\"fillmode\":\"overlay\",\"size\":10,\"solidity\":0.2},\"type\":\"scatter\"}],\"parcoords\":[{\"type\":\"parcoords\",\"line\":{\"colorbar\":{\"outlinewidth\":0,\"ticks\":\"\"}}}],\"scatterpolargl\":[{\"type\":\"scatterpolargl\",\"marker\":{\"colorbar\":{\"outlinewidth\":0,\"ticks\":\"\"}}}],\"bar\":[{\"error_x\":{\"color\":\"#2a3f5f\"},\"error_y\":{\"color\":\"#2a3f5f\"},\"marker\":{\"line\":{\"color\":\"#E5ECF6\",\"width\":0.5},\"pattern\":{\"fillmode\":\"overlay\",\"size\":10,\"solidity\":0.2}},\"type\":\"bar\"}],\"scattergeo\":[{\"type\":\"scattergeo\",\"marker\":{\"colorbar\":{\"outlinewidth\":0,\"ticks\":\"\"}}}],\"scatterpolar\":[{\"type\":\"scatterpolar\",\"marker\":{\"colorbar\":{\"outlinewidth\":0,\"ticks\":\"\"}}}],\"histogram\":[{\"marker\":{\"pattern\":{\"fillmode\":\"overlay\",\"size\":10,\"solidity\":0.2}},\"type\":\"histogram\"}],\"scattergl\":[{\"type\":\"scattergl\",\"marker\":{\"colorbar\":{\"outlinewidth\":0,\"ticks\":\"\"}}}],\"scatter3d\":[{\"type\":\"scatter3d\",\"line\":{\"colorbar\":{\"outlinewidth\":0,\"ticks\":\"\"}},\"marker\":{\"colorbar\":{\"outlinewidth\":0,\"ticks\":\"\"}}}],\"scattermapbox\":[{\"type\":\"scattermapbox\",\"marker\":{\"colorbar\":{\"outlinewidth\":0,\"ticks\":\"\"}}}],\"scatterternary\":[{\"type\":\"scatterternary\",\"marker\":{\"colorbar\":{\"outlinewidth\":0,\"ticks\":\"\"}}}],\"scattercarpet\":[{\"type\":\"scattercarpet\",\"marker\":{\"colorbar\":{\"outlinewidth\":0,\"ticks\":\"\"}}}],\"carpet\":[{\"aaxis\":{\"endlinecolor\":\"#2a3f5f\",\"gridcolor\":\"white\",\"linecolor\":\"white\",\"minorgridcolor\":\"white\",\"startlinecolor\":\"#2a3f5f\"},\"baxis\":{\"endlinecolor\":\"#2a3f5f\",\"gridcolor\":\"white\",\"linecolor\":\"white\",\"minorgridcolor\":\"white\",\"startlinecolor\":\"#2a3f5f\"},\"type\":\"carpet\"}],\"table\":[{\"cells\":{\"fill\":{\"color\":\"#EBF0F8\"},\"line\":{\"color\":\"white\"}},\"header\":{\"fill\":{\"color\":\"#C8D4E3\"},\"line\":{\"color\":\"white\"}},\"type\":\"table\"}],\"barpolar\":[{\"marker\":{\"line\":{\"color\":\"#E5ECF6\",\"width\":0.5},\"pattern\":{\"fillmode\":\"overlay\",\"size\":10,\"solidity\":0.2}},\"type\":\"barpolar\"}],\"pie\":[{\"automargin\":true,\"type\":\"pie\"}]},\"layout\":{\"autotypenumbers\":\"strict\",\"colorway\":[\"#636efa\",\"#EF553B\",\"#00cc96\",\"#ab63fa\",\"#FFA15A\",\"#19d3f3\",\"#FF6692\",\"#B6E880\",\"#FF97FF\",\"#FECB52\"],\"font\":{\"color\":\"#2a3f5f\"},\"hovermode\":\"closest\",\"hoverlabel\":{\"align\":\"left\"},\"paper_bgcolor\":\"white\",\"plot_bgcolor\":\"#E5ECF6\",\"polar\":{\"bgcolor\":\"#E5ECF6\",\"angularaxis\":{\"gridcolor\":\"white\",\"linecolor\":\"white\",\"ticks\":\"\"},\"radialaxis\":{\"gridcolor\":\"white\",\"linecolor\":\"white\",\"ticks\":\"\"}},\"ternary\":{\"bgcolor\":\"#E5ECF6\",\"aaxis\":{\"gridcolor\":\"white\",\"linecolor\":\"white\",\"ticks\":\"\"},\"baxis\":{\"gridcolor\":\"white\",\"linecolor\":\"white\",\"ticks\":\"\"},\"caxis\":{\"gridcolor\":\"white\",\"linecolor\":\"white\",\"ticks\":\"\"}},\"coloraxis\":{\"colorbar\":{\"outlinewidth\":0,\"ticks\":\"\"}},\"colorscale\":{\"sequential\":[[0.0,\"#0d0887\"],[0.1111111111111111,\"#46039f\"],[0.2222222222222222,\"#7201a8\"],[0.3333333333333333,\"#9c179e\"],[0.4444444444444444,\"#bd3786\"],[0.5555555555555556,\"#d8576b\"],[0.6666666666666666,\"#ed7953\"],[0.7777777777777778,\"#fb9f3a\"],[0.8888888888888888,\"#fdca26\"],[1.0,\"#f0f921\"]],\"sequentialminus\":[[0.0,\"#0d0887\"],[0.1111111111111111,\"#46039f\"],[0.2222222222222222,\"#7201a8\"],[0.3333333333333333,\"#9c179e\"],[0.4444444444444444,\"#bd3786\"],[0.5555555555555556,\"#d8576b\"],[0.6666666666666666,\"#ed7953\"],[0.7777777777777778,\"#fb9f3a\"],[0.8888888888888888,\"#fdca26\"],[1.0,\"#f0f921\"]],\"diverging\":[[0,\"#8e0152\"],[0.1,\"#c51b7d\"],[0.2,\"#de77ae\"],[0.3,\"#f1b6da\"],[0.4,\"#fde0ef\"],[0.5,\"#f7f7f7\"],[0.6,\"#e6f5d0\"],[0.7,\"#b8e186\"],[0.8,\"#7fbc41\"],[0.9,\"#4d9221\"],[1,\"#276419\"]]},\"xaxis\":{\"gridcolor\":\"white\",\"linecolor\":\"white\",\"ticks\":\"\",\"title\":{\"standoff\":15},\"zerolinecolor\":\"white\",\"automargin\":true,\"zerolinewidth\":2},\"yaxis\":{\"gridcolor\":\"white\",\"linecolor\":\"white\",\"ticks\":\"\",\"title\":{\"standoff\":15},\"zerolinecolor\":\"white\",\"automargin\":true,\"zerolinewidth\":2},\"scene\":{\"xaxis\":{\"backgroundcolor\":\"#E5ECF6\",\"gridcolor\":\"white\",\"linecolor\":\"white\",\"showbackground\":true,\"ticks\":\"\",\"zerolinecolor\":\"white\",\"gridwidth\":2},\"yaxis\":{\"backgroundcolor\":\"#E5ECF6\",\"gridcolor\":\"white\",\"linecolor\":\"white\",\"showbackground\":true,\"ticks\":\"\",\"zerolinecolor\":\"white\",\"gridwidth\":2},\"zaxis\":{\"backgroundcolor\":\"#E5ECF6\",\"gridcolor\":\"white\",\"linecolor\":\"white\",\"showbackground\":true,\"ticks\":\"\",\"zerolinecolor\":\"white\",\"gridwidth\":2}},\"shapedefaults\":{\"line\":{\"color\":\"#2a3f5f\"}},\"annotationdefaults\":{\"arrowcolor\":\"#2a3f5f\",\"arrowhead\":0,\"arrowwidth\":1},\"geo\":{\"bgcolor\":\"white\",\"landcolor\":\"#E5ECF6\",\"subunitcolor\":\"white\",\"showland\":true,\"showlakes\":true,\"lakecolor\":\"white\"},\"title\":{\"x\":0.05},\"mapbox\":{\"style\":\"light\"}}},\"xaxis\":{\"anchor\":\"y\",\"domain\":[0.0,1.0],\"title\":{\"text\":\"\"}},\"yaxis\":{\"anchor\":\"x\",\"domain\":[0.0,1.0],\"title\":{\"text\":\"\"}},\"legend\":{\"title\":{\"text\":\"Provenience\"},\"tracegroupgap\":0,\"itemsizing\":\"constant\"},\"title\":{\"text\":\"NA Sale Document Corpus\"}},                        {\"responsive\": true}                    ).then(function(){\n",
       "                            \n",
       "var gd = document.getElementById('c2712ef3-d85a-4b21-8d41-a8bf183f466a');\n",
       "var x = new MutationObserver(function (mutations, observer) {{\n",
       "        var display = window.getComputedStyle(gd).display;\n",
       "        if (!display || display === 'none') {{\n",
       "            console.log([gd, 'removed!']);\n",
       "            Plotly.purge(gd);\n",
       "            observer.disconnect();\n",
       "        }}\n",
       "}});\n",
       "\n",
       "// Listen for the removal of the full notebook cells\n",
       "var notebookContainer = gd.closest('#notebook-container');\n",
       "if (notebookContainer) {{\n",
       "    x.observe(notebookContainer, {childList: true});\n",
       "}}\n",
       "\n",
       "// Listen for the clearing of the current output cell\n",
       "var outputEl = gd.closest('.output');\n",
       "if (outputEl) {{\n",
       "    x.observe(outputEl, {childList: true});\n",
       "}}\n",
       "\n",
       "                        })                };                });            </script>        </div>"
      ]
     },
     "metadata": {},
     "output_type": "display_data"
    }
   ],
   "source": [
    "# create figure\n",
    "\n",
    "import matplotlib.pyplot as plt\n",
    "import matplotlib.colors as mcolors\n",
    "\n",
    "# Get colormap\n",
    "cmap = plt.get_cmap('tab20')  # This is a colormap with 10 colors\n",
    "\n",
    "# Create a list of colors from the colormap\n",
    "colors = [mcolors.rgb2hex(cmap(i)) for i in range(cmap.N)]\n",
    "\n",
    "region_order = [\"Kuyunjik (Nineveh)\", \"Nimrud (Kalhu)\", \"Qalat Sherqat (Assur)\",\n",
    "                \"Balawat (Imgur-Enlil)\", \"Dur-Katlimmu\", \"Western periphery\"]\n",
    "reduced_tsne['region-tsne'] = pd.Categorical(reduced_tsne['region-tsne'], categories=region_order, ordered=True)\n",
    "reduced_tsne = reduced_tsne.sort_values(by='region-tsne')\n",
    "\n",
    "colors = ['#A25FAC', '#5F8AEE', '#64D380', '#FFF56A', '#FF8D00', '#E50000']\n",
    "\n",
    "fig = px.scatter(reduced_tsne, x=\"component 1\", y=\"component 2\",\n",
    "                 color=\"region-tsne\", #symbol=\"sale_type\",\n",
    "                 color_discrete_sequence=colors, size=reduced_tsne[\"Text_length_partial\"].astype(int),\n",
    "                 title=\"NA Sale Document Corpus\",\n",
    "                 hover_data=[\"subgenre\", \"project\", \"date_for_viz\", reduced_tsne.index, \"Text_length_partial\", \"Text_length_full\"]\n",
    "                 )\n",
    "fig.update_traces(marker=dict(line=dict(width=1, color='black')))\n",
    "\n",
    "fig.update_layout(\n",
    "    legend_title_text='Provenience',  # Change the legend heading\n",
    "    xaxis_title='',  # Remove x-axis label\n",
    "    yaxis_title=''   # Remove y-axis label\n",
    ")\n",
    "\n",
    "fig.show()"
   ]
  },
  {
   "cell_type": "code",
   "execution_count": null,
   "id": "16ba6b4d",
   "metadata": {},
   "outputs": [],
   "source": []
  }
 ],
 "metadata": {
  "kernelspec": {
   "display_name": "Python 3 (ipykernel)",
   "language": "python",
   "name": "python3"
  },
  "language_info": {
   "codemirror_mode": {
    "name": "ipython",
    "version": 3
   },
   "file_extension": ".py",
   "mimetype": "text/x-python",
   "name": "python",
   "nbconvert_exporter": "python",
   "pygments_lexer": "ipython3",
   "version": "3.8.15"
  }
 },
 "nbformat": 4,
 "nbformat_minor": 5
}
